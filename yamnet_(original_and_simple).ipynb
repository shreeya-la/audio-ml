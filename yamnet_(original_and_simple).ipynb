{
  "cells": [
    {
      "cell_type": "markdown",
      "metadata": {
        "id": "view-in-github",
        "colab_type": "text"
      },
      "source": [
        "<a href=\"https://colab.research.google.com/github/shreeya-la/audio-ml/blob/main/yamnet_(original_and_simple).ipynb\" target=\"_parent\"><img src=\"https://colab.research.google.com/assets/colab-badge.svg\" alt=\"Open In Colab\"/></a>"
      ]
    },
    {
      "cell_type": "markdown",
      "source": [
        "# Import and Download ESC50"
      ],
      "metadata": {
        "id": "xRuujaeIl__N"
      }
    },
    {
      "cell_type": "code",
      "execution_count": null,
      "metadata": {
        "collapsed": true,
        "id": "eIOfUQOVnAMP"
      },
      "outputs": [],
      "source": [
        "#!pip install tensorflow --upgrade"
      ]
    },
    {
      "cell_type": "code",
      "source": [
        "# !pip uninstall tensorflow\n",
        "# !pip uninstall tensorflow-io"
      ],
      "metadata": {
        "id": "k833yXkrjZ4N"
      },
      "execution_count": null,
      "outputs": []
    },
    {
      "cell_type": "code",
      "execution_count": null,
      "metadata": {
        "id": "6RIz03TKnD7H"
      },
      "outputs": [],
      "source": [
        "import tensorflow as tf\n",
        "import tensorflow_hub as hub\n",
        "import numpy as np\n",
        "import matplotlib.pyplot as plt\n",
        "import seaborn as sns\n",
        "import librosa\n",
        "import pandas as pd\n",
        "\n",
        "from sklearn.model_selection import train_test_split\n",
        "from sklearn.preprocessing import LabelBinarizer\n",
        "from tensorflow.keras.layers import Layer"
      ]
    },
    {
      "cell_type": "code",
      "source": [
        "!test ! -f \"master.zip\" && wget \"https://github.com/karoldvl/ESC-50/archive/master.zip\""
      ],
      "metadata": {
        "colab": {
          "base_uri": "https://localhost:8080/"
        },
        "id": "hxIQdQXDlf3e",
        "outputId": "603d6176-1a0e-4598-c59d-25aa649ee4b6"
      },
      "execution_count": null,
      "outputs": [
        {
          "output_type": "stream",
          "name": "stdout",
          "text": [
            "--2024-11-06 19:11:12--  https://github.com/karoldvl/ESC-50/archive/master.zip\n",
            "Resolving github.com (github.com)... 140.82.114.4\n",
            "Connecting to github.com (github.com)|140.82.114.4|:443... connected.\n",
            "HTTP request sent, awaiting response... 301 Moved Permanently\n",
            "Location: https://github.com/karolpiczak/ESC-50/archive/master.zip [following]\n",
            "--2024-11-06 19:11:13--  https://github.com/karolpiczak/ESC-50/archive/master.zip\n",
            "Reusing existing connection to github.com:443.\n",
            "HTTP request sent, awaiting response... 302 Found\n",
            "Location: https://codeload.github.com/karolpiczak/ESC-50/zip/refs/heads/master [following]\n",
            "--2024-11-06 19:11:13--  https://codeload.github.com/karolpiczak/ESC-50/zip/refs/heads/master\n",
            "Resolving codeload.github.com (codeload.github.com)... 140.82.114.10\n",
            "Connecting to codeload.github.com (codeload.github.com)|140.82.114.10|:443... connected.\n",
            "HTTP request sent, awaiting response... 200 OK\n",
            "Length: unspecified [application/zip]\n",
            "Saving to: ‘master.zip’\n",
            "\n",
            "master.zip              [   <=>              ] 615.78M  13.4MB/s    in 43s     \n",
            "\n",
            "2024-11-06 19:11:56 (14.2 MB/s) - ‘master.zip’ saved [645695005]\n",
            "\n"
          ]
        }
      ]
    },
    {
      "cell_type": "code",
      "source": [
        "!unzip -qq master.zip\n",
        "%cd ESC-50-master"
      ],
      "metadata": {
        "id": "_tVhpRpHlhrY",
        "colab": {
          "base_uri": "https://localhost:8080/"
        },
        "outputId": "46adec32-0d9d-4e12-95cd-b4d7d9895aea"
      },
      "execution_count": null,
      "outputs": [
        {
          "output_type": "stream",
          "name": "stdout",
          "text": [
            "/content/ESC-50-master\n"
          ]
        }
      ]
    },
    {
      "cell_type": "code",
      "source": [
        "# create a dataframe\n",
        "esc50_data = pd.read_csv('meta/esc50.csv')\n",
        "esc50_data.head()"
      ],
      "metadata": {
        "colab": {
          "base_uri": "https://localhost:8080/",
          "height": 204
        },
        "id": "yhhOvAHAlqoT",
        "outputId": "d96a9884-f5be-418a-fd96-ff9ab704907b"
      },
      "execution_count": null,
      "outputs": [
        {
          "output_type": "execute_result",
          "data": {
            "text/plain": [
              "            filename  fold  target        category  esc10  src_file take\n",
              "0   1-100032-A-0.wav     1       0             dog   True    100032    A\n",
              "1  1-100038-A-14.wav     1      14  chirping_birds  False    100038    A\n",
              "2  1-100210-A-36.wav     1      36  vacuum_cleaner  False    100210    A\n",
              "3  1-100210-B-36.wav     1      36  vacuum_cleaner  False    100210    B\n",
              "4  1-101296-A-19.wav     1      19    thunderstorm  False    101296    A"
            ],
            "text/html": [
              "\n",
              "  <div id=\"df-72fcf959-f8dc-4f9d-a0e2-13604e0a6ff3\" class=\"colab-df-container\">\n",
              "    <div>\n",
              "<style scoped>\n",
              "    .dataframe tbody tr th:only-of-type {\n",
              "        vertical-align: middle;\n",
              "    }\n",
              "\n",
              "    .dataframe tbody tr th {\n",
              "        vertical-align: top;\n",
              "    }\n",
              "\n",
              "    .dataframe thead th {\n",
              "        text-align: right;\n",
              "    }\n",
              "</style>\n",
              "<table border=\"1\" class=\"dataframe\">\n",
              "  <thead>\n",
              "    <tr style=\"text-align: right;\">\n",
              "      <th></th>\n",
              "      <th>filename</th>\n",
              "      <th>fold</th>\n",
              "      <th>target</th>\n",
              "      <th>category</th>\n",
              "      <th>esc10</th>\n",
              "      <th>src_file</th>\n",
              "      <th>take</th>\n",
              "    </tr>\n",
              "  </thead>\n",
              "  <tbody>\n",
              "    <tr>\n",
              "      <th>0</th>\n",
              "      <td>1-100032-A-0.wav</td>\n",
              "      <td>1</td>\n",
              "      <td>0</td>\n",
              "      <td>dog</td>\n",
              "      <td>True</td>\n",
              "      <td>100032</td>\n",
              "      <td>A</td>\n",
              "    </tr>\n",
              "    <tr>\n",
              "      <th>1</th>\n",
              "      <td>1-100038-A-14.wav</td>\n",
              "      <td>1</td>\n",
              "      <td>14</td>\n",
              "      <td>chirping_birds</td>\n",
              "      <td>False</td>\n",
              "      <td>100038</td>\n",
              "      <td>A</td>\n",
              "    </tr>\n",
              "    <tr>\n",
              "      <th>2</th>\n",
              "      <td>1-100210-A-36.wav</td>\n",
              "      <td>1</td>\n",
              "      <td>36</td>\n",
              "      <td>vacuum_cleaner</td>\n",
              "      <td>False</td>\n",
              "      <td>100210</td>\n",
              "      <td>A</td>\n",
              "    </tr>\n",
              "    <tr>\n",
              "      <th>3</th>\n",
              "      <td>1-100210-B-36.wav</td>\n",
              "      <td>1</td>\n",
              "      <td>36</td>\n",
              "      <td>vacuum_cleaner</td>\n",
              "      <td>False</td>\n",
              "      <td>100210</td>\n",
              "      <td>B</td>\n",
              "    </tr>\n",
              "    <tr>\n",
              "      <th>4</th>\n",
              "      <td>1-101296-A-19.wav</td>\n",
              "      <td>1</td>\n",
              "      <td>19</td>\n",
              "      <td>thunderstorm</td>\n",
              "      <td>False</td>\n",
              "      <td>101296</td>\n",
              "      <td>A</td>\n",
              "    </tr>\n",
              "  </tbody>\n",
              "</table>\n",
              "</div>\n",
              "    <div class=\"colab-df-buttons\">\n",
              "\n",
              "  <div class=\"colab-df-container\">\n",
              "    <button class=\"colab-df-convert\" onclick=\"convertToInteractive('df-72fcf959-f8dc-4f9d-a0e2-13604e0a6ff3')\"\n",
              "            title=\"Convert this dataframe to an interactive table.\"\n",
              "            style=\"display:none;\">\n",
              "\n",
              "  <svg xmlns=\"http://www.w3.org/2000/svg\" height=\"24px\" viewBox=\"0 -960 960 960\">\n",
              "    <path d=\"M120-120v-720h720v720H120Zm60-500h600v-160H180v160Zm220 220h160v-160H400v160Zm0 220h160v-160H400v160ZM180-400h160v-160H180v160Zm440 0h160v-160H620v160ZM180-180h160v-160H180v160Zm440 0h160v-160H620v160Z\"/>\n",
              "  </svg>\n",
              "    </button>\n",
              "\n",
              "  <style>\n",
              "    .colab-df-container {\n",
              "      display:flex;\n",
              "      gap: 12px;\n",
              "    }\n",
              "\n",
              "    .colab-df-convert {\n",
              "      background-color: #E8F0FE;\n",
              "      border: none;\n",
              "      border-radius: 50%;\n",
              "      cursor: pointer;\n",
              "      display: none;\n",
              "      fill: #1967D2;\n",
              "      height: 32px;\n",
              "      padding: 0 0 0 0;\n",
              "      width: 32px;\n",
              "    }\n",
              "\n",
              "    .colab-df-convert:hover {\n",
              "      background-color: #E2EBFA;\n",
              "      box-shadow: 0px 1px 2px rgba(60, 64, 67, 0.3), 0px 1px 3px 1px rgba(60, 64, 67, 0.15);\n",
              "      fill: #174EA6;\n",
              "    }\n",
              "\n",
              "    .colab-df-buttons div {\n",
              "      margin-bottom: 4px;\n",
              "    }\n",
              "\n",
              "    [theme=dark] .colab-df-convert {\n",
              "      background-color: #3B4455;\n",
              "      fill: #D2E3FC;\n",
              "    }\n",
              "\n",
              "    [theme=dark] .colab-df-convert:hover {\n",
              "      background-color: #434B5C;\n",
              "      box-shadow: 0px 1px 3px 1px rgba(0, 0, 0, 0.15);\n",
              "      filter: drop-shadow(0px 1px 2px rgba(0, 0, 0, 0.3));\n",
              "      fill: #FFFFFF;\n",
              "    }\n",
              "  </style>\n",
              "\n",
              "    <script>\n",
              "      const buttonEl =\n",
              "        document.querySelector('#df-72fcf959-f8dc-4f9d-a0e2-13604e0a6ff3 button.colab-df-convert');\n",
              "      buttonEl.style.display =\n",
              "        google.colab.kernel.accessAllowed ? 'block' : 'none';\n",
              "\n",
              "      async function convertToInteractive(key) {\n",
              "        const element = document.querySelector('#df-72fcf959-f8dc-4f9d-a0e2-13604e0a6ff3');\n",
              "        const dataTable =\n",
              "          await google.colab.kernel.invokeFunction('convertToInteractive',\n",
              "                                                    [key], {});\n",
              "        if (!dataTable) return;\n",
              "\n",
              "        const docLinkHtml = 'Like what you see? Visit the ' +\n",
              "          '<a target=\"_blank\" href=https://colab.research.google.com/notebooks/data_table.ipynb>data table notebook</a>'\n",
              "          + ' to learn more about interactive tables.';\n",
              "        element.innerHTML = '';\n",
              "        dataTable['output_type'] = 'display_data';\n",
              "        await google.colab.output.renderOutput(dataTable, element);\n",
              "        const docLink = document.createElement('div');\n",
              "        docLink.innerHTML = docLinkHtml;\n",
              "        element.appendChild(docLink);\n",
              "      }\n",
              "    </script>\n",
              "  </div>\n",
              "\n",
              "\n",
              "<div id=\"df-8c039ae6-18e8-4bb9-8252-99871eaf22fb\">\n",
              "  <button class=\"colab-df-quickchart\" onclick=\"quickchart('df-8c039ae6-18e8-4bb9-8252-99871eaf22fb')\"\n",
              "            title=\"Suggest charts\"\n",
              "            style=\"display:none;\">\n",
              "\n",
              "<svg xmlns=\"http://www.w3.org/2000/svg\" height=\"24px\"viewBox=\"0 0 24 24\"\n",
              "     width=\"24px\">\n",
              "    <g>\n",
              "        <path d=\"M19 3H5c-1.1 0-2 .9-2 2v14c0 1.1.9 2 2 2h14c1.1 0 2-.9 2-2V5c0-1.1-.9-2-2-2zM9 17H7v-7h2v7zm4 0h-2V7h2v10zm4 0h-2v-4h2v4z\"/>\n",
              "    </g>\n",
              "</svg>\n",
              "  </button>\n",
              "\n",
              "<style>\n",
              "  .colab-df-quickchart {\n",
              "      --bg-color: #E8F0FE;\n",
              "      --fill-color: #1967D2;\n",
              "      --hover-bg-color: #E2EBFA;\n",
              "      --hover-fill-color: #174EA6;\n",
              "      --disabled-fill-color: #AAA;\n",
              "      --disabled-bg-color: #DDD;\n",
              "  }\n",
              "\n",
              "  [theme=dark] .colab-df-quickchart {\n",
              "      --bg-color: #3B4455;\n",
              "      --fill-color: #D2E3FC;\n",
              "      --hover-bg-color: #434B5C;\n",
              "      --hover-fill-color: #FFFFFF;\n",
              "      --disabled-bg-color: #3B4455;\n",
              "      --disabled-fill-color: #666;\n",
              "  }\n",
              "\n",
              "  .colab-df-quickchart {\n",
              "    background-color: var(--bg-color);\n",
              "    border: none;\n",
              "    border-radius: 50%;\n",
              "    cursor: pointer;\n",
              "    display: none;\n",
              "    fill: var(--fill-color);\n",
              "    height: 32px;\n",
              "    padding: 0;\n",
              "    width: 32px;\n",
              "  }\n",
              "\n",
              "  .colab-df-quickchart:hover {\n",
              "    background-color: var(--hover-bg-color);\n",
              "    box-shadow: 0 1px 2px rgba(60, 64, 67, 0.3), 0 1px 3px 1px rgba(60, 64, 67, 0.15);\n",
              "    fill: var(--button-hover-fill-color);\n",
              "  }\n",
              "\n",
              "  .colab-df-quickchart-complete:disabled,\n",
              "  .colab-df-quickchart-complete:disabled:hover {\n",
              "    background-color: var(--disabled-bg-color);\n",
              "    fill: var(--disabled-fill-color);\n",
              "    box-shadow: none;\n",
              "  }\n",
              "\n",
              "  .colab-df-spinner {\n",
              "    border: 2px solid var(--fill-color);\n",
              "    border-color: transparent;\n",
              "    border-bottom-color: var(--fill-color);\n",
              "    animation:\n",
              "      spin 1s steps(1) infinite;\n",
              "  }\n",
              "\n",
              "  @keyframes spin {\n",
              "    0% {\n",
              "      border-color: transparent;\n",
              "      border-bottom-color: var(--fill-color);\n",
              "      border-left-color: var(--fill-color);\n",
              "    }\n",
              "    20% {\n",
              "      border-color: transparent;\n",
              "      border-left-color: var(--fill-color);\n",
              "      border-top-color: var(--fill-color);\n",
              "    }\n",
              "    30% {\n",
              "      border-color: transparent;\n",
              "      border-left-color: var(--fill-color);\n",
              "      border-top-color: var(--fill-color);\n",
              "      border-right-color: var(--fill-color);\n",
              "    }\n",
              "    40% {\n",
              "      border-color: transparent;\n",
              "      border-right-color: var(--fill-color);\n",
              "      border-top-color: var(--fill-color);\n",
              "    }\n",
              "    60% {\n",
              "      border-color: transparent;\n",
              "      border-right-color: var(--fill-color);\n",
              "    }\n",
              "    80% {\n",
              "      border-color: transparent;\n",
              "      border-right-color: var(--fill-color);\n",
              "      border-bottom-color: var(--fill-color);\n",
              "    }\n",
              "    90% {\n",
              "      border-color: transparent;\n",
              "      border-bottom-color: var(--fill-color);\n",
              "    }\n",
              "  }\n",
              "</style>\n",
              "\n",
              "  <script>\n",
              "    async function quickchart(key) {\n",
              "      const quickchartButtonEl =\n",
              "        document.querySelector('#' + key + ' button');\n",
              "      quickchartButtonEl.disabled = true;  // To prevent multiple clicks.\n",
              "      quickchartButtonEl.classList.add('colab-df-spinner');\n",
              "      try {\n",
              "        const charts = await google.colab.kernel.invokeFunction(\n",
              "            'suggestCharts', [key], {});\n",
              "      } catch (error) {\n",
              "        console.error('Error during call to suggestCharts:', error);\n",
              "      }\n",
              "      quickchartButtonEl.classList.remove('colab-df-spinner');\n",
              "      quickchartButtonEl.classList.add('colab-df-quickchart-complete');\n",
              "    }\n",
              "    (() => {\n",
              "      let quickchartButtonEl =\n",
              "        document.querySelector('#df-8c039ae6-18e8-4bb9-8252-99871eaf22fb button');\n",
              "      quickchartButtonEl.style.display =\n",
              "        google.colab.kernel.accessAllowed ? 'block' : 'none';\n",
              "    })();\n",
              "  </script>\n",
              "</div>\n",
              "\n",
              "    </div>\n",
              "  </div>\n"
            ],
            "application/vnd.google.colaboratory.intrinsic+json": {
              "type": "dataframe",
              "variable_name": "esc50_data",
              "summary": "{\n  \"name\": \"esc50_data\",\n  \"rows\": 2000,\n  \"fields\": [\n    {\n      \"column\": \"filename\",\n      \"properties\": {\n        \"dtype\": \"string\",\n        \"num_unique_values\": 2000,\n        \"samples\": [\n          \"5-221950-A-22.wav\",\n          \"1-79220-A-17.wav\",\n          \"4-165845-A-45.wav\"\n        ],\n        \"semantic_type\": \"\",\n        \"description\": \"\"\n      }\n    },\n    {\n      \"column\": \"fold\",\n      \"properties\": {\n        \"dtype\": \"number\",\n        \"std\": 1,\n        \"min\": 1,\n        \"max\": 5,\n        \"num_unique_values\": 5,\n        \"samples\": [\n          2,\n          5,\n          3\n        ],\n        \"semantic_type\": \"\",\n        \"description\": \"\"\n      }\n    },\n    {\n      \"column\": \"target\",\n      \"properties\": {\n        \"dtype\": \"number\",\n        \"std\": 14,\n        \"min\": 0,\n        \"max\": 49,\n        \"num_unique_values\": 50,\n        \"samples\": [\n          45,\n          18,\n          26\n        ],\n        \"semantic_type\": \"\",\n        \"description\": \"\"\n      }\n    },\n    {\n      \"column\": \"category\",\n      \"properties\": {\n        \"dtype\": \"category\",\n        \"num_unique_values\": 50,\n        \"samples\": [\n          \"train\",\n          \"toilet_flush\",\n          \"laughing\"\n        ],\n        \"semantic_type\": \"\",\n        \"description\": \"\"\n      }\n    },\n    {\n      \"column\": \"esc10\",\n      \"properties\": {\n        \"dtype\": \"boolean\",\n        \"num_unique_values\": 2,\n        \"samples\": [\n          false,\n          true\n        ],\n        \"semantic_type\": \"\",\n        \"description\": \"\"\n      }\n    },\n    {\n      \"column\": \"src_file\",\n      \"properties\": {\n        \"dtype\": \"number\",\n        \"std\": 64882,\n        \"min\": 137,\n        \"max\": 264453,\n        \"num_unique_values\": 1524,\n        \"samples\": [\n          155130,\n          21935\n        ],\n        \"semantic_type\": \"\",\n        \"description\": \"\"\n      }\n    },\n    {\n      \"column\": \"take\",\n      \"properties\": {\n        \"dtype\": \"category\",\n        \"num_unique_values\": 8,\n        \"samples\": [\n          \"B\",\n          \"F\"\n        ],\n        \"semantic_type\": \"\",\n        \"description\": \"\"\n      }\n    }\n  ]\n}"
            }
          },
          "metadata": {},
          "execution_count": 6
        }
      ]
    },
    {
      "cell_type": "code",
      "source": [
        "animals = ['dog', 'rooster', 'pig', 'cow', 'frog', 'cat', 'hen', 'insects', 'sheep', 'crow']\n",
        "map_class_to_id = {'dog':0,'rooster':1, 'pig':2, 'cow':3, 'frog':4, 'cat':5, 'hen':6, 'insects':7, 'sheep':8, 'crow':9}\n",
        "\n",
        "esc50_animals = esc50_data[esc50_data.category.isin(animals)]\n",
        "class_id = esc50_animals['category'].apply(lambda name: map_class_to_id[name])\n",
        "esc50_animals = esc50_animals.assign(target=class_id)\n",
        "\n",
        "esc50_animals.head(10)"
      ],
      "metadata": {
        "id": "1Iv9yA6uI6oG",
        "colab": {
          "base_uri": "https://localhost:8080/",
          "height": 359
        },
        "outputId": "14472e76-acf4-4bfd-aac4-0e1884255f98"
      },
      "execution_count": null,
      "outputs": [
        {
          "output_type": "execute_result",
          "data": {
            "text/plain": [
              "            filename  fold  target category  esc10  src_file take\n",
              "0   1-100032-A-0.wav     1       0      dog   True    100032    A\n",
              "8   1-103298-A-9.wav     1       9     crow  False    103298    A\n",
              "14  1-110389-A-0.wav     1       0      dog   True    110389    A\n",
              "29  1-121951-A-8.wav     1       8    sheep  False    121951    A\n",
              "45   1-15689-A-4.wav     1       4     frog  False     15689    A\n",
              "46   1-15689-B-4.wav     1       4     frog  False     15689    B\n",
              "49   1-16568-A-3.wav     1       3      cow  False     16568    A\n",
              "64   1-17585-A-7.wav     1       7  insects  False     17585    A\n",
              "69   1-17970-A-4.wav     1       4     frog  False     17970    A\n",
              "70   1-18074-A-6.wav     1       6      hen  False     18074    A"
            ],
            "text/html": [
              "\n",
              "  <div id=\"df-18ca0aaf-047e-4fa3-81df-45ba855c0d82\" class=\"colab-df-container\">\n",
              "    <div>\n",
              "<style scoped>\n",
              "    .dataframe tbody tr th:only-of-type {\n",
              "        vertical-align: middle;\n",
              "    }\n",
              "\n",
              "    .dataframe tbody tr th {\n",
              "        vertical-align: top;\n",
              "    }\n",
              "\n",
              "    .dataframe thead th {\n",
              "        text-align: right;\n",
              "    }\n",
              "</style>\n",
              "<table border=\"1\" class=\"dataframe\">\n",
              "  <thead>\n",
              "    <tr style=\"text-align: right;\">\n",
              "      <th></th>\n",
              "      <th>filename</th>\n",
              "      <th>fold</th>\n",
              "      <th>target</th>\n",
              "      <th>category</th>\n",
              "      <th>esc10</th>\n",
              "      <th>src_file</th>\n",
              "      <th>take</th>\n",
              "    </tr>\n",
              "  </thead>\n",
              "  <tbody>\n",
              "    <tr>\n",
              "      <th>0</th>\n",
              "      <td>1-100032-A-0.wav</td>\n",
              "      <td>1</td>\n",
              "      <td>0</td>\n",
              "      <td>dog</td>\n",
              "      <td>True</td>\n",
              "      <td>100032</td>\n",
              "      <td>A</td>\n",
              "    </tr>\n",
              "    <tr>\n",
              "      <th>8</th>\n",
              "      <td>1-103298-A-9.wav</td>\n",
              "      <td>1</td>\n",
              "      <td>9</td>\n",
              "      <td>crow</td>\n",
              "      <td>False</td>\n",
              "      <td>103298</td>\n",
              "      <td>A</td>\n",
              "    </tr>\n",
              "    <tr>\n",
              "      <th>14</th>\n",
              "      <td>1-110389-A-0.wav</td>\n",
              "      <td>1</td>\n",
              "      <td>0</td>\n",
              "      <td>dog</td>\n",
              "      <td>True</td>\n",
              "      <td>110389</td>\n",
              "      <td>A</td>\n",
              "    </tr>\n",
              "    <tr>\n",
              "      <th>29</th>\n",
              "      <td>1-121951-A-8.wav</td>\n",
              "      <td>1</td>\n",
              "      <td>8</td>\n",
              "      <td>sheep</td>\n",
              "      <td>False</td>\n",
              "      <td>121951</td>\n",
              "      <td>A</td>\n",
              "    </tr>\n",
              "    <tr>\n",
              "      <th>45</th>\n",
              "      <td>1-15689-A-4.wav</td>\n",
              "      <td>1</td>\n",
              "      <td>4</td>\n",
              "      <td>frog</td>\n",
              "      <td>False</td>\n",
              "      <td>15689</td>\n",
              "      <td>A</td>\n",
              "    </tr>\n",
              "    <tr>\n",
              "      <th>46</th>\n",
              "      <td>1-15689-B-4.wav</td>\n",
              "      <td>1</td>\n",
              "      <td>4</td>\n",
              "      <td>frog</td>\n",
              "      <td>False</td>\n",
              "      <td>15689</td>\n",
              "      <td>B</td>\n",
              "    </tr>\n",
              "    <tr>\n",
              "      <th>49</th>\n",
              "      <td>1-16568-A-3.wav</td>\n",
              "      <td>1</td>\n",
              "      <td>3</td>\n",
              "      <td>cow</td>\n",
              "      <td>False</td>\n",
              "      <td>16568</td>\n",
              "      <td>A</td>\n",
              "    </tr>\n",
              "    <tr>\n",
              "      <th>64</th>\n",
              "      <td>1-17585-A-7.wav</td>\n",
              "      <td>1</td>\n",
              "      <td>7</td>\n",
              "      <td>insects</td>\n",
              "      <td>False</td>\n",
              "      <td>17585</td>\n",
              "      <td>A</td>\n",
              "    </tr>\n",
              "    <tr>\n",
              "      <th>69</th>\n",
              "      <td>1-17970-A-4.wav</td>\n",
              "      <td>1</td>\n",
              "      <td>4</td>\n",
              "      <td>frog</td>\n",
              "      <td>False</td>\n",
              "      <td>17970</td>\n",
              "      <td>A</td>\n",
              "    </tr>\n",
              "    <tr>\n",
              "      <th>70</th>\n",
              "      <td>1-18074-A-6.wav</td>\n",
              "      <td>1</td>\n",
              "      <td>6</td>\n",
              "      <td>hen</td>\n",
              "      <td>False</td>\n",
              "      <td>18074</td>\n",
              "      <td>A</td>\n",
              "    </tr>\n",
              "  </tbody>\n",
              "</table>\n",
              "</div>\n",
              "    <div class=\"colab-df-buttons\">\n",
              "\n",
              "  <div class=\"colab-df-container\">\n",
              "    <button class=\"colab-df-convert\" onclick=\"convertToInteractive('df-18ca0aaf-047e-4fa3-81df-45ba855c0d82')\"\n",
              "            title=\"Convert this dataframe to an interactive table.\"\n",
              "            style=\"display:none;\">\n",
              "\n",
              "  <svg xmlns=\"http://www.w3.org/2000/svg\" height=\"24px\" viewBox=\"0 -960 960 960\">\n",
              "    <path d=\"M120-120v-720h720v720H120Zm60-500h600v-160H180v160Zm220 220h160v-160H400v160Zm0 220h160v-160H400v160ZM180-400h160v-160H180v160Zm440 0h160v-160H620v160ZM180-180h160v-160H180v160Zm440 0h160v-160H620v160Z\"/>\n",
              "  </svg>\n",
              "    </button>\n",
              "\n",
              "  <style>\n",
              "    .colab-df-container {\n",
              "      display:flex;\n",
              "      gap: 12px;\n",
              "    }\n",
              "\n",
              "    .colab-df-convert {\n",
              "      background-color: #E8F0FE;\n",
              "      border: none;\n",
              "      border-radius: 50%;\n",
              "      cursor: pointer;\n",
              "      display: none;\n",
              "      fill: #1967D2;\n",
              "      height: 32px;\n",
              "      padding: 0 0 0 0;\n",
              "      width: 32px;\n",
              "    }\n",
              "\n",
              "    .colab-df-convert:hover {\n",
              "      background-color: #E2EBFA;\n",
              "      box-shadow: 0px 1px 2px rgba(60, 64, 67, 0.3), 0px 1px 3px 1px rgba(60, 64, 67, 0.15);\n",
              "      fill: #174EA6;\n",
              "    }\n",
              "\n",
              "    .colab-df-buttons div {\n",
              "      margin-bottom: 4px;\n",
              "    }\n",
              "\n",
              "    [theme=dark] .colab-df-convert {\n",
              "      background-color: #3B4455;\n",
              "      fill: #D2E3FC;\n",
              "    }\n",
              "\n",
              "    [theme=dark] .colab-df-convert:hover {\n",
              "      background-color: #434B5C;\n",
              "      box-shadow: 0px 1px 3px 1px rgba(0, 0, 0, 0.15);\n",
              "      filter: drop-shadow(0px 1px 2px rgba(0, 0, 0, 0.3));\n",
              "      fill: #FFFFFF;\n",
              "    }\n",
              "  </style>\n",
              "\n",
              "    <script>\n",
              "      const buttonEl =\n",
              "        document.querySelector('#df-18ca0aaf-047e-4fa3-81df-45ba855c0d82 button.colab-df-convert');\n",
              "      buttonEl.style.display =\n",
              "        google.colab.kernel.accessAllowed ? 'block' : 'none';\n",
              "\n",
              "      async function convertToInteractive(key) {\n",
              "        const element = document.querySelector('#df-18ca0aaf-047e-4fa3-81df-45ba855c0d82');\n",
              "        const dataTable =\n",
              "          await google.colab.kernel.invokeFunction('convertToInteractive',\n",
              "                                                    [key], {});\n",
              "        if (!dataTable) return;\n",
              "\n",
              "        const docLinkHtml = 'Like what you see? Visit the ' +\n",
              "          '<a target=\"_blank\" href=https://colab.research.google.com/notebooks/data_table.ipynb>data table notebook</a>'\n",
              "          + ' to learn more about interactive tables.';\n",
              "        element.innerHTML = '';\n",
              "        dataTable['output_type'] = 'display_data';\n",
              "        await google.colab.output.renderOutput(dataTable, element);\n",
              "        const docLink = document.createElement('div');\n",
              "        docLink.innerHTML = docLinkHtml;\n",
              "        element.appendChild(docLink);\n",
              "      }\n",
              "    </script>\n",
              "  </div>\n",
              "\n",
              "\n",
              "<div id=\"df-044a630b-f712-4fa3-a69c-c5adda9a74a2\">\n",
              "  <button class=\"colab-df-quickchart\" onclick=\"quickchart('df-044a630b-f712-4fa3-a69c-c5adda9a74a2')\"\n",
              "            title=\"Suggest charts\"\n",
              "            style=\"display:none;\">\n",
              "\n",
              "<svg xmlns=\"http://www.w3.org/2000/svg\" height=\"24px\"viewBox=\"0 0 24 24\"\n",
              "     width=\"24px\">\n",
              "    <g>\n",
              "        <path d=\"M19 3H5c-1.1 0-2 .9-2 2v14c0 1.1.9 2 2 2h14c1.1 0 2-.9 2-2V5c0-1.1-.9-2-2-2zM9 17H7v-7h2v7zm4 0h-2V7h2v10zm4 0h-2v-4h2v4z\"/>\n",
              "    </g>\n",
              "</svg>\n",
              "  </button>\n",
              "\n",
              "<style>\n",
              "  .colab-df-quickchart {\n",
              "      --bg-color: #E8F0FE;\n",
              "      --fill-color: #1967D2;\n",
              "      --hover-bg-color: #E2EBFA;\n",
              "      --hover-fill-color: #174EA6;\n",
              "      --disabled-fill-color: #AAA;\n",
              "      --disabled-bg-color: #DDD;\n",
              "  }\n",
              "\n",
              "  [theme=dark] .colab-df-quickchart {\n",
              "      --bg-color: #3B4455;\n",
              "      --fill-color: #D2E3FC;\n",
              "      --hover-bg-color: #434B5C;\n",
              "      --hover-fill-color: #FFFFFF;\n",
              "      --disabled-bg-color: #3B4455;\n",
              "      --disabled-fill-color: #666;\n",
              "  }\n",
              "\n",
              "  .colab-df-quickchart {\n",
              "    background-color: var(--bg-color);\n",
              "    border: none;\n",
              "    border-radius: 50%;\n",
              "    cursor: pointer;\n",
              "    display: none;\n",
              "    fill: var(--fill-color);\n",
              "    height: 32px;\n",
              "    padding: 0;\n",
              "    width: 32px;\n",
              "  }\n",
              "\n",
              "  .colab-df-quickchart:hover {\n",
              "    background-color: var(--hover-bg-color);\n",
              "    box-shadow: 0 1px 2px rgba(60, 64, 67, 0.3), 0 1px 3px 1px rgba(60, 64, 67, 0.15);\n",
              "    fill: var(--button-hover-fill-color);\n",
              "  }\n",
              "\n",
              "  .colab-df-quickchart-complete:disabled,\n",
              "  .colab-df-quickchart-complete:disabled:hover {\n",
              "    background-color: var(--disabled-bg-color);\n",
              "    fill: var(--disabled-fill-color);\n",
              "    box-shadow: none;\n",
              "  }\n",
              "\n",
              "  .colab-df-spinner {\n",
              "    border: 2px solid var(--fill-color);\n",
              "    border-color: transparent;\n",
              "    border-bottom-color: var(--fill-color);\n",
              "    animation:\n",
              "      spin 1s steps(1) infinite;\n",
              "  }\n",
              "\n",
              "  @keyframes spin {\n",
              "    0% {\n",
              "      border-color: transparent;\n",
              "      border-bottom-color: var(--fill-color);\n",
              "      border-left-color: var(--fill-color);\n",
              "    }\n",
              "    20% {\n",
              "      border-color: transparent;\n",
              "      border-left-color: var(--fill-color);\n",
              "      border-top-color: var(--fill-color);\n",
              "    }\n",
              "    30% {\n",
              "      border-color: transparent;\n",
              "      border-left-color: var(--fill-color);\n",
              "      border-top-color: var(--fill-color);\n",
              "      border-right-color: var(--fill-color);\n",
              "    }\n",
              "    40% {\n",
              "      border-color: transparent;\n",
              "      border-right-color: var(--fill-color);\n",
              "      border-top-color: var(--fill-color);\n",
              "    }\n",
              "    60% {\n",
              "      border-color: transparent;\n",
              "      border-right-color: var(--fill-color);\n",
              "    }\n",
              "    80% {\n",
              "      border-color: transparent;\n",
              "      border-right-color: var(--fill-color);\n",
              "      border-bottom-color: var(--fill-color);\n",
              "    }\n",
              "    90% {\n",
              "      border-color: transparent;\n",
              "      border-bottom-color: var(--fill-color);\n",
              "    }\n",
              "  }\n",
              "</style>\n",
              "\n",
              "  <script>\n",
              "    async function quickchart(key) {\n",
              "      const quickchartButtonEl =\n",
              "        document.querySelector('#' + key + ' button');\n",
              "      quickchartButtonEl.disabled = true;  // To prevent multiple clicks.\n",
              "      quickchartButtonEl.classList.add('colab-df-spinner');\n",
              "      try {\n",
              "        const charts = await google.colab.kernel.invokeFunction(\n",
              "            'suggestCharts', [key], {});\n",
              "      } catch (error) {\n",
              "        console.error('Error during call to suggestCharts:', error);\n",
              "      }\n",
              "      quickchartButtonEl.classList.remove('colab-df-spinner');\n",
              "      quickchartButtonEl.classList.add('colab-df-quickchart-complete');\n",
              "    }\n",
              "    (() => {\n",
              "      let quickchartButtonEl =\n",
              "        document.querySelector('#df-044a630b-f712-4fa3-a69c-c5adda9a74a2 button');\n",
              "      quickchartButtonEl.style.display =\n",
              "        google.colab.kernel.accessAllowed ? 'block' : 'none';\n",
              "    })();\n",
              "  </script>\n",
              "</div>\n",
              "\n",
              "    </div>\n",
              "  </div>\n"
            ],
            "application/vnd.google.colaboratory.intrinsic+json": {
              "type": "dataframe",
              "variable_name": "esc50_animals",
              "summary": "{\n  \"name\": \"esc50_animals\",\n  \"rows\": 400,\n  \"fields\": [\n    {\n      \"column\": \"filename\",\n      \"properties\": {\n        \"dtype\": \"string\",\n        \"num_unique_values\": 400,\n        \"samples\": [\n          \"3-171281-A-6.wav\",\n          \"4-183992-A-0.wav\",\n          \"1-31836-B-4.wav\"\n        ],\n        \"semantic_type\": \"\",\n        \"description\": \"\"\n      }\n    },\n    {\n      \"column\": \"fold\",\n      \"properties\": {\n        \"dtype\": \"number\",\n        \"std\": 1,\n        \"min\": 1,\n        \"max\": 5,\n        \"num_unique_values\": 5,\n        \"samples\": [\n          2,\n          5,\n          3\n        ],\n        \"semantic_type\": \"\",\n        \"description\": \"\"\n      }\n    },\n    {\n      \"column\": \"target\",\n      \"properties\": {\n        \"dtype\": \"number\",\n        \"std\": 2,\n        \"min\": 0,\n        \"max\": 9,\n        \"num_unique_values\": 10,\n        \"samples\": [\n          1,\n          9,\n          7\n        ],\n        \"semantic_type\": \"\",\n        \"description\": \"\"\n      }\n    },\n    {\n      \"column\": \"category\",\n      \"properties\": {\n        \"dtype\": \"category\",\n        \"num_unique_values\": 10,\n        \"samples\": [\n          \"rooster\",\n          \"crow\",\n          \"insects\"\n        ],\n        \"semantic_type\": \"\",\n        \"description\": \"\"\n      }\n    },\n    {\n      \"column\": \"esc10\",\n      \"properties\": {\n        \"dtype\": \"boolean\",\n        \"num_unique_values\": 2,\n        \"samples\": [\n          false,\n          true\n        ],\n        \"semantic_type\": \"\",\n        \"description\": \"\"\n      }\n    },\n    {\n      \"column\": \"src_file\",\n      \"properties\": {\n        \"dtype\": \"number\",\n        \"std\": 65852,\n        \"min\": 5996,\n        \"max\": 263831,\n        \"num_unique_values\": 267,\n        \"samples\": [\n          134049,\n          75189\n        ],\n        \"semantic_type\": \"\",\n        \"description\": \"\"\n      }\n    },\n    {\n      \"column\": \"take\",\n      \"properties\": {\n        \"dtype\": \"category\",\n        \"num_unique_values\": 5,\n        \"samples\": [\n          \"B\",\n          \"E\"\n        ],\n        \"semantic_type\": \"\",\n        \"description\": \"\"\n      }\n    }\n  ]\n}"
            }
          },
          "metadata": {},
          "execution_count": 7
        }
      ]
    },
    {
      "cell_type": "code",
      "source": [
        "def preprocess_wav(filename, target_sr=16000):\n",
        "    # Load the .wav file using librosa\n",
        "    audio, sampling_rate = librosa.load(filename, sr=None)\n",
        "\n",
        "    # Resample to target sample rate (16kHz)\n",
        "    audio = librosa.resample(audio, orig_sr=sampling_rate, target_sr=target_sr)\n",
        "\n",
        "    # If audio has more than 1 channel, convert to mono\n",
        "    if len(audio.shape) > 1:\n",
        "        audio = librosa.to_mono(audio)\n",
        "\n",
        "    # Convert to float32 TensorFlow tensor\n",
        "    audio_tensor = tf.convert_to_tensor(audio, dtype=tf.float32)\n",
        "\n",
        "    return audio_tensor"
      ],
      "metadata": {
        "id": "B24lA4a-npoS"
      },
      "execution_count": null,
      "outputs": []
    },
    {
      "cell_type": "markdown",
      "source": [
        "# YAMNet"
      ],
      "metadata": {
        "id": "3FUzQpxFmLCk"
      }
    },
    {
      "cell_type": "code",
      "execution_count": null,
      "metadata": {
        "id": "VHt2rorjnRFr"
      },
      "outputs": [],
      "source": [
        "yamnet_model_handle = 'https://tfhub.dev/google/yamnet/1'\n",
        "yamnet = hub.load(yamnet_model_handle)"
      ]
    },
    {
      "cell_type": "code",
      "source": [
        "# collect the 400 embedding outputs\n",
        "embeddings_list = []\n",
        "# and keep track of labels for training/testing\n",
        "labels_list = []\n",
        "\n",
        "for index, row in esc50_animals.iterrows():\n",
        "    filename = row['filename']\n",
        "    label = row['category']\n",
        "\n",
        "    # preprocess each .wav file\n",
        "    esc_waveform = preprocess_wav('audio/' + filename)\n",
        "\n",
        "    # run YAMNet and get the embeddings\n",
        "    scores, embeddings, spectrogram = yamnet(esc_waveform)\n",
        "\n",
        "    embeddings_list.append(embeddings)\n",
        "    labels_list.append(label)"
      ],
      "metadata": {
        "id": "9tK560NO2n5v"
      },
      "execution_count": null,
      "outputs": []
    },
    {
      "cell_type": "code",
      "source": [
        "# %cd /content/ESC-50-master/"
      ],
      "metadata": {
        "colab": {
          "base_uri": "https://localhost:8080/"
        },
        "id": "9uq_GENODD_i",
        "outputId": "0e7148e9-8dc4-4187-80ae-c34f95171454"
      },
      "execution_count": null,
      "outputs": [
        {
          "output_type": "stream",
          "name": "stdout",
          "text": [
            "/content/ESC-50-master\n"
          ]
        }
      ]
    },
    {
      "cell_type": "code",
      "source": [
        "# one sample file and embedding\n",
        "sample_file = esc50_animals.iloc[0]['filename']\n",
        "esc_single_waveform = preprocess_wav('audio/' + sample_file)\n",
        "\n",
        "scores, embeddings, spectrogram = yamnet(esc_single_waveform)\n",
        "\n",
        "print(\"processed waveform:\", esc_single_waveform.shape)\n",
        "print(\"yamnet embeddings:\", embeddings.shape)"
      ],
      "metadata": {
        "colab": {
          "base_uri": "https://localhost:8080/"
        },
        "id": "JPF46V9G7zFt",
        "outputId": "0909f23a-9809-4e13-f810-3c0d55c7775b"
      },
      "execution_count": null,
      "outputs": [
        {
          "output_type": "stream",
          "name": "stdout",
          "text": [
            "processed waveform: (80000,)\n",
            "yamnet embeddings: (10, 1024)\n"
          ]
        }
      ]
    },
    {
      "cell_type": "code",
      "source": [
        "# convert to numpy arrays\n",
        "X = np.array(embeddings_list)\n",
        "y = np.array(labels_list)"
      ],
      "metadata": {
        "id": "wd6e9tYfmPTM"
      },
      "execution_count": null,
      "outputs": []
    },
    {
      "cell_type": "code",
      "source": [
        "# encode labels (one-hot)\n",
        "lb = LabelBinarizer()\n",
        "y_encoded = lb.fit_transform(y)"
      ],
      "metadata": {
        "id": "9kvygr0xmPgr"
      },
      "execution_count": null,
      "outputs": []
    },
    {
      "cell_type": "code",
      "source": [
        "# split training and test sets (80/20)\n",
        "X_train, X_test, y_train, y_test = train_test_split(X, y_encoded, test_size=0.2, random_state=42)"
      ],
      "metadata": {
        "id": "dBLXPbugmQpz"
      },
      "execution_count": null,
      "outputs": []
    },
    {
      "cell_type": "code",
      "source": [
        "# 10 animal classes ['dog', 'rooster', 'pig', 'cow', 'frog', 'cat', 'hen', 'insects', 'sheep', 'crow']\n",
        "num_classes = 10\n",
        "\n",
        "# YAMNet embeddings as input\n",
        "model = tf.keras.Sequential([\n",
        "    tf.keras.layers.InputLayer(shape=[10, 1024]),\n",
        "    tf.keras.layers.GlobalAveragePooling1D(),\n",
        "    tf.keras.layers.Dense(num_classes, activation='softmax')\n",
        "])\n",
        "\n",
        "model.compile(optimizer='adam',\n",
        "                     loss='categorical_crossentropy',\n",
        "                     metrics=['accuracy'])\n",
        "\n",
        "callback = tf.keras.callbacks.EarlyStopping(monitor='loss',\n",
        "                                            patience=3,\n",
        "                                            restore_best_weights=True,)"
      ],
      "metadata": {
        "id": "B24UwNnnbBgd"
      },
      "execution_count": null,
      "outputs": []
    },
    {
      "cell_type": "code",
      "source": [
        "history = model.fit(X_train, y_train, epochs=40, batch_size=32, validation_split=0.2, callbacks=callback)"
      ],
      "metadata": {
        "colab": {
          "base_uri": "https://localhost:8080/"
        },
        "id": "395mIwT4bHny",
        "outputId": "4d905a9c-903b-4c20-ab93-07055a2ecf25",
        "collapsed": true
      },
      "execution_count": null,
      "outputs": [
        {
          "output_type": "stream",
          "name": "stdout",
          "text": [
            "Epoch 1/40\n",
            "\u001b[1m8/8\u001b[0m \u001b[32m━━━━━━━━━━━━━━━━━━━━\u001b[0m\u001b[37m\u001b[0m \u001b[1m1s\u001b[0m 42ms/step - accuracy: 0.1653 - loss: 2.3180 - val_accuracy: 0.3438 - val_loss: 2.0562\n",
            "Epoch 2/40\n",
            "\u001b[1m8/8\u001b[0m \u001b[32m━━━━━━━━━━━━━━━━━━━━\u001b[0m\u001b[37m\u001b[0m \u001b[1m0s\u001b[0m 13ms/step - accuracy: 0.4644 - loss: 1.9266 - val_accuracy: 0.5000 - val_loss: 1.7366\n",
            "Epoch 3/40\n",
            "\u001b[1m8/8\u001b[0m \u001b[32m━━━━━━━━━━━━━━━━━━━━\u001b[0m\u001b[37m\u001b[0m \u001b[1m0s\u001b[0m 11ms/step - accuracy: 0.5928 - loss: 1.6118 - val_accuracy: 0.6562 - val_loss: 1.4490\n",
            "Epoch 4/40\n",
            "\u001b[1m8/8\u001b[0m \u001b[32m━━━━━━━━━━━━━━━━━━━━\u001b[0m\u001b[37m\u001b[0m \u001b[1m0s\u001b[0m 11ms/step - accuracy: 0.7379 - loss: 1.3816 - val_accuracy: 0.7500 - val_loss: 1.2818\n",
            "Epoch 5/40\n",
            "\u001b[1m8/8\u001b[0m \u001b[32m━━━━━━━━━━━━━━━━━━━━\u001b[0m\u001b[37m\u001b[0m \u001b[1m0s\u001b[0m 10ms/step - accuracy: 0.8055 - loss: 1.2369 - val_accuracy: 0.8438 - val_loss: 1.1436\n",
            "Epoch 6/40\n",
            "\u001b[1m8/8\u001b[0m \u001b[32m━━━━━━━━━━━━━━━━━━━━\u001b[0m\u001b[37m\u001b[0m \u001b[1m0s\u001b[0m 9ms/step - accuracy: 0.8542 - loss: 1.0994 - val_accuracy: 0.8750 - val_loss: 1.0013\n",
            "Epoch 7/40\n",
            "\u001b[1m8/8\u001b[0m \u001b[32m━━━━━━━━━━━━━━━━━━━━\u001b[0m\u001b[37m\u001b[0m \u001b[1m0s\u001b[0m 9ms/step - accuracy: 0.8588 - loss: 1.0028 - val_accuracy: 0.9062 - val_loss: 0.8954\n",
            "Epoch 8/40\n",
            "\u001b[1m8/8\u001b[0m \u001b[32m━━━━━━━━━━━━━━━━━━━━\u001b[0m\u001b[37m\u001b[0m \u001b[1m0s\u001b[0m 9ms/step - accuracy: 0.8602 - loss: 0.8770 - val_accuracy: 0.8750 - val_loss: 0.8538\n",
            "Epoch 9/40\n",
            "\u001b[1m8/8\u001b[0m \u001b[32m━━━━━━━━━━━━━━━━━━━━\u001b[0m\u001b[37m\u001b[0m \u001b[1m0s\u001b[0m 10ms/step - accuracy: 0.8854 - loss: 0.7935 - val_accuracy: 0.9219 - val_loss: 0.7754\n",
            "Epoch 10/40\n",
            "\u001b[1m8/8\u001b[0m \u001b[32m━━━━━━━━━━━━━━━━━━━━\u001b[0m\u001b[37m\u001b[0m \u001b[1m0s\u001b[0m 11ms/step - accuracy: 0.8734 - loss: 0.7257 - val_accuracy: 0.8906 - val_loss: 0.7256\n",
            "Epoch 11/40\n",
            "\u001b[1m8/8\u001b[0m \u001b[32m━━━━━━━━━━━━━━━━━━━━\u001b[0m\u001b[37m\u001b[0m \u001b[1m0s\u001b[0m 8ms/step - accuracy: 0.8973 - loss: 0.7096 - val_accuracy: 0.9219 - val_loss: 0.6784\n",
            "Epoch 12/40\n",
            "\u001b[1m8/8\u001b[0m \u001b[32m━━━━━━━━━━━━━━━━━━━━\u001b[0m\u001b[37m\u001b[0m \u001b[1m0s\u001b[0m 10ms/step - accuracy: 0.8951 - loss: 0.7041 - val_accuracy: 0.8906 - val_loss: 0.6544\n",
            "Epoch 13/40\n",
            "\u001b[1m8/8\u001b[0m \u001b[32m━━━━━━━━━━━━━━━━━━━━\u001b[0m\u001b[37m\u001b[0m \u001b[1m0s\u001b[0m 10ms/step - accuracy: 0.8992 - loss: 0.6373 - val_accuracy: 0.9062 - val_loss: 0.6140\n",
            "Epoch 14/40\n",
            "\u001b[1m8/8\u001b[0m \u001b[32m━━━━━━━━━━━━━━━━━━━━\u001b[0m\u001b[37m\u001b[0m \u001b[1m0s\u001b[0m 10ms/step - accuracy: 0.9205 - loss: 0.5990 - val_accuracy: 0.8750 - val_loss: 0.6002\n",
            "Epoch 15/40\n",
            "\u001b[1m8/8\u001b[0m \u001b[32m━━━━━━━━━━━━━━━━━━━━\u001b[0m\u001b[37m\u001b[0m \u001b[1m0s\u001b[0m 10ms/step - accuracy: 0.9304 - loss: 0.5372 - val_accuracy: 0.9062 - val_loss: 0.5638\n",
            "Epoch 16/40\n",
            "\u001b[1m8/8\u001b[0m \u001b[32m━━━━━━━━━━━━━━━━━━━━\u001b[0m\u001b[37m\u001b[0m \u001b[1m0s\u001b[0m 13ms/step - accuracy: 0.9201 - loss: 0.5462 - val_accuracy: 0.9219 - val_loss: 0.5500\n",
            "Epoch 17/40\n",
            "\u001b[1m8/8\u001b[0m \u001b[32m━━━━━━━━━━━━━━━━━━━━\u001b[0m\u001b[37m\u001b[0m \u001b[1m0s\u001b[0m 17ms/step - accuracy: 0.9044 - loss: 0.5710 - val_accuracy: 0.9062 - val_loss: 0.5099\n",
            "Epoch 18/40\n",
            "\u001b[1m8/8\u001b[0m \u001b[32m━━━━━━━━━━━━━━━━━━━━\u001b[0m\u001b[37m\u001b[0m \u001b[1m0s\u001b[0m 11ms/step - accuracy: 0.9145 - loss: 0.4698 - val_accuracy: 0.9062 - val_loss: 0.5317\n",
            "Epoch 19/40\n",
            "\u001b[1m8/8\u001b[0m \u001b[32m━━━━━━━━━━━━━━━━━━━━\u001b[0m\u001b[37m\u001b[0m \u001b[1m0s\u001b[0m 11ms/step - accuracy: 0.9490 - loss: 0.4910 - val_accuracy: 0.9219 - val_loss: 0.4819\n",
            "Epoch 20/40\n",
            "\u001b[1m8/8\u001b[0m \u001b[32m━━━━━━━━━━━━━━━━━━━━\u001b[0m\u001b[37m\u001b[0m \u001b[1m0s\u001b[0m 8ms/step - accuracy: 0.9514 - loss: 0.4568 - val_accuracy: 0.9062 - val_loss: 0.4929\n",
            "Epoch 21/40\n",
            "\u001b[1m8/8\u001b[0m \u001b[32m━━━━━━━━━━━━━━━━━━━━\u001b[0m\u001b[37m\u001b[0m \u001b[1m0s\u001b[0m 11ms/step - accuracy: 0.9479 - loss: 0.4370 - val_accuracy: 0.9062 - val_loss: 0.4679\n",
            "Epoch 22/40\n",
            "\u001b[1m8/8\u001b[0m \u001b[32m━━━━━━━━━━━━━━━━━━━━\u001b[0m\u001b[37m\u001b[0m \u001b[1m0s\u001b[0m 12ms/step - accuracy: 0.9163 - loss: 0.4475 - val_accuracy: 0.9375 - val_loss: 0.4511\n",
            "Epoch 23/40\n",
            "\u001b[1m8/8\u001b[0m \u001b[32m━━━━━━━━━━━━━━━━━━━━\u001b[0m\u001b[37m\u001b[0m \u001b[1m0s\u001b[0m 11ms/step - accuracy: 0.9410 - loss: 0.4023 - val_accuracy: 0.9375 - val_loss: 0.4480\n",
            "Epoch 24/40\n",
            "\u001b[1m8/8\u001b[0m \u001b[32m━━━━━━━━━━━━━━━━━━━━\u001b[0m\u001b[37m\u001b[0m \u001b[1m0s\u001b[0m 8ms/step - accuracy: 0.9071 - loss: 0.4246 - val_accuracy: 0.9375 - val_loss: 0.4315\n",
            "Epoch 25/40\n",
            "\u001b[1m8/8\u001b[0m \u001b[32m━━━━━━━━━━━━━━━━━━━━\u001b[0m\u001b[37m\u001b[0m \u001b[1m0s\u001b[0m 9ms/step - accuracy: 0.9243 - loss: 0.3811 - val_accuracy: 0.9531 - val_loss: 0.4194\n",
            "Epoch 26/40\n",
            "\u001b[1m8/8\u001b[0m \u001b[32m━━━━━━━━━━━━━━━━━━━━\u001b[0m\u001b[37m\u001b[0m \u001b[1m0s\u001b[0m 10ms/step - accuracy: 0.9445 - loss: 0.3900 - val_accuracy: 0.9375 - val_loss: 0.4258\n",
            "Epoch 27/40\n",
            "\u001b[1m8/8\u001b[0m \u001b[32m━━━━━━━━━━━━━━━━━━━━\u001b[0m\u001b[37m\u001b[0m \u001b[1m0s\u001b[0m 9ms/step - accuracy: 0.9213 - loss: 0.4355 - val_accuracy: 0.9531 - val_loss: 0.4075\n",
            "Epoch 28/40\n",
            "\u001b[1m8/8\u001b[0m \u001b[32m━━━━━━━━━━━━━━━━━━━━\u001b[0m\u001b[37m\u001b[0m \u001b[1m0s\u001b[0m 10ms/step - accuracy: 0.9629 - loss: 0.3409 - val_accuracy: 0.9531 - val_loss: 0.3970\n",
            "Epoch 29/40\n",
            "\u001b[1m8/8\u001b[0m \u001b[32m━━━━━━━━━━━━━━━━━━━━\u001b[0m\u001b[37m\u001b[0m \u001b[1m0s\u001b[0m 9ms/step - accuracy: 0.9421 - loss: 0.3512 - val_accuracy: 0.9531 - val_loss: 0.3910\n",
            "Epoch 30/40\n",
            "\u001b[1m8/8\u001b[0m \u001b[32m━━━━━━━━━━━━━━━━━━━━\u001b[0m\u001b[37m\u001b[0m \u001b[1m0s\u001b[0m 16ms/step - accuracy: 0.9309 - loss: 0.3921 - val_accuracy: 0.9531 - val_loss: 0.3931\n",
            "Epoch 31/40\n",
            "\u001b[1m8/8\u001b[0m \u001b[32m━━━━━━━━━━━━━━━━━━━━\u001b[0m\u001b[37m\u001b[0m \u001b[1m0s\u001b[0m 14ms/step - accuracy: 0.9360 - loss: 0.3347 - val_accuracy: 0.9531 - val_loss: 0.3762\n",
            "Epoch 32/40\n",
            "\u001b[1m8/8\u001b[0m \u001b[32m━━━━━━━━━━━━━━━━━━━━\u001b[0m\u001b[37m\u001b[0m \u001b[1m0s\u001b[0m 11ms/step - accuracy: 0.9493 - loss: 0.3470 - val_accuracy: 0.9531 - val_loss: 0.3766\n",
            "Epoch 33/40\n",
            "\u001b[1m8/8\u001b[0m \u001b[32m━━━━━━━━━━━━━━━━━━━━\u001b[0m\u001b[37m\u001b[0m \u001b[1m0s\u001b[0m 13ms/step - accuracy: 0.9435 - loss: 0.3542 - val_accuracy: 0.9531 - val_loss: 0.3607\n",
            "Epoch 34/40\n",
            "\u001b[1m8/8\u001b[0m \u001b[32m━━━━━━━━━━━━━━━━━━━━\u001b[0m\u001b[37m\u001b[0m \u001b[1m0s\u001b[0m 12ms/step - accuracy: 0.9486 - loss: 0.3027 - val_accuracy: 0.9531 - val_loss: 0.3686\n",
            "Epoch 35/40\n",
            "\u001b[1m8/8\u001b[0m \u001b[32m━━━━━━━━━━━━━━━━━━━━\u001b[0m\u001b[37m\u001b[0m \u001b[1m0s\u001b[0m 11ms/step - accuracy: 0.9706 - loss: 0.2930 - val_accuracy: 0.9375 - val_loss: 0.3592\n",
            "Epoch 36/40\n",
            "\u001b[1m8/8\u001b[0m \u001b[32m━━━━━━━━━━━━━━━━━━━━\u001b[0m\u001b[37m\u001b[0m \u001b[1m0s\u001b[0m 13ms/step - accuracy: 0.9546 - loss: 0.2864 - val_accuracy: 0.9531 - val_loss: 0.3543\n",
            "Epoch 37/40\n",
            "\u001b[1m8/8\u001b[0m \u001b[32m━━━━━━━━━━━━━━━━━━━━\u001b[0m\u001b[37m\u001b[0m \u001b[1m0s\u001b[0m 12ms/step - accuracy: 0.9622 - loss: 0.2825 - val_accuracy: 0.9531 - val_loss: 0.3515\n",
            "Epoch 38/40\n",
            "\u001b[1m8/8\u001b[0m \u001b[32m━━━━━━━━━━━━━━━━━━━━\u001b[0m\u001b[37m\u001b[0m \u001b[1m0s\u001b[0m 13ms/step - accuracy: 0.9507 - loss: 0.2995 - val_accuracy: 0.9531 - val_loss: 0.3523\n",
            "Epoch 39/40\n",
            "\u001b[1m8/8\u001b[0m \u001b[32m━━━━━━━━━━━━━━━━━━━━\u001b[0m\u001b[37m\u001b[0m \u001b[1m0s\u001b[0m 14ms/step - accuracy: 0.9531 - loss: 0.2938 - val_accuracy: 0.9531 - val_loss: 0.3390\n",
            "Epoch 40/40\n",
            "\u001b[1m8/8\u001b[0m \u001b[32m━━━━━━━━━━━━━━━━━━━━\u001b[0m\u001b[37m\u001b[0m \u001b[1m0s\u001b[0m 13ms/step - accuracy: 0.9509 - loss: 0.2576 - val_accuracy: 0.9531 - val_loss: 0.3366\n"
          ]
        }
      ]
    },
    {
      "cell_type": "code",
      "source": [
        "# evaluate the model\n",
        "loss, accuracy = model.evaluate(X_test, y_test)\n",
        "print(f'Test accuracy: {accuracy:.4f}')"
      ],
      "metadata": {
        "colab": {
          "base_uri": "https://localhost:8080/"
        },
        "id": "rmDut2lDbMJ9",
        "outputId": "ebf633a5-1f8e-4e07-ca2e-f6c8d6360409"
      },
      "execution_count": null,
      "outputs": [
        {
          "output_type": "stream",
          "name": "stdout",
          "text": [
            "\u001b[1m3/3\u001b[0m \u001b[32m━━━━━━━━━━━━━━━━━━━━\u001b[0m\u001b[37m\u001b[0m \u001b[1m0s\u001b[0m 6ms/step - accuracy: 0.9492 - loss: 0.3591  \n",
            "Test accuracy: 0.9375\n"
          ]
        }
      ]
    },
    {
      "cell_type": "markdown",
      "source": [
        "# Save Model"
      ],
      "metadata": {
        "id": "kw045j5E1oUB"
      }
    },
    {
      "cell_type": "code",
      "source": [
        "%cd /content"
      ],
      "metadata": {
        "colab": {
          "base_uri": "https://localhost:8080/"
        },
        "id": "-iTCgtne56xX",
        "outputId": "d186c658-d3be-41d3-a79e-97af4434cfba"
      },
      "execution_count": null,
      "outputs": [
        {
          "output_type": "stream",
          "name": "stdout",
          "text": [
            "/content\n"
          ]
        }
      ]
    },
    {
      "cell_type": "code",
      "source": [
        "saved_model_path = './yamnet_and_classifier'"
      ],
      "metadata": {
        "id": "gurTlvhvOmW1"
      },
      "execution_count": null,
      "outputs": []
    },
    {
      "cell_type": "code",
      "source": [
        "class ReduceMeanLayer(tf.keras.layers.Layer):\n",
        "  def __init__(self, axis=0, **kwargs):\n",
        "    super(ReduceMeanLayer, self).__init__(**kwargs)\n",
        "    self.axis = axis\n",
        "\n",
        "  def call(self, input):\n",
        "    return tf.math.reduce_mean(input, axis=self.axis)\n",
        "\n",
        "class YAMNetLayer(Layer):\n",
        "    def __init__(self, yamnet_model_handle, **kwargs):\n",
        "        super(YAMNetLayer, self).__init__(**kwargs)\n",
        "        self.yamnet_layer = hub.KerasLayer(yamnet_model_handle, trainable=False, name='yamnet')\n",
        "\n",
        "    def call(self, inputs):\n",
        "        # reshape the input to match YAMNet's expected 1D tensor input\n",
        "        reshaped_inputs = tf.reshape(inputs, (-1,))\n",
        "        # get embeddings from YAMNet\n",
        "        _, embeddings_output, _ = self.yamnet_layer(reshaped_inputs)\n",
        "        return embeddings_output\n",
        "\n",
        "class ExpandDimensions(tf.keras.layers.Layer):\n",
        "    def call(self, inputs):\n",
        "        expanded = tf.expand_dims(inputs, axis=1)\n",
        "        with10 = tf.tile(expanded, [1, 10, 1])\n",
        "        return with10\n",
        "\n",
        "input_segment = tf.keras.layers.Input(shape=(80000,), dtype=tf.float32, name='audio')\n",
        "embedding_extraction_layer = YAMNetLayer(yamnet_model_handle)\n",
        "embeddings_output = embedding_extraction_layer(input_segment)\n",
        "expanded_embeddings_output = ExpandDimensions()(embeddings_output)\n",
        "\n",
        "# pass embeddings to sequential model\n",
        "serving_outputs = model(expanded_embeddings_output)\n",
        "serving_outputs = ReduceMeanLayer(axis=0, name='classifier')(serving_outputs)\n",
        "\n",
        "serving_model = tf.keras.Model(input_segment, serving_outputs)\n",
        "tf.saved_model.save(serving_model, saved_model_path)"
      ],
      "metadata": {
        "id": "l7XkLX4q4upi"
      },
      "execution_count": null,
      "outputs": []
    },
    {
      "cell_type": "code",
      "source": [
        "#tf.keras.utils.plot_model(serving_model)"
      ],
      "metadata": {
        "id": "Jn_NskhCD5lv"
      },
      "execution_count": null,
      "outputs": []
    },
    {
      "cell_type": "code",
      "source": [
        "# convert the model.\n",
        "converter = tf.lite.TFLiteConverter.from_keras_model(serving_model)\n",
        "tflite_model = converter.convert()\n",
        "\n",
        "# save the model.\n",
        "with open('./yamnet.tflite', 'wb') as f:\n",
        "  f.write(tflite_model)"
      ],
      "metadata": {
        "colab": {
          "base_uri": "https://localhost:8080/"
        },
        "id": "CxFZrFRp6IWt",
        "outputId": "b96b5bd4-ec81-422c-aa60-62b9d8d4cb7d"
      },
      "execution_count": null,
      "outputs": [
        {
          "output_type": "stream",
          "name": "stdout",
          "text": [
            "Saved artifact at '/tmp/tmppye6y96i'. The following endpoints are available:\n",
            "\n",
            "* Endpoint 'serve'\n",
            "  args_0 (POSITIONAL_ONLY): TensorSpec(shape=(None, 80000), dtype=tf.float32, name='audio')\n",
            "Output Type:\n",
            "  TensorSpec(shape=(10,), dtype=tf.float32, name=None)\n",
            "Captures:\n",
            "  135973122956048: TensorSpec(shape=(), dtype=tf.resource, name=None)\n",
            "  135973122949536: TensorSpec(shape=(32,), dtype=tf.float32, name=None)\n",
            "  135973122962208: TensorSpec(shape=(), dtype=tf.resource, name=None)\n",
            "  135973122952176: TensorSpec(shape=(), dtype=tf.resource, name=None)\n",
            "  135973122949712: TensorSpec(shape=(), dtype=tf.resource, name=None)\n",
            "  135973122950416: TensorSpec(shape=(), dtype=tf.resource, name=None)\n",
            "  135973122951648: TensorSpec(shape=(32,), dtype=tf.float32, name=None)\n",
            "  135973122950768: TensorSpec(shape=(), dtype=tf.resource, name=None)\n",
            "  135973122952000: TensorSpec(shape=(), dtype=tf.resource, name=None)\n",
            "  135973122952528: TensorSpec(shape=(), dtype=tf.resource, name=None)\n",
            "  135973122953584: TensorSpec(shape=(), dtype=tf.resource, name=None)\n",
            "  135973122952352: TensorSpec(shape=(64,), dtype=tf.float32, name=None)\n",
            "  135973122951296: TensorSpec(shape=(), dtype=tf.resource, name=None)\n",
            "  135973122951120: TensorSpec(shape=(), dtype=tf.resource, name=None)\n",
            "  135973122953936: TensorSpec(shape=(), dtype=tf.resource, name=None)\n",
            "  135973122953232: TensorSpec(shape=(), dtype=tf.resource, name=None)\n",
            "  135973122954112: TensorSpec(shape=(64,), dtype=tf.float32, name=None)\n",
            "  135973122954640: TensorSpec(shape=(), dtype=tf.resource, name=None)\n",
            "  135973122955696: TensorSpec(shape=(), dtype=tf.resource, name=None)\n",
            "  135973122956752: TensorSpec(shape=(), dtype=tf.resource, name=None)\n",
            "  135973122956928: TensorSpec(shape=(), dtype=tf.resource, name=None)\n",
            "  135973122957456: TensorSpec(shape=(128,), dtype=tf.float32, name=None)\n",
            "  135973122957632: TensorSpec(shape=(), dtype=tf.resource, name=None)\n",
            "  135973122958688: TensorSpec(shape=(), dtype=tf.resource, name=None)\n",
            "  135973122958864: TensorSpec(shape=(), dtype=tf.resource, name=None)\n",
            "  135973122959392: TensorSpec(shape=(), dtype=tf.resource, name=None)\n",
            "  135973122959040: TensorSpec(shape=(128,), dtype=tf.float32, name=None)\n",
            "  135973122960800: TensorSpec(shape=(), dtype=tf.resource, name=None)\n",
            "  135973122961328: TensorSpec(shape=(), dtype=tf.resource, name=None)\n",
            "  135973122960096: TensorSpec(shape=(), dtype=tf.resource, name=None)\n",
            "  135973122957984: TensorSpec(shape=(), dtype=tf.resource, name=None)\n",
            "  135973122955872: TensorSpec(shape=(128,), dtype=tf.float32, name=None)\n",
            "  135973122960976: TensorSpec(shape=(), dtype=tf.resource, name=None)\n",
            "  135973122958336: TensorSpec(shape=(), dtype=tf.resource, name=None)\n",
            "  135973122961680: TensorSpec(shape=(), dtype=tf.resource, name=None)\n",
            "  135973122955168: TensorSpec(shape=(), dtype=tf.resource, name=None)\n",
            "  135973122963616: TensorSpec(shape=(128,), dtype=tf.float32, name=None)\n",
            "  135973122962384: TensorSpec(shape=(), dtype=tf.resource, name=None)\n",
            "  135973122959216: TensorSpec(shape=(), dtype=tf.resource, name=None)\n",
            "  135973122961504: TensorSpec(shape=(), dtype=tf.resource, name=None)\n",
            "  135973122964496: TensorSpec(shape=(), dtype=tf.resource, name=None)\n",
            "  135973122965200: TensorSpec(shape=(256,), dtype=tf.float32, name=None)\n",
            "  135973122963968: TensorSpec(shape=(), dtype=tf.resource, name=None)\n",
            "  135973122964144: TensorSpec(shape=(), dtype=tf.resource, name=None)\n",
            "  135973122964848: TensorSpec(shape=(), dtype=tf.resource, name=None)\n",
            "  135973122965024: TensorSpec(shape=(), dtype=tf.resource, name=None)\n",
            "  135973360874624: TensorSpec(shape=(256,), dtype=tf.float32, name=None)\n",
            "  135973360862656: TensorSpec(shape=(), dtype=tf.resource, name=None)\n",
            "  135973360871632: TensorSpec(shape=(), dtype=tf.resource, name=None)\n",
            "  135973360866704: TensorSpec(shape=(), dtype=tf.resource, name=None)\n",
            "  135973360866000: TensorSpec(shape=(), dtype=tf.resource, name=None)\n",
            "  135973360865824: TensorSpec(shape=(256,), dtype=tf.float32, name=None)\n",
            "  135973360865120: TensorSpec(shape=(), dtype=tf.resource, name=None)\n",
            "  135973360861424: TensorSpec(shape=(), dtype=tf.resource, name=None)\n",
            "  135973360867232: TensorSpec(shape=(), dtype=tf.resource, name=None)\n",
            "  135973360861776: TensorSpec(shape=(), dtype=tf.resource, name=None)\n",
            "  135973360863536: TensorSpec(shape=(256,), dtype=tf.float32, name=None)\n",
            "  135973360873744: TensorSpec(shape=(), dtype=tf.resource, name=None)\n",
            "  135973360877264: TensorSpec(shape=(), dtype=tf.resource, name=None)\n",
            "  135973360876912: TensorSpec(shape=(), dtype=tf.resource, name=None)\n",
            "  135973360861952: TensorSpec(shape=(), dtype=tf.resource, name=None)\n",
            "  135973360875504: TensorSpec(shape=(512,), dtype=tf.float32, name=None)\n",
            "  135973360874800: TensorSpec(shape=(), dtype=tf.resource, name=None)\n",
            "  135973360861248: TensorSpec(shape=(), dtype=tf.resource, name=None)\n",
            "  135973360865648: TensorSpec(shape=(), dtype=tf.resource, name=None)\n",
            "  135973360872688: TensorSpec(shape=(), dtype=tf.resource, name=None)\n",
            "  135973360873920: TensorSpec(shape=(512,), dtype=tf.float32, name=None)\n",
            "  135973130689472: TensorSpec(shape=(), dtype=tf.resource, name=None)\n",
            "  135973130683664: TensorSpec(shape=(), dtype=tf.resource, name=None)\n",
            "  135973360871984: TensorSpec(shape=(), dtype=tf.resource, name=None)\n",
            "  135973130683136: TensorSpec(shape=(), dtype=tf.resource, name=None)\n",
            "  135973130691232: TensorSpec(shape=(512,), dtype=tf.float32, name=None)\n",
            "  135973130691760: TensorSpec(shape=(), dtype=tf.resource, name=None)\n",
            "  135973130683312: TensorSpec(shape=(), dtype=tf.resource, name=None)\n",
            "  135973130692464: TensorSpec(shape=(), dtype=tf.resource, name=None)\n",
            "  135973130693344: TensorSpec(shape=(), dtype=tf.resource, name=None)\n",
            "  135973130691584: TensorSpec(shape=(512,), dtype=tf.float32, name=None)\n",
            "  135973130695456: TensorSpec(shape=(), dtype=tf.resource, name=None)\n",
            "  135973130696688: TensorSpec(shape=(), dtype=tf.resource, name=None)\n",
            "  135973130698448: TensorSpec(shape=(), dtype=tf.resource, name=None)\n",
            "  135973130693872: TensorSpec(shape=(), dtype=tf.resource, name=None)\n",
            "  135973130698096: TensorSpec(shape=(512,), dtype=tf.float32, name=None)\n",
            "  135973130693696: TensorSpec(shape=(), dtype=tf.resource, name=None)\n",
            "  135973130685600: TensorSpec(shape=(), dtype=tf.resource, name=None)\n",
            "  135973130691056: TensorSpec(shape=(), dtype=tf.resource, name=None)\n",
            "  135973130689296: TensorSpec(shape=(), dtype=tf.resource, name=None)\n",
            "  135973130696512: TensorSpec(shape=(512,), dtype=tf.float32, name=None)\n",
            "  135973130687888: TensorSpec(shape=(), dtype=tf.resource, name=None)\n",
            "  135973130682432: TensorSpec(shape=(), dtype=tf.resource, name=None)\n",
            "  135973130696160: TensorSpec(shape=(), dtype=tf.resource, name=None)\n",
            "  135973130695280: TensorSpec(shape=(), dtype=tf.resource, name=None)\n",
            "  135973328641312: TensorSpec(shape=(512,), dtype=tf.float32, name=None)\n",
            "  135973328641136: TensorSpec(shape=(), dtype=tf.resource, name=None)\n",
            "  135973328640432: TensorSpec(shape=(), dtype=tf.resource, name=None)\n",
            "  135973328642544: TensorSpec(shape=(), dtype=tf.resource, name=None)\n",
            "  135973328640960: TensorSpec(shape=(), dtype=tf.resource, name=None)\n",
            "  135973328648880: TensorSpec(shape=(512,), dtype=tf.float32, name=None)\n",
            "  135973328647296: TensorSpec(shape=(), dtype=tf.resource, name=None)\n",
            "  135973328642016: TensorSpec(shape=(), dtype=tf.resource, name=None)\n",
            "  135973328646944: TensorSpec(shape=(), dtype=tf.resource, name=None)\n",
            "  135973328640608: TensorSpec(shape=(), dtype=tf.resource, name=None)\n",
            "  135973328642896: TensorSpec(shape=(512,), dtype=tf.float32, name=None)\n",
            "  135973328634976: TensorSpec(shape=(), dtype=tf.resource, name=None)\n",
            "  135973328636560: TensorSpec(shape=(), dtype=tf.resource, name=None)\n",
            "  135973328635680: TensorSpec(shape=(), dtype=tf.resource, name=None)\n",
            "  135973328637264: TensorSpec(shape=(), dtype=tf.resource, name=None)\n",
            "  135973328642368: TensorSpec(shape=(512,), dtype=tf.float32, name=None)\n",
            "  135973328645536: TensorSpec(shape=(), dtype=tf.resource, name=None)\n",
            "  135973328637968: TensorSpec(shape=(), dtype=tf.resource, name=None)\n",
            "  135973328637088: TensorSpec(shape=(), dtype=tf.resource, name=None)\n",
            "  135973328646416: TensorSpec(shape=(), dtype=tf.resource, name=None)\n",
            "  135973328998064: TensorSpec(shape=(512,), dtype=tf.float32, name=None)\n",
            "  135973329000000: TensorSpec(shape=(), dtype=tf.resource, name=None)\n",
            "  135973328646240: TensorSpec(shape=(), dtype=tf.resource, name=None)\n",
            "  135973328636032: TensorSpec(shape=(), dtype=tf.resource, name=None)\n",
            "  135973329006336: TensorSpec(shape=(), dtype=tf.resource, name=None)\n",
            "  135973329007920: TensorSpec(shape=(512,), dtype=tf.float32, name=None)\n",
            "  135973329007216: TensorSpec(shape=(), dtype=tf.resource, name=None)\n",
            "  135973329003520: TensorSpec(shape=(), dtype=tf.resource, name=None)\n",
            "  135973329006864: TensorSpec(shape=(), dtype=tf.resource, name=None)\n",
            "  135973329009856: TensorSpec(shape=(), dtype=tf.resource, name=None)\n",
            "  135973329003344: TensorSpec(shape=(1024,), dtype=tf.float32, name=None)\n",
            "  135973329009680: TensorSpec(shape=(), dtype=tf.resource, name=None)\n",
            "  135973328999296: TensorSpec(shape=(), dtype=tf.resource, name=None)\n",
            "  135973328998240: TensorSpec(shape=(), dtype=tf.resource, name=None)\n",
            "  135973329001232: TensorSpec(shape=(), dtype=tf.resource, name=None)\n",
            "  135973329003168: TensorSpec(shape=(1024,), dtype=tf.float32, name=None)\n",
            "  135973329004048: TensorSpec(shape=(), dtype=tf.resource, name=None)\n",
            "  135973329003872: TensorSpec(shape=(), dtype=tf.resource, name=None)\n",
            "  135973328999648: TensorSpec(shape=(), dtype=tf.resource, name=None)\n",
            "  135973329001408: TensorSpec(shape=(), dtype=tf.resource, name=None)\n",
            "  135973328994720: TensorSpec(shape=(1024,), dtype=tf.float32, name=None)\n",
            "  135973329001584: TensorSpec(shape=(), dtype=tf.resource, name=None)\n",
            "  135973329007568: TensorSpec(shape=(), dtype=tf.resource, name=None)\n",
            "  135973328999472: TensorSpec(shape=(), dtype=tf.resource, name=None)\n",
            "  135973328994544: TensorSpec(shape=(), dtype=tf.resource, name=None)\n",
            "  135973130464848: TensorSpec(shape=(), dtype=tf.resource, name=None)\n",
            "  135973126300848: TensorSpec(shape=(), dtype=tf.resource, name=None)\n",
            "  135973077911856: TensorSpec(shape=(), dtype=tf.resource, name=None)\n"
          ]
        }
      ]
    },
    {
      "cell_type": "code",
      "source": [
        "wav_file_path = 'audio/' + esc50_animals.iloc[0]['filename']"
      ],
      "metadata": {
        "id": "Mox21uMFQ0mk"
      },
      "execution_count": null,
      "outputs": []
    },
    {
      "cell_type": "markdown",
      "source": [
        "# Reload and test"
      ],
      "metadata": {
        "id": "s310Wn64o_xd"
      }
    },
    {
      "cell_type": "code",
      "source": [
        "# load\n",
        "tflite_model_path = './yamnet.tflite'\n",
        "interpreter = tf.lite.Interpreter(model_path=tflite_model_path)"
      ],
      "metadata": {
        "id": "LYDYbfHjpB0o"
      },
      "execution_count": null,
      "outputs": []
    },
    {
      "cell_type": "code",
      "source": [
        "%cd /content/ESC-50-master"
      ],
      "metadata": {
        "colab": {
          "base_uri": "https://localhost:8080/"
        },
        "id": "JE52RYWwpxK4",
        "outputId": "c42c08f7-9e8e-41e4-b828-4b87e1f7296b"
      },
      "execution_count": null,
      "outputs": [
        {
          "output_type": "stream",
          "name": "stdout",
          "text": [
            "/content/ESC-50-master\n"
          ]
        }
      ]
    },
    {
      "cell_type": "code",
      "source": [
        "test_num = 9\n",
        "sample_file = esc50_animals.iloc[test_num]['filename']\n",
        "input_data = preprocess_wav('audio/' + sample_file)\n",
        "input_data = tf.expand_dims(input_data, axis=0)"
      ],
      "metadata": {
        "id": "X995Bc_wp2Iu"
      },
      "execution_count": null,
      "outputs": []
    },
    {
      "cell_type": "code",
      "source": [
        "# allocate the tensors\n",
        "interpreter.allocate_tensors()\n",
        "\n",
        "# get input details and set the input tensor\n",
        "input_details = interpreter.get_input_details()\n",
        "interpreter.set_tensor(input_details[0]['index'], input_data)\n",
        "\n",
        "# run inference\n",
        "interpreter.invoke()"
      ],
      "metadata": {
        "id": "Kbhk-OThpEtP"
      },
      "execution_count": null,
      "outputs": []
    },
    {
      "cell_type": "code",
      "source": [
        "# get and process the output\n",
        "output_details = interpreter.get_output_details()\n",
        "output_data = interpreter.get_tensor(output_details[0]['index'])\n",
        "\n",
        "predicted_index = np.argmax(output_data)\n",
        "\n",
        "print(\"True Class Label:\", esc50_animals.iloc[test_num]['category'])\n",
        "\n",
        "predicted_label = animals[predicted_index]\n",
        "print(\"Predicted Class Label:\", predicted_label)"
      ],
      "metadata": {
        "colab": {
          "base_uri": "https://localhost:8080/"
        },
        "id": "qqHtNf2fpJAD",
        "outputId": "edb19571-cee5-4c12-a72e-ee73bb146edc"
      },
      "execution_count": null,
      "outputs": [
        {
          "output_type": "stream",
          "name": "stdout",
          "text": [
            "True Class Label: hen\n",
            "Predicted Class Label: cat\n"
          ]
        }
      ]
    },
    {
      "cell_type": "code",
      "source": [
        "results = []\n",
        "count = 0\n",
        "\n",
        "# for each file in the esc50_animals\n",
        "for index, row in esc50_animals.iterrows():\n",
        "\n",
        "    #preprocess\n",
        "    filename = row['filename']\n",
        "    wav = preprocess_wav('audio/' + filename)\n",
        "\n",
        "    input_data = tf.expand_dims(wav, axis=0)\n",
        "    interpreter.allocate_tensors()\n",
        "\n",
        "    input_details = interpreter.get_input_details()\n",
        "    interpreter.set_tensor(input_details[0]['index'], input_data)\n",
        "\n",
        "    interpreter.invoke()\n",
        "    output_details = interpreter.get_output_details()\n",
        "    output_data = interpreter.get_tensor(output_details[0]['index'])\n",
        "\n",
        "    predicted_index = np.argmax(output_data)\n",
        "\n",
        "    if(animals[predicted_index] == row['category']):\n",
        "        count += 1\n",
        "\n",
        "    # Store the result\n",
        "    results.append({\n",
        "        'predicted class': animals[predicted_index],\n",
        "        'true class': row['category']\n",
        "    })\n",
        "\n",
        "#results_df = pd.DataFrame(results)\n",
        "print(\"Accuracy: \", count / 400)"
      ],
      "metadata": {
        "colab": {
          "base_uri": "https://localhost:8080/"
        },
        "id": "Ynldoa1tSZIK",
        "outputId": "201dadd6-e8c9-423f-8822-f9b43cd61482"
      },
      "execution_count": null,
      "outputs": [
        {
          "output_type": "stream",
          "name": "stdout",
          "text": [
            "Accuracy:  0.0925\n"
          ]
        }
      ]
    },
    {
      "cell_type": "code",
      "source": [],
      "metadata": {
        "id": "72S8FdsWZLVo"
      },
      "execution_count": null,
      "outputs": []
    }
  ],
  "metadata": {
    "colab": {
      "provenance": [],
      "authorship_tag": "ABX9TyOM89VBxQg742DmvVwgIkts",
      "include_colab_link": true
    },
    "kernelspec": {
      "display_name": "Python 3",
      "name": "python3"
    },
    "language_info": {
      "name": "python"
    }
  },
  "nbformat": 4,
  "nbformat_minor": 0
}