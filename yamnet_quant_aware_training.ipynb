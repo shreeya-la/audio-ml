{
  "cells": [
    {
      "cell_type": "markdown",
      "metadata": {
        "id": "view-in-github",
        "colab_type": "text"
      },
      "source": [
        "<a href=\"https://colab.research.google.com/github/shreeya-la/audio-ml/blob/main/yamnet_quant_aware_training.ipynb\" target=\"_parent\"><img src=\"https://colab.research.google.com/assets/colab-badge.svg\" alt=\"Open In Colab\"/></a>"
      ]
    },
    {
      "cell_type": "markdown",
      "source": [
        "# Import and Download ESC50"
      ],
      "metadata": {
        "id": "xRuujaeIl__N"
      }
    },
    {
      "cell_type": "code",
      "execution_count": 50,
      "metadata": {
        "collapsed": true,
        "id": "eIOfUQOVnAMP"
      },
      "outputs": [],
      "source": [
        "#!pip install tensorflow --upgrade"
      ]
    },
    {
      "cell_type": "code",
      "source": [
        "# !pip uninstall tensorflow\n",
        "# !pip uninstall tensorflow-io"
      ],
      "metadata": {
        "id": "k833yXkrjZ4N"
      },
      "execution_count": 2,
      "outputs": []
    },
    {
      "cell_type": "code",
      "source": [
        "!pip install -q tensorflow-model-optimization"
      ],
      "metadata": {
        "colab": {
          "base_uri": "https://localhost:8080/"
        },
        "id": "HU89D76qlc6b",
        "outputId": "bdc2fc37-bc82-4a51-9edf-dc9b611c55fa"
      },
      "execution_count": 5,
      "outputs": [
        {
          "output_type": "stream",
          "name": "stdout",
          "text": [
            "\u001b[?25l   \u001b[90m━━━━━━━━━━━━━━━━━━━━━━━━━━━━━━━━━━━━━━━━\u001b[0m \u001b[32m0.0/242.5 kB\u001b[0m \u001b[31m?\u001b[0m eta \u001b[36m-:--:--\u001b[0m\r\u001b[2K   \u001b[91m━━━━━━━━━━━━━━━━━━━━━━━\u001b[0m\u001b[91m╸\u001b[0m\u001b[90m━━━━━━━━━━━━━━━━\u001b[0m \u001b[32m143.4/242.5 kB\u001b[0m \u001b[31m4.0 MB/s\u001b[0m eta \u001b[36m0:00:01\u001b[0m\r\u001b[2K   \u001b[90m━━━━━━━━━━━━━━━━━━━━━━━━━━━━━━━━━━━━━━━━\u001b[0m \u001b[32m242.5/242.5 kB\u001b[0m \u001b[31m3.6 MB/s\u001b[0m eta \u001b[36m0:00:00\u001b[0m\n",
            "\u001b[?25h"
          ]
        }
      ]
    },
    {
      "cell_type": "code",
      "execution_count": 6,
      "metadata": {
        "id": "6RIz03TKnD7H"
      },
      "outputs": [],
      "source": [
        "import os\n",
        "from IPython import display\n",
        "import matplotlib.pyplot as plt\n",
        "import numpy as np\n",
        "import pandas as pd\n",
        "import tensorflow as tf\n",
        "import tensorflow_hub as hub\n",
        "import librosa\n",
        "import seaborn as sns\n",
        "\n",
        "from tensorflow.keras.layers import Layer\n",
        "from sklearn.metrics import confusion_matrix, classification_report\n",
        "import tensorflow_model_optimization as tfmot\n",
        "from tensorflow_model_optimization.python.core.keras.compat import keras"
      ]
    },
    {
      "cell_type": "code",
      "source": [
        "!test ! -f \"master.zip\" && wget \"https://github.com/karoldvl/ESC-50/archive/master.zip\""
      ],
      "metadata": {
        "colab": {
          "base_uri": "https://localhost:8080/"
        },
        "id": "hxIQdQXDlf3e",
        "outputId": "2bf2c314-3d03-4c3b-c370-6da18739a0af"
      },
      "execution_count": 7,
      "outputs": [
        {
          "output_type": "stream",
          "name": "stdout",
          "text": [
            "--2024-12-04 19:39:26--  https://github.com/karoldvl/ESC-50/archive/master.zip\n",
            "Resolving github.com (github.com)... 140.82.113.3\n",
            "Connecting to github.com (github.com)|140.82.113.3|:443... connected.\n",
            "HTTP request sent, awaiting response... 301 Moved Permanently\n",
            "Location: https://github.com/karolpiczak/ESC-50/archive/master.zip [following]\n",
            "--2024-12-04 19:39:26--  https://github.com/karolpiczak/ESC-50/archive/master.zip\n",
            "Reusing existing connection to github.com:443.\n",
            "HTTP request sent, awaiting response... 302 Found\n",
            "Location: https://codeload.github.com/karolpiczak/ESC-50/zip/refs/heads/master [following]\n",
            "--2024-12-04 19:39:26--  https://codeload.github.com/karolpiczak/ESC-50/zip/refs/heads/master\n",
            "Resolving codeload.github.com (codeload.github.com)... 140.82.114.10\n",
            "Connecting to codeload.github.com (codeload.github.com)|140.82.114.10|:443... connected.\n",
            "HTTP request sent, awaiting response... 200 OK\n",
            "Length: unspecified [application/zip]\n",
            "Saving to: ‘master.zip’\n",
            "\n",
            "master.zip              [      <=>           ] 615.78M  13.3MB/s    in 44s     \n",
            "\n",
            "2024-12-04 19:40:10 (14.1 MB/s) - ‘master.zip’ saved [645695005]\n",
            "\n"
          ]
        }
      ]
    },
    {
      "cell_type": "code",
      "source": [
        "!unzip -qq master.zip"
      ],
      "metadata": {
        "id": "_tVhpRpHlhrY"
      },
      "execution_count": 8,
      "outputs": []
    },
    {
      "cell_type": "code",
      "source": [
        "%cd ESC-50-master\n",
        "# create a dataframe\n",
        "esc50_data = pd.read_csv('meta/esc50.csv')\n",
        "esc50_data.head()"
      ],
      "metadata": {
        "colab": {
          "base_uri": "https://localhost:8080/",
          "height": 221
        },
        "id": "yhhOvAHAlqoT",
        "outputId": "280f951d-dc6f-4bc2-e587-2e25f4727e4d"
      },
      "execution_count": 9,
      "outputs": [
        {
          "output_type": "stream",
          "name": "stdout",
          "text": [
            "/content/ESC-50-master\n"
          ]
        },
        {
          "output_type": "execute_result",
          "data": {
            "text/plain": [
              "            filename  fold  target        category  esc10  src_file take\n",
              "0   1-100032-A-0.wav     1       0             dog   True    100032    A\n",
              "1  1-100038-A-14.wav     1      14  chirping_birds  False    100038    A\n",
              "2  1-100210-A-36.wav     1      36  vacuum_cleaner  False    100210    A\n",
              "3  1-100210-B-36.wav     1      36  vacuum_cleaner  False    100210    B\n",
              "4  1-101296-A-19.wav     1      19    thunderstorm  False    101296    A"
            ],
            "text/html": [
              "\n",
              "  <div id=\"df-4ec47399-6997-47bf-837c-df80e90218ff\" class=\"colab-df-container\">\n",
              "    <div>\n",
              "<style scoped>\n",
              "    .dataframe tbody tr th:only-of-type {\n",
              "        vertical-align: middle;\n",
              "    }\n",
              "\n",
              "    .dataframe tbody tr th {\n",
              "        vertical-align: top;\n",
              "    }\n",
              "\n",
              "    .dataframe thead th {\n",
              "        text-align: right;\n",
              "    }\n",
              "</style>\n",
              "<table border=\"1\" class=\"dataframe\">\n",
              "  <thead>\n",
              "    <tr style=\"text-align: right;\">\n",
              "      <th></th>\n",
              "      <th>filename</th>\n",
              "      <th>fold</th>\n",
              "      <th>target</th>\n",
              "      <th>category</th>\n",
              "      <th>esc10</th>\n",
              "      <th>src_file</th>\n",
              "      <th>take</th>\n",
              "    </tr>\n",
              "  </thead>\n",
              "  <tbody>\n",
              "    <tr>\n",
              "      <th>0</th>\n",
              "      <td>1-100032-A-0.wav</td>\n",
              "      <td>1</td>\n",
              "      <td>0</td>\n",
              "      <td>dog</td>\n",
              "      <td>True</td>\n",
              "      <td>100032</td>\n",
              "      <td>A</td>\n",
              "    </tr>\n",
              "    <tr>\n",
              "      <th>1</th>\n",
              "      <td>1-100038-A-14.wav</td>\n",
              "      <td>1</td>\n",
              "      <td>14</td>\n",
              "      <td>chirping_birds</td>\n",
              "      <td>False</td>\n",
              "      <td>100038</td>\n",
              "      <td>A</td>\n",
              "    </tr>\n",
              "    <tr>\n",
              "      <th>2</th>\n",
              "      <td>1-100210-A-36.wav</td>\n",
              "      <td>1</td>\n",
              "      <td>36</td>\n",
              "      <td>vacuum_cleaner</td>\n",
              "      <td>False</td>\n",
              "      <td>100210</td>\n",
              "      <td>A</td>\n",
              "    </tr>\n",
              "    <tr>\n",
              "      <th>3</th>\n",
              "      <td>1-100210-B-36.wav</td>\n",
              "      <td>1</td>\n",
              "      <td>36</td>\n",
              "      <td>vacuum_cleaner</td>\n",
              "      <td>False</td>\n",
              "      <td>100210</td>\n",
              "      <td>B</td>\n",
              "    </tr>\n",
              "    <tr>\n",
              "      <th>4</th>\n",
              "      <td>1-101296-A-19.wav</td>\n",
              "      <td>1</td>\n",
              "      <td>19</td>\n",
              "      <td>thunderstorm</td>\n",
              "      <td>False</td>\n",
              "      <td>101296</td>\n",
              "      <td>A</td>\n",
              "    </tr>\n",
              "  </tbody>\n",
              "</table>\n",
              "</div>\n",
              "    <div class=\"colab-df-buttons\">\n",
              "\n",
              "  <div class=\"colab-df-container\">\n",
              "    <button class=\"colab-df-convert\" onclick=\"convertToInteractive('df-4ec47399-6997-47bf-837c-df80e90218ff')\"\n",
              "            title=\"Convert this dataframe to an interactive table.\"\n",
              "            style=\"display:none;\">\n",
              "\n",
              "  <svg xmlns=\"http://www.w3.org/2000/svg\" height=\"24px\" viewBox=\"0 -960 960 960\">\n",
              "    <path d=\"M120-120v-720h720v720H120Zm60-500h600v-160H180v160Zm220 220h160v-160H400v160Zm0 220h160v-160H400v160ZM180-400h160v-160H180v160Zm440 0h160v-160H620v160ZM180-180h160v-160H180v160Zm440 0h160v-160H620v160Z\"/>\n",
              "  </svg>\n",
              "    </button>\n",
              "\n",
              "  <style>\n",
              "    .colab-df-container {\n",
              "      display:flex;\n",
              "      gap: 12px;\n",
              "    }\n",
              "\n",
              "    .colab-df-convert {\n",
              "      background-color: #E8F0FE;\n",
              "      border: none;\n",
              "      border-radius: 50%;\n",
              "      cursor: pointer;\n",
              "      display: none;\n",
              "      fill: #1967D2;\n",
              "      height: 32px;\n",
              "      padding: 0 0 0 0;\n",
              "      width: 32px;\n",
              "    }\n",
              "\n",
              "    .colab-df-convert:hover {\n",
              "      background-color: #E2EBFA;\n",
              "      box-shadow: 0px 1px 2px rgba(60, 64, 67, 0.3), 0px 1px 3px 1px rgba(60, 64, 67, 0.15);\n",
              "      fill: #174EA6;\n",
              "    }\n",
              "\n",
              "    .colab-df-buttons div {\n",
              "      margin-bottom: 4px;\n",
              "    }\n",
              "\n",
              "    [theme=dark] .colab-df-convert {\n",
              "      background-color: #3B4455;\n",
              "      fill: #D2E3FC;\n",
              "    }\n",
              "\n",
              "    [theme=dark] .colab-df-convert:hover {\n",
              "      background-color: #434B5C;\n",
              "      box-shadow: 0px 1px 3px 1px rgba(0, 0, 0, 0.15);\n",
              "      filter: drop-shadow(0px 1px 2px rgba(0, 0, 0, 0.3));\n",
              "      fill: #FFFFFF;\n",
              "    }\n",
              "  </style>\n",
              "\n",
              "    <script>\n",
              "      const buttonEl =\n",
              "        document.querySelector('#df-4ec47399-6997-47bf-837c-df80e90218ff button.colab-df-convert');\n",
              "      buttonEl.style.display =\n",
              "        google.colab.kernel.accessAllowed ? 'block' : 'none';\n",
              "\n",
              "      async function convertToInteractive(key) {\n",
              "        const element = document.querySelector('#df-4ec47399-6997-47bf-837c-df80e90218ff');\n",
              "        const dataTable =\n",
              "          await google.colab.kernel.invokeFunction('convertToInteractive',\n",
              "                                                    [key], {});\n",
              "        if (!dataTable) return;\n",
              "\n",
              "        const docLinkHtml = 'Like what you see? Visit the ' +\n",
              "          '<a target=\"_blank\" href=https://colab.research.google.com/notebooks/data_table.ipynb>data table notebook</a>'\n",
              "          + ' to learn more about interactive tables.';\n",
              "        element.innerHTML = '';\n",
              "        dataTable['output_type'] = 'display_data';\n",
              "        await google.colab.output.renderOutput(dataTable, element);\n",
              "        const docLink = document.createElement('div');\n",
              "        docLink.innerHTML = docLinkHtml;\n",
              "        element.appendChild(docLink);\n",
              "      }\n",
              "    </script>\n",
              "  </div>\n",
              "\n",
              "\n",
              "<div id=\"df-31d5b976-44fa-4039-a5dd-eb09ce4c6e09\">\n",
              "  <button class=\"colab-df-quickchart\" onclick=\"quickchart('df-31d5b976-44fa-4039-a5dd-eb09ce4c6e09')\"\n",
              "            title=\"Suggest charts\"\n",
              "            style=\"display:none;\">\n",
              "\n",
              "<svg xmlns=\"http://www.w3.org/2000/svg\" height=\"24px\"viewBox=\"0 0 24 24\"\n",
              "     width=\"24px\">\n",
              "    <g>\n",
              "        <path d=\"M19 3H5c-1.1 0-2 .9-2 2v14c0 1.1.9 2 2 2h14c1.1 0 2-.9 2-2V5c0-1.1-.9-2-2-2zM9 17H7v-7h2v7zm4 0h-2V7h2v10zm4 0h-2v-4h2v4z\"/>\n",
              "    </g>\n",
              "</svg>\n",
              "  </button>\n",
              "\n",
              "<style>\n",
              "  .colab-df-quickchart {\n",
              "      --bg-color: #E8F0FE;\n",
              "      --fill-color: #1967D2;\n",
              "      --hover-bg-color: #E2EBFA;\n",
              "      --hover-fill-color: #174EA6;\n",
              "      --disabled-fill-color: #AAA;\n",
              "      --disabled-bg-color: #DDD;\n",
              "  }\n",
              "\n",
              "  [theme=dark] .colab-df-quickchart {\n",
              "      --bg-color: #3B4455;\n",
              "      --fill-color: #D2E3FC;\n",
              "      --hover-bg-color: #434B5C;\n",
              "      --hover-fill-color: #FFFFFF;\n",
              "      --disabled-bg-color: #3B4455;\n",
              "      --disabled-fill-color: #666;\n",
              "  }\n",
              "\n",
              "  .colab-df-quickchart {\n",
              "    background-color: var(--bg-color);\n",
              "    border: none;\n",
              "    border-radius: 50%;\n",
              "    cursor: pointer;\n",
              "    display: none;\n",
              "    fill: var(--fill-color);\n",
              "    height: 32px;\n",
              "    padding: 0;\n",
              "    width: 32px;\n",
              "  }\n",
              "\n",
              "  .colab-df-quickchart:hover {\n",
              "    background-color: var(--hover-bg-color);\n",
              "    box-shadow: 0 1px 2px rgba(60, 64, 67, 0.3), 0 1px 3px 1px rgba(60, 64, 67, 0.15);\n",
              "    fill: var(--button-hover-fill-color);\n",
              "  }\n",
              "\n",
              "  .colab-df-quickchart-complete:disabled,\n",
              "  .colab-df-quickchart-complete:disabled:hover {\n",
              "    background-color: var(--disabled-bg-color);\n",
              "    fill: var(--disabled-fill-color);\n",
              "    box-shadow: none;\n",
              "  }\n",
              "\n",
              "  .colab-df-spinner {\n",
              "    border: 2px solid var(--fill-color);\n",
              "    border-color: transparent;\n",
              "    border-bottom-color: var(--fill-color);\n",
              "    animation:\n",
              "      spin 1s steps(1) infinite;\n",
              "  }\n",
              "\n",
              "  @keyframes spin {\n",
              "    0% {\n",
              "      border-color: transparent;\n",
              "      border-bottom-color: var(--fill-color);\n",
              "      border-left-color: var(--fill-color);\n",
              "    }\n",
              "    20% {\n",
              "      border-color: transparent;\n",
              "      border-left-color: var(--fill-color);\n",
              "      border-top-color: var(--fill-color);\n",
              "    }\n",
              "    30% {\n",
              "      border-color: transparent;\n",
              "      border-left-color: var(--fill-color);\n",
              "      border-top-color: var(--fill-color);\n",
              "      border-right-color: var(--fill-color);\n",
              "    }\n",
              "    40% {\n",
              "      border-color: transparent;\n",
              "      border-right-color: var(--fill-color);\n",
              "      border-top-color: var(--fill-color);\n",
              "    }\n",
              "    60% {\n",
              "      border-color: transparent;\n",
              "      border-right-color: var(--fill-color);\n",
              "    }\n",
              "    80% {\n",
              "      border-color: transparent;\n",
              "      border-right-color: var(--fill-color);\n",
              "      border-bottom-color: var(--fill-color);\n",
              "    }\n",
              "    90% {\n",
              "      border-color: transparent;\n",
              "      border-bottom-color: var(--fill-color);\n",
              "    }\n",
              "  }\n",
              "</style>\n",
              "\n",
              "  <script>\n",
              "    async function quickchart(key) {\n",
              "      const quickchartButtonEl =\n",
              "        document.querySelector('#' + key + ' button');\n",
              "      quickchartButtonEl.disabled = true;  // To prevent multiple clicks.\n",
              "      quickchartButtonEl.classList.add('colab-df-spinner');\n",
              "      try {\n",
              "        const charts = await google.colab.kernel.invokeFunction(\n",
              "            'suggestCharts', [key], {});\n",
              "      } catch (error) {\n",
              "        console.error('Error during call to suggestCharts:', error);\n",
              "      }\n",
              "      quickchartButtonEl.classList.remove('colab-df-spinner');\n",
              "      quickchartButtonEl.classList.add('colab-df-quickchart-complete');\n",
              "    }\n",
              "    (() => {\n",
              "      let quickchartButtonEl =\n",
              "        document.querySelector('#df-31d5b976-44fa-4039-a5dd-eb09ce4c6e09 button');\n",
              "      quickchartButtonEl.style.display =\n",
              "        google.colab.kernel.accessAllowed ? 'block' : 'none';\n",
              "    })();\n",
              "  </script>\n",
              "</div>\n",
              "\n",
              "    </div>\n",
              "  </div>\n"
            ],
            "application/vnd.google.colaboratory.intrinsic+json": {
              "type": "dataframe",
              "variable_name": "esc50_data",
              "summary": "{\n  \"name\": \"esc50_data\",\n  \"rows\": 2000,\n  \"fields\": [\n    {\n      \"column\": \"filename\",\n      \"properties\": {\n        \"dtype\": \"string\",\n        \"num_unique_values\": 2000,\n        \"samples\": [\n          \"5-221950-A-22.wav\",\n          \"1-79220-A-17.wav\",\n          \"4-165845-A-45.wav\"\n        ],\n        \"semantic_type\": \"\",\n        \"description\": \"\"\n      }\n    },\n    {\n      \"column\": \"fold\",\n      \"properties\": {\n        \"dtype\": \"number\",\n        \"std\": 1,\n        \"min\": 1,\n        \"max\": 5,\n        \"num_unique_values\": 5,\n        \"samples\": [\n          2,\n          5,\n          3\n        ],\n        \"semantic_type\": \"\",\n        \"description\": \"\"\n      }\n    },\n    {\n      \"column\": \"target\",\n      \"properties\": {\n        \"dtype\": \"number\",\n        \"std\": 14,\n        \"min\": 0,\n        \"max\": 49,\n        \"num_unique_values\": 50,\n        \"samples\": [\n          45,\n          18,\n          26\n        ],\n        \"semantic_type\": \"\",\n        \"description\": \"\"\n      }\n    },\n    {\n      \"column\": \"category\",\n      \"properties\": {\n        \"dtype\": \"category\",\n        \"num_unique_values\": 50,\n        \"samples\": [\n          \"train\",\n          \"toilet_flush\",\n          \"laughing\"\n        ],\n        \"semantic_type\": \"\",\n        \"description\": \"\"\n      }\n    },\n    {\n      \"column\": \"esc10\",\n      \"properties\": {\n        \"dtype\": \"boolean\",\n        \"num_unique_values\": 2,\n        \"samples\": [\n          false,\n          true\n        ],\n        \"semantic_type\": \"\",\n        \"description\": \"\"\n      }\n    },\n    {\n      \"column\": \"src_file\",\n      \"properties\": {\n        \"dtype\": \"number\",\n        \"std\": 64882,\n        \"min\": 137,\n        \"max\": 264453,\n        \"num_unique_values\": 1524,\n        \"samples\": [\n          155130,\n          21935\n        ],\n        \"semantic_type\": \"\",\n        \"description\": \"\"\n      }\n    },\n    {\n      \"column\": \"take\",\n      \"properties\": {\n        \"dtype\": \"category\",\n        \"num_unique_values\": 8,\n        \"samples\": [\n          \"B\",\n          \"F\"\n        ],\n        \"semantic_type\": \"\",\n        \"description\": \"\"\n      }\n    }\n  ]\n}"
            }
          },
          "metadata": {},
          "execution_count": 9
        }
      ]
    },
    {
      "cell_type": "code",
      "source": [
        "animals = ['dog', 'rooster', 'pig', 'cow', 'frog', 'cat', 'hen', 'insects', 'sheep', 'crow']\n",
        "map_class_to_id = {'dog':0,'rooster':1, 'pig':2, 'cow':3, 'frog':4, 'cat':5, 'hen':6, 'insects':7, 'sheep':8, 'crow':9}\n",
        "\n",
        "esc50_animals = esc50_data[esc50_data.category.isin(animals)]\n",
        "\n",
        "class_id = esc50_animals['category'].apply(lambda name: map_class_to_id[name])\n",
        "esc50_animals = esc50_animals.assign(target=class_id)\n",
        "\n",
        "esc50_animals.head(10)"
      ],
      "metadata": {
        "id": "1Iv9yA6uI6oG",
        "colab": {
          "base_uri": "https://localhost:8080/",
          "height": 359
        },
        "outputId": "2c548415-d7d0-4235-b09e-6f4b2d490c4e"
      },
      "execution_count": 10,
      "outputs": [
        {
          "output_type": "execute_result",
          "data": {
            "text/plain": [
              "            filename  fold  target category  esc10  src_file take\n",
              "0   1-100032-A-0.wav     1       0      dog   True    100032    A\n",
              "8   1-103298-A-9.wav     1       9     crow  False    103298    A\n",
              "14  1-110389-A-0.wav     1       0      dog   True    110389    A\n",
              "29  1-121951-A-8.wav     1       8    sheep  False    121951    A\n",
              "45   1-15689-A-4.wav     1       4     frog  False     15689    A\n",
              "46   1-15689-B-4.wav     1       4     frog  False     15689    B\n",
              "49   1-16568-A-3.wav     1       3      cow  False     16568    A\n",
              "64   1-17585-A-7.wav     1       7  insects  False     17585    A\n",
              "69   1-17970-A-4.wav     1       4     frog  False     17970    A\n",
              "70   1-18074-A-6.wav     1       6      hen  False     18074    A"
            ],
            "text/html": [
              "\n",
              "  <div id=\"df-45ff7f97-ce20-4f0b-8bdd-9d9b24a94ab1\" class=\"colab-df-container\">\n",
              "    <div>\n",
              "<style scoped>\n",
              "    .dataframe tbody tr th:only-of-type {\n",
              "        vertical-align: middle;\n",
              "    }\n",
              "\n",
              "    .dataframe tbody tr th {\n",
              "        vertical-align: top;\n",
              "    }\n",
              "\n",
              "    .dataframe thead th {\n",
              "        text-align: right;\n",
              "    }\n",
              "</style>\n",
              "<table border=\"1\" class=\"dataframe\">\n",
              "  <thead>\n",
              "    <tr style=\"text-align: right;\">\n",
              "      <th></th>\n",
              "      <th>filename</th>\n",
              "      <th>fold</th>\n",
              "      <th>target</th>\n",
              "      <th>category</th>\n",
              "      <th>esc10</th>\n",
              "      <th>src_file</th>\n",
              "      <th>take</th>\n",
              "    </tr>\n",
              "  </thead>\n",
              "  <tbody>\n",
              "    <tr>\n",
              "      <th>0</th>\n",
              "      <td>1-100032-A-0.wav</td>\n",
              "      <td>1</td>\n",
              "      <td>0</td>\n",
              "      <td>dog</td>\n",
              "      <td>True</td>\n",
              "      <td>100032</td>\n",
              "      <td>A</td>\n",
              "    </tr>\n",
              "    <tr>\n",
              "      <th>8</th>\n",
              "      <td>1-103298-A-9.wav</td>\n",
              "      <td>1</td>\n",
              "      <td>9</td>\n",
              "      <td>crow</td>\n",
              "      <td>False</td>\n",
              "      <td>103298</td>\n",
              "      <td>A</td>\n",
              "    </tr>\n",
              "    <tr>\n",
              "      <th>14</th>\n",
              "      <td>1-110389-A-0.wav</td>\n",
              "      <td>1</td>\n",
              "      <td>0</td>\n",
              "      <td>dog</td>\n",
              "      <td>True</td>\n",
              "      <td>110389</td>\n",
              "      <td>A</td>\n",
              "    </tr>\n",
              "    <tr>\n",
              "      <th>29</th>\n",
              "      <td>1-121951-A-8.wav</td>\n",
              "      <td>1</td>\n",
              "      <td>8</td>\n",
              "      <td>sheep</td>\n",
              "      <td>False</td>\n",
              "      <td>121951</td>\n",
              "      <td>A</td>\n",
              "    </tr>\n",
              "    <tr>\n",
              "      <th>45</th>\n",
              "      <td>1-15689-A-4.wav</td>\n",
              "      <td>1</td>\n",
              "      <td>4</td>\n",
              "      <td>frog</td>\n",
              "      <td>False</td>\n",
              "      <td>15689</td>\n",
              "      <td>A</td>\n",
              "    </tr>\n",
              "    <tr>\n",
              "      <th>46</th>\n",
              "      <td>1-15689-B-4.wav</td>\n",
              "      <td>1</td>\n",
              "      <td>4</td>\n",
              "      <td>frog</td>\n",
              "      <td>False</td>\n",
              "      <td>15689</td>\n",
              "      <td>B</td>\n",
              "    </tr>\n",
              "    <tr>\n",
              "      <th>49</th>\n",
              "      <td>1-16568-A-3.wav</td>\n",
              "      <td>1</td>\n",
              "      <td>3</td>\n",
              "      <td>cow</td>\n",
              "      <td>False</td>\n",
              "      <td>16568</td>\n",
              "      <td>A</td>\n",
              "    </tr>\n",
              "    <tr>\n",
              "      <th>64</th>\n",
              "      <td>1-17585-A-7.wav</td>\n",
              "      <td>1</td>\n",
              "      <td>7</td>\n",
              "      <td>insects</td>\n",
              "      <td>False</td>\n",
              "      <td>17585</td>\n",
              "      <td>A</td>\n",
              "    </tr>\n",
              "    <tr>\n",
              "      <th>69</th>\n",
              "      <td>1-17970-A-4.wav</td>\n",
              "      <td>1</td>\n",
              "      <td>4</td>\n",
              "      <td>frog</td>\n",
              "      <td>False</td>\n",
              "      <td>17970</td>\n",
              "      <td>A</td>\n",
              "    </tr>\n",
              "    <tr>\n",
              "      <th>70</th>\n",
              "      <td>1-18074-A-6.wav</td>\n",
              "      <td>1</td>\n",
              "      <td>6</td>\n",
              "      <td>hen</td>\n",
              "      <td>False</td>\n",
              "      <td>18074</td>\n",
              "      <td>A</td>\n",
              "    </tr>\n",
              "  </tbody>\n",
              "</table>\n",
              "</div>\n",
              "    <div class=\"colab-df-buttons\">\n",
              "\n",
              "  <div class=\"colab-df-container\">\n",
              "    <button class=\"colab-df-convert\" onclick=\"convertToInteractive('df-45ff7f97-ce20-4f0b-8bdd-9d9b24a94ab1')\"\n",
              "            title=\"Convert this dataframe to an interactive table.\"\n",
              "            style=\"display:none;\">\n",
              "\n",
              "  <svg xmlns=\"http://www.w3.org/2000/svg\" height=\"24px\" viewBox=\"0 -960 960 960\">\n",
              "    <path d=\"M120-120v-720h720v720H120Zm60-500h600v-160H180v160Zm220 220h160v-160H400v160Zm0 220h160v-160H400v160ZM180-400h160v-160H180v160Zm440 0h160v-160H620v160ZM180-180h160v-160H180v160Zm440 0h160v-160H620v160Z\"/>\n",
              "  </svg>\n",
              "    </button>\n",
              "\n",
              "  <style>\n",
              "    .colab-df-container {\n",
              "      display:flex;\n",
              "      gap: 12px;\n",
              "    }\n",
              "\n",
              "    .colab-df-convert {\n",
              "      background-color: #E8F0FE;\n",
              "      border: none;\n",
              "      border-radius: 50%;\n",
              "      cursor: pointer;\n",
              "      display: none;\n",
              "      fill: #1967D2;\n",
              "      height: 32px;\n",
              "      padding: 0 0 0 0;\n",
              "      width: 32px;\n",
              "    }\n",
              "\n",
              "    .colab-df-convert:hover {\n",
              "      background-color: #E2EBFA;\n",
              "      box-shadow: 0px 1px 2px rgba(60, 64, 67, 0.3), 0px 1px 3px 1px rgba(60, 64, 67, 0.15);\n",
              "      fill: #174EA6;\n",
              "    }\n",
              "\n",
              "    .colab-df-buttons div {\n",
              "      margin-bottom: 4px;\n",
              "    }\n",
              "\n",
              "    [theme=dark] .colab-df-convert {\n",
              "      background-color: #3B4455;\n",
              "      fill: #D2E3FC;\n",
              "    }\n",
              "\n",
              "    [theme=dark] .colab-df-convert:hover {\n",
              "      background-color: #434B5C;\n",
              "      box-shadow: 0px 1px 3px 1px rgba(0, 0, 0, 0.15);\n",
              "      filter: drop-shadow(0px 1px 2px rgba(0, 0, 0, 0.3));\n",
              "      fill: #FFFFFF;\n",
              "    }\n",
              "  </style>\n",
              "\n",
              "    <script>\n",
              "      const buttonEl =\n",
              "        document.querySelector('#df-45ff7f97-ce20-4f0b-8bdd-9d9b24a94ab1 button.colab-df-convert');\n",
              "      buttonEl.style.display =\n",
              "        google.colab.kernel.accessAllowed ? 'block' : 'none';\n",
              "\n",
              "      async function convertToInteractive(key) {\n",
              "        const element = document.querySelector('#df-45ff7f97-ce20-4f0b-8bdd-9d9b24a94ab1');\n",
              "        const dataTable =\n",
              "          await google.colab.kernel.invokeFunction('convertToInteractive',\n",
              "                                                    [key], {});\n",
              "        if (!dataTable) return;\n",
              "\n",
              "        const docLinkHtml = 'Like what you see? Visit the ' +\n",
              "          '<a target=\"_blank\" href=https://colab.research.google.com/notebooks/data_table.ipynb>data table notebook</a>'\n",
              "          + ' to learn more about interactive tables.';\n",
              "        element.innerHTML = '';\n",
              "        dataTable['output_type'] = 'display_data';\n",
              "        await google.colab.output.renderOutput(dataTable, element);\n",
              "        const docLink = document.createElement('div');\n",
              "        docLink.innerHTML = docLinkHtml;\n",
              "        element.appendChild(docLink);\n",
              "      }\n",
              "    </script>\n",
              "  </div>\n",
              "\n",
              "\n",
              "<div id=\"df-714d2a10-97ca-4f5f-bf4c-1e76453ae386\">\n",
              "  <button class=\"colab-df-quickchart\" onclick=\"quickchart('df-714d2a10-97ca-4f5f-bf4c-1e76453ae386')\"\n",
              "            title=\"Suggest charts\"\n",
              "            style=\"display:none;\">\n",
              "\n",
              "<svg xmlns=\"http://www.w3.org/2000/svg\" height=\"24px\"viewBox=\"0 0 24 24\"\n",
              "     width=\"24px\">\n",
              "    <g>\n",
              "        <path d=\"M19 3H5c-1.1 0-2 .9-2 2v14c0 1.1.9 2 2 2h14c1.1 0 2-.9 2-2V5c0-1.1-.9-2-2-2zM9 17H7v-7h2v7zm4 0h-2V7h2v10zm4 0h-2v-4h2v4z\"/>\n",
              "    </g>\n",
              "</svg>\n",
              "  </button>\n",
              "\n",
              "<style>\n",
              "  .colab-df-quickchart {\n",
              "      --bg-color: #E8F0FE;\n",
              "      --fill-color: #1967D2;\n",
              "      --hover-bg-color: #E2EBFA;\n",
              "      --hover-fill-color: #174EA6;\n",
              "      --disabled-fill-color: #AAA;\n",
              "      --disabled-bg-color: #DDD;\n",
              "  }\n",
              "\n",
              "  [theme=dark] .colab-df-quickchart {\n",
              "      --bg-color: #3B4455;\n",
              "      --fill-color: #D2E3FC;\n",
              "      --hover-bg-color: #434B5C;\n",
              "      --hover-fill-color: #FFFFFF;\n",
              "      --disabled-bg-color: #3B4455;\n",
              "      --disabled-fill-color: #666;\n",
              "  }\n",
              "\n",
              "  .colab-df-quickchart {\n",
              "    background-color: var(--bg-color);\n",
              "    border: none;\n",
              "    border-radius: 50%;\n",
              "    cursor: pointer;\n",
              "    display: none;\n",
              "    fill: var(--fill-color);\n",
              "    height: 32px;\n",
              "    padding: 0;\n",
              "    width: 32px;\n",
              "  }\n",
              "\n",
              "  .colab-df-quickchart:hover {\n",
              "    background-color: var(--hover-bg-color);\n",
              "    box-shadow: 0 1px 2px rgba(60, 64, 67, 0.3), 0 1px 3px 1px rgba(60, 64, 67, 0.15);\n",
              "    fill: var(--button-hover-fill-color);\n",
              "  }\n",
              "\n",
              "  .colab-df-quickchart-complete:disabled,\n",
              "  .colab-df-quickchart-complete:disabled:hover {\n",
              "    background-color: var(--disabled-bg-color);\n",
              "    fill: var(--disabled-fill-color);\n",
              "    box-shadow: none;\n",
              "  }\n",
              "\n",
              "  .colab-df-spinner {\n",
              "    border: 2px solid var(--fill-color);\n",
              "    border-color: transparent;\n",
              "    border-bottom-color: var(--fill-color);\n",
              "    animation:\n",
              "      spin 1s steps(1) infinite;\n",
              "  }\n",
              "\n",
              "  @keyframes spin {\n",
              "    0% {\n",
              "      border-color: transparent;\n",
              "      border-bottom-color: var(--fill-color);\n",
              "      border-left-color: var(--fill-color);\n",
              "    }\n",
              "    20% {\n",
              "      border-color: transparent;\n",
              "      border-left-color: var(--fill-color);\n",
              "      border-top-color: var(--fill-color);\n",
              "    }\n",
              "    30% {\n",
              "      border-color: transparent;\n",
              "      border-left-color: var(--fill-color);\n",
              "      border-top-color: var(--fill-color);\n",
              "      border-right-color: var(--fill-color);\n",
              "    }\n",
              "    40% {\n",
              "      border-color: transparent;\n",
              "      border-right-color: var(--fill-color);\n",
              "      border-top-color: var(--fill-color);\n",
              "    }\n",
              "    60% {\n",
              "      border-color: transparent;\n",
              "      border-right-color: var(--fill-color);\n",
              "    }\n",
              "    80% {\n",
              "      border-color: transparent;\n",
              "      border-right-color: var(--fill-color);\n",
              "      border-bottom-color: var(--fill-color);\n",
              "    }\n",
              "    90% {\n",
              "      border-color: transparent;\n",
              "      border-bottom-color: var(--fill-color);\n",
              "    }\n",
              "  }\n",
              "</style>\n",
              "\n",
              "  <script>\n",
              "    async function quickchart(key) {\n",
              "      const quickchartButtonEl =\n",
              "        document.querySelector('#' + key + ' button');\n",
              "      quickchartButtonEl.disabled = true;  // To prevent multiple clicks.\n",
              "      quickchartButtonEl.classList.add('colab-df-spinner');\n",
              "      try {\n",
              "        const charts = await google.colab.kernel.invokeFunction(\n",
              "            'suggestCharts', [key], {});\n",
              "      } catch (error) {\n",
              "        console.error('Error during call to suggestCharts:', error);\n",
              "      }\n",
              "      quickchartButtonEl.classList.remove('colab-df-spinner');\n",
              "      quickchartButtonEl.classList.add('colab-df-quickchart-complete');\n",
              "    }\n",
              "    (() => {\n",
              "      let quickchartButtonEl =\n",
              "        document.querySelector('#df-714d2a10-97ca-4f5f-bf4c-1e76453ae386 button');\n",
              "      quickchartButtonEl.style.display =\n",
              "        google.colab.kernel.accessAllowed ? 'block' : 'none';\n",
              "    })();\n",
              "  </script>\n",
              "</div>\n",
              "\n",
              "    </div>\n",
              "  </div>\n"
            ],
            "application/vnd.google.colaboratory.intrinsic+json": {
              "type": "dataframe",
              "variable_name": "esc50_animals",
              "summary": "{\n  \"name\": \"esc50_animals\",\n  \"rows\": 400,\n  \"fields\": [\n    {\n      \"column\": \"filename\",\n      \"properties\": {\n        \"dtype\": \"string\",\n        \"num_unique_values\": 400,\n        \"samples\": [\n          \"3-171281-A-6.wav\",\n          \"4-183992-A-0.wav\",\n          \"1-31836-B-4.wav\"\n        ],\n        \"semantic_type\": \"\",\n        \"description\": \"\"\n      }\n    },\n    {\n      \"column\": \"fold\",\n      \"properties\": {\n        \"dtype\": \"number\",\n        \"std\": 1,\n        \"min\": 1,\n        \"max\": 5,\n        \"num_unique_values\": 5,\n        \"samples\": [\n          2,\n          5,\n          3\n        ],\n        \"semantic_type\": \"\",\n        \"description\": \"\"\n      }\n    },\n    {\n      \"column\": \"target\",\n      \"properties\": {\n        \"dtype\": \"number\",\n        \"std\": 2,\n        \"min\": 0,\n        \"max\": 9,\n        \"num_unique_values\": 10,\n        \"samples\": [\n          1,\n          9,\n          7\n        ],\n        \"semantic_type\": \"\",\n        \"description\": \"\"\n      }\n    },\n    {\n      \"column\": \"category\",\n      \"properties\": {\n        \"dtype\": \"category\",\n        \"num_unique_values\": 10,\n        \"samples\": [\n          \"rooster\",\n          \"crow\",\n          \"insects\"\n        ],\n        \"semantic_type\": \"\",\n        \"description\": \"\"\n      }\n    },\n    {\n      \"column\": \"esc10\",\n      \"properties\": {\n        \"dtype\": \"boolean\",\n        \"num_unique_values\": 2,\n        \"samples\": [\n          false,\n          true\n        ],\n        \"semantic_type\": \"\",\n        \"description\": \"\"\n      }\n    },\n    {\n      \"column\": \"src_file\",\n      \"properties\": {\n        \"dtype\": \"number\",\n        \"std\": 65852,\n        \"min\": 5996,\n        \"max\": 263831,\n        \"num_unique_values\": 267,\n        \"samples\": [\n          134049,\n          75189\n        ],\n        \"semantic_type\": \"\",\n        \"description\": \"\"\n      }\n    },\n    {\n      \"column\": \"take\",\n      \"properties\": {\n        \"dtype\": \"category\",\n        \"num_unique_values\": 5,\n        \"samples\": [\n          \"B\",\n          \"E\"\n        ],\n        \"semantic_type\": \"\",\n        \"description\": \"\"\n      }\n    }\n  ]\n}"
            }
          },
          "metadata": {},
          "execution_count": 10
        }
      ]
    },
    {
      "cell_type": "code",
      "source": [
        "def preprocess_wav(filename, target_sr=16000):\n",
        "    filename = 'audio/' + filename\n",
        "    # Load the .wav file using librosa\n",
        "    audio, sampling_rate = librosa.load(filename, sr=None)\n",
        "\n",
        "    # Resample to target sample rate (16kHz)\n",
        "    audio = librosa.resample(audio, orig_sr=sampling_rate, target_sr=target_sr)\n",
        "\n",
        "    # If audio has more than 1 channel, convert to mono\n",
        "    if len(audio.shape) > 1:\n",
        "        audio = librosa.to_mono(audio)\n",
        "\n",
        "    # Convert to float32 TensorFlow tensor\n",
        "    audio_tensor = tf.convert_to_tensor(audio, dtype=tf.float32)\n",
        "\n",
        "    return audio_tensor"
      ],
      "metadata": {
        "id": "B24lA4a-npoS"
      },
      "execution_count": 11,
      "outputs": []
    },
    {
      "cell_type": "code",
      "source": [
        "# @tf.function\n",
        "# def load_wav_16k_mono(filename):\n",
        "#     \"\"\" Load a WAV file, convert it to a float tensor, resample to 16 kHz single-channel audio. \"\"\"\n",
        "#     file_contents = tf.io.read_file(filename)\n",
        "#     wav, sample_rate = tf.audio.decode_wav(\n",
        "#           file_contents,\n",
        "#           desired_channels=1)\n",
        "#     wav = tf.squeeze(wav, axis=-1)\n",
        "#     sample_rate = tf.cast(sample_rate, dtype=tf.int64)\n",
        "#     wav = tfio.audio.resample(wav, rate_in=sample_rate, rate_out=16000)\n",
        "#     return wav"
      ],
      "metadata": {
        "id": "bL-IotE7sLgB"
      },
      "execution_count": 12,
      "outputs": []
    },
    {
      "cell_type": "markdown",
      "source": [
        "# YAMNet"
      ],
      "metadata": {
        "id": "3FUzQpxFmLCk"
      }
    },
    {
      "cell_type": "code",
      "execution_count": 13,
      "metadata": {
        "id": "VHt2rorjnRFr"
      },
      "outputs": [],
      "source": [
        "yamnet_model_handle = 'https://tfhub.dev/google/yamnet/1'\n",
        "yamnet = hub.load(yamnet_model_handle)"
      ]
    },
    {
      "cell_type": "code",
      "source": [
        "# get a sample .wav file\n",
        "sample_file = esc50_animals.iloc[0]['filename']\n",
        "esc_single_waveform = preprocess_wav(sample_file)\n",
        "\n",
        "# # plot and display\n",
        "# _ = plt.plot(esc_single_waveform)\n",
        "# display.Audio(esc_single_waveform, rate=16000)\n",
        "\n",
        "esc_single_waveform.shape"
      ],
      "metadata": {
        "id": "UBqou94-oE_j",
        "colab": {
          "base_uri": "https://localhost:8080/"
        },
        "outputId": "48fe7407-bbd8-4f09-da62-b7adad6a045b"
      },
      "execution_count": 14,
      "outputs": [
        {
          "output_type": "execute_result",
          "data": {
            "text/plain": [
              "TensorShape([80000])"
            ]
          },
          "metadata": {},
          "execution_count": 14
        }
      ]
    },
    {
      "cell_type": "code",
      "source": [
        "class_map_path = yamnet.class_map_path().numpy().decode('utf-8')\n",
        "class_names =list(pd.read_csv(class_map_path)['display_name'])"
      ],
      "metadata": {
        "id": "_QEHfmUZo0AL"
      },
      "execution_count": 15,
      "outputs": []
    },
    {
      "cell_type": "code",
      "source": [
        "# to find the top-scored class, take the maximum of the 521 aggregated scores.\n",
        "scores, embeddings, spectrogram = yamnet(esc_single_waveform)\n",
        "scores_np = scores.numpy()\n",
        "spectrogram_np = spectrogram.numpy()\n",
        "infered_class = class_names[scores_np.mean(axis=0).argmax()]\n",
        "print(f'The main sound is: {infered_class}')"
      ],
      "metadata": {
        "id": "pwEvBP05o7uP",
        "colab": {
          "base_uri": "https://localhost:8080/"
        },
        "outputId": "c0d956ce-3bdc-4413-d97f-110cee824f7a"
      },
      "execution_count": 16,
      "outputs": [
        {
          "output_type": "stream",
          "name": "stdout",
          "text": [
            "The main sound is: Silence\n"
          ]
        }
      ]
    },
    {
      "cell_type": "code",
      "source": [
        "# results = []\n",
        "\n",
        "# # for each file in the esc50_animals\n",
        "# for index, row in esc50_animals.iterrows():\n",
        "\n",
        "#     #preprocess\n",
        "#     filename = row['filename']\n",
        "#     wav = preprocess_wav(filename)\n",
        "\n",
        "#     #run yamnet\n",
        "#     scores, embeddings, spectrogram = yamnet(wav)\n",
        "\n",
        "#     # convert scores to numpy array and find the inferred class\n",
        "#     scores_np = scores.numpy()\n",
        "#     predicted = class_names[scores_np.mean(axis=0).argmax()]\n",
        "\n",
        "#     # Store the result\n",
        "#     results.append({\n",
        "#         #'filename': filename,\n",
        "#         'predicted class': predicted.lower(),\n",
        "#         'true class': row['category']\n",
        "#     })\n",
        "\n",
        "# results_df = pd.DataFrame(results)"
      ],
      "metadata": {
        "id": "TvQr1Ruo5Yw_"
      },
      "execution_count": 17,
      "outputs": []
    },
    {
      "cell_type": "code",
      "source": [
        "# results_df.head(20)"
      ],
      "metadata": {
        "id": "w7p5XPSh6rh2"
      },
      "execution_count": 18,
      "outputs": []
    },
    {
      "cell_type": "markdown",
      "source": [
        "# Sequential Model"
      ],
      "metadata": {
        "id": "RRKR2-WM4fNz"
      }
    },
    {
      "cell_type": "code",
      "source": [
        "class_map_path = yamnet.class_map_path().numpy().decode('utf-8')\n",
        "class_names =list(pd.read_csv(class_map_path)['display_name'])"
      ],
      "metadata": {
        "id": "BGeKIM1uJVwi"
      },
      "execution_count": 19,
      "outputs": []
    },
    {
      "cell_type": "code",
      "source": [
        "animals = ['dog', 'rooster', 'pig', 'cow', 'frog', 'cat', 'hen', 'insects', 'sheep', 'crow']\n",
        "map_class_to_id = {'dog':0,'rooster':1, 'pig':2, 'cow':3, 'frog':4, 'cat':5, 'hen':6, 'insects':7, 'sheep':8, 'crow':9}\n",
        "\n",
        "esc50_animals = esc50_data[esc50_data.category.isin(animals)]\n",
        "\n",
        "class_id = esc50_animals['category'].apply(lambda name: map_class_to_id[name])\n",
        "esc50_animals = esc50_animals.assign(target=class_id)\n",
        "\n",
        "esc50_animals.head(5)"
      ],
      "metadata": {
        "id": "5_8XWe9DJWm-",
        "colab": {
          "base_uri": "https://localhost:8080/",
          "height": 309
        },
        "outputId": "cd80a7ee-9ea0-4621-b91e-3c4319bb3692"
      },
      "execution_count": 20,
      "outputs": [
        {
          "output_type": "execute_result",
          "data": {
            "text/plain": [
              "            filename  fold  target category  esc10  src_file take\n",
              "0   1-100032-A-0.wav     1       0      dog   True    100032    A\n",
              "8   1-103298-A-9.wav     1       9     crow  False    103298    A\n",
              "14  1-110389-A-0.wav     1       0      dog   True    110389    A\n",
              "29  1-121951-A-8.wav     1       8    sheep  False    121951    A\n",
              "45   1-15689-A-4.wav     1       4     frog  False     15689    A"
            ],
            "text/html": [
              "\n",
              "  <div id=\"df-95bbac9a-2efd-4c63-b1b9-b322b3c791d5\" class=\"colab-df-container\">\n",
              "    <div>\n",
              "<style scoped>\n",
              "    .dataframe tbody tr th:only-of-type {\n",
              "        vertical-align: middle;\n",
              "    }\n",
              "\n",
              "    .dataframe tbody tr th {\n",
              "        vertical-align: top;\n",
              "    }\n",
              "\n",
              "    .dataframe thead th {\n",
              "        text-align: right;\n",
              "    }\n",
              "</style>\n",
              "<table border=\"1\" class=\"dataframe\">\n",
              "  <thead>\n",
              "    <tr style=\"text-align: right;\">\n",
              "      <th></th>\n",
              "      <th>filename</th>\n",
              "      <th>fold</th>\n",
              "      <th>target</th>\n",
              "      <th>category</th>\n",
              "      <th>esc10</th>\n",
              "      <th>src_file</th>\n",
              "      <th>take</th>\n",
              "    </tr>\n",
              "  </thead>\n",
              "  <tbody>\n",
              "    <tr>\n",
              "      <th>0</th>\n",
              "      <td>1-100032-A-0.wav</td>\n",
              "      <td>1</td>\n",
              "      <td>0</td>\n",
              "      <td>dog</td>\n",
              "      <td>True</td>\n",
              "      <td>100032</td>\n",
              "      <td>A</td>\n",
              "    </tr>\n",
              "    <tr>\n",
              "      <th>8</th>\n",
              "      <td>1-103298-A-9.wav</td>\n",
              "      <td>1</td>\n",
              "      <td>9</td>\n",
              "      <td>crow</td>\n",
              "      <td>False</td>\n",
              "      <td>103298</td>\n",
              "      <td>A</td>\n",
              "    </tr>\n",
              "    <tr>\n",
              "      <th>14</th>\n",
              "      <td>1-110389-A-0.wav</td>\n",
              "      <td>1</td>\n",
              "      <td>0</td>\n",
              "      <td>dog</td>\n",
              "      <td>True</td>\n",
              "      <td>110389</td>\n",
              "      <td>A</td>\n",
              "    </tr>\n",
              "    <tr>\n",
              "      <th>29</th>\n",
              "      <td>1-121951-A-8.wav</td>\n",
              "      <td>1</td>\n",
              "      <td>8</td>\n",
              "      <td>sheep</td>\n",
              "      <td>False</td>\n",
              "      <td>121951</td>\n",
              "      <td>A</td>\n",
              "    </tr>\n",
              "    <tr>\n",
              "      <th>45</th>\n",
              "      <td>1-15689-A-4.wav</td>\n",
              "      <td>1</td>\n",
              "      <td>4</td>\n",
              "      <td>frog</td>\n",
              "      <td>False</td>\n",
              "      <td>15689</td>\n",
              "      <td>A</td>\n",
              "    </tr>\n",
              "  </tbody>\n",
              "</table>\n",
              "</div>\n",
              "    <div class=\"colab-df-buttons\">\n",
              "\n",
              "  <div class=\"colab-df-container\">\n",
              "    <button class=\"colab-df-convert\" onclick=\"convertToInteractive('df-95bbac9a-2efd-4c63-b1b9-b322b3c791d5')\"\n",
              "            title=\"Convert this dataframe to an interactive table.\"\n",
              "            style=\"display:none;\">\n",
              "\n",
              "  <svg xmlns=\"http://www.w3.org/2000/svg\" height=\"24px\" viewBox=\"0 -960 960 960\">\n",
              "    <path d=\"M120-120v-720h720v720H120Zm60-500h600v-160H180v160Zm220 220h160v-160H400v160Zm0 220h160v-160H400v160ZM180-400h160v-160H180v160Zm440 0h160v-160H620v160ZM180-180h160v-160H180v160Zm440 0h160v-160H620v160Z\"/>\n",
              "  </svg>\n",
              "    </button>\n",
              "\n",
              "  <style>\n",
              "    .colab-df-container {\n",
              "      display:flex;\n",
              "      gap: 12px;\n",
              "    }\n",
              "\n",
              "    .colab-df-convert {\n",
              "      background-color: #E8F0FE;\n",
              "      border: none;\n",
              "      border-radius: 50%;\n",
              "      cursor: pointer;\n",
              "      display: none;\n",
              "      fill: #1967D2;\n",
              "      height: 32px;\n",
              "      padding: 0 0 0 0;\n",
              "      width: 32px;\n",
              "    }\n",
              "\n",
              "    .colab-df-convert:hover {\n",
              "      background-color: #E2EBFA;\n",
              "      box-shadow: 0px 1px 2px rgba(60, 64, 67, 0.3), 0px 1px 3px 1px rgba(60, 64, 67, 0.15);\n",
              "      fill: #174EA6;\n",
              "    }\n",
              "\n",
              "    .colab-df-buttons div {\n",
              "      margin-bottom: 4px;\n",
              "    }\n",
              "\n",
              "    [theme=dark] .colab-df-convert {\n",
              "      background-color: #3B4455;\n",
              "      fill: #D2E3FC;\n",
              "    }\n",
              "\n",
              "    [theme=dark] .colab-df-convert:hover {\n",
              "      background-color: #434B5C;\n",
              "      box-shadow: 0px 1px 3px 1px rgba(0, 0, 0, 0.15);\n",
              "      filter: drop-shadow(0px 1px 2px rgba(0, 0, 0, 0.3));\n",
              "      fill: #FFFFFF;\n",
              "    }\n",
              "  </style>\n",
              "\n",
              "    <script>\n",
              "      const buttonEl =\n",
              "        document.querySelector('#df-95bbac9a-2efd-4c63-b1b9-b322b3c791d5 button.colab-df-convert');\n",
              "      buttonEl.style.display =\n",
              "        google.colab.kernel.accessAllowed ? 'block' : 'none';\n",
              "\n",
              "      async function convertToInteractive(key) {\n",
              "        const element = document.querySelector('#df-95bbac9a-2efd-4c63-b1b9-b322b3c791d5');\n",
              "        const dataTable =\n",
              "          await google.colab.kernel.invokeFunction('convertToInteractive',\n",
              "                                                    [key], {});\n",
              "        if (!dataTable) return;\n",
              "\n",
              "        const docLinkHtml = 'Like what you see? Visit the ' +\n",
              "          '<a target=\"_blank\" href=https://colab.research.google.com/notebooks/data_table.ipynb>data table notebook</a>'\n",
              "          + ' to learn more about interactive tables.';\n",
              "        element.innerHTML = '';\n",
              "        dataTable['output_type'] = 'display_data';\n",
              "        await google.colab.output.renderOutput(dataTable, element);\n",
              "        const docLink = document.createElement('div');\n",
              "        docLink.innerHTML = docLinkHtml;\n",
              "        element.appendChild(docLink);\n",
              "      }\n",
              "    </script>\n",
              "  </div>\n",
              "\n",
              "\n",
              "<div id=\"df-e050d2bd-5f91-4e2f-8280-e380c0b88976\">\n",
              "  <button class=\"colab-df-quickchart\" onclick=\"quickchart('df-e050d2bd-5f91-4e2f-8280-e380c0b88976')\"\n",
              "            title=\"Suggest charts\"\n",
              "            style=\"display:none;\">\n",
              "\n",
              "<svg xmlns=\"http://www.w3.org/2000/svg\" height=\"24px\"viewBox=\"0 0 24 24\"\n",
              "     width=\"24px\">\n",
              "    <g>\n",
              "        <path d=\"M19 3H5c-1.1 0-2 .9-2 2v14c0 1.1.9 2 2 2h14c1.1 0 2-.9 2-2V5c0-1.1-.9-2-2-2zM9 17H7v-7h2v7zm4 0h-2V7h2v10zm4 0h-2v-4h2v4z\"/>\n",
              "    </g>\n",
              "</svg>\n",
              "  </button>\n",
              "\n",
              "<style>\n",
              "  .colab-df-quickchart {\n",
              "      --bg-color: #E8F0FE;\n",
              "      --fill-color: #1967D2;\n",
              "      --hover-bg-color: #E2EBFA;\n",
              "      --hover-fill-color: #174EA6;\n",
              "      --disabled-fill-color: #AAA;\n",
              "      --disabled-bg-color: #DDD;\n",
              "  }\n",
              "\n",
              "  [theme=dark] .colab-df-quickchart {\n",
              "      --bg-color: #3B4455;\n",
              "      --fill-color: #D2E3FC;\n",
              "      --hover-bg-color: #434B5C;\n",
              "      --hover-fill-color: #FFFFFF;\n",
              "      --disabled-bg-color: #3B4455;\n",
              "      --disabled-fill-color: #666;\n",
              "  }\n",
              "\n",
              "  .colab-df-quickchart {\n",
              "    background-color: var(--bg-color);\n",
              "    border: none;\n",
              "    border-radius: 50%;\n",
              "    cursor: pointer;\n",
              "    display: none;\n",
              "    fill: var(--fill-color);\n",
              "    height: 32px;\n",
              "    padding: 0;\n",
              "    width: 32px;\n",
              "  }\n",
              "\n",
              "  .colab-df-quickchart:hover {\n",
              "    background-color: var(--hover-bg-color);\n",
              "    box-shadow: 0 1px 2px rgba(60, 64, 67, 0.3), 0 1px 3px 1px rgba(60, 64, 67, 0.15);\n",
              "    fill: var(--button-hover-fill-color);\n",
              "  }\n",
              "\n",
              "  .colab-df-quickchart-complete:disabled,\n",
              "  .colab-df-quickchart-complete:disabled:hover {\n",
              "    background-color: var(--disabled-bg-color);\n",
              "    fill: var(--disabled-fill-color);\n",
              "    box-shadow: none;\n",
              "  }\n",
              "\n",
              "  .colab-df-spinner {\n",
              "    border: 2px solid var(--fill-color);\n",
              "    border-color: transparent;\n",
              "    border-bottom-color: var(--fill-color);\n",
              "    animation:\n",
              "      spin 1s steps(1) infinite;\n",
              "  }\n",
              "\n",
              "  @keyframes spin {\n",
              "    0% {\n",
              "      border-color: transparent;\n",
              "      border-bottom-color: var(--fill-color);\n",
              "      border-left-color: var(--fill-color);\n",
              "    }\n",
              "    20% {\n",
              "      border-color: transparent;\n",
              "      border-left-color: var(--fill-color);\n",
              "      border-top-color: var(--fill-color);\n",
              "    }\n",
              "    30% {\n",
              "      border-color: transparent;\n",
              "      border-left-color: var(--fill-color);\n",
              "      border-top-color: var(--fill-color);\n",
              "      border-right-color: var(--fill-color);\n",
              "    }\n",
              "    40% {\n",
              "      border-color: transparent;\n",
              "      border-right-color: var(--fill-color);\n",
              "      border-top-color: var(--fill-color);\n",
              "    }\n",
              "    60% {\n",
              "      border-color: transparent;\n",
              "      border-right-color: var(--fill-color);\n",
              "    }\n",
              "    80% {\n",
              "      border-color: transparent;\n",
              "      border-right-color: var(--fill-color);\n",
              "      border-bottom-color: var(--fill-color);\n",
              "    }\n",
              "    90% {\n",
              "      border-color: transparent;\n",
              "      border-bottom-color: var(--fill-color);\n",
              "    }\n",
              "  }\n",
              "</style>\n",
              "\n",
              "  <script>\n",
              "    async function quickchart(key) {\n",
              "      const quickchartButtonEl =\n",
              "        document.querySelector('#' + key + ' button');\n",
              "      quickchartButtonEl.disabled = true;  // To prevent multiple clicks.\n",
              "      quickchartButtonEl.classList.add('colab-df-spinner');\n",
              "      try {\n",
              "        const charts = await google.colab.kernel.invokeFunction(\n",
              "            'suggestCharts', [key], {});\n",
              "      } catch (error) {\n",
              "        console.error('Error during call to suggestCharts:', error);\n",
              "      }\n",
              "      quickchartButtonEl.classList.remove('colab-df-spinner');\n",
              "      quickchartButtonEl.classList.add('colab-df-quickchart-complete');\n",
              "    }\n",
              "    (() => {\n",
              "      let quickchartButtonEl =\n",
              "        document.querySelector('#df-e050d2bd-5f91-4e2f-8280-e380c0b88976 button');\n",
              "      quickchartButtonEl.style.display =\n",
              "        google.colab.kernel.accessAllowed ? 'block' : 'none';\n",
              "    })();\n",
              "  </script>\n",
              "</div>\n",
              "\n",
              "    </div>\n",
              "  </div>\n"
            ],
            "application/vnd.google.colaboratory.intrinsic+json": {
              "type": "dataframe",
              "variable_name": "esc50_animals",
              "summary": "{\n  \"name\": \"esc50_animals\",\n  \"rows\": 400,\n  \"fields\": [\n    {\n      \"column\": \"filename\",\n      \"properties\": {\n        \"dtype\": \"string\",\n        \"num_unique_values\": 400,\n        \"samples\": [\n          \"3-171281-A-6.wav\",\n          \"4-183992-A-0.wav\",\n          \"1-31836-B-4.wav\"\n        ],\n        \"semantic_type\": \"\",\n        \"description\": \"\"\n      }\n    },\n    {\n      \"column\": \"fold\",\n      \"properties\": {\n        \"dtype\": \"number\",\n        \"std\": 1,\n        \"min\": 1,\n        \"max\": 5,\n        \"num_unique_values\": 5,\n        \"samples\": [\n          2,\n          5,\n          3\n        ],\n        \"semantic_type\": \"\",\n        \"description\": \"\"\n      }\n    },\n    {\n      \"column\": \"target\",\n      \"properties\": {\n        \"dtype\": \"number\",\n        \"std\": 2,\n        \"min\": 0,\n        \"max\": 9,\n        \"num_unique_values\": 10,\n        \"samples\": [\n          1,\n          9,\n          7\n        ],\n        \"semantic_type\": \"\",\n        \"description\": \"\"\n      }\n    },\n    {\n      \"column\": \"category\",\n      \"properties\": {\n        \"dtype\": \"category\",\n        \"num_unique_values\": 10,\n        \"samples\": [\n          \"rooster\",\n          \"crow\",\n          \"insects\"\n        ],\n        \"semantic_type\": \"\",\n        \"description\": \"\"\n      }\n    },\n    {\n      \"column\": \"esc10\",\n      \"properties\": {\n        \"dtype\": \"boolean\",\n        \"num_unique_values\": 2,\n        \"samples\": [\n          false,\n          true\n        ],\n        \"semantic_type\": \"\",\n        \"description\": \"\"\n      }\n    },\n    {\n      \"column\": \"src_file\",\n      \"properties\": {\n        \"dtype\": \"number\",\n        \"std\": 65852,\n        \"min\": 5996,\n        \"max\": 263831,\n        \"num_unique_values\": 267,\n        \"samples\": [\n          134049,\n          75189\n        ],\n        \"semantic_type\": \"\",\n        \"description\": \"\"\n      }\n    },\n    {\n      \"column\": \"take\",\n      \"properties\": {\n        \"dtype\": \"category\",\n        \"num_unique_values\": 5,\n        \"samples\": [\n          \"B\",\n          \"E\"\n        ],\n        \"semantic_type\": \"\",\n        \"description\": \"\"\n      }\n    }\n  ]\n}"
            }
          },
          "metadata": {},
          "execution_count": 20
        }
      ]
    },
    {
      "cell_type": "code",
      "source": [
        "# convert columns to numpy arrays\n",
        "filenames = esc50_animals['filename']\n",
        "targets = esc50_animals['target']\n",
        "folds = esc50_animals['fold']\n",
        "\n",
        "esc50 = tf.data.Dataset.from_tensor_slices((filenames, targets, folds))\n",
        "esc50.element_spec"
      ],
      "metadata": {
        "id": "0wPb2vegphGt",
        "colab": {
          "base_uri": "https://localhost:8080/"
        },
        "outputId": "f1295f80-210c-4423-85ae-99a043881b66"
      },
      "execution_count": 21,
      "outputs": [
        {
          "output_type": "execute_result",
          "data": {
            "text/plain": [
              "(TensorSpec(shape=(), dtype=tf.string, name=None),\n",
              " TensorSpec(shape=(), dtype=tf.int64, name=None),\n",
              " TensorSpec(shape=(), dtype=tf.int64, name=None))"
            ]
          },
          "metadata": {},
          "execution_count": 21
        }
      ]
    },
    {
      "cell_type": "code",
      "source": [
        "# def load_wav_for_map(filename, label, fold):\n",
        "#     return preprocess_wav(filename), label, fold\n",
        "\n",
        "# esc50 = esc50.map(load_wav_for_map)\n",
        "# esc50.element_spec"
      ],
      "metadata": {
        "id": "sl96xsu-OCFF"
      },
      "execution_count": 22,
      "outputs": []
    },
    {
      "cell_type": "code",
      "source": [
        "def load_wav_for_map(filename, label, fold):\n",
        "    def _load_wav(filename):\n",
        "        filename_str = filename.numpy().decode('utf-8')\n",
        "        return preprocess_wav(filename_str)\n",
        "\n",
        "    # wrap the python-based _load_wav function\n",
        "    audio = tf.py_function(_load_wav, [filename], tf.float32)\n",
        "    return audio, label, fold\n",
        "\n",
        "esc50 = esc50.map(load_wav_for_map)\n",
        "esc50.element_spec"
      ],
      "metadata": {
        "id": "-2gh4nbapqY6",
        "colab": {
          "base_uri": "https://localhost:8080/"
        },
        "outputId": "494bfcb1-bd65-43c9-8c1f-3bd88865414d"
      },
      "execution_count": 23,
      "outputs": [
        {
          "output_type": "execute_result",
          "data": {
            "text/plain": [
              "(TensorSpec(shape=<unknown>, dtype=tf.float32, name=None),\n",
              " TensorSpec(shape=(), dtype=tf.int64, name=None),\n",
              " TensorSpec(shape=(), dtype=tf.int64, name=None))"
            ]
          },
          "metadata": {},
          "execution_count": 23
        }
      ]
    },
    {
      "cell_type": "code",
      "source": [
        "# applies the embedding extraction model to a wav data\n",
        "def extract_embedding(wav_data, label, fold):\n",
        "  # run YAMNet to extract embedding from the wav data\n",
        "  scores, embeddings, spectrogram = yamnet(wav_data)\n",
        "  num_embeddings = tf.shape(embeddings)[0]\n",
        "  return (embeddings,\n",
        "            tf.repeat(label, num_embeddings),\n",
        "            tf.repeat(fold, num_embeddings))\n",
        "\n",
        "# extract embedding\n",
        "esc50 = esc50.map(extract_embedding).unbatch()\n",
        "esc50.element_spec"
      ],
      "metadata": {
        "id": "VXcdgUzsuCUr",
        "colab": {
          "base_uri": "https://localhost:8080/"
        },
        "outputId": "03c0ff69-162f-416d-a014-2f72e962820e"
      },
      "execution_count": 24,
      "outputs": [
        {
          "output_type": "execute_result",
          "data": {
            "text/plain": [
              "(TensorSpec(shape=(1024,), dtype=tf.float32, name=None),\n",
              " TensorSpec(shape=(), dtype=tf.int64, name=None),\n",
              " TensorSpec(shape=(), dtype=tf.int64, name=None))"
            ]
          },
          "metadata": {},
          "execution_count": 24
        }
      ]
    },
    {
      "cell_type": "code",
      "source": [
        "# clips from the same original source should always be in the same fold\n",
        "cached_ds = esc50.cache()\n",
        "train_ds = cached_ds.filter(lambda embedding, label, fold: fold < 4)\n",
        "val_ds = cached_ds.filter(lambda embedding, label, fold: fold == 4)\n",
        "test_ds = cached_ds.filter(lambda embedding, label, fold: fold == 5)"
      ],
      "metadata": {
        "id": "kMoeHAHm0ohR"
      },
      "execution_count": 25,
      "outputs": []
    },
    {
      "cell_type": "code",
      "source": [
        "# remove the folds column now that it's not needed anymore\n",
        "remove_fold_column = lambda embedding, label, fold: (embedding, label)\n",
        "\n",
        "train_ds = train_ds.map(remove_fold_column)\n",
        "val_ds = val_ds.map(remove_fold_column)\n",
        "test_ds = test_ds.map(remove_fold_column)\n",
        "\n",
        "train_ds = train_ds.cache().shuffle(1000).batch(32).prefetch(tf.data.AUTOTUNE)\n",
        "val_ds = val_ds.cache().batch(32).prefetch(tf.data.AUTOTUNE)\n",
        "test_ds = test_ds.cache().batch(32).prefetch(tf.data.AUTOTUNE)"
      ],
      "metadata": {
        "id": "qJiK2efpxgxA"
      },
      "execution_count": 26,
      "outputs": []
    },
    {
      "cell_type": "code",
      "source": [
        "num_classes = len(animals)\n",
        "\n",
        "my_model = keras.Sequential([\n",
        "    keras.layers.Input(shape=(1024,), dtype=tf.float32, name='input_embedding'),\n",
        "    keras.layers.Dense(512, activation='relu'),\n",
        "    keras.layers.Dense(num_classes)\n",
        "], name='my_model')\n",
        "\n",
        "#my_model.summary()"
      ],
      "metadata": {
        "id": "mcKvTzFS0mqD"
      },
      "execution_count": 27,
      "outputs": []
    },
    {
      "cell_type": "code",
      "source": [
        "my_model.compile(loss=keras.losses.SparseCategoricalCrossentropy(from_logits=True),\n",
        "                 optimizer=\"adam\",\n",
        "                 metrics=['accuracy'])\n",
        "\n",
        "callback = keras.callbacks.EarlyStopping(monitor='loss',\n",
        "                                            patience=3,\n",
        "                                            restore_best_weights=True)"
      ],
      "metadata": {
        "id": "6EmN23gY07Zm"
      },
      "execution_count": 28,
      "outputs": []
    },
    {
      "cell_type": "code",
      "source": [
        "history = my_model.fit(train_ds,\n",
        "                       epochs=40,\n",
        "                       validation_data=val_ds,\n",
        "                       callbacks=callback)"
      ],
      "metadata": {
        "id": "Fxx-A5d81nRr",
        "colab": {
          "base_uri": "https://localhost:8080/"
        },
        "outputId": "fed0026d-baa8-43c2-e8d9-5418165a8af7",
        "collapsed": true
      },
      "execution_count": 29,
      "outputs": [
        {
          "output_type": "stream",
          "name": "stdout",
          "text": [
            "Epoch 1/40\n",
            "75/75 [==============================] - 24s 214ms/step - loss: 1.1551 - accuracy: 0.6917 - val_loss: 0.7456 - val_accuracy: 0.7638\n",
            "Epoch 2/40\n",
            "75/75 [==============================] - 1s 10ms/step - loss: 0.7395 - accuracy: 0.7796 - val_loss: 0.8040 - val_accuracy: 0.7837\n",
            "Epoch 3/40\n",
            "75/75 [==============================] - 1s 10ms/step - loss: 0.6305 - accuracy: 0.8217 - val_loss: 0.7609 - val_accuracy: 0.7100\n",
            "Epoch 4/40\n",
            "75/75 [==============================] - 1s 11ms/step - loss: 0.4895 - accuracy: 0.8454 - val_loss: 0.7435 - val_accuracy: 0.7613\n",
            "Epoch 5/40\n",
            "75/75 [==============================] - 1s 10ms/step - loss: 0.4341 - accuracy: 0.8683 - val_loss: 0.7129 - val_accuracy: 0.7500\n",
            "Epoch 6/40\n",
            "75/75 [==============================] - 1s 11ms/step - loss: 0.3985 - accuracy: 0.8779 - val_loss: 0.7091 - val_accuracy: 0.7750\n",
            "Epoch 7/40\n",
            "75/75 [==============================] - 1s 15ms/step - loss: 0.3705 - accuracy: 0.8821 - val_loss: 0.7126 - val_accuracy: 0.7788\n",
            "Epoch 8/40\n",
            "75/75 [==============================] - 1s 15ms/step - loss: 0.3452 - accuracy: 0.8958 - val_loss: 0.7835 - val_accuracy: 0.7588\n",
            "Epoch 9/40\n",
            "75/75 [==============================] - 1s 14ms/step - loss: 0.3169 - accuracy: 0.9021 - val_loss: 0.7593 - val_accuracy: 0.7763\n",
            "Epoch 10/40\n",
            "75/75 [==============================] - 1s 9ms/step - loss: 0.2989 - accuracy: 0.8996 - val_loss: 0.8237 - val_accuracy: 0.7613\n",
            "Epoch 11/40\n",
            "75/75 [==============================] - 1s 10ms/step - loss: 0.2923 - accuracy: 0.9083 - val_loss: 0.7837 - val_accuracy: 0.7725\n",
            "Epoch 12/40\n",
            "75/75 [==============================] - 1s 10ms/step - loss: 0.2797 - accuracy: 0.9117 - val_loss: 0.8220 - val_accuracy: 0.7688\n",
            "Epoch 13/40\n",
            "75/75 [==============================] - 1s 10ms/step - loss: 0.2641 - accuracy: 0.9121 - val_loss: 0.8636 - val_accuracy: 0.7550\n",
            "Epoch 14/40\n",
            "75/75 [==============================] - 1s 10ms/step - loss: 0.2567 - accuracy: 0.9175 - val_loss: 0.8644 - val_accuracy: 0.7700\n",
            "Epoch 15/40\n",
            "75/75 [==============================] - 1s 9ms/step - loss: 0.2536 - accuracy: 0.9208 - val_loss: 0.8646 - val_accuracy: 0.7675\n",
            "Epoch 16/40\n",
            "75/75 [==============================] - 1s 9ms/step - loss: 0.2432 - accuracy: 0.9171 - val_loss: 0.8743 - val_accuracy: 0.7613\n",
            "Epoch 17/40\n",
            "75/75 [==============================] - 1s 11ms/step - loss: 0.2507 - accuracy: 0.9154 - val_loss: 0.8802 - val_accuracy: 0.7663\n",
            "Epoch 18/40\n",
            "75/75 [==============================] - 1s 10ms/step - loss: 0.2393 - accuracy: 0.9237 - val_loss: 0.8945 - val_accuracy: 0.7750\n",
            "Epoch 19/40\n",
            "75/75 [==============================] - 1s 15ms/step - loss: 0.2338 - accuracy: 0.9225 - val_loss: 0.9658 - val_accuracy: 0.7513\n",
            "Epoch 20/40\n",
            "75/75 [==============================] - 1s 15ms/step - loss: 0.2336 - accuracy: 0.9229 - val_loss: 0.9457 - val_accuracy: 0.7688\n",
            "Epoch 21/40\n",
            "75/75 [==============================] - 1s 12ms/step - loss: 0.2327 - accuracy: 0.9229 - val_loss: 0.9319 - val_accuracy: 0.7700\n",
            "Epoch 22/40\n",
            "75/75 [==============================] - 1s 9ms/step - loss: 0.2271 - accuracy: 0.9242 - val_loss: 0.9438 - val_accuracy: 0.7725\n",
            "Epoch 23/40\n",
            "75/75 [==============================] - 1s 9ms/step - loss: 0.2373 - accuracy: 0.9212 - val_loss: 1.0171 - val_accuracy: 0.7525\n",
            "Epoch 24/40\n",
            "75/75 [==============================] - 1s 10ms/step - loss: 0.2265 - accuracy: 0.9212 - val_loss: 0.9703 - val_accuracy: 0.7688\n",
            "Epoch 25/40\n",
            "75/75 [==============================] - 1s 11ms/step - loss: 0.2271 - accuracy: 0.9250 - val_loss: 0.9791 - val_accuracy: 0.7675\n",
            "Epoch 26/40\n",
            "75/75 [==============================] - 1s 9ms/step - loss: 0.2266 - accuracy: 0.9221 - val_loss: 1.0120 - val_accuracy: 0.7613\n",
            "Epoch 27/40\n",
            "75/75 [==============================] - 1s 10ms/step - loss: 0.2210 - accuracy: 0.9225 - val_loss: 1.0075 - val_accuracy: 0.7625\n",
            "Epoch 28/40\n",
            "75/75 [==============================] - 1s 10ms/step - loss: 0.2227 - accuracy: 0.9262 - val_loss: 1.0154 - val_accuracy: 0.7688\n",
            "Epoch 29/40\n",
            "75/75 [==============================] - 1s 10ms/step - loss: 0.2166 - accuracy: 0.9283 - val_loss: 1.0362 - val_accuracy: 0.7638\n",
            "Epoch 30/40\n",
            "75/75 [==============================] - 1s 10ms/step - loss: 0.2168 - accuracy: 0.9254 - val_loss: 1.0308 - val_accuracy: 0.7663\n",
            "Epoch 31/40\n",
            "75/75 [==============================] - 1s 10ms/step - loss: 0.2181 - accuracy: 0.9254 - val_loss: 1.0458 - val_accuracy: 0.7675\n",
            "Epoch 32/40\n",
            "75/75 [==============================] - 1s 14ms/step - loss: 0.2136 - accuracy: 0.9250 - val_loss: 1.0595 - val_accuracy: 0.7600\n",
            "Epoch 33/40\n",
            "75/75 [==============================] - 1s 15ms/step - loss: 0.2139 - accuracy: 0.9262 - val_loss: 1.0743 - val_accuracy: 0.7625\n",
            "Epoch 34/40\n",
            "75/75 [==============================] - 1s 14ms/step - loss: 0.2158 - accuracy: 0.9292 - val_loss: 1.0664 - val_accuracy: 0.7638\n",
            "Epoch 35/40\n",
            "75/75 [==============================] - 1s 11ms/step - loss: 0.2162 - accuracy: 0.9225 - val_loss: 1.0864 - val_accuracy: 0.7638\n"
          ]
        }
      ]
    },
    {
      "cell_type": "code",
      "source": [
        "# evaluate the model\n",
        "loss, accuracy = my_model.evaluate(test_ds)\n",
        "print(f'Test accuracy: {accuracy:.4f}')"
      ],
      "metadata": {
        "id": "9tK560NO2n5v",
        "colab": {
          "base_uri": "https://localhost:8080/"
        },
        "outputId": "beb8505d-a21d-45c6-877c-d5887392278f"
      },
      "execution_count": 30,
      "outputs": [
        {
          "output_type": "stream",
          "name": "stdout",
          "text": [
            "25/25 [==============================] - 0s 5ms/step - loss: 1.6328 - accuracy: 0.6787\n",
            "Test accuracy: 0.6787\n"
          ]
        }
      ]
    },
    {
      "cell_type": "markdown",
      "source": [
        "# Combine models"
      ],
      "metadata": {
        "id": "DvCHUiTKl2dC"
      }
    },
    {
      "cell_type": "markdown",
      "source": [
        "# Quant Aware Training"
      ],
      "metadata": {
        "id": "rrjwSvHCv6Xa"
      }
    },
    {
      "cell_type": "code",
      "source": [
        "%cd /content"
      ],
      "metadata": {
        "colab": {
          "base_uri": "https://localhost:8080/"
        },
        "id": "BrTocSQYmNVP",
        "outputId": "e09bacfd-854f-491d-89eb-21e50a341404"
      },
      "execution_count": 31,
      "outputs": [
        {
          "output_type": "stream",
          "name": "stdout",
          "text": [
            "/content\n"
          ]
        }
      ]
    },
    {
      "cell_type": "code",
      "source": [
        "quantize_model = tfmot.quantization.keras.quantize_model"
      ],
      "metadata": {
        "id": "MMJh6HMywr8y"
      },
      "execution_count": 32,
      "outputs": []
    },
    {
      "cell_type": "code",
      "source": [
        "# q_aware stands for for quantization aware.\n",
        "q_aware_model = quantize_model(my_model)"
      ],
      "metadata": {
        "id": "9W0F4i3OwvPl"
      },
      "execution_count": 33,
      "outputs": []
    },
    {
      "cell_type": "code",
      "source": [
        "# `quantize_model` requires a recompile.\n",
        "q_aware_model.compile(optimizer='adam',\n",
        "              loss=keras.losses.SparseCategoricalCrossentropy(from_logits=True),\n",
        "              metrics=['accuracy'])"
      ],
      "metadata": {
        "id": "oUEA5MTzwX_s"
      },
      "execution_count": 34,
      "outputs": []
    },
    {
      "cell_type": "code",
      "source": [
        "q_aware_model.fit(train_ds,\n",
        "                       epochs=40,\n",
        "                       validation_data=val_ds,\n",
        "                       callbacks=callback)"
      ],
      "metadata": {
        "id": "KOPFOCmCz65c",
        "colab": {
          "base_uri": "https://localhost:8080/"
        },
        "outputId": "4f6a1b87-bc6b-410d-8177-ab3c41c2c8c8"
      },
      "execution_count": 35,
      "outputs": [
        {
          "output_type": "stream",
          "name": "stdout",
          "text": [
            "Epoch 1/40\n",
            "75/75 [==============================] - 2s 15ms/step - loss: 0.2381 - accuracy: 0.9204 - val_loss: 1.0484 - val_accuracy: 0.7663\n",
            "Epoch 2/40\n",
            "75/75 [==============================] - 1s 12ms/step - loss: 0.2366 - accuracy: 0.9196 - val_loss: 1.0837 - val_accuracy: 0.7675\n",
            "Epoch 3/40\n",
            "75/75 [==============================] - 1s 12ms/step - loss: 0.2305 - accuracy: 0.9162 - val_loss: 1.1537 - val_accuracy: 0.7688\n",
            "Epoch 4/40\n",
            "75/75 [==============================] - 2s 21ms/step - loss: 0.2257 - accuracy: 0.9233 - val_loss: 1.1512 - val_accuracy: 0.7663\n",
            "Epoch 5/40\n",
            "75/75 [==============================] - 1s 17ms/step - loss: 0.2235 - accuracy: 0.9221 - val_loss: 1.1416 - val_accuracy: 0.7725\n",
            "Epoch 6/40\n",
            "75/75 [==============================] - 1s 19ms/step - loss: 0.2340 - accuracy: 0.9225 - val_loss: 1.2393 - val_accuracy: 0.7525\n",
            "Epoch 7/40\n",
            "75/75 [==============================] - 1s 16ms/step - loss: 0.2366 - accuracy: 0.9204 - val_loss: 1.1649 - val_accuracy: 0.7663\n",
            "Epoch 8/40\n",
            "75/75 [==============================] - 1s 13ms/step - loss: 0.2250 - accuracy: 0.9242 - val_loss: 1.1769 - val_accuracy: 0.7625\n"
          ]
        },
        {
          "output_type": "execute_result",
          "data": {
            "text/plain": [
              "<tf_keras.src.callbacks.History at 0x7be734a732e0>"
            ]
          },
          "metadata": {},
          "execution_count": 35
        }
      ]
    },
    {
      "cell_type": "code",
      "source": [
        "# compare models\n",
        "loss, accuracy = my_model.evaluate(test_ds)\n",
        "print(f'Test accuracy: {accuracy:.4f}')\n",
        "\n",
        "loss2, accuracy2 = q_aware_model.evaluate(test_ds)\n",
        "print(f'Test accuracy: {accuracy:.4f}')"
      ],
      "metadata": {
        "colab": {
          "base_uri": "https://localhost:8080/"
        },
        "id": "VaketTwTm4LA",
        "outputId": "e0fef547-2216-4921-a277-cf4899e56f4d"
      },
      "execution_count": 36,
      "outputs": [
        {
          "output_type": "stream",
          "name": "stdout",
          "text": [
            "25/25 [==============================] - 0s 4ms/step - loss: 1.6328 - accuracy: 0.6787\n",
            "Test accuracy: 0.6787\n",
            "25/25 [==============================] - 0s 5ms/step - loss: 1.7019 - accuracy: 0.6862\n",
            "Test accuracy: 0.6787\n"
          ]
        }
      ]
    },
    {
      "cell_type": "markdown",
      "source": [
        "# Save Model"
      ],
      "metadata": {
        "id": "EDNj5uh2nIka"
      }
    },
    {
      "cell_type": "code",
      "source": [
        "saved_model_path = './yamnet_tutorial'\n",
        "\n",
        "class ReduceMeanLayer(tf.keras.layers.Layer):\n",
        "  def __init__(self, axis=0, **kwargs):\n",
        "    super(ReduceMeanLayer, self).__init__(**kwargs)\n",
        "    self.axis = axis\n",
        "\n",
        "  def call(self, input):\n",
        "    return tf.math.reduce_mean(input, axis=self.axis)\n",
        "\n",
        "class YAMNetLayer(Layer):\n",
        "    def __init__(self, yamnet_model_handle, **kwargs):\n",
        "        super(YAMNetLayer, self).__init__(**kwargs)\n",
        "        self.yamnet_layer = hub.KerasLayer(yamnet_model_handle, trainable=False, name='yamnet')\n",
        "\n",
        "    def call(self, inputs):\n",
        "        # reshape the input to match YAMNet's expected 1D tensor input\n",
        "        reshaped_inputs = tf.reshape(inputs, (-1,))\n",
        "        # get embeddings from YAMNet\n",
        "        _, embeddings_output, _ = self.yamnet_layer(reshaped_inputs)\n",
        "        return embeddings_output\n",
        "\n",
        "input_segment = keras.layers.Input(shape=(80000,), dtype=tf.float32, name='audio')\n",
        "embedding_extraction_layer = YAMNetLayer(yamnet_model_handle)\n",
        "embeddings_output = embedding_extraction_layer(input_segment)\n",
        "\n",
        "# pass embeddings to sequential model\n",
        "serving_outputs = q_aware_model(embeddings_output)\n",
        "serving_outputs = ReduceMeanLayer(axis=0, name='classifier')(serving_outputs)\n",
        "\n",
        "serving_model = keras.Model(input_segment, serving_outputs)\n",
        "# tf.saved_model.save(serving_model, saved_model_path)"
      ],
      "metadata": {
        "id": "NxcLCJk_nA7A"
      },
      "execution_count": 37,
      "outputs": []
    },
    {
      "cell_type": "code",
      "source": [
        "# Convert the model to TFLite AND quantize weights\n",
        "converter = tf.lite.TFLiteConverter.from_keras_model(serving_model)\n",
        "converter.optimizations = [tf.lite.Optimize.DEFAULT]\n",
        "tflite_quant_model = converter.convert()\n",
        "\n",
        "# Save the model.\n",
        "with open('./yamnet_quant_aware_model.tflite', 'wb') as f:\n",
        "  f.write(tflite_quant_model)"
      ],
      "metadata": {
        "colab": {
          "base_uri": "https://localhost:8080/"
        },
        "id": "6C4PhvhDnOIP",
        "outputId": "73978762-c48c-4cb8-a521-7f083d4c9a39"
      },
      "execution_count": 38,
      "outputs": [
        {
          "output_type": "stream",
          "name": "stderr",
          "text": [
            "/usr/local/lib/python3.10/dist-packages/tensorflow/lite/python/convert.py:983: UserWarning: Statistics for quantized inputs were expected, but not specified; continuing anyway.\n",
            "  warnings.warn(\n"
          ]
        }
      ]
    },
    {
      "cell_type": "markdown",
      "source": [
        "# Test"
      ],
      "metadata": {
        "id": "SwcQrEZNntl3"
      }
    },
    {
      "cell_type": "code",
      "source": [
        "%cd /content\n",
        "\n",
        "tflite_model_path_q = 'yamnet_quant_aware_model.tflite'\n",
        "interpreter = tf.lite.Interpreter(model_path=tflite_model_path_q)"
      ],
      "metadata": {
        "colab": {
          "base_uri": "https://localhost:8080/"
        },
        "id": "J36IvCj8nxh7",
        "outputId": "8b9a695d-407e-4ba2-bf56-5b938a6bf5cd"
      },
      "execution_count": 43,
      "outputs": [
        {
          "output_type": "stream",
          "name": "stdout",
          "text": [
            "/content\n"
          ]
        }
      ]
    },
    {
      "cell_type": "code",
      "source": [
        "%cd /content/ESC-50-master"
      ],
      "metadata": {
        "colab": {
          "base_uri": "https://localhost:8080/"
        },
        "id": "ihcMSFdpM7aC",
        "outputId": "1c2c1020-a4ee-4af6-f3d9-f5ca02387ab0"
      },
      "execution_count": 45,
      "outputs": [
        {
          "output_type": "stream",
          "name": "stdout",
          "text": [
            "/content/ESC-50-master\n"
          ]
        }
      ]
    },
    {
      "cell_type": "code",
      "source": [
        "test_num = 11\n",
        "sample_file = esc50_animals.iloc[test_num]['filename']\n",
        "input_data = preprocess_wav(sample_file)\n",
        "input_data = tf.expand_dims(input_data, axis=0)"
      ],
      "metadata": {
        "id": "OqknzUHWM1tn"
      },
      "execution_count": 46,
      "outputs": []
    },
    {
      "cell_type": "code",
      "source": [
        "# allocate the tensors\n",
        "interpreter.allocate_tensors()\n",
        "\n",
        "# get input details and set the input tensor\n",
        "input_details = interpreter.get_input_details()\n",
        "interpreter.set_tensor(input_details[0]['index'], input_data)\n",
        "\n",
        "# run inference\n",
        "interpreter.invoke()"
      ],
      "metadata": {
        "id": "oAjcmAybnvnl"
      },
      "execution_count": 47,
      "outputs": []
    },
    {
      "cell_type": "code",
      "source": [
        "esc50_test = esc50_animals[esc50_animals.fold == 5]"
      ],
      "metadata": {
        "id": "ftrDiSwfMvbe"
      },
      "execution_count": 41,
      "outputs": []
    },
    {
      "cell_type": "code",
      "source": [
        "results_q = []\n",
        "count_q = 0\n",
        "\n",
        "# for each file in the esc50_animals\n",
        "for index, row in esc50_animals.iterrows():\n",
        "\n",
        "    #preprocess\n",
        "    filename = row['filename']\n",
        "    wav = preprocess_wav(filename)\n",
        "\n",
        "    input_data = tf.expand_dims(wav, axis=0)\n",
        "    interpreter.allocate_tensors()\n",
        "\n",
        "    input_details = interpreter.get_input_details()\n",
        "    interpreter.set_tensor(input_details[0]['index'], input_data)\n",
        "\n",
        "    interpreter.invoke()\n",
        "    output_details = interpreter.get_output_details()\n",
        "    output_data = interpreter.get_tensor(output_details[0]['index'])\n",
        "\n",
        "    predicted_index = np.argmax(output_data)\n",
        "\n",
        "    if(predicted_index == row['target']):\n",
        "        count_q += 1\n",
        "\n",
        "    # Store the result\n",
        "    results_q.append({\n",
        "        'predicted class': animals[predicted_index],\n",
        "        'true class': row['category']\n",
        "    })\n",
        "\n",
        "results_df = pd.DataFrame(results_q)\n",
        "print(\"Accuracy for entire set: \", count_q / 400)"
      ],
      "metadata": {
        "colab": {
          "base_uri": "https://localhost:8080/"
        },
        "id": "M-JovQQGnRw4",
        "outputId": "3cebcc7d-2539-493e-b661-d5c4b6c8ea95"
      },
      "execution_count": 49,
      "outputs": [
        {
          "output_type": "stream",
          "name": "stdout",
          "text": [
            "Accuracy for entire set:  0.97\n"
          ]
        }
      ]
    },
    {
      "cell_type": "code",
      "source": [
        "results_q = []\n",
        "count_q = 0\n",
        "\n",
        "# for each file in the esc50_animals\n",
        "for index, row in esc50_test.iterrows():\n",
        "\n",
        "    #preprocess\n",
        "    filename = row['filename']\n",
        "    wav = preprocess_wav(filename)\n",
        "\n",
        "    input_data = tf.expand_dims(wav, axis=0)\n",
        "    interpreter.allocate_tensors()\n",
        "\n",
        "    input_details = interpreter.get_input_details()\n",
        "    interpreter.set_tensor(input_details[0]['index'], input_data)\n",
        "\n",
        "    interpreter.invoke()\n",
        "    output_details = interpreter.get_output_details()\n",
        "    output_data = interpreter.get_tensor(output_details[0]['index'])\n",
        "\n",
        "    predicted_index = np.argmax(output_data)\n",
        "\n",
        "    if(predicted_index == row['target']):\n",
        "        count_q += 1\n",
        "\n",
        "    # Store the result\n",
        "    results_q.append({\n",
        "        'predicted class': animals[predicted_index],\n",
        "        'true class': row['category']\n",
        "    })\n",
        "\n",
        "results_df = pd.DataFrame(results_q)\n",
        "print(\"Accuracy for test set: \", count_q / 80)"
      ],
      "metadata": {
        "colab": {
          "base_uri": "https://localhost:8080/"
        },
        "id": "6QfwKvQsNE7j",
        "outputId": "8d0d034d-8eb7-4bb9-d08a-e5662653fc9a"
      },
      "execution_count": 48,
      "outputs": [
        {
          "output_type": "stream",
          "name": "stdout",
          "text": [
            "Accuracy for test set:  0.9\n"
          ]
        }
      ]
    }
  ],
  "metadata": {
    "colab": {
      "provenance": [],
      "collapsed_sections": [
        "3FUzQpxFmLCk",
        "RRKR2-WM4fNz"
      ],
      "authorship_tag": "ABX9TyNl6Erk6ZNMILIVlEwo7gl+",
      "include_colab_link": true
    },
    "kernelspec": {
      "display_name": "Python 3",
      "name": "python3"
    },
    "language_info": {
      "name": "python"
    }
  },
  "nbformat": 4,
  "nbformat_minor": 0
}