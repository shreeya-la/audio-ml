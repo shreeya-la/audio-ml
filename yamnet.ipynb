{
  "cells": [
    {
      "cell_type": "markdown",
      "metadata": {
        "id": "view-in-github",
        "colab_type": "text"
      },
      "source": [
        "<a href=\"https://colab.research.google.com/github/shreeya-la/audio-ml/blob/main/yamnet.ipynb\" target=\"_parent\"><img src=\"https://colab.research.google.com/assets/colab-badge.svg\" alt=\"Open In Colab\"/></a>"
      ]
    },
    {
      "cell_type": "markdown",
      "source": [
        "# Import and Download ESC50"
      ],
      "metadata": {
        "id": "xRuujaeIl__N"
      }
    },
    {
      "cell_type": "code",
      "execution_count": 1,
      "metadata": {
        "collapsed": true,
        "id": "eIOfUQOVnAMP"
      },
      "outputs": [],
      "source": [
        "#!pip install tensorflow --upgrade"
      ]
    },
    {
      "cell_type": "code",
      "source": [
        "# !pip uninstall tensorflow\n",
        "# !pip uninstall tensorflow-io"
      ],
      "metadata": {
        "id": "k833yXkrjZ4N"
      },
      "execution_count": 2,
      "outputs": []
    },
    {
      "cell_type": "code",
      "execution_count": 3,
      "metadata": {
        "id": "6RIz03TKnD7H",
        "colab": {
          "base_uri": "https://localhost:8080/"
        },
        "outputId": "48910669-6b7a-4cc8-f01d-64806c1f1846"
      },
      "outputs": [
        {
          "output_type": "stream",
          "name": "stdout",
          "text": [
            "\u001b[?25l   \u001b[90m━━━━━━━━━━━━━━━━━━━━━━━━━━━━━━━━━━━━━━━━\u001b[0m \u001b[32m0.0/242.5 kB\u001b[0m \u001b[31m?\u001b[0m eta \u001b[36m-:--:--\u001b[0m\r\u001b[2K   \u001b[91m━━━━━━━━━━━━━━━━━━━━━━━━━━━━\u001b[0m\u001b[91m╸\u001b[0m\u001b[90m━━━━━━━━━━━\u001b[0m \u001b[32m174.1/242.5 kB\u001b[0m \u001b[31m5.2 MB/s\u001b[0m eta \u001b[36m0:00:01\u001b[0m\r\u001b[2K   \u001b[90m━━━━━━━━━━━━━━━━━━━━━━━━━━━━━━━━━━━━━━━━\u001b[0m \u001b[32m242.5/242.5 kB\u001b[0m \u001b[31m3.6 MB/s\u001b[0m eta \u001b[36m0:00:00\u001b[0m\n",
            "\u001b[?25h"
          ]
        }
      ],
      "source": [
        "import os\n",
        "from IPython import display\n",
        "import matplotlib.pyplot as plt\n",
        "import numpy as np\n",
        "import pandas as pd\n",
        "import tensorflow as tf\n",
        "import tensorflow_hub as hub\n",
        "import librosa\n",
        "import seaborn as sns\n",
        "\n",
        "from tensorflow.keras.layers import Layer\n",
        "from sklearn.metrics import confusion_matrix, classification_report\n",
        "!pip install -q tensorflow-model-optimization\n",
        "import tensorflow_model_optimization as tfmot"
      ]
    },
    {
      "cell_type": "code",
      "source": [
        "!test ! -f \"master.zip\" && wget \"https://github.com/karoldvl/ESC-50/archive/master.zip\""
      ],
      "metadata": {
        "colab": {
          "base_uri": "https://localhost:8080/"
        },
        "id": "hxIQdQXDlf3e",
        "outputId": "4911f03e-1ca7-4fff-aae1-d36880debc85"
      },
      "execution_count": 4,
      "outputs": [
        {
          "output_type": "stream",
          "name": "stdout",
          "text": [
            "--2024-12-04 19:30:27--  https://github.com/karoldvl/ESC-50/archive/master.zip\n",
            "Resolving github.com (github.com)... 140.82.114.4\n",
            "Connecting to github.com (github.com)|140.82.114.4|:443... connected.\n",
            "HTTP request sent, awaiting response... 301 Moved Permanently\n",
            "Location: https://github.com/karolpiczak/ESC-50/archive/master.zip [following]\n",
            "--2024-12-04 19:30:27--  https://github.com/karolpiczak/ESC-50/archive/master.zip\n",
            "Reusing existing connection to github.com:443.\n",
            "HTTP request sent, awaiting response... 302 Found\n",
            "Location: https://codeload.github.com/karolpiczak/ESC-50/zip/refs/heads/master [following]\n",
            "--2024-12-04 19:30:27--  https://codeload.github.com/karolpiczak/ESC-50/zip/refs/heads/master\n",
            "Resolving codeload.github.com (codeload.github.com)... 140.82.112.10\n",
            "Connecting to codeload.github.com (codeload.github.com)|140.82.112.10|:443... connected.\n",
            "HTTP request sent, awaiting response... 200 OK\n",
            "Length: unspecified [application/zip]\n",
            "Saving to: ‘master.zip’\n",
            "\n",
            "master.zip              [     <=>            ] 615.78M  13.9MB/s    in 41s     \n",
            "\n",
            "2024-12-04 19:31:09 (14.9 MB/s) - ‘master.zip’ saved [645695005]\n",
            "\n"
          ]
        }
      ]
    },
    {
      "cell_type": "code",
      "source": [
        "!unzip -qq master.zip"
      ],
      "metadata": {
        "id": "_tVhpRpHlhrY"
      },
      "execution_count": 5,
      "outputs": []
    },
    {
      "cell_type": "code",
      "source": [
        "%cd ESC-50-master\n",
        "# create a dataframe\n",
        "esc50_data = pd.read_csv('meta/esc50.csv')\n",
        "esc50_data.head()"
      ],
      "metadata": {
        "colab": {
          "base_uri": "https://localhost:8080/",
          "height": 326
        },
        "id": "yhhOvAHAlqoT",
        "outputId": "96f834a4-877b-451d-e7d4-342677488e2f"
      },
      "execution_count": 6,
      "outputs": [
        {
          "output_type": "stream",
          "name": "stdout",
          "text": [
            "/content/ESC-50-master\n"
          ]
        },
        {
          "output_type": "execute_result",
          "data": {
            "text/plain": [
              "            filename  fold  target        category  esc10  src_file take\n",
              "0   1-100032-A-0.wav     1       0             dog   True    100032    A\n",
              "1  1-100038-A-14.wav     1      14  chirping_birds  False    100038    A\n",
              "2  1-100210-A-36.wav     1      36  vacuum_cleaner  False    100210    A\n",
              "3  1-100210-B-36.wav     1      36  vacuum_cleaner  False    100210    B\n",
              "4  1-101296-A-19.wav     1      19    thunderstorm  False    101296    A"
            ],
            "text/html": [
              "\n",
              "  <div id=\"df-335edf9c-0f97-47a9-bb16-21327c0f87aa\" class=\"colab-df-container\">\n",
              "    <div>\n",
              "<style scoped>\n",
              "    .dataframe tbody tr th:only-of-type {\n",
              "        vertical-align: middle;\n",
              "    }\n",
              "\n",
              "    .dataframe tbody tr th {\n",
              "        vertical-align: top;\n",
              "    }\n",
              "\n",
              "    .dataframe thead th {\n",
              "        text-align: right;\n",
              "    }\n",
              "</style>\n",
              "<table border=\"1\" class=\"dataframe\">\n",
              "  <thead>\n",
              "    <tr style=\"text-align: right;\">\n",
              "      <th></th>\n",
              "      <th>filename</th>\n",
              "      <th>fold</th>\n",
              "      <th>target</th>\n",
              "      <th>category</th>\n",
              "      <th>esc10</th>\n",
              "      <th>src_file</th>\n",
              "      <th>take</th>\n",
              "    </tr>\n",
              "  </thead>\n",
              "  <tbody>\n",
              "    <tr>\n",
              "      <th>0</th>\n",
              "      <td>1-100032-A-0.wav</td>\n",
              "      <td>1</td>\n",
              "      <td>0</td>\n",
              "      <td>dog</td>\n",
              "      <td>True</td>\n",
              "      <td>100032</td>\n",
              "      <td>A</td>\n",
              "    </tr>\n",
              "    <tr>\n",
              "      <th>1</th>\n",
              "      <td>1-100038-A-14.wav</td>\n",
              "      <td>1</td>\n",
              "      <td>14</td>\n",
              "      <td>chirping_birds</td>\n",
              "      <td>False</td>\n",
              "      <td>100038</td>\n",
              "      <td>A</td>\n",
              "    </tr>\n",
              "    <tr>\n",
              "      <th>2</th>\n",
              "      <td>1-100210-A-36.wav</td>\n",
              "      <td>1</td>\n",
              "      <td>36</td>\n",
              "      <td>vacuum_cleaner</td>\n",
              "      <td>False</td>\n",
              "      <td>100210</td>\n",
              "      <td>A</td>\n",
              "    </tr>\n",
              "    <tr>\n",
              "      <th>3</th>\n",
              "      <td>1-100210-B-36.wav</td>\n",
              "      <td>1</td>\n",
              "      <td>36</td>\n",
              "      <td>vacuum_cleaner</td>\n",
              "      <td>False</td>\n",
              "      <td>100210</td>\n",
              "      <td>B</td>\n",
              "    </tr>\n",
              "    <tr>\n",
              "      <th>4</th>\n",
              "      <td>1-101296-A-19.wav</td>\n",
              "      <td>1</td>\n",
              "      <td>19</td>\n",
              "      <td>thunderstorm</td>\n",
              "      <td>False</td>\n",
              "      <td>101296</td>\n",
              "      <td>A</td>\n",
              "    </tr>\n",
              "  </tbody>\n",
              "</table>\n",
              "</div>\n",
              "    <div class=\"colab-df-buttons\">\n",
              "\n",
              "  <div class=\"colab-df-container\">\n",
              "    <button class=\"colab-df-convert\" onclick=\"convertToInteractive('df-335edf9c-0f97-47a9-bb16-21327c0f87aa')\"\n",
              "            title=\"Convert this dataframe to an interactive table.\"\n",
              "            style=\"display:none;\">\n",
              "\n",
              "  <svg xmlns=\"http://www.w3.org/2000/svg\" height=\"24px\" viewBox=\"0 -960 960 960\">\n",
              "    <path d=\"M120-120v-720h720v720H120Zm60-500h600v-160H180v160Zm220 220h160v-160H400v160Zm0 220h160v-160H400v160ZM180-400h160v-160H180v160Zm440 0h160v-160H620v160ZM180-180h160v-160H180v160Zm440 0h160v-160H620v160Z\"/>\n",
              "  </svg>\n",
              "    </button>\n",
              "\n",
              "  <style>\n",
              "    .colab-df-container {\n",
              "      display:flex;\n",
              "      gap: 12px;\n",
              "    }\n",
              "\n",
              "    .colab-df-convert {\n",
              "      background-color: #E8F0FE;\n",
              "      border: none;\n",
              "      border-radius: 50%;\n",
              "      cursor: pointer;\n",
              "      display: none;\n",
              "      fill: #1967D2;\n",
              "      height: 32px;\n",
              "      padding: 0 0 0 0;\n",
              "      width: 32px;\n",
              "    }\n",
              "\n",
              "    .colab-df-convert:hover {\n",
              "      background-color: #E2EBFA;\n",
              "      box-shadow: 0px 1px 2px rgba(60, 64, 67, 0.3), 0px 1px 3px 1px rgba(60, 64, 67, 0.15);\n",
              "      fill: #174EA6;\n",
              "    }\n",
              "\n",
              "    .colab-df-buttons div {\n",
              "      margin-bottom: 4px;\n",
              "    }\n",
              "\n",
              "    [theme=dark] .colab-df-convert {\n",
              "      background-color: #3B4455;\n",
              "      fill: #D2E3FC;\n",
              "    }\n",
              "\n",
              "    [theme=dark] .colab-df-convert:hover {\n",
              "      background-color: #434B5C;\n",
              "      box-shadow: 0px 1px 3px 1px rgba(0, 0, 0, 0.15);\n",
              "      filter: drop-shadow(0px 1px 2px rgba(0, 0, 0, 0.3));\n",
              "      fill: #FFFFFF;\n",
              "    }\n",
              "  </style>\n",
              "\n",
              "    <script>\n",
              "      const buttonEl =\n",
              "        document.querySelector('#df-335edf9c-0f97-47a9-bb16-21327c0f87aa button.colab-df-convert');\n",
              "      buttonEl.style.display =\n",
              "        google.colab.kernel.accessAllowed ? 'block' : 'none';\n",
              "\n",
              "      async function convertToInteractive(key) {\n",
              "        const element = document.querySelector('#df-335edf9c-0f97-47a9-bb16-21327c0f87aa');\n",
              "        const dataTable =\n",
              "          await google.colab.kernel.invokeFunction('convertToInteractive',\n",
              "                                                    [key], {});\n",
              "        if (!dataTable) return;\n",
              "\n",
              "        const docLinkHtml = 'Like what you see? Visit the ' +\n",
              "          '<a target=\"_blank\" href=https://colab.research.google.com/notebooks/data_table.ipynb>data table notebook</a>'\n",
              "          + ' to learn more about interactive tables.';\n",
              "        element.innerHTML = '';\n",
              "        dataTable['output_type'] = 'display_data';\n",
              "        await google.colab.output.renderOutput(dataTable, element);\n",
              "        const docLink = document.createElement('div');\n",
              "        docLink.innerHTML = docLinkHtml;\n",
              "        element.appendChild(docLink);\n",
              "      }\n",
              "    </script>\n",
              "  </div>\n",
              "\n",
              "\n",
              "<div id=\"df-2fa19f39-f239-4066-a0b1-c5e4061ab10c\">\n",
              "  <button class=\"colab-df-quickchart\" onclick=\"quickchart('df-2fa19f39-f239-4066-a0b1-c5e4061ab10c')\"\n",
              "            title=\"Suggest charts\"\n",
              "            style=\"display:none;\">\n",
              "\n",
              "<svg xmlns=\"http://www.w3.org/2000/svg\" height=\"24px\"viewBox=\"0 0 24 24\"\n",
              "     width=\"24px\">\n",
              "    <g>\n",
              "        <path d=\"M19 3H5c-1.1 0-2 .9-2 2v14c0 1.1.9 2 2 2h14c1.1 0 2-.9 2-2V5c0-1.1-.9-2-2-2zM9 17H7v-7h2v7zm4 0h-2V7h2v10zm4 0h-2v-4h2v4z\"/>\n",
              "    </g>\n",
              "</svg>\n",
              "  </button>\n",
              "\n",
              "<style>\n",
              "  .colab-df-quickchart {\n",
              "      --bg-color: #E8F0FE;\n",
              "      --fill-color: #1967D2;\n",
              "      --hover-bg-color: #E2EBFA;\n",
              "      --hover-fill-color: #174EA6;\n",
              "      --disabled-fill-color: #AAA;\n",
              "      --disabled-bg-color: #DDD;\n",
              "  }\n",
              "\n",
              "  [theme=dark] .colab-df-quickchart {\n",
              "      --bg-color: #3B4455;\n",
              "      --fill-color: #D2E3FC;\n",
              "      --hover-bg-color: #434B5C;\n",
              "      --hover-fill-color: #FFFFFF;\n",
              "      --disabled-bg-color: #3B4455;\n",
              "      --disabled-fill-color: #666;\n",
              "  }\n",
              "\n",
              "  .colab-df-quickchart {\n",
              "    background-color: var(--bg-color);\n",
              "    border: none;\n",
              "    border-radius: 50%;\n",
              "    cursor: pointer;\n",
              "    display: none;\n",
              "    fill: var(--fill-color);\n",
              "    height: 32px;\n",
              "    padding: 0;\n",
              "    width: 32px;\n",
              "  }\n",
              "\n",
              "  .colab-df-quickchart:hover {\n",
              "    background-color: var(--hover-bg-color);\n",
              "    box-shadow: 0 1px 2px rgba(60, 64, 67, 0.3), 0 1px 3px 1px rgba(60, 64, 67, 0.15);\n",
              "    fill: var(--button-hover-fill-color);\n",
              "  }\n",
              "\n",
              "  .colab-df-quickchart-complete:disabled,\n",
              "  .colab-df-quickchart-complete:disabled:hover {\n",
              "    background-color: var(--disabled-bg-color);\n",
              "    fill: var(--disabled-fill-color);\n",
              "    box-shadow: none;\n",
              "  }\n",
              "\n",
              "  .colab-df-spinner {\n",
              "    border: 2px solid var(--fill-color);\n",
              "    border-color: transparent;\n",
              "    border-bottom-color: var(--fill-color);\n",
              "    animation:\n",
              "      spin 1s steps(1) infinite;\n",
              "  }\n",
              "\n",
              "  @keyframes spin {\n",
              "    0% {\n",
              "      border-color: transparent;\n",
              "      border-bottom-color: var(--fill-color);\n",
              "      border-left-color: var(--fill-color);\n",
              "    }\n",
              "    20% {\n",
              "      border-color: transparent;\n",
              "      border-left-color: var(--fill-color);\n",
              "      border-top-color: var(--fill-color);\n",
              "    }\n",
              "    30% {\n",
              "      border-color: transparent;\n",
              "      border-left-color: var(--fill-color);\n",
              "      border-top-color: var(--fill-color);\n",
              "      border-right-color: var(--fill-color);\n",
              "    }\n",
              "    40% {\n",
              "      border-color: transparent;\n",
              "      border-right-color: var(--fill-color);\n",
              "      border-top-color: var(--fill-color);\n",
              "    }\n",
              "    60% {\n",
              "      border-color: transparent;\n",
              "      border-right-color: var(--fill-color);\n",
              "    }\n",
              "    80% {\n",
              "      border-color: transparent;\n",
              "      border-right-color: var(--fill-color);\n",
              "      border-bottom-color: var(--fill-color);\n",
              "    }\n",
              "    90% {\n",
              "      border-color: transparent;\n",
              "      border-bottom-color: var(--fill-color);\n",
              "    }\n",
              "  }\n",
              "</style>\n",
              "\n",
              "  <script>\n",
              "    async function quickchart(key) {\n",
              "      const quickchartButtonEl =\n",
              "        document.querySelector('#' + key + ' button');\n",
              "      quickchartButtonEl.disabled = true;  // To prevent multiple clicks.\n",
              "      quickchartButtonEl.classList.add('colab-df-spinner');\n",
              "      try {\n",
              "        const charts = await google.colab.kernel.invokeFunction(\n",
              "            'suggestCharts', [key], {});\n",
              "      } catch (error) {\n",
              "        console.error('Error during call to suggestCharts:', error);\n",
              "      }\n",
              "      quickchartButtonEl.classList.remove('colab-df-spinner');\n",
              "      quickchartButtonEl.classList.add('colab-df-quickchart-complete');\n",
              "    }\n",
              "    (() => {\n",
              "      let quickchartButtonEl =\n",
              "        document.querySelector('#df-2fa19f39-f239-4066-a0b1-c5e4061ab10c button');\n",
              "      quickchartButtonEl.style.display =\n",
              "        google.colab.kernel.accessAllowed ? 'block' : 'none';\n",
              "    })();\n",
              "  </script>\n",
              "</div>\n",
              "\n",
              "    </div>\n",
              "  </div>\n"
            ],
            "application/vnd.google.colaboratory.intrinsic+json": {
              "type": "dataframe",
              "variable_name": "esc50_data",
              "summary": "{\n  \"name\": \"esc50_data\",\n  \"rows\": 2000,\n  \"fields\": [\n    {\n      \"column\": \"filename\",\n      \"properties\": {\n        \"dtype\": \"string\",\n        \"num_unique_values\": 2000,\n        \"samples\": [\n          \"5-221950-A-22.wav\",\n          \"1-79220-A-17.wav\",\n          \"4-165845-A-45.wav\"\n        ],\n        \"semantic_type\": \"\",\n        \"description\": \"\"\n      }\n    },\n    {\n      \"column\": \"fold\",\n      \"properties\": {\n        \"dtype\": \"number\",\n        \"std\": 1,\n        \"min\": 1,\n        \"max\": 5,\n        \"num_unique_values\": 5,\n        \"samples\": [\n          2,\n          5,\n          3\n        ],\n        \"semantic_type\": \"\",\n        \"description\": \"\"\n      }\n    },\n    {\n      \"column\": \"target\",\n      \"properties\": {\n        \"dtype\": \"number\",\n        \"std\": 14,\n        \"min\": 0,\n        \"max\": 49,\n        \"num_unique_values\": 50,\n        \"samples\": [\n          45,\n          18,\n          26\n        ],\n        \"semantic_type\": \"\",\n        \"description\": \"\"\n      }\n    },\n    {\n      \"column\": \"category\",\n      \"properties\": {\n        \"dtype\": \"category\",\n        \"num_unique_values\": 50,\n        \"samples\": [\n          \"train\",\n          \"toilet_flush\",\n          \"laughing\"\n        ],\n        \"semantic_type\": \"\",\n        \"description\": \"\"\n      }\n    },\n    {\n      \"column\": \"esc10\",\n      \"properties\": {\n        \"dtype\": \"boolean\",\n        \"num_unique_values\": 2,\n        \"samples\": [\n          false,\n          true\n        ],\n        \"semantic_type\": \"\",\n        \"description\": \"\"\n      }\n    },\n    {\n      \"column\": \"src_file\",\n      \"properties\": {\n        \"dtype\": \"number\",\n        \"std\": 64882,\n        \"min\": 137,\n        \"max\": 264453,\n        \"num_unique_values\": 1524,\n        \"samples\": [\n          155130,\n          21935\n        ],\n        \"semantic_type\": \"\",\n        \"description\": \"\"\n      }\n    },\n    {\n      \"column\": \"take\",\n      \"properties\": {\n        \"dtype\": \"category\",\n        \"num_unique_values\": 8,\n        \"samples\": [\n          \"B\",\n          \"F\"\n        ],\n        \"semantic_type\": \"\",\n        \"description\": \"\"\n      }\n    }\n  ]\n}"
            }
          },
          "metadata": {},
          "execution_count": 6
        }
      ]
    },
    {
      "cell_type": "code",
      "source": [
        "animals = ['dog', 'rooster', 'pig', 'cow', 'frog', 'cat', 'hen', 'insects', 'sheep', 'crow']\n",
        "map_class_to_id = {'dog':0,'rooster':1, 'pig':2, 'cow':3, 'frog':4, 'cat':5, 'hen':6, 'insects':7, 'sheep':8, 'crow':9}\n",
        "\n",
        "esc50_animals = esc50_data[esc50_data.category.isin(animals)]\n",
        "\n",
        "class_id = esc50_animals['category'].apply(lambda name: map_class_to_id[name])\n",
        "esc50_animals = esc50_animals.assign(target=class_id)\n",
        "\n",
        "esc50_animals.head(10)"
      ],
      "metadata": {
        "id": "1Iv9yA6uI6oG",
        "colab": {
          "base_uri": "https://localhost:8080/",
          "height": 549
        },
        "outputId": "77379350-1d9f-4931-eea0-a2ab494fbc5e"
      },
      "execution_count": 7,
      "outputs": [
        {
          "output_type": "execute_result",
          "data": {
            "text/plain": [
              "            filename  fold  target category  esc10  src_file take\n",
              "0   1-100032-A-0.wav     1       0      dog   True    100032    A\n",
              "8   1-103298-A-9.wav     1       9     crow  False    103298    A\n",
              "14  1-110389-A-0.wav     1       0      dog   True    110389    A\n",
              "29  1-121951-A-8.wav     1       8    sheep  False    121951    A\n",
              "45   1-15689-A-4.wav     1       4     frog  False     15689    A\n",
              "46   1-15689-B-4.wav     1       4     frog  False     15689    B\n",
              "49   1-16568-A-3.wav     1       3      cow  False     16568    A\n",
              "64   1-17585-A-7.wav     1       7  insects  False     17585    A\n",
              "69   1-17970-A-4.wav     1       4     frog  False     17970    A\n",
              "70   1-18074-A-6.wav     1       6      hen  False     18074    A"
            ],
            "text/html": [
              "\n",
              "  <div id=\"df-80247205-7d1c-4f4b-a78d-16bfe510545b\" class=\"colab-df-container\">\n",
              "    <div>\n",
              "<style scoped>\n",
              "    .dataframe tbody tr th:only-of-type {\n",
              "        vertical-align: middle;\n",
              "    }\n",
              "\n",
              "    .dataframe tbody tr th {\n",
              "        vertical-align: top;\n",
              "    }\n",
              "\n",
              "    .dataframe thead th {\n",
              "        text-align: right;\n",
              "    }\n",
              "</style>\n",
              "<table border=\"1\" class=\"dataframe\">\n",
              "  <thead>\n",
              "    <tr style=\"text-align: right;\">\n",
              "      <th></th>\n",
              "      <th>filename</th>\n",
              "      <th>fold</th>\n",
              "      <th>target</th>\n",
              "      <th>category</th>\n",
              "      <th>esc10</th>\n",
              "      <th>src_file</th>\n",
              "      <th>take</th>\n",
              "    </tr>\n",
              "  </thead>\n",
              "  <tbody>\n",
              "    <tr>\n",
              "      <th>0</th>\n",
              "      <td>1-100032-A-0.wav</td>\n",
              "      <td>1</td>\n",
              "      <td>0</td>\n",
              "      <td>dog</td>\n",
              "      <td>True</td>\n",
              "      <td>100032</td>\n",
              "      <td>A</td>\n",
              "    </tr>\n",
              "    <tr>\n",
              "      <th>8</th>\n",
              "      <td>1-103298-A-9.wav</td>\n",
              "      <td>1</td>\n",
              "      <td>9</td>\n",
              "      <td>crow</td>\n",
              "      <td>False</td>\n",
              "      <td>103298</td>\n",
              "      <td>A</td>\n",
              "    </tr>\n",
              "    <tr>\n",
              "      <th>14</th>\n",
              "      <td>1-110389-A-0.wav</td>\n",
              "      <td>1</td>\n",
              "      <td>0</td>\n",
              "      <td>dog</td>\n",
              "      <td>True</td>\n",
              "      <td>110389</td>\n",
              "      <td>A</td>\n",
              "    </tr>\n",
              "    <tr>\n",
              "      <th>29</th>\n",
              "      <td>1-121951-A-8.wav</td>\n",
              "      <td>1</td>\n",
              "      <td>8</td>\n",
              "      <td>sheep</td>\n",
              "      <td>False</td>\n",
              "      <td>121951</td>\n",
              "      <td>A</td>\n",
              "    </tr>\n",
              "    <tr>\n",
              "      <th>45</th>\n",
              "      <td>1-15689-A-4.wav</td>\n",
              "      <td>1</td>\n",
              "      <td>4</td>\n",
              "      <td>frog</td>\n",
              "      <td>False</td>\n",
              "      <td>15689</td>\n",
              "      <td>A</td>\n",
              "    </tr>\n",
              "    <tr>\n",
              "      <th>46</th>\n",
              "      <td>1-15689-B-4.wav</td>\n",
              "      <td>1</td>\n",
              "      <td>4</td>\n",
              "      <td>frog</td>\n",
              "      <td>False</td>\n",
              "      <td>15689</td>\n",
              "      <td>B</td>\n",
              "    </tr>\n",
              "    <tr>\n",
              "      <th>49</th>\n",
              "      <td>1-16568-A-3.wav</td>\n",
              "      <td>1</td>\n",
              "      <td>3</td>\n",
              "      <td>cow</td>\n",
              "      <td>False</td>\n",
              "      <td>16568</td>\n",
              "      <td>A</td>\n",
              "    </tr>\n",
              "    <tr>\n",
              "      <th>64</th>\n",
              "      <td>1-17585-A-7.wav</td>\n",
              "      <td>1</td>\n",
              "      <td>7</td>\n",
              "      <td>insects</td>\n",
              "      <td>False</td>\n",
              "      <td>17585</td>\n",
              "      <td>A</td>\n",
              "    </tr>\n",
              "    <tr>\n",
              "      <th>69</th>\n",
              "      <td>1-17970-A-4.wav</td>\n",
              "      <td>1</td>\n",
              "      <td>4</td>\n",
              "      <td>frog</td>\n",
              "      <td>False</td>\n",
              "      <td>17970</td>\n",
              "      <td>A</td>\n",
              "    </tr>\n",
              "    <tr>\n",
              "      <th>70</th>\n",
              "      <td>1-18074-A-6.wav</td>\n",
              "      <td>1</td>\n",
              "      <td>6</td>\n",
              "      <td>hen</td>\n",
              "      <td>False</td>\n",
              "      <td>18074</td>\n",
              "      <td>A</td>\n",
              "    </tr>\n",
              "  </tbody>\n",
              "</table>\n",
              "</div>\n",
              "    <div class=\"colab-df-buttons\">\n",
              "\n",
              "  <div class=\"colab-df-container\">\n",
              "    <button class=\"colab-df-convert\" onclick=\"convertToInteractive('df-80247205-7d1c-4f4b-a78d-16bfe510545b')\"\n",
              "            title=\"Convert this dataframe to an interactive table.\"\n",
              "            style=\"display:none;\">\n",
              "\n",
              "  <svg xmlns=\"http://www.w3.org/2000/svg\" height=\"24px\" viewBox=\"0 -960 960 960\">\n",
              "    <path d=\"M120-120v-720h720v720H120Zm60-500h600v-160H180v160Zm220 220h160v-160H400v160Zm0 220h160v-160H400v160ZM180-400h160v-160H180v160Zm440 0h160v-160H620v160ZM180-180h160v-160H180v160Zm440 0h160v-160H620v160Z\"/>\n",
              "  </svg>\n",
              "    </button>\n",
              "\n",
              "  <style>\n",
              "    .colab-df-container {\n",
              "      display:flex;\n",
              "      gap: 12px;\n",
              "    }\n",
              "\n",
              "    .colab-df-convert {\n",
              "      background-color: #E8F0FE;\n",
              "      border: none;\n",
              "      border-radius: 50%;\n",
              "      cursor: pointer;\n",
              "      display: none;\n",
              "      fill: #1967D2;\n",
              "      height: 32px;\n",
              "      padding: 0 0 0 0;\n",
              "      width: 32px;\n",
              "    }\n",
              "\n",
              "    .colab-df-convert:hover {\n",
              "      background-color: #E2EBFA;\n",
              "      box-shadow: 0px 1px 2px rgba(60, 64, 67, 0.3), 0px 1px 3px 1px rgba(60, 64, 67, 0.15);\n",
              "      fill: #174EA6;\n",
              "    }\n",
              "\n",
              "    .colab-df-buttons div {\n",
              "      margin-bottom: 4px;\n",
              "    }\n",
              "\n",
              "    [theme=dark] .colab-df-convert {\n",
              "      background-color: #3B4455;\n",
              "      fill: #D2E3FC;\n",
              "    }\n",
              "\n",
              "    [theme=dark] .colab-df-convert:hover {\n",
              "      background-color: #434B5C;\n",
              "      box-shadow: 0px 1px 3px 1px rgba(0, 0, 0, 0.15);\n",
              "      filter: drop-shadow(0px 1px 2px rgba(0, 0, 0, 0.3));\n",
              "      fill: #FFFFFF;\n",
              "    }\n",
              "  </style>\n",
              "\n",
              "    <script>\n",
              "      const buttonEl =\n",
              "        document.querySelector('#df-80247205-7d1c-4f4b-a78d-16bfe510545b button.colab-df-convert');\n",
              "      buttonEl.style.display =\n",
              "        google.colab.kernel.accessAllowed ? 'block' : 'none';\n",
              "\n",
              "      async function convertToInteractive(key) {\n",
              "        const element = document.querySelector('#df-80247205-7d1c-4f4b-a78d-16bfe510545b');\n",
              "        const dataTable =\n",
              "          await google.colab.kernel.invokeFunction('convertToInteractive',\n",
              "                                                    [key], {});\n",
              "        if (!dataTable) return;\n",
              "\n",
              "        const docLinkHtml = 'Like what you see? Visit the ' +\n",
              "          '<a target=\"_blank\" href=https://colab.research.google.com/notebooks/data_table.ipynb>data table notebook</a>'\n",
              "          + ' to learn more about interactive tables.';\n",
              "        element.innerHTML = '';\n",
              "        dataTable['output_type'] = 'display_data';\n",
              "        await google.colab.output.renderOutput(dataTable, element);\n",
              "        const docLink = document.createElement('div');\n",
              "        docLink.innerHTML = docLinkHtml;\n",
              "        element.appendChild(docLink);\n",
              "      }\n",
              "    </script>\n",
              "  </div>\n",
              "\n",
              "\n",
              "<div id=\"df-51249d98-6d2e-4fc8-a8d5-9507bd96b2e3\">\n",
              "  <button class=\"colab-df-quickchart\" onclick=\"quickchart('df-51249d98-6d2e-4fc8-a8d5-9507bd96b2e3')\"\n",
              "            title=\"Suggest charts\"\n",
              "            style=\"display:none;\">\n",
              "\n",
              "<svg xmlns=\"http://www.w3.org/2000/svg\" height=\"24px\"viewBox=\"0 0 24 24\"\n",
              "     width=\"24px\">\n",
              "    <g>\n",
              "        <path d=\"M19 3H5c-1.1 0-2 .9-2 2v14c0 1.1.9 2 2 2h14c1.1 0 2-.9 2-2V5c0-1.1-.9-2-2-2zM9 17H7v-7h2v7zm4 0h-2V7h2v10zm4 0h-2v-4h2v4z\"/>\n",
              "    </g>\n",
              "</svg>\n",
              "  </button>\n",
              "\n",
              "<style>\n",
              "  .colab-df-quickchart {\n",
              "      --bg-color: #E8F0FE;\n",
              "      --fill-color: #1967D2;\n",
              "      --hover-bg-color: #E2EBFA;\n",
              "      --hover-fill-color: #174EA6;\n",
              "      --disabled-fill-color: #AAA;\n",
              "      --disabled-bg-color: #DDD;\n",
              "  }\n",
              "\n",
              "  [theme=dark] .colab-df-quickchart {\n",
              "      --bg-color: #3B4455;\n",
              "      --fill-color: #D2E3FC;\n",
              "      --hover-bg-color: #434B5C;\n",
              "      --hover-fill-color: #FFFFFF;\n",
              "      --disabled-bg-color: #3B4455;\n",
              "      --disabled-fill-color: #666;\n",
              "  }\n",
              "\n",
              "  .colab-df-quickchart {\n",
              "    background-color: var(--bg-color);\n",
              "    border: none;\n",
              "    border-radius: 50%;\n",
              "    cursor: pointer;\n",
              "    display: none;\n",
              "    fill: var(--fill-color);\n",
              "    height: 32px;\n",
              "    padding: 0;\n",
              "    width: 32px;\n",
              "  }\n",
              "\n",
              "  .colab-df-quickchart:hover {\n",
              "    background-color: var(--hover-bg-color);\n",
              "    box-shadow: 0 1px 2px rgba(60, 64, 67, 0.3), 0 1px 3px 1px rgba(60, 64, 67, 0.15);\n",
              "    fill: var(--button-hover-fill-color);\n",
              "  }\n",
              "\n",
              "  .colab-df-quickchart-complete:disabled,\n",
              "  .colab-df-quickchart-complete:disabled:hover {\n",
              "    background-color: var(--disabled-bg-color);\n",
              "    fill: var(--disabled-fill-color);\n",
              "    box-shadow: none;\n",
              "  }\n",
              "\n",
              "  .colab-df-spinner {\n",
              "    border: 2px solid var(--fill-color);\n",
              "    border-color: transparent;\n",
              "    border-bottom-color: var(--fill-color);\n",
              "    animation:\n",
              "      spin 1s steps(1) infinite;\n",
              "  }\n",
              "\n",
              "  @keyframes spin {\n",
              "    0% {\n",
              "      border-color: transparent;\n",
              "      border-bottom-color: var(--fill-color);\n",
              "      border-left-color: var(--fill-color);\n",
              "    }\n",
              "    20% {\n",
              "      border-color: transparent;\n",
              "      border-left-color: var(--fill-color);\n",
              "      border-top-color: var(--fill-color);\n",
              "    }\n",
              "    30% {\n",
              "      border-color: transparent;\n",
              "      border-left-color: var(--fill-color);\n",
              "      border-top-color: var(--fill-color);\n",
              "      border-right-color: var(--fill-color);\n",
              "    }\n",
              "    40% {\n",
              "      border-color: transparent;\n",
              "      border-right-color: var(--fill-color);\n",
              "      border-top-color: var(--fill-color);\n",
              "    }\n",
              "    60% {\n",
              "      border-color: transparent;\n",
              "      border-right-color: var(--fill-color);\n",
              "    }\n",
              "    80% {\n",
              "      border-color: transparent;\n",
              "      border-right-color: var(--fill-color);\n",
              "      border-bottom-color: var(--fill-color);\n",
              "    }\n",
              "    90% {\n",
              "      border-color: transparent;\n",
              "      border-bottom-color: var(--fill-color);\n",
              "    }\n",
              "  }\n",
              "</style>\n",
              "\n",
              "  <script>\n",
              "    async function quickchart(key) {\n",
              "      const quickchartButtonEl =\n",
              "        document.querySelector('#' + key + ' button');\n",
              "      quickchartButtonEl.disabled = true;  // To prevent multiple clicks.\n",
              "      quickchartButtonEl.classList.add('colab-df-spinner');\n",
              "      try {\n",
              "        const charts = await google.colab.kernel.invokeFunction(\n",
              "            'suggestCharts', [key], {});\n",
              "      } catch (error) {\n",
              "        console.error('Error during call to suggestCharts:', error);\n",
              "      }\n",
              "      quickchartButtonEl.classList.remove('colab-df-spinner');\n",
              "      quickchartButtonEl.classList.add('colab-df-quickchart-complete');\n",
              "    }\n",
              "    (() => {\n",
              "      let quickchartButtonEl =\n",
              "        document.querySelector('#df-51249d98-6d2e-4fc8-a8d5-9507bd96b2e3 button');\n",
              "      quickchartButtonEl.style.display =\n",
              "        google.colab.kernel.accessAllowed ? 'block' : 'none';\n",
              "    })();\n",
              "  </script>\n",
              "</div>\n",
              "\n",
              "    </div>\n",
              "  </div>\n"
            ],
            "application/vnd.google.colaboratory.intrinsic+json": {
              "type": "dataframe",
              "variable_name": "esc50_animals",
              "summary": "{\n  \"name\": \"esc50_animals\",\n  \"rows\": 400,\n  \"fields\": [\n    {\n      \"column\": \"filename\",\n      \"properties\": {\n        \"dtype\": \"string\",\n        \"num_unique_values\": 400,\n        \"samples\": [\n          \"3-171281-A-6.wav\",\n          \"4-183992-A-0.wav\",\n          \"1-31836-B-4.wav\"\n        ],\n        \"semantic_type\": \"\",\n        \"description\": \"\"\n      }\n    },\n    {\n      \"column\": \"fold\",\n      \"properties\": {\n        \"dtype\": \"number\",\n        \"std\": 1,\n        \"min\": 1,\n        \"max\": 5,\n        \"num_unique_values\": 5,\n        \"samples\": [\n          2,\n          5,\n          3\n        ],\n        \"semantic_type\": \"\",\n        \"description\": \"\"\n      }\n    },\n    {\n      \"column\": \"target\",\n      \"properties\": {\n        \"dtype\": \"number\",\n        \"std\": 2,\n        \"min\": 0,\n        \"max\": 9,\n        \"num_unique_values\": 10,\n        \"samples\": [\n          1,\n          9,\n          7\n        ],\n        \"semantic_type\": \"\",\n        \"description\": \"\"\n      }\n    },\n    {\n      \"column\": \"category\",\n      \"properties\": {\n        \"dtype\": \"category\",\n        \"num_unique_values\": 10,\n        \"samples\": [\n          \"rooster\",\n          \"crow\",\n          \"insects\"\n        ],\n        \"semantic_type\": \"\",\n        \"description\": \"\"\n      }\n    },\n    {\n      \"column\": \"esc10\",\n      \"properties\": {\n        \"dtype\": \"boolean\",\n        \"num_unique_values\": 2,\n        \"samples\": [\n          false,\n          true\n        ],\n        \"semantic_type\": \"\",\n        \"description\": \"\"\n      }\n    },\n    {\n      \"column\": \"src_file\",\n      \"properties\": {\n        \"dtype\": \"number\",\n        \"std\": 65852,\n        \"min\": 5996,\n        \"max\": 263831,\n        \"num_unique_values\": 267,\n        \"samples\": [\n          134049,\n          75189\n        ],\n        \"semantic_type\": \"\",\n        \"description\": \"\"\n      }\n    },\n    {\n      \"column\": \"take\",\n      \"properties\": {\n        \"dtype\": \"category\",\n        \"num_unique_values\": 5,\n        \"samples\": [\n          \"B\",\n          \"E\"\n        ],\n        \"semantic_type\": \"\",\n        \"description\": \"\"\n      }\n    }\n  ]\n}"
            }
          },
          "metadata": {},
          "execution_count": 7
        }
      ]
    },
    {
      "cell_type": "code",
      "source": [
        "def preprocess_wav(filename, target_sr=16000):\n",
        "    filename = 'audio/' + filename\n",
        "    # Load the .wav file using librosa\n",
        "    audio, sampling_rate = librosa.load(filename, sr=None)\n",
        "\n",
        "    # Resample to target sample rate (16kHz)\n",
        "    audio = librosa.resample(audio, orig_sr=sampling_rate, target_sr=target_sr)\n",
        "\n",
        "    # If audio has more than 1 channel, convert to mono\n",
        "    if len(audio.shape) > 1:\n",
        "        audio = librosa.to_mono(audio)\n",
        "\n",
        "    # Convert to float32 TensorFlow tensor\n",
        "    audio_tensor = tf.convert_to_tensor(audio, dtype=tf.float32)\n",
        "\n",
        "    return audio_tensor"
      ],
      "metadata": {
        "id": "B24lA4a-npoS"
      },
      "execution_count": 8,
      "outputs": []
    },
    {
      "cell_type": "code",
      "source": [
        "# @tf.function\n",
        "# def load_wav_16k_mono(filename):\n",
        "#     \"\"\" Load a WAV file, convert it to a float tensor, resample to 16 kHz single-channel audio. \"\"\"\n",
        "#     file_contents = tf.io.read_file(filename)\n",
        "#     wav, sample_rate = tf.audio.decode_wav(\n",
        "#           file_contents,\n",
        "#           desired_channels=1)\n",
        "#     wav = tf.squeeze(wav, axis=-1)\n",
        "#     sample_rate = tf.cast(sample_rate, dtype=tf.int64)\n",
        "#     wav = tfio.audio.resample(wav, rate_in=sample_rate, rate_out=16000)\n",
        "#     return wav"
      ],
      "metadata": {
        "id": "bL-IotE7sLgB"
      },
      "execution_count": 9,
      "outputs": []
    },
    {
      "cell_type": "markdown",
      "source": [
        "# YAMNet"
      ],
      "metadata": {
        "id": "3FUzQpxFmLCk"
      }
    },
    {
      "cell_type": "code",
      "execution_count": 10,
      "metadata": {
        "id": "VHt2rorjnRFr"
      },
      "outputs": [],
      "source": [
        "yamnet_model_handle = 'https://tfhub.dev/google/yamnet/1'\n",
        "yamnet = hub.load(yamnet_model_handle)"
      ]
    },
    {
      "cell_type": "code",
      "source": [
        "# get a sample .wav file\n",
        "sample_file = esc50_animals.iloc[0]['filename']\n",
        "esc_single_waveform = preprocess_wav(sample_file)\n",
        "\n",
        "# # plot and display\n",
        "# _ = plt.plot(esc_single_waveform)\n",
        "# display.Audio(esc_single_waveform, rate=16000)\n",
        "\n",
        "esc_single_waveform.shape"
      ],
      "metadata": {
        "id": "UBqou94-oE_j",
        "colab": {
          "base_uri": "https://localhost:8080/"
        },
        "outputId": "cdc9dbff-1a53-4912-9749-1d7caadf484a"
      },
      "execution_count": 11,
      "outputs": [
        {
          "output_type": "execute_result",
          "data": {
            "text/plain": [
              "TensorShape([80000])"
            ]
          },
          "metadata": {},
          "execution_count": 11
        }
      ]
    },
    {
      "cell_type": "code",
      "source": [
        "class_map_path = yamnet.class_map_path().numpy().decode('utf-8')\n",
        "class_names =list(pd.read_csv(class_map_path)['display_name'])"
      ],
      "metadata": {
        "id": "_QEHfmUZo0AL"
      },
      "execution_count": 12,
      "outputs": []
    },
    {
      "cell_type": "code",
      "source": [
        "# to find the top-scored class, take the maximum of the 521 aggregated scores.\n",
        "scores, embeddings, spectrogram = yamnet(esc_single_waveform)\n",
        "scores_np = scores.numpy()\n",
        "spectrogram_np = spectrogram.numpy()\n",
        "infered_class = class_names[scores_np.mean(axis=0).argmax()]\n",
        "print(f'The main sound is: {infered_class}')"
      ],
      "metadata": {
        "id": "pwEvBP05o7uP",
        "colab": {
          "base_uri": "https://localhost:8080/"
        },
        "outputId": "1ba315a9-50ac-4a8d-e918-d3b6f6425d0d"
      },
      "execution_count": 13,
      "outputs": [
        {
          "output_type": "stream",
          "name": "stdout",
          "text": [
            "The main sound is: Silence\n"
          ]
        }
      ]
    },
    {
      "cell_type": "code",
      "source": [
        "# results = []\n",
        "\n",
        "# # for each file in the esc50_animals\n",
        "# for index, row in esc50_animals.iterrows():\n",
        "\n",
        "#     #preprocess\n",
        "#     filename = row['filename']\n",
        "#     wav = preprocess_wav(filename)\n",
        "\n",
        "#     #run yamnet\n",
        "#     scores, embeddings, spectrogram = yamnet(wav)\n",
        "\n",
        "#     # convert scores to numpy array and find the inferred class\n",
        "#     scores_np = scores.numpy()\n",
        "#     predicted = class_names[scores_np.mean(axis=0).argmax()]\n",
        "\n",
        "#     # Store the result\n",
        "#     results.append({\n",
        "#         #'filename': filename,\n",
        "#         'predicted class': predicted.lower(),\n",
        "#         'true class': row['category']\n",
        "#     })\n",
        "\n",
        "# results_df = pd.DataFrame(results)"
      ],
      "metadata": {
        "id": "TvQr1Ruo5Yw_"
      },
      "execution_count": 14,
      "outputs": []
    },
    {
      "cell_type": "code",
      "source": [
        "# results_df.head(20)"
      ],
      "metadata": {
        "id": "w7p5XPSh6rh2"
      },
      "execution_count": 15,
      "outputs": []
    },
    {
      "cell_type": "markdown",
      "source": [
        "# Sequential Model"
      ],
      "metadata": {
        "id": "RRKR2-WM4fNz"
      }
    },
    {
      "cell_type": "code",
      "source": [
        "class_map_path = yamnet.class_map_path().numpy().decode('utf-8')\n",
        "class_names =list(pd.read_csv(class_map_path)['display_name'])"
      ],
      "metadata": {
        "id": "BGeKIM1uJVwi"
      },
      "execution_count": 16,
      "outputs": []
    },
    {
      "cell_type": "code",
      "source": [
        "animals = ['dog', 'rooster', 'pig', 'cow', 'frog', 'cat', 'hen', 'insects', 'sheep', 'crow']\n",
        "map_class_to_id = {'dog':0,'rooster':1, 'pig':2, 'cow':3, 'frog':4, 'cat':5, 'hen':6, 'insects':7, 'sheep':8, 'crow':9}\n",
        "\n",
        "esc50_animals = esc50_data[esc50_data.category.isin(animals)]\n",
        "\n",
        "class_id = esc50_animals['category'].apply(lambda name: map_class_to_id[name])\n",
        "esc50_animals = esc50_animals.assign(target=class_id)\n",
        "\n",
        "esc50_animals.head(5)"
      ],
      "metadata": {
        "id": "5_8XWe9DJWm-",
        "colab": {
          "base_uri": "https://localhost:8080/",
          "height": 204
        },
        "outputId": "9ef048d4-bbbb-4156-becd-c3e39d58ff0b"
      },
      "execution_count": 17,
      "outputs": [
        {
          "output_type": "execute_result",
          "data": {
            "text/plain": [
              "            filename  fold  target category  esc10  src_file take\n",
              "0   1-100032-A-0.wav     1       0      dog   True    100032    A\n",
              "8   1-103298-A-9.wav     1       9     crow  False    103298    A\n",
              "14  1-110389-A-0.wav     1       0      dog   True    110389    A\n",
              "29  1-121951-A-8.wav     1       8    sheep  False    121951    A\n",
              "45   1-15689-A-4.wav     1       4     frog  False     15689    A"
            ],
            "text/html": [
              "\n",
              "  <div id=\"df-8a13fa7b-c4aa-442d-a44f-c447a0d4052c\" class=\"colab-df-container\">\n",
              "    <div>\n",
              "<style scoped>\n",
              "    .dataframe tbody tr th:only-of-type {\n",
              "        vertical-align: middle;\n",
              "    }\n",
              "\n",
              "    .dataframe tbody tr th {\n",
              "        vertical-align: top;\n",
              "    }\n",
              "\n",
              "    .dataframe thead th {\n",
              "        text-align: right;\n",
              "    }\n",
              "</style>\n",
              "<table border=\"1\" class=\"dataframe\">\n",
              "  <thead>\n",
              "    <tr style=\"text-align: right;\">\n",
              "      <th></th>\n",
              "      <th>filename</th>\n",
              "      <th>fold</th>\n",
              "      <th>target</th>\n",
              "      <th>category</th>\n",
              "      <th>esc10</th>\n",
              "      <th>src_file</th>\n",
              "      <th>take</th>\n",
              "    </tr>\n",
              "  </thead>\n",
              "  <tbody>\n",
              "    <tr>\n",
              "      <th>0</th>\n",
              "      <td>1-100032-A-0.wav</td>\n",
              "      <td>1</td>\n",
              "      <td>0</td>\n",
              "      <td>dog</td>\n",
              "      <td>True</td>\n",
              "      <td>100032</td>\n",
              "      <td>A</td>\n",
              "    </tr>\n",
              "    <tr>\n",
              "      <th>8</th>\n",
              "      <td>1-103298-A-9.wav</td>\n",
              "      <td>1</td>\n",
              "      <td>9</td>\n",
              "      <td>crow</td>\n",
              "      <td>False</td>\n",
              "      <td>103298</td>\n",
              "      <td>A</td>\n",
              "    </tr>\n",
              "    <tr>\n",
              "      <th>14</th>\n",
              "      <td>1-110389-A-0.wav</td>\n",
              "      <td>1</td>\n",
              "      <td>0</td>\n",
              "      <td>dog</td>\n",
              "      <td>True</td>\n",
              "      <td>110389</td>\n",
              "      <td>A</td>\n",
              "    </tr>\n",
              "    <tr>\n",
              "      <th>29</th>\n",
              "      <td>1-121951-A-8.wav</td>\n",
              "      <td>1</td>\n",
              "      <td>8</td>\n",
              "      <td>sheep</td>\n",
              "      <td>False</td>\n",
              "      <td>121951</td>\n",
              "      <td>A</td>\n",
              "    </tr>\n",
              "    <tr>\n",
              "      <th>45</th>\n",
              "      <td>1-15689-A-4.wav</td>\n",
              "      <td>1</td>\n",
              "      <td>4</td>\n",
              "      <td>frog</td>\n",
              "      <td>False</td>\n",
              "      <td>15689</td>\n",
              "      <td>A</td>\n",
              "    </tr>\n",
              "  </tbody>\n",
              "</table>\n",
              "</div>\n",
              "    <div class=\"colab-df-buttons\">\n",
              "\n",
              "  <div class=\"colab-df-container\">\n",
              "    <button class=\"colab-df-convert\" onclick=\"convertToInteractive('df-8a13fa7b-c4aa-442d-a44f-c447a0d4052c')\"\n",
              "            title=\"Convert this dataframe to an interactive table.\"\n",
              "            style=\"display:none;\">\n",
              "\n",
              "  <svg xmlns=\"http://www.w3.org/2000/svg\" height=\"24px\" viewBox=\"0 -960 960 960\">\n",
              "    <path d=\"M120-120v-720h720v720H120Zm60-500h600v-160H180v160Zm220 220h160v-160H400v160Zm0 220h160v-160H400v160ZM180-400h160v-160H180v160Zm440 0h160v-160H620v160ZM180-180h160v-160H180v160Zm440 0h160v-160H620v160Z\"/>\n",
              "  </svg>\n",
              "    </button>\n",
              "\n",
              "  <style>\n",
              "    .colab-df-container {\n",
              "      display:flex;\n",
              "      gap: 12px;\n",
              "    }\n",
              "\n",
              "    .colab-df-convert {\n",
              "      background-color: #E8F0FE;\n",
              "      border: none;\n",
              "      border-radius: 50%;\n",
              "      cursor: pointer;\n",
              "      display: none;\n",
              "      fill: #1967D2;\n",
              "      height: 32px;\n",
              "      padding: 0 0 0 0;\n",
              "      width: 32px;\n",
              "    }\n",
              "\n",
              "    .colab-df-convert:hover {\n",
              "      background-color: #E2EBFA;\n",
              "      box-shadow: 0px 1px 2px rgba(60, 64, 67, 0.3), 0px 1px 3px 1px rgba(60, 64, 67, 0.15);\n",
              "      fill: #174EA6;\n",
              "    }\n",
              "\n",
              "    .colab-df-buttons div {\n",
              "      margin-bottom: 4px;\n",
              "    }\n",
              "\n",
              "    [theme=dark] .colab-df-convert {\n",
              "      background-color: #3B4455;\n",
              "      fill: #D2E3FC;\n",
              "    }\n",
              "\n",
              "    [theme=dark] .colab-df-convert:hover {\n",
              "      background-color: #434B5C;\n",
              "      box-shadow: 0px 1px 3px 1px rgba(0, 0, 0, 0.15);\n",
              "      filter: drop-shadow(0px 1px 2px rgba(0, 0, 0, 0.3));\n",
              "      fill: #FFFFFF;\n",
              "    }\n",
              "  </style>\n",
              "\n",
              "    <script>\n",
              "      const buttonEl =\n",
              "        document.querySelector('#df-8a13fa7b-c4aa-442d-a44f-c447a0d4052c button.colab-df-convert');\n",
              "      buttonEl.style.display =\n",
              "        google.colab.kernel.accessAllowed ? 'block' : 'none';\n",
              "\n",
              "      async function convertToInteractive(key) {\n",
              "        const element = document.querySelector('#df-8a13fa7b-c4aa-442d-a44f-c447a0d4052c');\n",
              "        const dataTable =\n",
              "          await google.colab.kernel.invokeFunction('convertToInteractive',\n",
              "                                                    [key], {});\n",
              "        if (!dataTable) return;\n",
              "\n",
              "        const docLinkHtml = 'Like what you see? Visit the ' +\n",
              "          '<a target=\"_blank\" href=https://colab.research.google.com/notebooks/data_table.ipynb>data table notebook</a>'\n",
              "          + ' to learn more about interactive tables.';\n",
              "        element.innerHTML = '';\n",
              "        dataTable['output_type'] = 'display_data';\n",
              "        await google.colab.output.renderOutput(dataTable, element);\n",
              "        const docLink = document.createElement('div');\n",
              "        docLink.innerHTML = docLinkHtml;\n",
              "        element.appendChild(docLink);\n",
              "      }\n",
              "    </script>\n",
              "  </div>\n",
              "\n",
              "\n",
              "<div id=\"df-4ab6213e-fe90-4ce8-91b0-e0639c09b7af\">\n",
              "  <button class=\"colab-df-quickchart\" onclick=\"quickchart('df-4ab6213e-fe90-4ce8-91b0-e0639c09b7af')\"\n",
              "            title=\"Suggest charts\"\n",
              "            style=\"display:none;\">\n",
              "\n",
              "<svg xmlns=\"http://www.w3.org/2000/svg\" height=\"24px\"viewBox=\"0 0 24 24\"\n",
              "     width=\"24px\">\n",
              "    <g>\n",
              "        <path d=\"M19 3H5c-1.1 0-2 .9-2 2v14c0 1.1.9 2 2 2h14c1.1 0 2-.9 2-2V5c0-1.1-.9-2-2-2zM9 17H7v-7h2v7zm4 0h-2V7h2v10zm4 0h-2v-4h2v4z\"/>\n",
              "    </g>\n",
              "</svg>\n",
              "  </button>\n",
              "\n",
              "<style>\n",
              "  .colab-df-quickchart {\n",
              "      --bg-color: #E8F0FE;\n",
              "      --fill-color: #1967D2;\n",
              "      --hover-bg-color: #E2EBFA;\n",
              "      --hover-fill-color: #174EA6;\n",
              "      --disabled-fill-color: #AAA;\n",
              "      --disabled-bg-color: #DDD;\n",
              "  }\n",
              "\n",
              "  [theme=dark] .colab-df-quickchart {\n",
              "      --bg-color: #3B4455;\n",
              "      --fill-color: #D2E3FC;\n",
              "      --hover-bg-color: #434B5C;\n",
              "      --hover-fill-color: #FFFFFF;\n",
              "      --disabled-bg-color: #3B4455;\n",
              "      --disabled-fill-color: #666;\n",
              "  }\n",
              "\n",
              "  .colab-df-quickchart {\n",
              "    background-color: var(--bg-color);\n",
              "    border: none;\n",
              "    border-radius: 50%;\n",
              "    cursor: pointer;\n",
              "    display: none;\n",
              "    fill: var(--fill-color);\n",
              "    height: 32px;\n",
              "    padding: 0;\n",
              "    width: 32px;\n",
              "  }\n",
              "\n",
              "  .colab-df-quickchart:hover {\n",
              "    background-color: var(--hover-bg-color);\n",
              "    box-shadow: 0 1px 2px rgba(60, 64, 67, 0.3), 0 1px 3px 1px rgba(60, 64, 67, 0.15);\n",
              "    fill: var(--button-hover-fill-color);\n",
              "  }\n",
              "\n",
              "  .colab-df-quickchart-complete:disabled,\n",
              "  .colab-df-quickchart-complete:disabled:hover {\n",
              "    background-color: var(--disabled-bg-color);\n",
              "    fill: var(--disabled-fill-color);\n",
              "    box-shadow: none;\n",
              "  }\n",
              "\n",
              "  .colab-df-spinner {\n",
              "    border: 2px solid var(--fill-color);\n",
              "    border-color: transparent;\n",
              "    border-bottom-color: var(--fill-color);\n",
              "    animation:\n",
              "      spin 1s steps(1) infinite;\n",
              "  }\n",
              "\n",
              "  @keyframes spin {\n",
              "    0% {\n",
              "      border-color: transparent;\n",
              "      border-bottom-color: var(--fill-color);\n",
              "      border-left-color: var(--fill-color);\n",
              "    }\n",
              "    20% {\n",
              "      border-color: transparent;\n",
              "      border-left-color: var(--fill-color);\n",
              "      border-top-color: var(--fill-color);\n",
              "    }\n",
              "    30% {\n",
              "      border-color: transparent;\n",
              "      border-left-color: var(--fill-color);\n",
              "      border-top-color: var(--fill-color);\n",
              "      border-right-color: var(--fill-color);\n",
              "    }\n",
              "    40% {\n",
              "      border-color: transparent;\n",
              "      border-right-color: var(--fill-color);\n",
              "      border-top-color: var(--fill-color);\n",
              "    }\n",
              "    60% {\n",
              "      border-color: transparent;\n",
              "      border-right-color: var(--fill-color);\n",
              "    }\n",
              "    80% {\n",
              "      border-color: transparent;\n",
              "      border-right-color: var(--fill-color);\n",
              "      border-bottom-color: var(--fill-color);\n",
              "    }\n",
              "    90% {\n",
              "      border-color: transparent;\n",
              "      border-bottom-color: var(--fill-color);\n",
              "    }\n",
              "  }\n",
              "</style>\n",
              "\n",
              "  <script>\n",
              "    async function quickchart(key) {\n",
              "      const quickchartButtonEl =\n",
              "        document.querySelector('#' + key + ' button');\n",
              "      quickchartButtonEl.disabled = true;  // To prevent multiple clicks.\n",
              "      quickchartButtonEl.classList.add('colab-df-spinner');\n",
              "      try {\n",
              "        const charts = await google.colab.kernel.invokeFunction(\n",
              "            'suggestCharts', [key], {});\n",
              "      } catch (error) {\n",
              "        console.error('Error during call to suggestCharts:', error);\n",
              "      }\n",
              "      quickchartButtonEl.classList.remove('colab-df-spinner');\n",
              "      quickchartButtonEl.classList.add('colab-df-quickchart-complete');\n",
              "    }\n",
              "    (() => {\n",
              "      let quickchartButtonEl =\n",
              "        document.querySelector('#df-4ab6213e-fe90-4ce8-91b0-e0639c09b7af button');\n",
              "      quickchartButtonEl.style.display =\n",
              "        google.colab.kernel.accessAllowed ? 'block' : 'none';\n",
              "    })();\n",
              "  </script>\n",
              "</div>\n",
              "\n",
              "    </div>\n",
              "  </div>\n"
            ],
            "application/vnd.google.colaboratory.intrinsic+json": {
              "type": "dataframe",
              "variable_name": "esc50_animals",
              "summary": "{\n  \"name\": \"esc50_animals\",\n  \"rows\": 400,\n  \"fields\": [\n    {\n      \"column\": \"filename\",\n      \"properties\": {\n        \"dtype\": \"string\",\n        \"num_unique_values\": 400,\n        \"samples\": [\n          \"3-171281-A-6.wav\",\n          \"4-183992-A-0.wav\",\n          \"1-31836-B-4.wav\"\n        ],\n        \"semantic_type\": \"\",\n        \"description\": \"\"\n      }\n    },\n    {\n      \"column\": \"fold\",\n      \"properties\": {\n        \"dtype\": \"number\",\n        \"std\": 1,\n        \"min\": 1,\n        \"max\": 5,\n        \"num_unique_values\": 5,\n        \"samples\": [\n          2,\n          5,\n          3\n        ],\n        \"semantic_type\": \"\",\n        \"description\": \"\"\n      }\n    },\n    {\n      \"column\": \"target\",\n      \"properties\": {\n        \"dtype\": \"number\",\n        \"std\": 2,\n        \"min\": 0,\n        \"max\": 9,\n        \"num_unique_values\": 10,\n        \"samples\": [\n          1,\n          9,\n          7\n        ],\n        \"semantic_type\": \"\",\n        \"description\": \"\"\n      }\n    },\n    {\n      \"column\": \"category\",\n      \"properties\": {\n        \"dtype\": \"category\",\n        \"num_unique_values\": 10,\n        \"samples\": [\n          \"rooster\",\n          \"crow\",\n          \"insects\"\n        ],\n        \"semantic_type\": \"\",\n        \"description\": \"\"\n      }\n    },\n    {\n      \"column\": \"esc10\",\n      \"properties\": {\n        \"dtype\": \"boolean\",\n        \"num_unique_values\": 2,\n        \"samples\": [\n          false,\n          true\n        ],\n        \"semantic_type\": \"\",\n        \"description\": \"\"\n      }\n    },\n    {\n      \"column\": \"src_file\",\n      \"properties\": {\n        \"dtype\": \"number\",\n        \"std\": 65852,\n        \"min\": 5996,\n        \"max\": 263831,\n        \"num_unique_values\": 267,\n        \"samples\": [\n          134049,\n          75189\n        ],\n        \"semantic_type\": \"\",\n        \"description\": \"\"\n      }\n    },\n    {\n      \"column\": \"take\",\n      \"properties\": {\n        \"dtype\": \"category\",\n        \"num_unique_values\": 5,\n        \"samples\": [\n          \"B\",\n          \"E\"\n        ],\n        \"semantic_type\": \"\",\n        \"description\": \"\"\n      }\n    }\n  ]\n}"
            }
          },
          "metadata": {},
          "execution_count": 17
        }
      ]
    },
    {
      "cell_type": "code",
      "source": [
        "# convert columns to numpy arrays\n",
        "filenames = esc50_animals['filename']\n",
        "targets = esc50_animals['target']\n",
        "folds = esc50_animals['fold']\n",
        "\n",
        "esc50 = tf.data.Dataset.from_tensor_slices((filenames, targets, folds))\n",
        "esc50.element_spec"
      ],
      "metadata": {
        "id": "0wPb2vegphGt",
        "colab": {
          "base_uri": "https://localhost:8080/"
        },
        "outputId": "015cdcb4-b136-48bf-d156-c6d811e2a938"
      },
      "execution_count": 18,
      "outputs": [
        {
          "output_type": "execute_result",
          "data": {
            "text/plain": [
              "(TensorSpec(shape=(), dtype=tf.string, name=None),\n",
              " TensorSpec(shape=(), dtype=tf.int64, name=None),\n",
              " TensorSpec(shape=(), dtype=tf.int64, name=None))"
            ]
          },
          "metadata": {},
          "execution_count": 18
        }
      ]
    },
    {
      "cell_type": "code",
      "source": [
        "# def load_wav_for_map(filename, label, fold):\n",
        "#     return preprocess_wav(filename), label, fold\n",
        "\n",
        "# esc50 = esc50.map(load_wav_for_map)\n",
        "# esc50.element_spec"
      ],
      "metadata": {
        "id": "sl96xsu-OCFF"
      },
      "execution_count": 19,
      "outputs": []
    },
    {
      "cell_type": "code",
      "source": [
        "def load_wav_for_map(filename, label, fold):\n",
        "    def _load_wav(filename):\n",
        "        filename_str = filename.numpy().decode('utf-8')\n",
        "        return preprocess_wav(filename_str)\n",
        "\n",
        "    # wrap the python-based _load_wav function\n",
        "    audio = tf.py_function(_load_wav, [filename], tf.float32)\n",
        "    return audio, label, fold\n",
        "\n",
        "esc50 = esc50.map(load_wav_for_map)\n",
        "esc50.element_spec"
      ],
      "metadata": {
        "id": "-2gh4nbapqY6",
        "colab": {
          "base_uri": "https://localhost:8080/"
        },
        "outputId": "0ff6233f-cc29-40aa-eba9-99c946af3e50"
      },
      "execution_count": 20,
      "outputs": [
        {
          "output_type": "execute_result",
          "data": {
            "text/plain": [
              "(TensorSpec(shape=<unknown>, dtype=tf.float32, name=None),\n",
              " TensorSpec(shape=(), dtype=tf.int64, name=None),\n",
              " TensorSpec(shape=(), dtype=tf.int64, name=None))"
            ]
          },
          "metadata": {},
          "execution_count": 20
        }
      ]
    },
    {
      "cell_type": "code",
      "source": [
        "# applies the embedding extraction model to a wav data\n",
        "def extract_embedding(wav_data, label, fold):\n",
        "  # run YAMNet to extract embedding from the wav data\n",
        "  scores, embeddings, spectrogram = yamnet(wav_data)\n",
        "  num_embeddings = tf.shape(embeddings)[0]\n",
        "  return (embeddings,\n",
        "            tf.repeat(label, num_embeddings),\n",
        "            tf.repeat(fold, num_embeddings))\n",
        "\n",
        "# extract embedding\n",
        "esc50 = esc50.map(extract_embedding).unbatch()\n",
        "esc50.element_spec"
      ],
      "metadata": {
        "id": "VXcdgUzsuCUr",
        "colab": {
          "base_uri": "https://localhost:8080/"
        },
        "outputId": "d23febed-fc74-4ade-d4dd-dfeae2039a97"
      },
      "execution_count": 21,
      "outputs": [
        {
          "output_type": "execute_result",
          "data": {
            "text/plain": [
              "(TensorSpec(shape=(1024,), dtype=tf.float32, name=None),\n",
              " TensorSpec(shape=(), dtype=tf.int64, name=None),\n",
              " TensorSpec(shape=(), dtype=tf.int64, name=None))"
            ]
          },
          "metadata": {},
          "execution_count": 21
        }
      ]
    },
    {
      "cell_type": "code",
      "source": [
        "# clips from the same original source should always be in the same fold\n",
        "cached_ds = esc50.cache()\n",
        "train_ds = cached_ds.filter(lambda embedding, label, fold: fold < 4)\n",
        "val_ds = cached_ds.filter(lambda embedding, label, fold: fold == 4)\n",
        "test_ds = cached_ds.filter(lambda embedding, label, fold: fold == 5)"
      ],
      "metadata": {
        "id": "kMoeHAHm0ohR"
      },
      "execution_count": 22,
      "outputs": []
    },
    {
      "cell_type": "code",
      "source": [
        "# remove the folds column now that it's not needed anymore\n",
        "remove_fold_column = lambda embedding, label, fold: (embedding, label)\n",
        "\n",
        "train_ds = train_ds.map(remove_fold_column)\n",
        "val_ds = val_ds.map(remove_fold_column)\n",
        "test_ds = test_ds.map(remove_fold_column)\n",
        "\n",
        "train_ds = train_ds.cache().shuffle(1000).batch(32).prefetch(tf.data.AUTOTUNE)\n",
        "val_ds = val_ds.cache().batch(32).prefetch(tf.data.AUTOTUNE)\n",
        "test_ds = test_ds.cache().batch(32).prefetch(tf.data.AUTOTUNE)"
      ],
      "metadata": {
        "id": "qJiK2efpxgxA"
      },
      "execution_count": 23,
      "outputs": []
    },
    {
      "cell_type": "code",
      "source": [
        "num_classes = len(animals)\n",
        "\n",
        "my_model = tf.keras.Sequential([\n",
        "    tf.keras.layers.Input(shape=(1024,), dtype=tf.float32, name='input_embedding'),\n",
        "    tf.keras.layers.Dense(512, activation='relu'),\n",
        "    tf.keras.layers.Dense(num_classes)\n",
        "], name='my_model')\n",
        "\n",
        "#my_model.summary()"
      ],
      "metadata": {
        "id": "mcKvTzFS0mqD"
      },
      "execution_count": 24,
      "outputs": []
    },
    {
      "cell_type": "code",
      "source": [
        "my_model.compile(loss=tf.keras.losses.SparseCategoricalCrossentropy(from_logits=True),\n",
        "                 optimizer=\"adam\",\n",
        "                 metrics=['accuracy'])\n",
        "\n",
        "callback = tf.keras.callbacks.EarlyStopping(monitor='loss',\n",
        "                                            patience=3,\n",
        "                                            restore_best_weights=True)"
      ],
      "metadata": {
        "id": "6EmN23gY07Zm"
      },
      "execution_count": 25,
      "outputs": []
    },
    {
      "cell_type": "code",
      "source": [
        "history = my_model.fit(train_ds,\n",
        "                       epochs=40,\n",
        "                       validation_data=val_ds,\n",
        "                       callbacks=callback)"
      ],
      "metadata": {
        "id": "Fxx-A5d81nRr",
        "colab": {
          "base_uri": "https://localhost:8080/"
        },
        "outputId": "7fe2d50b-2d02-4f12-def7-fc9ac45cbf2d"
      },
      "execution_count": 26,
      "outputs": [
        {
          "output_type": "stream",
          "name": "stdout",
          "text": [
            "Epoch 1/40\n",
            "     72/Unknown \u001b[1m21s\u001b[0m 211ms/step - accuracy: 0.5937 - loss: 1.7215"
          ]
        },
        {
          "output_type": "stream",
          "name": "stderr",
          "text": [
            "/usr/lib/python3.10/contextlib.py:153: UserWarning: Your input ran out of data; interrupting training. Make sure that your dataset or generator can generate at least `steps_per_epoch * epochs` batches. You may need to use the `.repeat()` function when building your dataset.\n",
            "  self.gen.throw(typ, value, traceback)\n"
          ]
        },
        {
          "output_type": "stream",
          "name": "stdout",
          "text": [
            "\b\b\b\b\b\b\b\b\b\b\b\b\b\b\b\b\b\b\b\b\b\b\b\b\b\b\b\b\b\b\b\b\b\b\b\b\b\b\b\b\b\b\b\b\b\b\b\b\b\b\b\b\b\b\b\b\b\b\b\b\b\b\b\b\r\u001b[1m75/75\u001b[0m \u001b[32m━━━━━━━━━━━━━━━━━━━━\u001b[0m\u001b[37m\u001b[0m \u001b[1m21s\u001b[0m 209ms/step - accuracy: 0.5999 - loss: 1.6959 - val_accuracy: 0.7738 - val_loss: 0.7312\n",
            "Epoch 2/40\n",
            "\u001b[1m75/75\u001b[0m \u001b[32m━━━━━━━━━━━━━━━━━━━━\u001b[0m\u001b[37m\u001b[0m \u001b[1m1s\u001b[0m 11ms/step - accuracy: 0.7745 - loss: 0.7873 - val_accuracy: 0.7800 - val_loss: 0.6727\n",
            "Epoch 3/40\n",
            "\u001b[1m75/75\u001b[0m \u001b[32m━━━━━━━━━━━━━━━━━━━━\u001b[0m\u001b[37m\u001b[0m \u001b[1m2s\u001b[0m 14ms/step - accuracy: 0.8209 - loss: 0.6116 - val_accuracy: 0.7613 - val_loss: 0.7470\n",
            "Epoch 4/40\n",
            "\u001b[1m75/75\u001b[0m \u001b[32m━━━━━━━━━━━━━━━━━━━━\u001b[0m\u001b[37m\u001b[0m \u001b[1m1s\u001b[0m 15ms/step - accuracy: 0.8431 - loss: 0.5049 - val_accuracy: 0.7600 - val_loss: 0.7369\n",
            "Epoch 5/40\n",
            "\u001b[1m75/75\u001b[0m \u001b[32m━━━━━━━━━━━━━━━━━━━━\u001b[0m\u001b[37m\u001b[0m \u001b[1m1s\u001b[0m 11ms/step - accuracy: 0.8573 - loss: 0.4833 - val_accuracy: 0.7362 - val_loss: 0.7146\n",
            "Epoch 6/40\n",
            "\u001b[1m75/75\u001b[0m \u001b[32m━━━━━━━━━━━━━━━━━━━━\u001b[0m\u001b[37m\u001b[0m \u001b[1m1s\u001b[0m 10ms/step - accuracy: 0.8637 - loss: 0.4233 - val_accuracy: 0.7663 - val_loss: 0.7414\n",
            "Epoch 7/40\n",
            "\u001b[1m75/75\u001b[0m \u001b[32m━━━━━━━━━━━━━━━━━━━━\u001b[0m\u001b[37m\u001b[0m \u001b[1m1s\u001b[0m 10ms/step - accuracy: 0.8839 - loss: 0.3558 - val_accuracy: 0.7387 - val_loss: 0.7512\n",
            "Epoch 8/40\n",
            "\u001b[1m75/75\u001b[0m \u001b[32m━━━━━━━━━━━━━━━━━━━━\u001b[0m\u001b[37m\u001b[0m \u001b[1m1s\u001b[0m 10ms/step - accuracy: 0.8723 - loss: 0.3813 - val_accuracy: 0.7600 - val_loss: 0.7754\n",
            "Epoch 9/40\n",
            "\u001b[1m75/75\u001b[0m \u001b[32m━━━━━━━━━━━━━━━━━━━━\u001b[0m\u001b[37m\u001b[0m \u001b[1m1s\u001b[0m 10ms/step - accuracy: 0.8959 - loss: 0.3481 - val_accuracy: 0.7688 - val_loss: 0.7566\n",
            "Epoch 10/40\n",
            "\u001b[1m75/75\u001b[0m \u001b[32m━━━━━━━━━━━━━━━━━━━━\u001b[0m\u001b[37m\u001b[0m \u001b[1m1s\u001b[0m 10ms/step - accuracy: 0.8948 - loss: 0.3272 - val_accuracy: 0.7613 - val_loss: 0.7976\n",
            "Epoch 11/40\n",
            "\u001b[1m75/75\u001b[0m \u001b[32m━━━━━━━━━━━━━━━━━━━━\u001b[0m\u001b[37m\u001b[0m \u001b[1m1s\u001b[0m 10ms/step - accuracy: 0.8934 - loss: 0.3007 - val_accuracy: 0.7738 - val_loss: 0.7656\n",
            "Epoch 12/40\n",
            "\u001b[1m75/75\u001b[0m \u001b[32m━━━━━━━━━━━━━━━━━━━━\u001b[0m\u001b[37m\u001b[0m \u001b[1m1s\u001b[0m 10ms/step - accuracy: 0.9114 - loss: 0.2793 - val_accuracy: 0.7613 - val_loss: 0.8427\n",
            "Epoch 13/40\n",
            "\u001b[1m75/75\u001b[0m \u001b[32m━━━━━━━━━━━━━━━━━━━━\u001b[0m\u001b[37m\u001b[0m \u001b[1m1s\u001b[0m 9ms/step - accuracy: 0.8992 - loss: 0.3005 - val_accuracy: 0.7638 - val_loss: 0.8186\n",
            "Epoch 14/40\n",
            "\u001b[1m75/75\u001b[0m \u001b[32m━━━━━━━━━━━━━━━━━━━━\u001b[0m\u001b[37m\u001b[0m \u001b[1m1s\u001b[0m 10ms/step - accuracy: 0.9080 - loss: 0.2821 - val_accuracy: 0.7725 - val_loss: 0.8216\n",
            "Epoch 15/40\n",
            "\u001b[1m75/75\u001b[0m \u001b[32m━━━━━━━━━━━━━━━━━━━━\u001b[0m\u001b[37m\u001b[0m \u001b[1m1s\u001b[0m 14ms/step - accuracy: 0.9038 - loss: 0.2839 - val_accuracy: 0.7688 - val_loss: 0.8461\n",
            "Epoch 16/40\n",
            "\u001b[1m75/75\u001b[0m \u001b[32m━━━━━━━━━━━━━━━━━━━━\u001b[0m\u001b[37m\u001b[0m \u001b[1m1s\u001b[0m 14ms/step - accuracy: 0.9074 - loss: 0.2786 - val_accuracy: 0.7763 - val_loss: 0.8303\n",
            "Epoch 17/40\n",
            "\u001b[1m75/75\u001b[0m \u001b[32m━━━━━━━━━━━━━━━━━━━━\u001b[0m\u001b[37m\u001b[0m \u001b[1m1s\u001b[0m 17ms/step - accuracy: 0.9116 - loss: 0.2614 - val_accuracy: 0.7663 - val_loss: 0.8653\n",
            "Epoch 18/40\n",
            "\u001b[1m75/75\u001b[0m \u001b[32m━━━━━━━━━━━━━━━━━━━━\u001b[0m\u001b[37m\u001b[0m \u001b[1m1s\u001b[0m 11ms/step - accuracy: 0.9113 - loss: 0.2575 - val_accuracy: 0.7663 - val_loss: 0.8856\n",
            "Epoch 19/40\n",
            "\u001b[1m75/75\u001b[0m \u001b[32m━━━━━━━━━━━━━━━━━━━━\u001b[0m\u001b[37m\u001b[0m \u001b[1m1s\u001b[0m 9ms/step - accuracy: 0.9050 - loss: 0.2707 - val_accuracy: 0.7725 - val_loss: 0.8970\n",
            "Epoch 20/40\n",
            "\u001b[1m75/75\u001b[0m \u001b[32m━━━━━━━━━━━━━━━━━━━━\u001b[0m\u001b[37m\u001b[0m \u001b[1m1s\u001b[0m 10ms/step - accuracy: 0.9135 - loss: 0.2636 - val_accuracy: 0.7700 - val_loss: 0.9192\n",
            "Epoch 21/40\n",
            "\u001b[1m75/75\u001b[0m \u001b[32m━━━━━━━━━━━━━━━━━━━━\u001b[0m\u001b[37m\u001b[0m \u001b[1m1s\u001b[0m 11ms/step - accuracy: 0.9079 - loss: 0.2475 - val_accuracy: 0.7700 - val_loss: 0.9216\n",
            "Epoch 22/40\n",
            "\u001b[1m75/75\u001b[0m \u001b[32m━━━━━━━━━━━━━━━━━━━━\u001b[0m\u001b[37m\u001b[0m \u001b[1m1s\u001b[0m 11ms/step - accuracy: 0.9167 - loss: 0.2585 - val_accuracy: 0.7625 - val_loss: 0.9725\n",
            "Epoch 23/40\n",
            "\u001b[1m75/75\u001b[0m \u001b[32m━━━━━━━━━━━━━━━━━━━━\u001b[0m\u001b[37m\u001b[0m \u001b[1m1s\u001b[0m 11ms/step - accuracy: 0.9054 - loss: 0.2544 - val_accuracy: 0.7663 - val_loss: 0.9549\n",
            "Epoch 24/40\n",
            "\u001b[1m75/75\u001b[0m \u001b[32m━━━━━━━━━━━━━━━━━━━━\u001b[0m\u001b[37m\u001b[0m \u001b[1m1s\u001b[0m 10ms/step - accuracy: 0.9170 - loss: 0.2434 - val_accuracy: 0.7675 - val_loss: 0.9619\n",
            "Epoch 25/40\n",
            "\u001b[1m75/75\u001b[0m \u001b[32m━━━━━━━━━━━━━━━━━━━━\u001b[0m\u001b[37m\u001b[0m \u001b[1m1s\u001b[0m 11ms/step - accuracy: 0.9057 - loss: 0.2684 - val_accuracy: 0.7700 - val_loss: 0.9609\n",
            "Epoch 26/40\n",
            "\u001b[1m75/75\u001b[0m \u001b[32m━━━━━━━━━━━━━━━━━━━━\u001b[0m\u001b[37m\u001b[0m \u001b[1m1s\u001b[0m 11ms/step - accuracy: 0.9130 - loss: 0.2476 - val_accuracy: 0.7588 - val_loss: 0.9820\n",
            "Epoch 27/40\n",
            "\u001b[1m75/75\u001b[0m \u001b[32m━━━━━━━━━━━━━━━━━━━━\u001b[0m\u001b[37m\u001b[0m \u001b[1m1s\u001b[0m 15ms/step - accuracy: 0.9167 - loss: 0.2336 - val_accuracy: 0.7688 - val_loss: 1.0039\n",
            "Epoch 28/40\n",
            "\u001b[1m75/75\u001b[0m \u001b[32m━━━━━━━━━━━━━━━━━━━━\u001b[0m\u001b[37m\u001b[0m \u001b[1m1s\u001b[0m 15ms/step - accuracy: 0.9088 - loss: 0.2602 - val_accuracy: 0.7725 - val_loss: 0.9964\n",
            "Epoch 29/40\n",
            "\u001b[1m75/75\u001b[0m \u001b[32m━━━━━━━━━━━━━━━━━━━━\u001b[0m\u001b[37m\u001b[0m \u001b[1m1s\u001b[0m 17ms/step - accuracy: 0.9075 - loss: 0.2426 - val_accuracy: 0.7650 - val_loss: 1.0067\n",
            "Epoch 30/40\n",
            "\u001b[1m75/75\u001b[0m \u001b[32m━━━━━━━━━━━━━━━━━━━━\u001b[0m\u001b[37m\u001b[0m \u001b[1m2s\u001b[0m 11ms/step - accuracy: 0.9130 - loss: 0.2475 - val_accuracy: 0.7688 - val_loss: 1.0181\n",
            "Epoch 31/40\n",
            "\u001b[1m75/75\u001b[0m \u001b[32m━━━━━━━━━━━━━━━━━━━━\u001b[0m\u001b[37m\u001b[0m \u001b[1m1s\u001b[0m 10ms/step - accuracy: 0.9102 - loss: 0.2414 - val_accuracy: 0.7738 - val_loss: 1.0205\n",
            "Epoch 32/40\n",
            "\u001b[1m75/75\u001b[0m \u001b[32m━━━━━━━━━━━━━━━━━━━━\u001b[0m\u001b[37m\u001b[0m \u001b[1m1s\u001b[0m 10ms/step - accuracy: 0.9194 - loss: 0.2388 - val_accuracy: 0.7663 - val_loss: 1.0447\n",
            "Epoch 33/40\n",
            "\u001b[1m75/75\u001b[0m \u001b[32m━━━━━━━━━━━━━━━━━━━━\u001b[0m\u001b[37m\u001b[0m \u001b[1m1s\u001b[0m 11ms/step - accuracy: 0.9109 - loss: 0.2431 - val_accuracy: 0.7650 - val_loss: 1.0507\n",
            "Epoch 34/40\n",
            "\u001b[1m75/75\u001b[0m \u001b[32m━━━━━━━━━━━━━━━━━━━━\u001b[0m\u001b[37m\u001b[0m \u001b[1m1s\u001b[0m 10ms/step - accuracy: 0.9175 - loss: 0.2242 - val_accuracy: 0.7763 - val_loss: 1.0431\n",
            "Epoch 35/40\n",
            "\u001b[1m75/75\u001b[0m \u001b[32m━━━━━━━━━━━━━━━━━━━━\u001b[0m\u001b[37m\u001b[0m \u001b[1m1s\u001b[0m 11ms/step - accuracy: 0.9123 - loss: 0.2411 - val_accuracy: 0.7725 - val_loss: 1.0548\n",
            "Epoch 36/40\n",
            "\u001b[1m75/75\u001b[0m \u001b[32m━━━━━━━━━━━━━━━━━━━━\u001b[0m\u001b[37m\u001b[0m \u001b[1m1s\u001b[0m 10ms/step - accuracy: 0.9154 - loss: 0.2333 - val_accuracy: 0.7663 - val_loss: 1.0589\n",
            "Epoch 37/40\n",
            "\u001b[1m75/75\u001b[0m \u001b[32m━━━━━━━━━━━━━━━━━━━━\u001b[0m\u001b[37m\u001b[0m \u001b[1m1s\u001b[0m 10ms/step - accuracy: 0.9154 - loss: 0.2361 - val_accuracy: 0.7650 - val_loss: 1.0877\n",
            "Epoch 38/40\n",
            "\u001b[1m75/75\u001b[0m \u001b[32m━━━━━━━━━━━━━━━━━━━━\u001b[0m\u001b[37m\u001b[0m \u001b[1m2s\u001b[0m 14ms/step - accuracy: 0.9293 - loss: 0.2038 - val_accuracy: 0.7663 - val_loss: 1.0875\n",
            "Epoch 39/40\n",
            "\u001b[1m75/75\u001b[0m \u001b[32m━━━━━━━━━━━━━━━━━━━━\u001b[0m\u001b[37m\u001b[0m \u001b[1m1s\u001b[0m 15ms/step - accuracy: 0.9227 - loss: 0.2148 - val_accuracy: 0.7688 - val_loss: 1.0941\n",
            "Epoch 40/40\n",
            "\u001b[1m75/75\u001b[0m \u001b[32m━━━━━━━━━━━━━━━━━━━━\u001b[0m\u001b[37m\u001b[0m \u001b[1m1s\u001b[0m 12ms/step - accuracy: 0.9199 - loss: 0.2146 - val_accuracy: 0.7688 - val_loss: 1.0897\n"
          ]
        }
      ]
    },
    {
      "cell_type": "code",
      "source": [
        "# evaluate the model\n",
        "loss, accuracy = my_model.evaluate(test_ds)\n",
        "print(f'Test accuracy: {accuracy:.4f}')"
      ],
      "metadata": {
        "id": "9tK560NO2n5v",
        "colab": {
          "base_uri": "https://localhost:8080/"
        },
        "outputId": "d7bfbaeb-f188-4128-8826-de83dff3d91b"
      },
      "execution_count": 27,
      "outputs": [
        {
          "output_type": "stream",
          "name": "stdout",
          "text": [
            "\u001b[1m25/25\u001b[0m \u001b[32m━━━━━━━━━━━━━━━━━━━━\u001b[0m\u001b[37m\u001b[0m \u001b[1m0s\u001b[0m 5ms/step - accuracy: 0.5849 - loss: 2.4194\n",
            "Test accuracy: 0.6862\n"
          ]
        }
      ]
    },
    {
      "cell_type": "markdown",
      "source": [
        "# Confusion Matrix"
      ],
      "metadata": {
        "id": "X_nd5slRuvXh"
      }
    },
    {
      "cell_type": "code",
      "source": [
        "# with early stopping\n",
        "# 20 epochs: 0.8188 (stopped at 13)\n",
        "# 40 epochs: 0.6750 (stopped at 8)"
      ],
      "metadata": {
        "id": "tC0xxdzaTDl9"
      },
      "execution_count": 28,
      "outputs": []
    },
    {
      "cell_type": "code",
      "source": [
        "# get the true labels and predicted labels\n",
        "true_labels = []\n",
        "predicted_labels = []\n",
        "\n",
        "for embedding, label in test_ds:\n",
        "    true_labels.append(label.numpy())  # true label\n",
        "    predictions = my_model.predict(embedding)  #  model predictions\n",
        "    predicted_labels.append(np.argmax(predictions, axis=1))  # convert predictions to class labels\n",
        "\n",
        "# convert lists to arrays\n",
        "true_labels = np.concatenate(true_labels)\n",
        "predicted_labels = np.concatenate(predicted_labels)"
      ],
      "metadata": {
        "colab": {
          "base_uri": "https://localhost:8080/"
        },
        "id": "XNdTVHHjkG66",
        "outputId": "028f9e9d-547d-4536-aed6-ada8ba810f5f"
      },
      "execution_count": 29,
      "outputs": [
        {
          "output_type": "stream",
          "name": "stdout",
          "text": [
            "\u001b[1m1/1\u001b[0m \u001b[32m━━━━━━━━━━━━━━━━━━━━\u001b[0m\u001b[37m\u001b[0m \u001b[1m0s\u001b[0m 70ms/step\n",
            "\u001b[1m1/1\u001b[0m \u001b[32m━━━━━━━━━━━━━━━━━━━━\u001b[0m\u001b[37m\u001b[0m \u001b[1m0s\u001b[0m 23ms/step\n",
            "\u001b[1m1/1\u001b[0m \u001b[32m━━━━━━━━━━━━━━━━━━━━\u001b[0m\u001b[37m\u001b[0m \u001b[1m0s\u001b[0m 21ms/step\n",
            "\u001b[1m1/1\u001b[0m \u001b[32m━━━━━━━━━━━━━━━━━━━━\u001b[0m\u001b[37m\u001b[0m \u001b[1m0s\u001b[0m 21ms/step\n",
            "\u001b[1m1/1\u001b[0m \u001b[32m━━━━━━━━━━━━━━━━━━━━\u001b[0m\u001b[37m\u001b[0m \u001b[1m0s\u001b[0m 20ms/step\n",
            "\u001b[1m1/1\u001b[0m \u001b[32m━━━━━━━━━━━━━━━━━━━━\u001b[0m\u001b[37m\u001b[0m \u001b[1m0s\u001b[0m 26ms/step\n",
            "\u001b[1m1/1\u001b[0m \u001b[32m━━━━━━━━━━━━━━━━━━━━\u001b[0m\u001b[37m\u001b[0m \u001b[1m0s\u001b[0m 28ms/step\n",
            "\u001b[1m1/1\u001b[0m \u001b[32m━━━━━━━━━━━━━━━━━━━━\u001b[0m\u001b[37m\u001b[0m \u001b[1m0s\u001b[0m 27ms/step\n",
            "\u001b[1m1/1\u001b[0m \u001b[32m━━━━━━━━━━━━━━━━━━━━\u001b[0m\u001b[37m\u001b[0m \u001b[1m0s\u001b[0m 30ms/step\n",
            "\u001b[1m1/1\u001b[0m \u001b[32m━━━━━━━━━━━━━━━━━━━━\u001b[0m\u001b[37m\u001b[0m \u001b[1m0s\u001b[0m 25ms/step\n",
            "\u001b[1m1/1\u001b[0m \u001b[32m━━━━━━━━━━━━━━━━━━━━\u001b[0m\u001b[37m\u001b[0m \u001b[1m0s\u001b[0m 32ms/step\n",
            "\u001b[1m1/1\u001b[0m \u001b[32m━━━━━━━━━━━━━━━━━━━━\u001b[0m\u001b[37m\u001b[0m \u001b[1m0s\u001b[0m 29ms/step\n",
            "\u001b[1m1/1\u001b[0m \u001b[32m━━━━━━━━━━━━━━━━━━━━\u001b[0m\u001b[37m\u001b[0m \u001b[1m0s\u001b[0m 23ms/step\n",
            "\u001b[1m1/1\u001b[0m \u001b[32m━━━━━━━━━━━━━━━━━━━━\u001b[0m\u001b[37m\u001b[0m \u001b[1m0s\u001b[0m 25ms/step\n",
            "\u001b[1m1/1\u001b[0m \u001b[32m━━━━━━━━━━━━━━━━━━━━\u001b[0m\u001b[37m\u001b[0m \u001b[1m0s\u001b[0m 22ms/step\n",
            "\u001b[1m1/1\u001b[0m \u001b[32m━━━━━━━━━━━━━━━━━━━━\u001b[0m\u001b[37m\u001b[0m \u001b[1m0s\u001b[0m 21ms/step\n",
            "\u001b[1m1/1\u001b[0m \u001b[32m━━━━━━━━━━━━━━━━━━━━\u001b[0m\u001b[37m\u001b[0m \u001b[1m0s\u001b[0m 25ms/step\n",
            "\u001b[1m1/1\u001b[0m \u001b[32m━━━━━━━━━━━━━━━━━━━━\u001b[0m\u001b[37m\u001b[0m \u001b[1m0s\u001b[0m 30ms/step\n",
            "\u001b[1m1/1\u001b[0m \u001b[32m━━━━━━━━━━━━━━━━━━━━\u001b[0m\u001b[37m\u001b[0m \u001b[1m0s\u001b[0m 21ms/step\n",
            "\u001b[1m1/1\u001b[0m \u001b[32m━━━━━━━━━━━━━━━━━━━━\u001b[0m\u001b[37m\u001b[0m \u001b[1m0s\u001b[0m 23ms/step\n",
            "\u001b[1m1/1\u001b[0m \u001b[32m━━━━━━━━━━━━━━━━━━━━\u001b[0m\u001b[37m\u001b[0m \u001b[1m0s\u001b[0m 24ms/step\n",
            "\u001b[1m1/1\u001b[0m \u001b[32m━━━━━━━━━━━━━━━━━━━━\u001b[0m\u001b[37m\u001b[0m \u001b[1m0s\u001b[0m 34ms/step\n",
            "\u001b[1m1/1\u001b[0m \u001b[32m━━━━━━━━━━━━━━━━━━━━\u001b[0m\u001b[37m\u001b[0m \u001b[1m0s\u001b[0m 30ms/step\n",
            "\u001b[1m1/1\u001b[0m \u001b[32m━━━━━━━━━━━━━━━━━━━━\u001b[0m\u001b[37m\u001b[0m \u001b[1m0s\u001b[0m 22ms/step\n",
            "\u001b[1m1/1\u001b[0m \u001b[32m━━━━━━━━━━━━━━━━━━━━\u001b[0m\u001b[37m\u001b[0m \u001b[1m0s\u001b[0m 121ms/step\n"
          ]
        }
      ]
    },
    {
      "cell_type": "code",
      "source": [
        "# confusion matrix\n",
        "conf_matrix = confusion_matrix(true_labels, predicted_labels)\n",
        "\n",
        "plt.figure(figsize=(10, 8))\n",
        "sns.heatmap(conf_matrix, annot=True, fmt='d', cmap='Blues', xticklabels=animals, yticklabels=animals)\n",
        "plt.xlabel('Predicted Label')\n",
        "plt.ylabel('True Label')\n",
        "plt.title('Confusion Matrix')\n",
        "plt.show()"
      ],
      "metadata": {
        "colab": {
          "base_uri": "https://localhost:8080/",
          "height": 54
        },
        "id": "hSx4Ou1wkMnz",
        "outputId": "c1d78ca4-00c8-4309-f836-ac357f6337f7"
      },
      "execution_count": 30,
      "outputs": [
        {
          "output_type": "display_data",
          "data": {
            "text/plain": [
              "<Figure size 1000x800 with 2 Axes>"
            ],
            "image/png": "[encoded data removed]"
          },
          "metadata": {}
        }
      ]
    },
    {
      "cell_type": "code",
      "source": [
        "scores, embeddings, spectrogram = yamnet(esc_single_waveform)\n",
        "result = my_model(embeddings).numpy()\n",
        "\n",
        "inferred_class = animals[result.mean(axis=0).argmax()]\n",
        "print(f'The main sound is: {inferred_class}')"
      ],
      "metadata": {
        "id": "lY7ArWzQYE-V",
        "colab": {
          "base_uri": "https://localhost:8080/"
        },
        "outputId": "d131fd88-9cb9-4b87-9242-936d6f583fc0"
      },
      "execution_count": 31,
      "outputs": [
        {
          "output_type": "stream",
          "name": "stdout",
          "text": [
            "The main sound is: dog\n"
          ]
        }
      ]
    },
    {
      "cell_type": "markdown",
      "source": [
        "# One Function"
      ],
      "metadata": {
        "id": "jcazx813mf8h"
      }
    },
    {
      "cell_type": "code",
      "source": [
        "# one function to preprocess and predict\n",
        "\n",
        "def full_yamnet(filename):\n",
        "    # preprocess the .wav file\n",
        "    esc_waveform = preprocess_wav(filename)\n",
        "\n",
        "    # run YAMNet and get the embedding\n",
        "    scores, embeddings, spectrogram = yamnet(esc_waveform)\n",
        "\n",
        "    # use the full classification model\n",
        "    predictions =  my_model(embeddings).numpy()\n",
        "\n",
        "    # Get the predicted class label\n",
        "    predicted_label = animals[predictions.mean(axis=0).argmax()]\n",
        "\n",
        "    print(f\"Predicted Category: {predicted_label}\")\n",
        "\n",
        "    # get the true category\n",
        "    category = esc50_animals[esc50_animals['filename'] == filename]['category'].values[0]\n",
        "    print(f\"True Category: {category}\")"
      ],
      "metadata": {
        "id": "ZKcqFAMbmfV5"
      },
      "execution_count": 32,
      "outputs": []
    },
    {
      "cell_type": "code",
      "source": [
        "full_yamnet(esc50_animals.iloc[20]['filename'])"
      ],
      "metadata": {
        "colab": {
          "base_uri": "https://localhost:8080/"
        },
        "id": "Rwal2cKQm5O1",
        "outputId": "2a457082-cd3c-4958-94cf-e7c7f75b8cec"
      },
      "execution_count": 33,
      "outputs": [
        {
          "output_type": "stream",
          "name": "stdout",
          "text": [
            "Predicted Category: pig\n",
            "True Category: pig\n"
          ]
        }
      ]
    },
    {
      "cell_type": "code",
      "source": [
        "esc50_test = esc50_animals[esc50_animals.fold == 5]"
      ],
      "metadata": {
        "id": "DHMJhLaaknrW"
      },
      "execution_count": 34,
      "outputs": []
    },
    {
      "cell_type": "code",
      "source": [
        "results = []\n",
        "count = 0\n",
        "\n",
        "# for each file in the esc50_animals\n",
        "for index, row in esc50_test.iterrows():\n",
        "\n",
        "    #preprocess\n",
        "    filename = row['filename']\n",
        "    wav = preprocess_wav(filename)\n",
        "\n",
        "    # preprocess the .wav file\n",
        "    esc_waveform = preprocess_wav(filename)\n",
        "\n",
        "    # run YAMNet and get the embedding\n",
        "    scores, embeddings, spectrogram = yamnet(esc_waveform)\n",
        "\n",
        "    # use the full classification model\n",
        "    predictions =  my_model(embeddings).numpy()\n",
        "\n",
        "    # Get the predicted class label\n",
        "    predicted_label = animals[predictions.mean(axis=0).argmax()]\n",
        "\n",
        "    # true label\n",
        "    category = esc50_animals[esc50_animals['filename'] == filename]['category'].values[0]\n",
        "\n",
        "\n",
        "    if(predicted_label == category):\n",
        "        count += 1\n",
        "\n",
        "    # Store the result\n",
        "    results.append({\n",
        "        'predicted class': predicted_label,\n",
        "        'true class': category\n",
        "    })\n",
        "\n",
        "results_df = pd.DataFrame(results)"
      ],
      "metadata": {
        "id": "oYY6irbpiZTt"
      },
      "execution_count": 35,
      "outputs": []
    },
    {
      "cell_type": "code",
      "source": [
        "print(\"Accuracy: \", count / 80)"
      ],
      "metadata": {
        "colab": {
          "base_uri": "https://localhost:8080/"
        },
        "id": "7iTnL1dDks3V",
        "outputId": "48ab0dc9-2e44-412d-d187-1eeafab35e63"
      },
      "execution_count": 36,
      "outputs": [
        {
          "output_type": "stream",
          "name": "stdout",
          "text": [
            "Accuracy:  0.925\n"
          ]
        }
      ]
    },
    {
      "cell_type": "markdown",
      "source": [
        "# Save and Quantize Model"
      ],
      "metadata": {
        "id": "oHQ_2LgMuznh"
      }
    },
    {
      "cell_type": "code",
      "source": [
        "saved_model_path = './yamnet_tutorial'\n",
        "\n",
        "class ReduceMeanLayer(tf.keras.layers.Layer):\n",
        "  def __init__(self, axis=0, **kwargs):\n",
        "    super(ReduceMeanLayer, self).__init__(**kwargs)\n",
        "    self.axis = axis\n",
        "\n",
        "  def call(self, input):\n",
        "    return tf.math.reduce_mean(input, axis=self.axis)\n",
        "\n",
        "class YAMNetLayer(Layer):\n",
        "    def __init__(self, yamnet_model_handle, **kwargs):\n",
        "        super(YAMNetLayer, self).__init__(**kwargs)\n",
        "        self.yamnet_layer = hub.KerasLayer(yamnet_model_handle, trainable=False, name='yamnet')\n",
        "\n",
        "    def call(self, inputs):\n",
        "        # reshape the input to match YAMNet's expected 1D tensor input\n",
        "        reshaped_inputs = tf.reshape(inputs, (-1,))\n",
        "        # get embeddings from YAMNet\n",
        "        _, embeddings_output, _ = self.yamnet_layer(reshaped_inputs)\n",
        "        return embeddings_output\n",
        "\n",
        "input_segment = tf.keras.layers.Input(shape=(80000,), dtype=tf.float32, name='audio')\n",
        "embedding_extraction_layer = YAMNetLayer(yamnet_model_handle)\n",
        "embeddings_output = embedding_extraction_layer(input_segment)\n",
        "\n",
        "# pass embeddings to sequential model\n",
        "serving_outputs = my_model(embeddings_output)\n",
        "serving_outputs = ReduceMeanLayer(axis=0, name='classifier')(serving_outputs)\n",
        "\n",
        "serving_model = tf.keras.Model(input_segment, serving_outputs)\n",
        "# tf.saved_model.save(serving_model, saved_model_path)"
      ],
      "metadata": {
        "id": "AgXTAfwhu3k2"
      },
      "execution_count": 37,
      "outputs": []
    },
    {
      "cell_type": "code",
      "source": [
        "#tf.keras.utils.plot_model(serving_model)"
      ],
      "metadata": {
        "collapsed": true,
        "id": "mQYJ_bNEyy2m"
      },
      "execution_count": 38,
      "outputs": []
    },
    {
      "cell_type": "code",
      "source": [
        "%cd /content"
      ],
      "metadata": {
        "colab": {
          "base_uri": "https://localhost:8080/"
        },
        "id": "hF-FHuDwm4UA",
        "outputId": "2c77c5eb-4960-49d7-c5ba-0421aa0f7fe2"
      },
      "execution_count": 39,
      "outputs": [
        {
          "output_type": "stream",
          "name": "stdout",
          "text": [
            "/content\n"
          ]
        }
      ]
    },
    {
      "cell_type": "code",
      "source": [
        "# Convert the model to TFLite.\n",
        "converter = tf.lite.TFLiteConverter.from_keras_model(serving_model)\n",
        "tflite_model = converter.convert()\n",
        "\n",
        "# Save the model.\n",
        "with open('./yamnet_model.tflite', 'wb') as f:\n",
        "  f.write(tflite_model)"
      ],
      "metadata": {
        "colab": {
          "base_uri": "https://localhost:8080/"
        },
        "id": "Xvz3elKZy8DF",
        "outputId": "ecef6800-768b-4f43-f48a-14b89239db1b",
        "collapsed": true
      },
      "execution_count": 40,
      "outputs": [
        {
          "output_type": "stream",
          "name": "stdout",
          "text": [
            "Saved artifact at '/tmp/tmpeu5z1khu'. The following endpoints are available:\n",
            "\n",
            "* Endpoint 'serve'\n",
            "  args_0 (POSITIONAL_ONLY): TensorSpec(shape=(None, 80000), dtype=tf.float32, name='audio')\n",
            "Output Type:\n",
            "  TensorSpec(shape=(10,), dtype=tf.float32, name=None)\n",
            "Captures:\n",
            "  137544677123776: TensorSpec(shape=(), dtype=tf.resource, name=None)\n",
            "  137544672205584: TensorSpec(shape=(32,), dtype=tf.float32, name=None)\n",
            "  137544672206640: TensorSpec(shape=(), dtype=tf.resource, name=None)\n",
            "  137544672206288: TensorSpec(shape=(), dtype=tf.resource, name=None)\n",
            "  137544672205936: TensorSpec(shape=(), dtype=tf.resource, name=None)\n",
            "  137544672205408: TensorSpec(shape=(), dtype=tf.resource, name=None)\n",
            "  137544672204000: TensorSpec(shape=(32,), dtype=tf.float32, name=None)\n",
            "  137544672205056: TensorSpec(shape=(), dtype=tf.resource, name=None)\n",
            "  137544672204704: TensorSpec(shape=(), dtype=tf.resource, name=None)\n",
            "  137544672204352: TensorSpec(shape=(), dtype=tf.resource, name=None)\n",
            "  137544672203824: TensorSpec(shape=(), dtype=tf.resource, name=None)\n",
            "  137544672202416: TensorSpec(shape=(64,), dtype=tf.float32, name=None)\n",
            "  137544672203472: TensorSpec(shape=(), dtype=tf.resource, name=None)\n",
            "  137544672203120: TensorSpec(shape=(), dtype=tf.resource, name=None)\n",
            "  137544672202768: TensorSpec(shape=(), dtype=tf.resource, name=None)\n",
            "  137544672202240: TensorSpec(shape=(), dtype=tf.resource, name=None)\n",
            "  137544672201888: TensorSpec(shape=(64,), dtype=tf.float32, name=None)\n",
            "  137544672201712: TensorSpec(shape=(), dtype=tf.resource, name=None)\n",
            "  137544672201360: TensorSpec(shape=(), dtype=tf.resource, name=None)\n",
            "  137544672201008: TensorSpec(shape=(), dtype=tf.resource, name=None)\n",
            "  137544672200656: TensorSpec(shape=(), dtype=tf.resource, name=None)\n",
            "  137544672200304: TensorSpec(shape=(128,), dtype=tf.float32, name=None)\n",
            "  137544672200128: TensorSpec(shape=(), dtype=tf.resource, name=None)\n",
            "  137544672199776: TensorSpec(shape=(), dtype=tf.resource, name=None)\n",
            "  137544672199424: TensorSpec(shape=(), dtype=tf.resource, name=None)\n",
            "  137544672199072: TensorSpec(shape=(), dtype=tf.resource, name=None)\n",
            "  137544674147872: TensorSpec(shape=(128,), dtype=tf.float32, name=None)\n",
            "  137544674147696: TensorSpec(shape=(), dtype=tf.resource, name=None)\n",
            "  137544674147344: TensorSpec(shape=(), dtype=tf.resource, name=None)\n",
            "  137544672198720: TensorSpec(shape=(), dtype=tf.resource, name=None)\n",
            "  137544674146992: TensorSpec(shape=(), dtype=tf.resource, name=None)\n",
            "  137544674145936: TensorSpec(shape=(128,), dtype=tf.float32, name=None)\n",
            "  137544674145760: TensorSpec(shape=(), dtype=tf.resource, name=None)\n",
            "  137544674146640: TensorSpec(shape=(), dtype=tf.resource, name=None)\n",
            "  137544674146288: TensorSpec(shape=(), dtype=tf.resource, name=None)\n",
            "  137544674145408: TensorSpec(shape=(), dtype=tf.resource, name=None)\n",
            "  137544674144000: TensorSpec(shape=(128,), dtype=tf.float32, name=None)\n",
            "  137544674145056: TensorSpec(shape=(), dtype=tf.resource, name=None)\n",
            "  137544674144704: TensorSpec(shape=(), dtype=tf.resource, name=None)\n",
            "  137544674144352: TensorSpec(shape=(), dtype=tf.resource, name=None)\n",
            "  137544674143824: TensorSpec(shape=(), dtype=tf.resource, name=None)\n",
            "  137544674142416: TensorSpec(shape=(256,), dtype=tf.float32, name=None)\n",
            "  137544674143472: TensorSpec(shape=(), dtype=tf.resource, name=None)\n",
            "  137544674143120: TensorSpec(shape=(), dtype=tf.resource, name=None)\n",
            "  137544674142768: TensorSpec(shape=(), dtype=tf.resource, name=None)\n",
            "  137544674142240: TensorSpec(shape=(), dtype=tf.resource, name=None)\n",
            "  137544674140832: TensorSpec(shape=(256,), dtype=tf.float32, name=None)\n",
            "  137544674141888: TensorSpec(shape=(), dtype=tf.resource, name=None)\n",
            "  137544674141536: TensorSpec(shape=(), dtype=tf.resource, name=None)\n",
            "  137544674141184: TensorSpec(shape=(), dtype=tf.resource, name=None)\n",
            "  137544674140656: TensorSpec(shape=(), dtype=tf.resource, name=None)\n",
            "  137544674139248: TensorSpec(shape=(256,), dtype=tf.float32, name=None)\n",
            "  137544674140304: TensorSpec(shape=(), dtype=tf.resource, name=None)\n",
            "  137544674139952: TensorSpec(shape=(), dtype=tf.resource, name=None)\n",
            "  137544674139600: TensorSpec(shape=(), dtype=tf.resource, name=None)\n",
            "  137544674139072: TensorSpec(shape=(), dtype=tf.resource, name=None)\n",
            "  137544674138720: TensorSpec(shape=(256,), dtype=tf.float32, name=None)\n",
            "  137544674138544: TensorSpec(shape=(), dtype=tf.resource, name=None)\n",
            "  137544674138192: TensorSpec(shape=(), dtype=tf.resource, name=None)\n",
            "  137544674137840: TensorSpec(shape=(), dtype=tf.resource, name=None)\n",
            "  137544674137488: TensorSpec(shape=(), dtype=tf.resource, name=None)\n",
            "  137544674137136: TensorSpec(shape=(512,), dtype=tf.float32, name=None)\n",
            "  137544674136960: TensorSpec(shape=(), dtype=tf.resource, name=None)\n",
            "  137544674136608: TensorSpec(shape=(), dtype=tf.resource, name=None)\n",
            "  137544674136256: TensorSpec(shape=(), dtype=tf.resource, name=None)\n",
            "  137544674135904: TensorSpec(shape=(), dtype=tf.resource, name=None)\n",
            "  137544674135200: TensorSpec(shape=(512,), dtype=tf.float32, name=None)\n",
            "  137544674135024: TensorSpec(shape=(), dtype=tf.resource, name=None)\n",
            "  137544674134672: TensorSpec(shape=(), dtype=tf.resource, name=None)\n",
            "  137544674135552: TensorSpec(shape=(), dtype=tf.resource, name=None)\n",
            "  137544674134320: TensorSpec(shape=(), dtype=tf.resource, name=None)\n",
            "  137544674133264: TensorSpec(shape=(512,), dtype=tf.float32, name=None)\n",
            "  137544674133088: TensorSpec(shape=(), dtype=tf.resource, name=None)\n",
            "  137544674133968: TensorSpec(shape=(), dtype=tf.resource, name=None)\n",
            "  137544674133616: TensorSpec(shape=(), dtype=tf.resource, name=None)\n",
            "  137544674132736: TensorSpec(shape=(), dtype=tf.resource, name=None)\n",
            "  137544674180288: TensorSpec(shape=(512,), dtype=tf.float32, name=None)\n",
            "  137544674132384: TensorSpec(shape=(), dtype=tf.resource, name=None)\n",
            "  137544674132032: TensorSpec(shape=(), dtype=tf.resource, name=None)\n",
            "  137544674180640: TensorSpec(shape=(), dtype=tf.resource, name=None)\n",
            "  137544674180112: TensorSpec(shape=(), dtype=tf.resource, name=None)\n",
            "  137544674178704: TensorSpec(shape=(512,), dtype=tf.float32, name=None)\n",
            "  137544674179760: TensorSpec(shape=(), dtype=tf.resource, name=None)\n",
            "  137544674179408: TensorSpec(shape=(), dtype=tf.resource, name=None)\n",
            "  137544674179056: TensorSpec(shape=(), dtype=tf.resource, name=None)\n",
            "  137544674178528: TensorSpec(shape=(), dtype=tf.resource, name=None)\n",
            "  137544674177120: TensorSpec(shape=(512,), dtype=tf.float32, name=None)\n",
            "  137544674178176: TensorSpec(shape=(), dtype=tf.resource, name=None)\n",
            "  137544674177824: TensorSpec(shape=(), dtype=tf.resource, name=None)\n",
            "  137544674177472: TensorSpec(shape=(), dtype=tf.resource, name=None)\n",
            "  137544674176944: TensorSpec(shape=(), dtype=tf.resource, name=None)\n",
            "  137544674175536: TensorSpec(shape=(512,), dtype=tf.float32, name=None)\n",
            "  137544674176592: TensorSpec(shape=(), dtype=tf.resource, name=None)\n",
            "  137544674176240: TensorSpec(shape=(), dtype=tf.resource, name=None)\n",
            "  137544674175888: TensorSpec(shape=(), dtype=tf.resource, name=None)\n",
            "  137544674175360: TensorSpec(shape=(), dtype=tf.resource, name=None)\n",
            "  137544674175008: TensorSpec(shape=(512,), dtype=tf.float32, name=None)\n",
            "  137544674174832: TensorSpec(shape=(), dtype=tf.resource, name=None)\n",
            "  137544674174480: TensorSpec(shape=(), dtype=tf.resource, name=None)\n",
            "  137544674174128: TensorSpec(shape=(), dtype=tf.resource, name=None)\n",
            "  137544674173776: TensorSpec(shape=(), dtype=tf.resource, name=None)\n",
            "  137544674173424: TensorSpec(shape=(512,), dtype=tf.float32, name=None)\n",
            "  137544674173248: TensorSpec(shape=(), dtype=tf.resource, name=None)\n",
            "  137544674172896: TensorSpec(shape=(), dtype=tf.resource, name=None)\n",
            "  137544674172544: TensorSpec(shape=(), dtype=tf.resource, name=None)\n",
            "  137544674172192: TensorSpec(shape=(), dtype=tf.resource, name=None)\n",
            "  137544674171488: TensorSpec(shape=(512,), dtype=tf.float32, name=None)\n",
            "  137544674171312: TensorSpec(shape=(), dtype=tf.resource, name=None)\n",
            "  137544674170960: TensorSpec(shape=(), dtype=tf.resource, name=None)\n",
            "  137544674171840: TensorSpec(shape=(), dtype=tf.resource, name=None)\n",
            "  137544674170608: TensorSpec(shape=(), dtype=tf.resource, name=None)\n",
            "  137544674169552: TensorSpec(shape=(512,), dtype=tf.float32, name=None)\n",
            "  137544674169376: TensorSpec(shape=(), dtype=tf.resource, name=None)\n",
            "  137544674170256: TensorSpec(shape=(), dtype=tf.resource, name=None)\n",
            "  137544674169904: TensorSpec(shape=(), dtype=tf.resource, name=None)\n",
            "  137544674169024: TensorSpec(shape=(), dtype=tf.resource, name=None)\n",
            "  137544674167616: TensorSpec(shape=(512,), dtype=tf.float32, name=None)\n",
            "  137544674168672: TensorSpec(shape=(), dtype=tf.resource, name=None)\n",
            "  137544674168320: TensorSpec(shape=(), dtype=tf.resource, name=None)\n",
            "  137544674167968: TensorSpec(shape=(), dtype=tf.resource, name=None)\n",
            "  137544674167440: TensorSpec(shape=(), dtype=tf.resource, name=None)\n",
            "  137544674166032: TensorSpec(shape=(1024,), dtype=tf.float32, name=None)\n",
            "  137544674167088: TensorSpec(shape=(), dtype=tf.resource, name=None)\n",
            "  137544674166736: TensorSpec(shape=(), dtype=tf.resource, name=None)\n",
            "  137544674166384: TensorSpec(shape=(), dtype=tf.resource, name=None)\n",
            "  137544674165856: TensorSpec(shape=(), dtype=tf.resource, name=None)\n",
            "  137544673771040: TensorSpec(shape=(1024,), dtype=tf.float32, name=None)\n",
            "  137544674165504: TensorSpec(shape=(), dtype=tf.resource, name=None)\n",
            "  137544674165152: TensorSpec(shape=(), dtype=tf.resource, name=None)\n",
            "  137544674164800: TensorSpec(shape=(), dtype=tf.resource, name=None)\n",
            "  137544673770864: TensorSpec(shape=(), dtype=tf.resource, name=None)\n",
            "  137544673769456: TensorSpec(shape=(1024,), dtype=tf.float32, name=None)\n",
            "  137544673770512: TensorSpec(shape=(), dtype=tf.resource, name=None)\n",
            "  137544673770160: TensorSpec(shape=(), dtype=tf.resource, name=None)\n",
            "  137544673769808: TensorSpec(shape=(), dtype=tf.resource, name=None)\n",
            "  137544673769280: TensorSpec(shape=(), dtype=tf.resource, name=None)\n",
            "  137544673768928: TensorSpec(shape=(), dtype=tf.resource, name=None)\n",
            "  137545193734384: TensorSpec(shape=(), dtype=tf.resource, name=None)\n",
            "  137544723464960: TensorSpec(shape=(), dtype=tf.resource, name=None)\n",
            "  137544723744192: TensorSpec(shape=(), dtype=tf.resource, name=None)\n",
            "  137544723750176: TensorSpec(shape=(), dtype=tf.resource, name=None)\n"
          ]
        }
      ]
    },
    {
      "cell_type": "code",
      "source": [
        "# Convert the model to TFLite AND quantize weights\n",
        "converter = tf.lite.TFLiteConverter.from_keras_model(serving_model)\n",
        "converter.optimizations = [tf.lite.Optimize.DEFAULT]\n",
        "tflite_quant_model = converter.convert()\n",
        "\n",
        "# Save the model.\n",
        "with open('./yamnet_quant_model.tflite', 'wb') as f:\n",
        "  f.write(tflite_quant_model)"
      ],
      "metadata": {
        "colab": {
          "base_uri": "https://localhost:8080/"
        },
        "collapsed": true,
        "id": "Cnk1a_9LlDNY",
        "outputId": "d9aeffff-e24c-4d82-b516-b188585e5092"
      },
      "execution_count": 41,
      "outputs": [
        {
          "output_type": "stream",
          "name": "stdout",
          "text": [
            "Saved artifact at '/tmp/tmpb8rg3uuu'. The following endpoints are available:\n",
            "\n",
            "* Endpoint 'serve'\n",
            "  args_0 (POSITIONAL_ONLY): TensorSpec(shape=(None, 80000), dtype=tf.float32, name='audio')\n",
            "Output Type:\n",
            "  TensorSpec(shape=(10,), dtype=tf.float32, name=None)\n",
            "Captures:\n",
            "  137544677123776: TensorSpec(shape=(), dtype=tf.resource, name=None)\n",
            "  137544672205584: TensorSpec(shape=(32,), dtype=tf.float32, name=None)\n",
            "  137544672206640: TensorSpec(shape=(), dtype=tf.resource, name=None)\n",
            "  137544672206288: TensorSpec(shape=(), dtype=tf.resource, name=None)\n",
            "  137544672205936: TensorSpec(shape=(), dtype=tf.resource, name=None)\n",
            "  137544672205408: TensorSpec(shape=(), dtype=tf.resource, name=None)\n",
            "  137544672204000: TensorSpec(shape=(32,), dtype=tf.float32, name=None)\n",
            "  137544672205056: TensorSpec(shape=(), dtype=tf.resource, name=None)\n",
            "  137544672204704: TensorSpec(shape=(), dtype=tf.resource, name=None)\n",
            "  137544672204352: TensorSpec(shape=(), dtype=tf.resource, name=None)\n",
            "  137544672203824: TensorSpec(shape=(), dtype=tf.resource, name=None)\n",
            "  137544672202416: TensorSpec(shape=(64,), dtype=tf.float32, name=None)\n",
            "  137544672203472: TensorSpec(shape=(), dtype=tf.resource, name=None)\n",
            "  137544672203120: TensorSpec(shape=(), dtype=tf.resource, name=None)\n",
            "  137544672202768: TensorSpec(shape=(), dtype=tf.resource, name=None)\n",
            "  137544672202240: TensorSpec(shape=(), dtype=tf.resource, name=None)\n",
            "  137544672201888: TensorSpec(shape=(64,), dtype=tf.float32, name=None)\n",
            "  137544672201712: TensorSpec(shape=(), dtype=tf.resource, name=None)\n",
            "  137544672201360: TensorSpec(shape=(), dtype=tf.resource, name=None)\n",
            "  137544672201008: TensorSpec(shape=(), dtype=tf.resource, name=None)\n",
            "  137544672200656: TensorSpec(shape=(), dtype=tf.resource, name=None)\n",
            "  137544672200304: TensorSpec(shape=(128,), dtype=tf.float32, name=None)\n",
            "  137544672200128: TensorSpec(shape=(), dtype=tf.resource, name=None)\n",
            "  137544672199776: TensorSpec(shape=(), dtype=tf.resource, name=None)\n",
            "  137544672199424: TensorSpec(shape=(), dtype=tf.resource, name=None)\n",
            "  137544672199072: TensorSpec(shape=(), dtype=tf.resource, name=None)\n",
            "  137544674147872: TensorSpec(shape=(128,), dtype=tf.float32, name=None)\n",
            "  137544674147696: TensorSpec(shape=(), dtype=tf.resource, name=None)\n",
            "  137544674147344: TensorSpec(shape=(), dtype=tf.resource, name=None)\n",
            "  137544672198720: TensorSpec(shape=(), dtype=tf.resource, name=None)\n",
            "  137544674146992: TensorSpec(shape=(), dtype=tf.resource, name=None)\n",
            "  137544674145936: TensorSpec(shape=(128,), dtype=tf.float32, name=None)\n",
            "  137544674145760: TensorSpec(shape=(), dtype=tf.resource, name=None)\n",
            "  137544674146640: TensorSpec(shape=(), dtype=tf.resource, name=None)\n",
            "  137544674146288: TensorSpec(shape=(), dtype=tf.resource, name=None)\n",
            "  137544674145408: TensorSpec(shape=(), dtype=tf.resource, name=None)\n",
            "  137544674144000: TensorSpec(shape=(128,), dtype=tf.float32, name=None)\n",
            "  137544674145056: TensorSpec(shape=(), dtype=tf.resource, name=None)\n",
            "  137544674144704: TensorSpec(shape=(), dtype=tf.resource, name=None)\n",
            "  137544674144352: TensorSpec(shape=(), dtype=tf.resource, name=None)\n",
            "  137544674143824: TensorSpec(shape=(), dtype=tf.resource, name=None)\n",
            "  137544674142416: TensorSpec(shape=(256,), dtype=tf.float32, name=None)\n",
            "  137544674143472: TensorSpec(shape=(), dtype=tf.resource, name=None)\n",
            "  137544674143120: TensorSpec(shape=(), dtype=tf.resource, name=None)\n",
            "  137544674142768: TensorSpec(shape=(), dtype=tf.resource, name=None)\n",
            "  137544674142240: TensorSpec(shape=(), dtype=tf.resource, name=None)\n",
            "  137544674140832: TensorSpec(shape=(256,), dtype=tf.float32, name=None)\n",
            "  137544674141888: TensorSpec(shape=(), dtype=tf.resource, name=None)\n",
            "  137544674141536: TensorSpec(shape=(), dtype=tf.resource, name=None)\n",
            "  137544674141184: TensorSpec(shape=(), dtype=tf.resource, name=None)\n",
            "  137544674140656: TensorSpec(shape=(), dtype=tf.resource, name=None)\n",
            "  137544674139248: TensorSpec(shape=(256,), dtype=tf.float32, name=None)\n",
            "  137544674140304: TensorSpec(shape=(), dtype=tf.resource, name=None)\n",
            "  137544674139952: TensorSpec(shape=(), dtype=tf.resource, name=None)\n",
            "  137544674139600: TensorSpec(shape=(), dtype=tf.resource, name=None)\n",
            "  137544674139072: TensorSpec(shape=(), dtype=tf.resource, name=None)\n",
            "  137544674138720: TensorSpec(shape=(256,), dtype=tf.float32, name=None)\n",
            "  137544674138544: TensorSpec(shape=(), dtype=tf.resource, name=None)\n",
            "  137544674138192: TensorSpec(shape=(), dtype=tf.resource, name=None)\n",
            "  137544674137840: TensorSpec(shape=(), dtype=tf.resource, name=None)\n",
            "  137544674137488: TensorSpec(shape=(), dtype=tf.resource, name=None)\n",
            "  137544674137136: TensorSpec(shape=(512,), dtype=tf.float32, name=None)\n",
            "  137544674136960: TensorSpec(shape=(), dtype=tf.resource, name=None)\n",
            "  137544674136608: TensorSpec(shape=(), dtype=tf.resource, name=None)\n",
            "  137544674136256: TensorSpec(shape=(), dtype=tf.resource, name=None)\n",
            "  137544674135904: TensorSpec(shape=(), dtype=tf.resource, name=None)\n",
            "  137544674135200: TensorSpec(shape=(512,), dtype=tf.float32, name=None)\n",
            "  137544674135024: TensorSpec(shape=(), dtype=tf.resource, name=None)\n",
            "  137544674134672: TensorSpec(shape=(), dtype=tf.resource, name=None)\n",
            "  137544674135552: TensorSpec(shape=(), dtype=tf.resource, name=None)\n",
            "  137544674134320: TensorSpec(shape=(), dtype=tf.resource, name=None)\n",
            "  137544674133264: TensorSpec(shape=(512,), dtype=tf.float32, name=None)\n",
            "  137544674133088: TensorSpec(shape=(), dtype=tf.resource, name=None)\n",
            "  137544674133968: TensorSpec(shape=(), dtype=tf.resource, name=None)\n",
            "  137544674133616: TensorSpec(shape=(), dtype=tf.resource, name=None)\n",
            "  137544674132736: TensorSpec(shape=(), dtype=tf.resource, name=None)\n",
            "  137544674180288: TensorSpec(shape=(512,), dtype=tf.float32, name=None)\n",
            "  137544674132384: TensorSpec(shape=(), dtype=tf.resource, name=None)\n",
            "  137544674132032: TensorSpec(shape=(), dtype=tf.resource, name=None)\n",
            "  137544674180640: TensorSpec(shape=(), dtype=tf.resource, name=None)\n",
            "  137544674180112: TensorSpec(shape=(), dtype=tf.resource, name=None)\n",
            "  137544674178704: TensorSpec(shape=(512,), dtype=tf.float32, name=None)\n",
            "  137544674179760: TensorSpec(shape=(), dtype=tf.resource, name=None)\n",
            "  137544674179408: TensorSpec(shape=(), dtype=tf.resource, name=None)\n",
            "  137544674179056: TensorSpec(shape=(), dtype=tf.resource, name=None)\n",
            "  137544674178528: TensorSpec(shape=(), dtype=tf.resource, name=None)\n",
            "  137544674177120: TensorSpec(shape=(512,), dtype=tf.float32, name=None)\n",
            "  137544674178176: TensorSpec(shape=(), dtype=tf.resource, name=None)\n",
            "  137544674177824: TensorSpec(shape=(), dtype=tf.resource, name=None)\n",
            "  137544674177472: TensorSpec(shape=(), dtype=tf.resource, name=None)\n",
            "  137544674176944: TensorSpec(shape=(), dtype=tf.resource, name=None)\n",
            "  137544674175536: TensorSpec(shape=(512,), dtype=tf.float32, name=None)\n",
            "  137544674176592: TensorSpec(shape=(), dtype=tf.resource, name=None)\n",
            "  137544674176240: TensorSpec(shape=(), dtype=tf.resource, name=None)\n",
            "  137544674175888: TensorSpec(shape=(), dtype=tf.resource, name=None)\n",
            "  137544674175360: TensorSpec(shape=(), dtype=tf.resource, name=None)\n",
            "  137544674175008: TensorSpec(shape=(512,), dtype=tf.float32, name=None)\n",
            "  137544674174832: TensorSpec(shape=(), dtype=tf.resource, name=None)\n",
            "  137544674174480: TensorSpec(shape=(), dtype=tf.resource, name=None)\n",
            "  137544674174128: TensorSpec(shape=(), dtype=tf.resource, name=None)\n",
            "  137544674173776: TensorSpec(shape=(), dtype=tf.resource, name=None)\n",
            "  137544674173424: TensorSpec(shape=(512,), dtype=tf.float32, name=None)\n",
            "  137544674173248: TensorSpec(shape=(), dtype=tf.resource, name=None)\n",
            "  137544674172896: TensorSpec(shape=(), dtype=tf.resource, name=None)\n",
            "  137544674172544: TensorSpec(shape=(), dtype=tf.resource, name=None)\n",
            "  137544674172192: TensorSpec(shape=(), dtype=tf.resource, name=None)\n",
            "  137544674171488: TensorSpec(shape=(512,), dtype=tf.float32, name=None)\n",
            "  137544674171312: TensorSpec(shape=(), dtype=tf.resource, name=None)\n",
            "  137544674170960: TensorSpec(shape=(), dtype=tf.resource, name=None)\n",
            "  137544674171840: TensorSpec(shape=(), dtype=tf.resource, name=None)\n",
            "  137544674170608: TensorSpec(shape=(), dtype=tf.resource, name=None)\n",
            "  137544674169552: TensorSpec(shape=(512,), dtype=tf.float32, name=None)\n",
            "  137544674169376: TensorSpec(shape=(), dtype=tf.resource, name=None)\n",
            "  137544674170256: TensorSpec(shape=(), dtype=tf.resource, name=None)\n",
            "  137544674169904: TensorSpec(shape=(), dtype=tf.resource, name=None)\n",
            "  137544674169024: TensorSpec(shape=(), dtype=tf.resource, name=None)\n",
            "  137544674167616: TensorSpec(shape=(512,), dtype=tf.float32, name=None)\n",
            "  137544674168672: TensorSpec(shape=(), dtype=tf.resource, name=None)\n",
            "  137544674168320: TensorSpec(shape=(), dtype=tf.resource, name=None)\n",
            "  137544674167968: TensorSpec(shape=(), dtype=tf.resource, name=None)\n",
            "  137544674167440: TensorSpec(shape=(), dtype=tf.resource, name=None)\n",
            "  137544674166032: TensorSpec(shape=(1024,), dtype=tf.float32, name=None)\n",
            "  137544674167088: TensorSpec(shape=(), dtype=tf.resource, name=None)\n",
            "  137544674166736: TensorSpec(shape=(), dtype=tf.resource, name=None)\n",
            "  137544674166384: TensorSpec(shape=(), dtype=tf.resource, name=None)\n",
            "  137544674165856: TensorSpec(shape=(), dtype=tf.resource, name=None)\n",
            "  137544673771040: TensorSpec(shape=(1024,), dtype=tf.float32, name=None)\n",
            "  137544674165504: TensorSpec(shape=(), dtype=tf.resource, name=None)\n",
            "  137544674165152: TensorSpec(shape=(), dtype=tf.resource, name=None)\n",
            "  137544674164800: TensorSpec(shape=(), dtype=tf.resource, name=None)\n",
            "  137544673770864: TensorSpec(shape=(), dtype=tf.resource, name=None)\n",
            "  137544673769456: TensorSpec(shape=(1024,), dtype=tf.float32, name=None)\n",
            "  137544673770512: TensorSpec(shape=(), dtype=tf.resource, name=None)\n",
            "  137544673770160: TensorSpec(shape=(), dtype=tf.resource, name=None)\n",
            "  137544673769808: TensorSpec(shape=(), dtype=tf.resource, name=None)\n",
            "  137544673769280: TensorSpec(shape=(), dtype=tf.resource, name=None)\n",
            "  137544673768928: TensorSpec(shape=(), dtype=tf.resource, name=None)\n",
            "  137545193734384: TensorSpec(shape=(), dtype=tf.resource, name=None)\n",
            "  137544723464960: TensorSpec(shape=(), dtype=tf.resource, name=None)\n",
            "  137544723744192: TensorSpec(shape=(), dtype=tf.resource, name=None)\n",
            "  137544723750176: TensorSpec(shape=(), dtype=tf.resource, name=None)\n"
          ]
        }
      ]
    },
    {
      "cell_type": "markdown",
      "source": [
        "# Test saved model"
      ],
      "metadata": {
        "id": "iVjexbYSSqk4"
      }
    },
    {
      "cell_type": "code",
      "source": [
        "# load\n",
        "tflite_model_path = 'yamnet_model.tflite'\n",
        "interpreter = tf.lite.Interpreter(model_path=tflite_model_path)"
      ],
      "metadata": {
        "id": "z15LzpP8nrAb"
      },
      "execution_count": 42,
      "outputs": []
    },
    {
      "cell_type": "code",
      "source": [
        "%cd /content/ESC-50-master"
      ],
      "metadata": {
        "colab": {
          "base_uri": "https://localhost:8080/"
        },
        "id": "QR2SczggSprf",
        "outputId": "95dae06c-73dd-4cf8-9b3f-8643412a834f"
      },
      "execution_count": 43,
      "outputs": [
        {
          "output_type": "stream",
          "name": "stdout",
          "text": [
            "/content/ESC-50-master\n"
          ]
        }
      ]
    },
    {
      "cell_type": "code",
      "source": [
        "test_num = 11\n",
        "sample_file = esc50_animals.iloc[test_num]['filename']\n",
        "input_data = preprocess_wav(sample_file)\n",
        "input_data = tf.expand_dims(input_data, axis=0)"
      ],
      "metadata": {
        "id": "eYPUnH07Tjd7"
      },
      "execution_count": 44,
      "outputs": []
    },
    {
      "cell_type": "code",
      "source": [
        "# allocate the tensors\n",
        "interpreter.allocate_tensors()\n",
        "\n",
        "# get input details and set the input tensor\n",
        "input_details = interpreter.get_input_details()\n",
        "interpreter.set_tensor(input_details[0]['index'], input_data)\n",
        "\n",
        "# run inference\n",
        "interpreter.invoke()"
      ],
      "metadata": {
        "id": "U6ucQbxhTkpu"
      },
      "execution_count": 45,
      "outputs": []
    },
    {
      "cell_type": "code",
      "source": [
        "# get and process the output\n",
        "output_details = interpreter.get_output_details()\n",
        "output_data = interpreter.get_tensor(output_details[0]['index'])\n",
        "\n",
        "predicted_index = np.argmax(output_data)\n",
        "\n",
        "print(\"True Class Label:\", esc50_animals.iloc[test_num]['category'])\n",
        "\n",
        "predicted_label = animals[predicted_index]\n",
        "print(\"Predicted Class Label:\", predicted_label)"
      ],
      "metadata": {
        "colab": {
          "base_uri": "https://localhost:8080/"
        },
        "id": "uSm8Z9lMTshq",
        "outputId": "f7afa337-c3e4-464b-f469-78352561e115"
      },
      "execution_count": 46,
      "outputs": [
        {
          "output_type": "stream",
          "name": "stdout",
          "text": [
            "True Class Label: frog\n",
            "Predicted Class Label: frog\n"
          ]
        }
      ]
    },
    {
      "cell_type": "code",
      "source": [
        "results = []\n",
        "count = 0\n",
        "\n",
        "# for each file in the esc50_animals\n",
        "for index, row in esc50_animals.iterrows():\n",
        "\n",
        "    #preprocess\n",
        "    filename = row['filename']\n",
        "    wav = preprocess_wav(filename)\n",
        "\n",
        "    input_data = tf.expand_dims(wav, axis=0)\n",
        "    interpreter.allocate_tensors()\n",
        "\n",
        "    input_details = interpreter.get_input_details()\n",
        "    interpreter.set_tensor(input_details[0]['index'], input_data)\n",
        "\n",
        "    interpreter.invoke()\n",
        "    output_details = interpreter.get_output_details()\n",
        "    output_data = interpreter.get_tensor(output_details[0]['index'])\n",
        "\n",
        "    predicted_index = np.argmax(output_data)\n",
        "\n",
        "    if(predicted_index == row['target']):\n",
        "        count += 1\n",
        "\n",
        "    # Store the result\n",
        "    results.append({\n",
        "        'predicted class': animals[predicted_index],\n",
        "        'true class': row['category']\n",
        "    })\n",
        "\n",
        "results_df = pd.DataFrame(results)"
      ],
      "metadata": {
        "id": "bWgyOnEeTugq"
      },
      "execution_count": 47,
      "outputs": []
    },
    {
      "cell_type": "code",
      "source": [
        "print(\"Accuracy of entire set: \", count / 400)"
      ],
      "metadata": {
        "colab": {
          "base_uri": "https://localhost:8080/"
        },
        "id": "nOA3dO1QU0yx",
        "outputId": "3dc0b684-9684-47c2-db0b-73c1f622002b"
      },
      "execution_count": 48,
      "outputs": [
        {
          "output_type": "stream",
          "name": "stdout",
          "text": [
            "Accuracy of entire set:  0.9725\n"
          ]
        }
      ]
    },
    {
      "cell_type": "code",
      "source": [
        "results = []\n",
        "count = 0\n",
        "\n",
        "# for each file in the esc50_animals\n",
        "for index, row in esc50_test.iterrows():\n",
        "\n",
        "    #preprocess\n",
        "    filename = row['filename']\n",
        "    wav = preprocess_wav(filename)\n",
        "\n",
        "    input_data = tf.expand_dims(wav, axis=0)\n",
        "    interpreter.allocate_tensors()\n",
        "\n",
        "    input_details = interpreter.get_input_details()\n",
        "    interpreter.set_tensor(input_details[0]['index'], input_data)\n",
        "\n",
        "    interpreter.invoke()\n",
        "    output_details = interpreter.get_output_details()\n",
        "    output_data = interpreter.get_tensor(output_details[0]['index'])\n",
        "\n",
        "    predicted_index = np.argmax(output_data)\n",
        "\n",
        "    if(predicted_index == row['target']):\n",
        "        count += 1\n",
        "\n",
        "    # Store the result\n",
        "    results.append({\n",
        "        'predicted class': animals[predicted_index],\n",
        "        'true class': row['category']\n",
        "    })\n",
        "\n",
        "results_df = pd.DataFrame(results)"
      ],
      "metadata": {
        "id": "FNWcYKeyk5vO"
      },
      "execution_count": 49,
      "outputs": []
    },
    {
      "cell_type": "code",
      "source": [
        "print(\"Accuracy of just test set: \", count / 80)"
      ],
      "metadata": {
        "colab": {
          "base_uri": "https://localhost:8080/"
        },
        "id": "1wBd2jwPk83C",
        "outputId": "51e471f9-05e5-433a-9dd2-e14fe9c38046"
      },
      "execution_count": 50,
      "outputs": [
        {
          "output_type": "stream",
          "name": "stdout",
          "text": [
            "Accuracy of just test set:  0.925\n"
          ]
        }
      ]
    },
    {
      "cell_type": "markdown",
      "source": [
        "# Test Quant Model"
      ],
      "metadata": {
        "id": "FqBBIcnJncDU"
      }
    },
    {
      "cell_type": "code",
      "source": [
        "%cd /content"
      ],
      "metadata": {
        "colab": {
          "base_uri": "https://localhost:8080/"
        },
        "id": "dCVO_dTXnoMT",
        "outputId": "6b2b2a8f-96c5-4e56-9a29-c19ecc9d9264"
      },
      "execution_count": 51,
      "outputs": [
        {
          "output_type": "stream",
          "name": "stdout",
          "text": [
            "/content\n"
          ]
        }
      ]
    },
    {
      "cell_type": "code",
      "source": [
        "# load\n",
        "tflite_model_path_q = 'yamnet_quant_model.tflite'\n",
        "interpreter = tf.lite.Interpreter(model_path=tflite_model_path_q)"
      ],
      "metadata": {
        "id": "jB-ZJeLpnfrq"
      },
      "execution_count": 52,
      "outputs": []
    },
    {
      "cell_type": "code",
      "source": [
        "# allocate the tensors\n",
        "interpreter.allocate_tensors()\n",
        "\n",
        "# get input details and set the input tensor\n",
        "input_details = interpreter.get_input_details()\n",
        "interpreter.set_tensor(input_details[0]['index'], input_data)\n",
        "\n",
        "# run inference\n",
        "interpreter.invoke()"
      ],
      "metadata": {
        "id": "JF_Dysb7nmDX"
      },
      "execution_count": 53,
      "outputs": []
    },
    {
      "cell_type": "code",
      "source": [
        "%cd /content/ESC-50-master"
      ],
      "metadata": {
        "colab": {
          "base_uri": "https://localhost:8080/"
        },
        "id": "JrL5gxHHn1Ox",
        "outputId": "dc198daa-fa9d-422e-f2b9-c6f6b3c704b1"
      },
      "execution_count": 54,
      "outputs": [
        {
          "output_type": "stream",
          "name": "stdout",
          "text": [
            "/content/ESC-50-master\n"
          ]
        }
      ]
    },
    {
      "cell_type": "code",
      "source": [
        "results_q = []\n",
        "count_q = 0\n",
        "\n",
        "# for each file in the esc50_animals\n",
        "for index, row in esc50_animals.iterrows():\n",
        "\n",
        "    #preprocess\n",
        "    filename = row['filename']\n",
        "    wav = preprocess_wav(filename)\n",
        "\n",
        "    input_data = tf.expand_dims(wav, axis=0)\n",
        "    interpreter.allocate_tensors()\n",
        "\n",
        "    input_details = interpreter.get_input_details()\n",
        "    interpreter.set_tensor(input_details[0]['index'], input_data)\n",
        "\n",
        "    interpreter.invoke()\n",
        "    output_details = interpreter.get_output_details()\n",
        "    output_data = interpreter.get_tensor(output_details[0]['index'])\n",
        "\n",
        "    predicted_index = np.argmax(output_data)\n",
        "\n",
        "    if(predicted_index == row['target']):\n",
        "        count_q += 1\n",
        "\n",
        "    # Store the result\n",
        "    results_q.append({\n",
        "        'predicted class': animals[predicted_index],\n",
        "        'true class': row['category']\n",
        "    })\n",
        "\n",
        "results_df = pd.DataFrame(results_q)"
      ],
      "metadata": {
        "id": "XZMzDm0Ynv1_"
      },
      "execution_count": 63,
      "outputs": []
    },
    {
      "cell_type": "code",
      "source": [
        "print(\"Accuracy of entire set:\", count_q / 400)"
      ],
      "metadata": {
        "colab": {
          "base_uri": "https://localhost:8080/"
        },
        "id": "3BJL4CJInxOi",
        "outputId": "d38376e8-7d53-4f5e-ab81-245e76eeff19"
      },
      "execution_count": 64,
      "outputs": [
        {
          "output_type": "stream",
          "name": "stdout",
          "text": [
            "Accuracy of entire set: 0.965\n"
          ]
        }
      ]
    },
    {
      "cell_type": "code",
      "source": [
        "results_q = []\n",
        "count_q = 0\n",
        "\n",
        "# for each file in the esc50_animals\n",
        "for index, row in esc50_test.iterrows():\n",
        "\n",
        "    #preprocess\n",
        "    filename = row['filename']\n",
        "    wav = preprocess_wav(filename)\n",
        "\n",
        "    input_data = tf.expand_dims(wav, axis=0)\n",
        "    interpreter.allocate_tensors()\n",
        "\n",
        "    input_details = interpreter.get_input_details()\n",
        "    interpreter.set_tensor(input_details[0]['index'], input_data)\n",
        "\n",
        "    interpreter.invoke()\n",
        "    output_details = interpreter.get_output_details()\n",
        "    output_data = interpreter.get_tensor(output_details[0]['index'])\n",
        "\n",
        "    predicted_index = np.argmax(output_data)\n",
        "\n",
        "    if(predicted_index == row['target']):\n",
        "        count_q += 1\n",
        "\n",
        "    # Store the result\n",
        "    results_q.append({\n",
        "        'predicted class': animals[predicted_index],\n",
        "        'true class': row['category']\n",
        "    })\n",
        "\n",
        "results_df = pd.DataFrame(results_q)"
      ],
      "metadata": {
        "id": "2WfwlQaFK2EU"
      },
      "execution_count": 65,
      "outputs": []
    },
    {
      "cell_type": "code",
      "source": [
        "print(\"Accuracy of test set:\", count_q / 80)"
      ],
      "metadata": {
        "colab": {
          "base_uri": "https://localhost:8080/"
        },
        "id": "p5jz1McCK1rG",
        "outputId": "ee0afa61-34cf-4ee5-a528-406760809069"
      },
      "execution_count": 70,
      "outputs": [
        {
          "output_type": "stream",
          "name": "stdout",
          "text": [
            "Accuracy of test set: 0.9125\n"
          ]
        }
      ]
    },
    {
      "cell_type": "markdown",
      "source": [
        "# Quant Aware Training - Does not work"
      ],
      "metadata": {
        "id": "rrjwSvHCv6Xa"
      }
    },
    {
      "cell_type": "markdown",
      "source": [
        "Need to use a different version of Keras; see https://colab.research.google.com/drive/1elY1m6JPPiJJ-EOItlLtBMNqd1zKEzDO#scrollTo=9W0F4i3OwvPl"
      ],
      "metadata": {
        "id": "agxgmT4GJKWN"
      }
    },
    {
      "cell_type": "code",
      "source": [
        "quantize_model = tfmot.quantization.keras.quantize_model"
      ],
      "metadata": {
        "id": "MMJh6HMywr8y"
      },
      "execution_count": 57,
      "outputs": []
    },
    {
      "cell_type": "code",
      "source": [
        "# q_aware stands for for quantization aware.\n",
        "q_aware_model = quantize_model(my_model)"
      ],
      "metadata": {
        "colab": {
          "base_uri": "https://localhost:8080/",
          "height": 292
        },
        "id": "9W0F4i3OwvPl",
        "outputId": "c22064b9-49f6-4cf1-8188-deae3855ff71"
      },
      "execution_count": 58,
      "outputs": [
        {
          "output_type": "error",
          "ename": "ValueError",
          "evalue": "`to_quantize` can only either be a keras Sequential or Functional model.",
          "traceback": [
            "\u001b[0;31m---------------------------------------------------------------------------\u001b[0m",
            "\u001b[0;31mValueError\u001b[0m                                Traceback (most recent call last)",
            "\u001b[0;32m<ipython-input-58-954eaa61d3d2>\u001b[0m in \u001b[0;36m<cell line: 2>\u001b[0;34m()\u001b[0m\n\u001b[1;32m      1\u001b[0m \u001b[0;31m# q_aware stands for for quantization aware.\u001b[0m\u001b[0;34m\u001b[0m\u001b[0;34m\u001b[0m\u001b[0m\n\u001b[0;32m----> 2\u001b[0;31m \u001b[0mq_aware_model\u001b[0m \u001b[0;34m=\u001b[0m \u001b[0mquantize_model\u001b[0m\u001b[0;34m(\u001b[0m\u001b[0mmy_model\u001b[0m\u001b[0;34m)\u001b[0m\u001b[0;34m\u001b[0m\u001b[0;34m\u001b[0m\u001b[0m\n\u001b[0m",
            "\u001b[0;32m/usr/local/lib/python3.10/dist-packages/tensorflow_model_optimization/python/core/quantization/keras/quantize.py\u001b[0m in \u001b[0;36mquantize_model\u001b[0;34m(to_quantize, quantized_layer_name_prefix)\u001b[0m\n\u001b[1;32m    133\u001b[0m       \u001b[0;32mand\u001b[0m \u001b[0mto_quantize\u001b[0m\u001b[0;34m.\u001b[0m\u001b[0m_is_graph_network\u001b[0m\u001b[0;34m\u001b[0m\u001b[0;34m\u001b[0m\u001b[0m\n\u001b[1;32m    134\u001b[0m   ):  # pylint: disable=protected-access\n\u001b[0;32m--> 135\u001b[0;31m     raise ValueError(\n\u001b[0m\u001b[1;32m    136\u001b[0m         \u001b[0;34m'`to_quantize` can only either be a keras Sequential or '\u001b[0m\u001b[0;34m\u001b[0m\u001b[0;34m\u001b[0m\u001b[0m\n\u001b[1;32m    137\u001b[0m         \u001b[0;34m'Functional model.'\u001b[0m\u001b[0;34m\u001b[0m\u001b[0;34m\u001b[0m\u001b[0m\n",
            "\u001b[0;31mValueError\u001b[0m: `to_quantize` can only either be a keras Sequential or Functional model."
          ]
        }
      ]
    },
    {
      "cell_type": "code",
      "source": [
        "# should be <class 'keras.src.engine.sequential.Sequential'>\n",
        "print(type(my_model))"
      ],
      "metadata": {
        "id": "91M3FGn9yu8K"
      },
      "execution_count": null,
      "outputs": []
    }
  ],
  "metadata": {
    "colab": {
      "provenance": [],
      "collapsed_sections": [
        "xRuujaeIl__N",
        "3FUzQpxFmLCk",
        "X_nd5slRuvXh",
        "FqBBIcnJncDU"
      ],
      "authorship_tag": "ABX9TyNAnR7cG/mcLO5/8vuAg80+",
      "include_colab_link": true
    },
    "kernelspec": {
      "display_name": "Python 3",
      "name": "python3"
    },
    "language_info": {
      "name": "python"
    }
  },
  "nbformat": 4,
  "nbformat_minor": 0
}