{
  "cells": [
    {
      "cell_type": "markdown",
      "metadata": {
        "id": "view-in-github",
        "colab_type": "text"
      },
      "source": [
        "<a href=\"https://colab.research.google.com/github/shreeya-la/audio-ml/blob/main/yamnet_(using_tutorial).ipynb\" target=\"_parent\"><img src=\"https://colab.research.google.com/assets/colab-badge.svg\" alt=\"Open In Colab\"/></a>"
      ]
    },
    {
      "cell_type": "markdown",
      "source": [
        "# Import and Download ESC50"
      ],
      "metadata": {
        "id": "xRuujaeIl__N"
      }
    },
    {
      "cell_type": "code",
      "execution_count": 1,
      "metadata": {
        "collapsed": true,
        "id": "eIOfUQOVnAMP"
      },
      "outputs": [],
      "source": [
        "#!pip install tensorflow --upgrade"
      ]
    },
    {
      "cell_type": "code",
      "source": [
        "# !pip uninstall tensorflow\n",
        "# !pip uninstall tensorflow-io"
      ],
      "metadata": {
        "id": "k833yXkrjZ4N"
      },
      "execution_count": 4,
      "outputs": []
    },
    {
      "cell_type": "code",
      "execution_count": 6,
      "metadata": {
        "id": "6RIz03TKnD7H"
      },
      "outputs": [],
      "source": [
        "import os\n",
        "from IPython import display\n",
        "import matplotlib.pyplot as plt\n",
        "import numpy as np\n",
        "import pandas as pd\n",
        "import tensorflow as tf\n",
        "import tensorflow_hub as hub\n",
        "import librosa\n",
        "import seaborn as sns\n",
        "\n",
        "from tensorflow.keras.layers import Layer\n",
        "from sklearn.metrics import confusion_matrix, classification_report"
      ]
    },
    {
      "cell_type": "code",
      "source": [
        "!test ! -f \"master.zip\" && wget \"https://github.com/karoldvl/ESC-50/archive/master.zip\""
      ],
      "metadata": {
        "colab": {
          "base_uri": "https://localhost:8080/"
        },
        "id": "hxIQdQXDlf3e",
        "outputId": "bf70ff1a-c8fb-4979-f72e-04b6f322a3ff"
      },
      "execution_count": 7,
      "outputs": [
        {
          "output_type": "stream",
          "name": "stdout",
          "text": [
            "--2024-11-06 21:04:40--  https://github.com/karoldvl/ESC-50/archive/master.zip\n",
            "Resolving github.com (github.com)... 140.82.114.4\n",
            "Connecting to github.com (github.com)|140.82.114.4|:443... connected.\n",
            "HTTP request sent, awaiting response... 301 Moved Permanently\n",
            "Location: https://github.com/karolpiczak/ESC-50/archive/master.zip [following]\n",
            "--2024-11-06 21:04:40--  https://github.com/karolpiczak/ESC-50/archive/master.zip\n",
            "Reusing existing connection to github.com:443.\n",
            "HTTP request sent, awaiting response... 302 Found\n",
            "Location: https://codeload.github.com/karolpiczak/ESC-50/zip/refs/heads/master [following]\n",
            "--2024-11-06 21:04:40--  https://codeload.github.com/karolpiczak/ESC-50/zip/refs/heads/master\n",
            "Resolving codeload.github.com (codeload.github.com)... 140.82.112.10\n",
            "Connecting to codeload.github.com (codeload.github.com)|140.82.112.10|:443... connected.\n",
            "HTTP request sent, awaiting response... 200 OK\n",
            "Length: unspecified [application/zip]\n",
            "Saving to: ‘master.zip’\n",
            "\n",
            "master.zip              [           <=>      ] 615.78M  14.7MB/s    in 40s     \n",
            "\n",
            "2024-11-06 21:05:20 (15.4 MB/s) - ‘master.zip’ saved [645695005]\n",
            "\n"
          ]
        }
      ]
    },
    {
      "cell_type": "code",
      "source": [
        "!unzip -qq master.zip"
      ],
      "metadata": {
        "id": "_tVhpRpHlhrY"
      },
      "execution_count": 8,
      "outputs": []
    },
    {
      "cell_type": "code",
      "source": [
        "%cd ESC-50-master\n",
        "# create a dataframe\n",
        "esc50_data = pd.read_csv('meta/esc50.csv')\n",
        "esc50_data.head()"
      ],
      "metadata": {
        "colab": {
          "base_uri": "https://localhost:8080/",
          "height": 221
        },
        "id": "yhhOvAHAlqoT",
        "outputId": "ead9ab2a-1fce-436e-fc1a-478d3d286561"
      },
      "execution_count": 9,
      "outputs": [
        {
          "output_type": "stream",
          "name": "stdout",
          "text": [
            "/content/ESC-50-master\n"
          ]
        },
        {
          "output_type": "execute_result",
          "data": {
            "text/plain": [
              "            filename  fold  target        category  esc10  src_file take\n",
              "0   1-100032-A-0.wav     1       0             dog   True    100032    A\n",
              "1  1-100038-A-14.wav     1      14  chirping_birds  False    100038    A\n",
              "2  1-100210-A-36.wav     1      36  vacuum_cleaner  False    100210    A\n",
              "3  1-100210-B-36.wav     1      36  vacuum_cleaner  False    100210    B\n",
              "4  1-101296-A-19.wav     1      19    thunderstorm  False    101296    A"
            ],
            "text/html": [
              "\n",
              "  <div id=\"df-e403792c-468e-4394-8f31-5be5c7e8c65f\" class=\"colab-df-container\">\n",
              "    <div>\n",
              "<style scoped>\n",
              "    .dataframe tbody tr th:only-of-type {\n",
              "        vertical-align: middle;\n",
              "    }\n",
              "\n",
              "    .dataframe tbody tr th {\n",
              "        vertical-align: top;\n",
              "    }\n",
              "\n",
              "    .dataframe thead th {\n",
              "        text-align: right;\n",
              "    }\n",
              "</style>\n",
              "<table border=\"1\" class=\"dataframe\">\n",
              "  <thead>\n",
              "    <tr style=\"text-align: right;\">\n",
              "      <th></th>\n",
              "      <th>filename</th>\n",
              "      <th>fold</th>\n",
              "      <th>target</th>\n",
              "      <th>category</th>\n",
              "      <th>esc10</th>\n",
              "      <th>src_file</th>\n",
              "      <th>take</th>\n",
              "    </tr>\n",
              "  </thead>\n",
              "  <tbody>\n",
              "    <tr>\n",
              "      <th>0</th>\n",
              "      <td>1-100032-A-0.wav</td>\n",
              "      <td>1</td>\n",
              "      <td>0</td>\n",
              "      <td>dog</td>\n",
              "      <td>True</td>\n",
              "      <td>100032</td>\n",
              "      <td>A</td>\n",
              "    </tr>\n",
              "    <tr>\n",
              "      <th>1</th>\n",
              "      <td>1-100038-A-14.wav</td>\n",
              "      <td>1</td>\n",
              "      <td>14</td>\n",
              "      <td>chirping_birds</td>\n",
              "      <td>False</td>\n",
              "      <td>100038</td>\n",
              "      <td>A</td>\n",
              "    </tr>\n",
              "    <tr>\n",
              "      <th>2</th>\n",
              "      <td>1-100210-A-36.wav</td>\n",
              "      <td>1</td>\n",
              "      <td>36</td>\n",
              "      <td>vacuum_cleaner</td>\n",
              "      <td>False</td>\n",
              "      <td>100210</td>\n",
              "      <td>A</td>\n",
              "    </tr>\n",
              "    <tr>\n",
              "      <th>3</th>\n",
              "      <td>1-100210-B-36.wav</td>\n",
              "      <td>1</td>\n",
              "      <td>36</td>\n",
              "      <td>vacuum_cleaner</td>\n",
              "      <td>False</td>\n",
              "      <td>100210</td>\n",
              "      <td>B</td>\n",
              "    </tr>\n",
              "    <tr>\n",
              "      <th>4</th>\n",
              "      <td>1-101296-A-19.wav</td>\n",
              "      <td>1</td>\n",
              "      <td>19</td>\n",
              "      <td>thunderstorm</td>\n",
              "      <td>False</td>\n",
              "      <td>101296</td>\n",
              "      <td>A</td>\n",
              "    </tr>\n",
              "  </tbody>\n",
              "</table>\n",
              "</div>\n",
              "    <div class=\"colab-df-buttons\">\n",
              "\n",
              "  <div class=\"colab-df-container\">\n",
              "    <button class=\"colab-df-convert\" onclick=\"convertToInteractive('df-e403792c-468e-4394-8f31-5be5c7e8c65f')\"\n",
              "            title=\"Convert this dataframe to an interactive table.\"\n",
              "            style=\"display:none;\">\n",
              "\n",
              "  <svg xmlns=\"http://www.w3.org/2000/svg\" height=\"24px\" viewBox=\"0 -960 960 960\">\n",
              "    <path d=\"M120-120v-720h720v720H120Zm60-500h600v-160H180v160Zm220 220h160v-160H400v160Zm0 220h160v-160H400v160ZM180-400h160v-160H180v160Zm440 0h160v-160H620v160ZM180-180h160v-160H180v160Zm440 0h160v-160H620v160Z\"/>\n",
              "  </svg>\n",
              "    </button>\n",
              "\n",
              "  <style>\n",
              "    .colab-df-container {\n",
              "      display:flex;\n",
              "      gap: 12px;\n",
              "    }\n",
              "\n",
              "    .colab-df-convert {\n",
              "      background-color: #E8F0FE;\n",
              "      border: none;\n",
              "      border-radius: 50%;\n",
              "      cursor: pointer;\n",
              "      display: none;\n",
              "      fill: #1967D2;\n",
              "      height: 32px;\n",
              "      padding: 0 0 0 0;\n",
              "      width: 32px;\n",
              "    }\n",
              "\n",
              "    .colab-df-convert:hover {\n",
              "      background-color: #E2EBFA;\n",
              "      box-shadow: 0px 1px 2px rgba(60, 64, 67, 0.3), 0px 1px 3px 1px rgba(60, 64, 67, 0.15);\n",
              "      fill: #174EA6;\n",
              "    }\n",
              "\n",
              "    .colab-df-buttons div {\n",
              "      margin-bottom: 4px;\n",
              "    }\n",
              "\n",
              "    [theme=dark] .colab-df-convert {\n",
              "      background-color: #3B4455;\n",
              "      fill: #D2E3FC;\n",
              "    }\n",
              "\n",
              "    [theme=dark] .colab-df-convert:hover {\n",
              "      background-color: #434B5C;\n",
              "      box-shadow: 0px 1px 3px 1px rgba(0, 0, 0, 0.15);\n",
              "      filter: drop-shadow(0px 1px 2px rgba(0, 0, 0, 0.3));\n",
              "      fill: #FFFFFF;\n",
              "    }\n",
              "  </style>\n",
              "\n",
              "    <script>\n",
              "      const buttonEl =\n",
              "        document.querySelector('#df-e403792c-468e-4394-8f31-5be5c7e8c65f button.colab-df-convert');\n",
              "      buttonEl.style.display =\n",
              "        google.colab.kernel.accessAllowed ? 'block' : 'none';\n",
              "\n",
              "      async function convertToInteractive(key) {\n",
              "        const element = document.querySelector('#df-e403792c-468e-4394-8f31-5be5c7e8c65f');\n",
              "        const dataTable =\n",
              "          await google.colab.kernel.invokeFunction('convertToInteractive',\n",
              "                                                    [key], {});\n",
              "        if (!dataTable) return;\n",
              "\n",
              "        const docLinkHtml = 'Like what you see? Visit the ' +\n",
              "          '<a target=\"_blank\" href=https://colab.research.google.com/notebooks/data_table.ipynb>data table notebook</a>'\n",
              "          + ' to learn more about interactive tables.';\n",
              "        element.innerHTML = '';\n",
              "        dataTable['output_type'] = 'display_data';\n",
              "        await google.colab.output.renderOutput(dataTable, element);\n",
              "        const docLink = document.createElement('div');\n",
              "        docLink.innerHTML = docLinkHtml;\n",
              "        element.appendChild(docLink);\n",
              "      }\n",
              "    </script>\n",
              "  </div>\n",
              "\n",
              "\n",
              "<div id=\"df-09582c92-94ab-4abb-b6d3-6efc97d9ce5a\">\n",
              "  <button class=\"colab-df-quickchart\" onclick=\"quickchart('df-09582c92-94ab-4abb-b6d3-6efc97d9ce5a')\"\n",
              "            title=\"Suggest charts\"\n",
              "            style=\"display:none;\">\n",
              "\n",
              "<svg xmlns=\"http://www.w3.org/2000/svg\" height=\"24px\"viewBox=\"0 0 24 24\"\n",
              "     width=\"24px\">\n",
              "    <g>\n",
              "        <path d=\"M19 3H5c-1.1 0-2 .9-2 2v14c0 1.1.9 2 2 2h14c1.1 0 2-.9 2-2V5c0-1.1-.9-2-2-2zM9 17H7v-7h2v7zm4 0h-2V7h2v10zm4 0h-2v-4h2v4z\"/>\n",
              "    </g>\n",
              "</svg>\n",
              "  </button>\n",
              "\n",
              "<style>\n",
              "  .colab-df-quickchart {\n",
              "      --bg-color: #E8F0FE;\n",
              "      --fill-color: #1967D2;\n",
              "      --hover-bg-color: #E2EBFA;\n",
              "      --hover-fill-color: #174EA6;\n",
              "      --disabled-fill-color: #AAA;\n",
              "      --disabled-bg-color: #DDD;\n",
              "  }\n",
              "\n",
              "  [theme=dark] .colab-df-quickchart {\n",
              "      --bg-color: #3B4455;\n",
              "      --fill-color: #D2E3FC;\n",
              "      --hover-bg-color: #434B5C;\n",
              "      --hover-fill-color: #FFFFFF;\n",
              "      --disabled-bg-color: #3B4455;\n",
              "      --disabled-fill-color: #666;\n",
              "  }\n",
              "\n",
              "  .colab-df-quickchart {\n",
              "    background-color: var(--bg-color);\n",
              "    border: none;\n",
              "    border-radius: 50%;\n",
              "    cursor: pointer;\n",
              "    display: none;\n",
              "    fill: var(--fill-color);\n",
              "    height: 32px;\n",
              "    padding: 0;\n",
              "    width: 32px;\n",
              "  }\n",
              "\n",
              "  .colab-df-quickchart:hover {\n",
              "    background-color: var(--hover-bg-color);\n",
              "    box-shadow: 0 1px 2px rgba(60, 64, 67, 0.3), 0 1px 3px 1px rgba(60, 64, 67, 0.15);\n",
              "    fill: var(--button-hover-fill-color);\n",
              "  }\n",
              "\n",
              "  .colab-df-quickchart-complete:disabled,\n",
              "  .colab-df-quickchart-complete:disabled:hover {\n",
              "    background-color: var(--disabled-bg-color);\n",
              "    fill: var(--disabled-fill-color);\n",
              "    box-shadow: none;\n",
              "  }\n",
              "\n",
              "  .colab-df-spinner {\n",
              "    border: 2px solid var(--fill-color);\n",
              "    border-color: transparent;\n",
              "    border-bottom-color: var(--fill-color);\n",
              "    animation:\n",
              "      spin 1s steps(1) infinite;\n",
              "  }\n",
              "\n",
              "  @keyframes spin {\n",
              "    0% {\n",
              "      border-color: transparent;\n",
              "      border-bottom-color: var(--fill-color);\n",
              "      border-left-color: var(--fill-color);\n",
              "    }\n",
              "    20% {\n",
              "      border-color: transparent;\n",
              "      border-left-color: var(--fill-color);\n",
              "      border-top-color: var(--fill-color);\n",
              "    }\n",
              "    30% {\n",
              "      border-color: transparent;\n",
              "      border-left-color: var(--fill-color);\n",
              "      border-top-color: var(--fill-color);\n",
              "      border-right-color: var(--fill-color);\n",
              "    }\n",
              "    40% {\n",
              "      border-color: transparent;\n",
              "      border-right-color: var(--fill-color);\n",
              "      border-top-color: var(--fill-color);\n",
              "    }\n",
              "    60% {\n",
              "      border-color: transparent;\n",
              "      border-right-color: var(--fill-color);\n",
              "    }\n",
              "    80% {\n",
              "      border-color: transparent;\n",
              "      border-right-color: var(--fill-color);\n",
              "      border-bottom-color: var(--fill-color);\n",
              "    }\n",
              "    90% {\n",
              "      border-color: transparent;\n",
              "      border-bottom-color: var(--fill-color);\n",
              "    }\n",
              "  }\n",
              "</style>\n",
              "\n",
              "  <script>\n",
              "    async function quickchart(key) {\n",
              "      const quickchartButtonEl =\n",
              "        document.querySelector('#' + key + ' button');\n",
              "      quickchartButtonEl.disabled = true;  // To prevent multiple clicks.\n",
              "      quickchartButtonEl.classList.add('colab-df-spinner');\n",
              "      try {\n",
              "        const charts = await google.colab.kernel.invokeFunction(\n",
              "            'suggestCharts', [key], {});\n",
              "      } catch (error) {\n",
              "        console.error('Error during call to suggestCharts:', error);\n",
              "      }\n",
              "      quickchartButtonEl.classList.remove('colab-df-spinner');\n",
              "      quickchartButtonEl.classList.add('colab-df-quickchart-complete');\n",
              "    }\n",
              "    (() => {\n",
              "      let quickchartButtonEl =\n",
              "        document.querySelector('#df-09582c92-94ab-4abb-b6d3-6efc97d9ce5a button');\n",
              "      quickchartButtonEl.style.display =\n",
              "        google.colab.kernel.accessAllowed ? 'block' : 'none';\n",
              "    })();\n",
              "  </script>\n",
              "</div>\n",
              "\n",
              "    </div>\n",
              "  </div>\n"
            ],
            "application/vnd.google.colaboratory.intrinsic+json": {
              "type": "dataframe",
              "variable_name": "esc50_data",
              "summary": "{\n  \"name\": \"esc50_data\",\n  \"rows\": 2000,\n  \"fields\": [\n    {\n      \"column\": \"filename\",\n      \"properties\": {\n        \"dtype\": \"string\",\n        \"num_unique_values\": 2000,\n        \"samples\": [\n          \"5-221950-A-22.wav\",\n          \"1-79220-A-17.wav\",\n          \"4-165845-A-45.wav\"\n        ],\n        \"semantic_type\": \"\",\n        \"description\": \"\"\n      }\n    },\n    {\n      \"column\": \"fold\",\n      \"properties\": {\n        \"dtype\": \"number\",\n        \"std\": 1,\n        \"min\": 1,\n        \"max\": 5,\n        \"num_unique_values\": 5,\n        \"samples\": [\n          2,\n          5,\n          3\n        ],\n        \"semantic_type\": \"\",\n        \"description\": \"\"\n      }\n    },\n    {\n      \"column\": \"target\",\n      \"properties\": {\n        \"dtype\": \"number\",\n        \"std\": 14,\n        \"min\": 0,\n        \"max\": 49,\n        \"num_unique_values\": 50,\n        \"samples\": [\n          45,\n          18,\n          26\n        ],\n        \"semantic_type\": \"\",\n        \"description\": \"\"\n      }\n    },\n    {\n      \"column\": \"category\",\n      \"properties\": {\n        \"dtype\": \"category\",\n        \"num_unique_values\": 50,\n        \"samples\": [\n          \"train\",\n          \"toilet_flush\",\n          \"laughing\"\n        ],\n        \"semantic_type\": \"\",\n        \"description\": \"\"\n      }\n    },\n    {\n      \"column\": \"esc10\",\n      \"properties\": {\n        \"dtype\": \"boolean\",\n        \"num_unique_values\": 2,\n        \"samples\": [\n          false,\n          true\n        ],\n        \"semantic_type\": \"\",\n        \"description\": \"\"\n      }\n    },\n    {\n      \"column\": \"src_file\",\n      \"properties\": {\n        \"dtype\": \"number\",\n        \"std\": 64882,\n        \"min\": 137,\n        \"max\": 264453,\n        \"num_unique_values\": 1524,\n        \"samples\": [\n          155130,\n          21935\n        ],\n        \"semantic_type\": \"\",\n        \"description\": \"\"\n      }\n    },\n    {\n      \"column\": \"take\",\n      \"properties\": {\n        \"dtype\": \"category\",\n        \"num_unique_values\": 8,\n        \"samples\": [\n          \"B\",\n          \"F\"\n        ],\n        \"semantic_type\": \"\",\n        \"description\": \"\"\n      }\n    }\n  ]\n}"
            }
          },
          "metadata": {},
          "execution_count": 9
        }
      ]
    },
    {
      "cell_type": "code",
      "source": [
        "animals = ['dog', 'rooster', 'pig', 'cow', 'frog', 'cat', 'hen', 'insects', 'sheep', 'crow']\n",
        "map_class_to_id = {'dog':0,'rooster':1, 'pig':2, 'cow':3, 'frog':4, 'cat':5, 'hen':6, 'insects':7, 'sheep':8, 'crow':9}\n",
        "\n",
        "esc50_animals = esc50_data[esc50_data.category.isin(animals)]\n",
        "\n",
        "class_id = esc50_animals['category'].apply(lambda name: map_class_to_id[name])\n",
        "esc50_animals = esc50_animals.assign(target=class_id)\n",
        "\n",
        "esc50_animals.head(10)"
      ],
      "metadata": {
        "id": "1Iv9yA6uI6oG",
        "colab": {
          "base_uri": "https://localhost:8080/",
          "height": 359
        },
        "outputId": "742ba5d6-b877-49e2-9f5e-e26f7e1d57bd"
      },
      "execution_count": 10,
      "outputs": [
        {
          "output_type": "execute_result",
          "data": {
            "text/plain": [
              "            filename  fold  target category  esc10  src_file take\n",
              "0   1-100032-A-0.wav     1       0      dog   True    100032    A\n",
              "8   1-103298-A-9.wav     1       9     crow  False    103298    A\n",
              "14  1-110389-A-0.wav     1       0      dog   True    110389    A\n",
              "29  1-121951-A-8.wav     1       8    sheep  False    121951    A\n",
              "45   1-15689-A-4.wav     1       4     frog  False     15689    A\n",
              "46   1-15689-B-4.wav     1       4     frog  False     15689    B\n",
              "49   1-16568-A-3.wav     1       3      cow  False     16568    A\n",
              "64   1-17585-A-7.wav     1       7  insects  False     17585    A\n",
              "69   1-17970-A-4.wav     1       4     frog  False     17970    A\n",
              "70   1-18074-A-6.wav     1       6      hen  False     18074    A"
            ],
            "text/html": [
              "\n",
              "  <div id=\"df-484ed4fb-eeac-4fc2-baed-349932512962\" class=\"colab-df-container\">\n",
              "    <div>\n",
              "<style scoped>\n",
              "    .dataframe tbody tr th:only-of-type {\n",
              "        vertical-align: middle;\n",
              "    }\n",
              "\n",
              "    .dataframe tbody tr th {\n",
              "        vertical-align: top;\n",
              "    }\n",
              "\n",
              "    .dataframe thead th {\n",
              "        text-align: right;\n",
              "    }\n",
              "</style>\n",
              "<table border=\"1\" class=\"dataframe\">\n",
              "  <thead>\n",
              "    <tr style=\"text-align: right;\">\n",
              "      <th></th>\n",
              "      <th>filename</th>\n",
              "      <th>fold</th>\n",
              "      <th>target</th>\n",
              "      <th>category</th>\n",
              "      <th>esc10</th>\n",
              "      <th>src_file</th>\n",
              "      <th>take</th>\n",
              "    </tr>\n",
              "  </thead>\n",
              "  <tbody>\n",
              "    <tr>\n",
              "      <th>0</th>\n",
              "      <td>1-100032-A-0.wav</td>\n",
              "      <td>1</td>\n",
              "      <td>0</td>\n",
              "      <td>dog</td>\n",
              "      <td>True</td>\n",
              "      <td>100032</td>\n",
              "      <td>A</td>\n",
              "    </tr>\n",
              "    <tr>\n",
              "      <th>8</th>\n",
              "      <td>1-103298-A-9.wav</td>\n",
              "      <td>1</td>\n",
              "      <td>9</td>\n",
              "      <td>crow</td>\n",
              "      <td>False</td>\n",
              "      <td>103298</td>\n",
              "      <td>A</td>\n",
              "    </tr>\n",
              "    <tr>\n",
              "      <th>14</th>\n",
              "      <td>1-110389-A-0.wav</td>\n",
              "      <td>1</td>\n",
              "      <td>0</td>\n",
              "      <td>dog</td>\n",
              "      <td>True</td>\n",
              "      <td>110389</td>\n",
              "      <td>A</td>\n",
              "    </tr>\n",
              "    <tr>\n",
              "      <th>29</th>\n",
              "      <td>1-121951-A-8.wav</td>\n",
              "      <td>1</td>\n",
              "      <td>8</td>\n",
              "      <td>sheep</td>\n",
              "      <td>False</td>\n",
              "      <td>121951</td>\n",
              "      <td>A</td>\n",
              "    </tr>\n",
              "    <tr>\n",
              "      <th>45</th>\n",
              "      <td>1-15689-A-4.wav</td>\n",
              "      <td>1</td>\n",
              "      <td>4</td>\n",
              "      <td>frog</td>\n",
              "      <td>False</td>\n",
              "      <td>15689</td>\n",
              "      <td>A</td>\n",
              "    </tr>\n",
              "    <tr>\n",
              "      <th>46</th>\n",
              "      <td>1-15689-B-4.wav</td>\n",
              "      <td>1</td>\n",
              "      <td>4</td>\n",
              "      <td>frog</td>\n",
              "      <td>False</td>\n",
              "      <td>15689</td>\n",
              "      <td>B</td>\n",
              "    </tr>\n",
              "    <tr>\n",
              "      <th>49</th>\n",
              "      <td>1-16568-A-3.wav</td>\n",
              "      <td>1</td>\n",
              "      <td>3</td>\n",
              "      <td>cow</td>\n",
              "      <td>False</td>\n",
              "      <td>16568</td>\n",
              "      <td>A</td>\n",
              "    </tr>\n",
              "    <tr>\n",
              "      <th>64</th>\n",
              "      <td>1-17585-A-7.wav</td>\n",
              "      <td>1</td>\n",
              "      <td>7</td>\n",
              "      <td>insects</td>\n",
              "      <td>False</td>\n",
              "      <td>17585</td>\n",
              "      <td>A</td>\n",
              "    </tr>\n",
              "    <tr>\n",
              "      <th>69</th>\n",
              "      <td>1-17970-A-4.wav</td>\n",
              "      <td>1</td>\n",
              "      <td>4</td>\n",
              "      <td>frog</td>\n",
              "      <td>False</td>\n",
              "      <td>17970</td>\n",
              "      <td>A</td>\n",
              "    </tr>\n",
              "    <tr>\n",
              "      <th>70</th>\n",
              "      <td>1-18074-A-6.wav</td>\n",
              "      <td>1</td>\n",
              "      <td>6</td>\n",
              "      <td>hen</td>\n",
              "      <td>False</td>\n",
              "      <td>18074</td>\n",
              "      <td>A</td>\n",
              "    </tr>\n",
              "  </tbody>\n",
              "</table>\n",
              "</div>\n",
              "    <div class=\"colab-df-buttons\">\n",
              "\n",
              "  <div class=\"colab-df-container\">\n",
              "    <button class=\"colab-df-convert\" onclick=\"convertToInteractive('df-484ed4fb-eeac-4fc2-baed-349932512962')\"\n",
              "            title=\"Convert this dataframe to an interactive table.\"\n",
              "            style=\"display:none;\">\n",
              "\n",
              "  <svg xmlns=\"http://www.w3.org/2000/svg\" height=\"24px\" viewBox=\"0 -960 960 960\">\n",
              "    <path d=\"M120-120v-720h720v720H120Zm60-500h600v-160H180v160Zm220 220h160v-160H400v160Zm0 220h160v-160H400v160ZM180-400h160v-160H180v160Zm440 0h160v-160H620v160ZM180-180h160v-160H180v160Zm440 0h160v-160H620v160Z\"/>\n",
              "  </svg>\n",
              "    </button>\n",
              "\n",
              "  <style>\n",
              "    .colab-df-container {\n",
              "      display:flex;\n",
              "      gap: 12px;\n",
              "    }\n",
              "\n",
              "    .colab-df-convert {\n",
              "      background-color: #E8F0FE;\n",
              "      border: none;\n",
              "      border-radius: 50%;\n",
              "      cursor: pointer;\n",
              "      display: none;\n",
              "      fill: #1967D2;\n",
              "      height: 32px;\n",
              "      padding: 0 0 0 0;\n",
              "      width: 32px;\n",
              "    }\n",
              "\n",
              "    .colab-df-convert:hover {\n",
              "      background-color: #E2EBFA;\n",
              "      box-shadow: 0px 1px 2px rgba(60, 64, 67, 0.3), 0px 1px 3px 1px rgba(60, 64, 67, 0.15);\n",
              "      fill: #174EA6;\n",
              "    }\n",
              "\n",
              "    .colab-df-buttons div {\n",
              "      margin-bottom: 4px;\n",
              "    }\n",
              "\n",
              "    [theme=dark] .colab-df-convert {\n",
              "      background-color: #3B4455;\n",
              "      fill: #D2E3FC;\n",
              "    }\n",
              "\n",
              "    [theme=dark] .colab-df-convert:hover {\n",
              "      background-color: #434B5C;\n",
              "      box-shadow: 0px 1px 3px 1px rgba(0, 0, 0, 0.15);\n",
              "      filter: drop-shadow(0px 1px 2px rgba(0, 0, 0, 0.3));\n",
              "      fill: #FFFFFF;\n",
              "    }\n",
              "  </style>\n",
              "\n",
              "    <script>\n",
              "      const buttonEl =\n",
              "        document.querySelector('#df-484ed4fb-eeac-4fc2-baed-349932512962 button.colab-df-convert');\n",
              "      buttonEl.style.display =\n",
              "        google.colab.kernel.accessAllowed ? 'block' : 'none';\n",
              "\n",
              "      async function convertToInteractive(key) {\n",
              "        const element = document.querySelector('#df-484ed4fb-eeac-4fc2-baed-349932512962');\n",
              "        const dataTable =\n",
              "          await google.colab.kernel.invokeFunction('convertToInteractive',\n",
              "                                                    [key], {});\n",
              "        if (!dataTable) return;\n",
              "\n",
              "        const docLinkHtml = 'Like what you see? Visit the ' +\n",
              "          '<a target=\"_blank\" href=https://colab.research.google.com/notebooks/data_table.ipynb>data table notebook</a>'\n",
              "          + ' to learn more about interactive tables.';\n",
              "        element.innerHTML = '';\n",
              "        dataTable['output_type'] = 'display_data';\n",
              "        await google.colab.output.renderOutput(dataTable, element);\n",
              "        const docLink = document.createElement('div');\n",
              "        docLink.innerHTML = docLinkHtml;\n",
              "        element.appendChild(docLink);\n",
              "      }\n",
              "    </script>\n",
              "  </div>\n",
              "\n",
              "\n",
              "<div id=\"df-a376ce94-8bb8-425b-93fc-12e1796f07fd\">\n",
              "  <button class=\"colab-df-quickchart\" onclick=\"quickchart('df-a376ce94-8bb8-425b-93fc-12e1796f07fd')\"\n",
              "            title=\"Suggest charts\"\n",
              "            style=\"display:none;\">\n",
              "\n",
              "<svg xmlns=\"http://www.w3.org/2000/svg\" height=\"24px\"viewBox=\"0 0 24 24\"\n",
              "     width=\"24px\">\n",
              "    <g>\n",
              "        <path d=\"M19 3H5c-1.1 0-2 .9-2 2v14c0 1.1.9 2 2 2h14c1.1 0 2-.9 2-2V5c0-1.1-.9-2-2-2zM9 17H7v-7h2v7zm4 0h-2V7h2v10zm4 0h-2v-4h2v4z\"/>\n",
              "    </g>\n",
              "</svg>\n",
              "  </button>\n",
              "\n",
              "<style>\n",
              "  .colab-df-quickchart {\n",
              "      --bg-color: #E8F0FE;\n",
              "      --fill-color: #1967D2;\n",
              "      --hover-bg-color: #E2EBFA;\n",
              "      --hover-fill-color: #174EA6;\n",
              "      --disabled-fill-color: #AAA;\n",
              "      --disabled-bg-color: #DDD;\n",
              "  }\n",
              "\n",
              "  [theme=dark] .colab-df-quickchart {\n",
              "      --bg-color: #3B4455;\n",
              "      --fill-color: #D2E3FC;\n",
              "      --hover-bg-color: #434B5C;\n",
              "      --hover-fill-color: #FFFFFF;\n",
              "      --disabled-bg-color: #3B4455;\n",
              "      --disabled-fill-color: #666;\n",
              "  }\n",
              "\n",
              "  .colab-df-quickchart {\n",
              "    background-color: var(--bg-color);\n",
              "    border: none;\n",
              "    border-radius: 50%;\n",
              "    cursor: pointer;\n",
              "    display: none;\n",
              "    fill: var(--fill-color);\n",
              "    height: 32px;\n",
              "    padding: 0;\n",
              "    width: 32px;\n",
              "  }\n",
              "\n",
              "  .colab-df-quickchart:hover {\n",
              "    background-color: var(--hover-bg-color);\n",
              "    box-shadow: 0 1px 2px rgba(60, 64, 67, 0.3), 0 1px 3px 1px rgba(60, 64, 67, 0.15);\n",
              "    fill: var(--button-hover-fill-color);\n",
              "  }\n",
              "\n",
              "  .colab-df-quickchart-complete:disabled,\n",
              "  .colab-df-quickchart-complete:disabled:hover {\n",
              "    background-color: var(--disabled-bg-color);\n",
              "    fill: var(--disabled-fill-color);\n",
              "    box-shadow: none;\n",
              "  }\n",
              "\n",
              "  .colab-df-spinner {\n",
              "    border: 2px solid var(--fill-color);\n",
              "    border-color: transparent;\n",
              "    border-bottom-color: var(--fill-color);\n",
              "    animation:\n",
              "      spin 1s steps(1) infinite;\n",
              "  }\n",
              "\n",
              "  @keyframes spin {\n",
              "    0% {\n",
              "      border-color: transparent;\n",
              "      border-bottom-color: var(--fill-color);\n",
              "      border-left-color: var(--fill-color);\n",
              "    }\n",
              "    20% {\n",
              "      border-color: transparent;\n",
              "      border-left-color: var(--fill-color);\n",
              "      border-top-color: var(--fill-color);\n",
              "    }\n",
              "    30% {\n",
              "      border-color: transparent;\n",
              "      border-left-color: var(--fill-color);\n",
              "      border-top-color: var(--fill-color);\n",
              "      border-right-color: var(--fill-color);\n",
              "    }\n",
              "    40% {\n",
              "      border-color: transparent;\n",
              "      border-right-color: var(--fill-color);\n",
              "      border-top-color: var(--fill-color);\n",
              "    }\n",
              "    60% {\n",
              "      border-color: transparent;\n",
              "      border-right-color: var(--fill-color);\n",
              "    }\n",
              "    80% {\n",
              "      border-color: transparent;\n",
              "      border-right-color: var(--fill-color);\n",
              "      border-bottom-color: var(--fill-color);\n",
              "    }\n",
              "    90% {\n",
              "      border-color: transparent;\n",
              "      border-bottom-color: var(--fill-color);\n",
              "    }\n",
              "  }\n",
              "</style>\n",
              "\n",
              "  <script>\n",
              "    async function quickchart(key) {\n",
              "      const quickchartButtonEl =\n",
              "        document.querySelector('#' + key + ' button');\n",
              "      quickchartButtonEl.disabled = true;  // To prevent multiple clicks.\n",
              "      quickchartButtonEl.classList.add('colab-df-spinner');\n",
              "      try {\n",
              "        const charts = await google.colab.kernel.invokeFunction(\n",
              "            'suggestCharts', [key], {});\n",
              "      } catch (error) {\n",
              "        console.error('Error during call to suggestCharts:', error);\n",
              "      }\n",
              "      quickchartButtonEl.classList.remove('colab-df-spinner');\n",
              "      quickchartButtonEl.classList.add('colab-df-quickchart-complete');\n",
              "    }\n",
              "    (() => {\n",
              "      let quickchartButtonEl =\n",
              "        document.querySelector('#df-a376ce94-8bb8-425b-93fc-12e1796f07fd button');\n",
              "      quickchartButtonEl.style.display =\n",
              "        google.colab.kernel.accessAllowed ? 'block' : 'none';\n",
              "    })();\n",
              "  </script>\n",
              "</div>\n",
              "\n",
              "    </div>\n",
              "  </div>\n"
            ],
            "application/vnd.google.colaboratory.intrinsic+json": {
              "type": "dataframe",
              "variable_name": "esc50_animals",
              "summary": "{\n  \"name\": \"esc50_animals\",\n  \"rows\": 400,\n  \"fields\": [\n    {\n      \"column\": \"filename\",\n      \"properties\": {\n        \"dtype\": \"string\",\n        \"num_unique_values\": 400,\n        \"samples\": [\n          \"3-171281-A-6.wav\",\n          \"4-183992-A-0.wav\",\n          \"1-31836-B-4.wav\"\n        ],\n        \"semantic_type\": \"\",\n        \"description\": \"\"\n      }\n    },\n    {\n      \"column\": \"fold\",\n      \"properties\": {\n        \"dtype\": \"number\",\n        \"std\": 1,\n        \"min\": 1,\n        \"max\": 5,\n        \"num_unique_values\": 5,\n        \"samples\": [\n          2,\n          5,\n          3\n        ],\n        \"semantic_type\": \"\",\n        \"description\": \"\"\n      }\n    },\n    {\n      \"column\": \"target\",\n      \"properties\": {\n        \"dtype\": \"number\",\n        \"std\": 2,\n        \"min\": 0,\n        \"max\": 9,\n        \"num_unique_values\": 10,\n        \"samples\": [\n          1,\n          9,\n          7\n        ],\n        \"semantic_type\": \"\",\n        \"description\": \"\"\n      }\n    },\n    {\n      \"column\": \"category\",\n      \"properties\": {\n        \"dtype\": \"category\",\n        \"num_unique_values\": 10,\n        \"samples\": [\n          \"rooster\",\n          \"crow\",\n          \"insects\"\n        ],\n        \"semantic_type\": \"\",\n        \"description\": \"\"\n      }\n    },\n    {\n      \"column\": \"esc10\",\n      \"properties\": {\n        \"dtype\": \"boolean\",\n        \"num_unique_values\": 2,\n        \"samples\": [\n          false,\n          true\n        ],\n        \"semantic_type\": \"\",\n        \"description\": \"\"\n      }\n    },\n    {\n      \"column\": \"src_file\",\n      \"properties\": {\n        \"dtype\": \"number\",\n        \"std\": 65852,\n        \"min\": 5996,\n        \"max\": 263831,\n        \"num_unique_values\": 267,\n        \"samples\": [\n          134049,\n          75189\n        ],\n        \"semantic_type\": \"\",\n        \"description\": \"\"\n      }\n    },\n    {\n      \"column\": \"take\",\n      \"properties\": {\n        \"dtype\": \"category\",\n        \"num_unique_values\": 5,\n        \"samples\": [\n          \"B\",\n          \"E\"\n        ],\n        \"semantic_type\": \"\",\n        \"description\": \"\"\n      }\n    }\n  ]\n}"
            }
          },
          "metadata": {},
          "execution_count": 10
        }
      ]
    },
    {
      "cell_type": "code",
      "source": [
        "def preprocess_wav(filename, target_sr=16000):\n",
        "    filename = 'audio/' + filename\n",
        "    # Load the .wav file using librosa\n",
        "    audio, sampling_rate = librosa.load(filename, sr=None)\n",
        "\n",
        "    # Resample to target sample rate (16kHz)\n",
        "    audio = librosa.resample(audio, orig_sr=sampling_rate, target_sr=target_sr)\n",
        "\n",
        "    # If audio has more than 1 channel, convert to mono\n",
        "    if len(audio.shape) > 1:\n",
        "        audio = librosa.to_mono(audio)\n",
        "\n",
        "    # Convert to float32 TensorFlow tensor\n",
        "    audio_tensor = tf.convert_to_tensor(audio, dtype=tf.float32)\n",
        "\n",
        "    return audio_tensor"
      ],
      "metadata": {
        "id": "B24lA4a-npoS"
      },
      "execution_count": 11,
      "outputs": []
    },
    {
      "cell_type": "code",
      "source": [
        "# @tf.function\n",
        "# def load_wav_16k_mono(filename):\n",
        "#     \"\"\" Load a WAV file, convert it to a float tensor, resample to 16 kHz single-channel audio. \"\"\"\n",
        "#     file_contents = tf.io.read_file(filename)\n",
        "#     wav, sample_rate = tf.audio.decode_wav(\n",
        "#           file_contents,\n",
        "#           desired_channels=1)\n",
        "#     wav = tf.squeeze(wav, axis=-1)\n",
        "#     sample_rate = tf.cast(sample_rate, dtype=tf.int64)\n",
        "#     wav = tfio.audio.resample(wav, rate_in=sample_rate, rate_out=16000)\n",
        "#     return wav"
      ],
      "metadata": {
        "id": "bL-IotE7sLgB"
      },
      "execution_count": 12,
      "outputs": []
    },
    {
      "cell_type": "markdown",
      "source": [
        "# YAMNet"
      ],
      "metadata": {
        "id": "3FUzQpxFmLCk"
      }
    },
    {
      "cell_type": "code",
      "execution_count": null,
      "metadata": {
        "id": "VHt2rorjnRFr"
      },
      "outputs": [],
      "source": [
        "yamnet_model_handle = 'https://tfhub.dev/google/yamnet/1'\n",
        "yamnet = hub.load(yamnet_model_handle)"
      ]
    },
    {
      "cell_type": "code",
      "source": [
        "# get a sample .wav file\n",
        "sample_file = esc50_animals.iloc[0]['filename']\n",
        "esc_single_waveform = preprocess_wav(sample_file)\n",
        "\n",
        "# # plot and display\n",
        "# _ = plt.plot(esc_single_waveform)\n",
        "# display.Audio(esc_single_waveform, rate=16000)\n",
        "\n",
        "esc_single_waveform.shape"
      ],
      "metadata": {
        "id": "UBqou94-oE_j"
      },
      "execution_count": null,
      "outputs": []
    },
    {
      "cell_type": "code",
      "source": [
        "class_map_path = yamnet.class_map_path().numpy().decode('utf-8')\n",
        "class_names =list(pd.read_csv(class_map_path)['display_name'])"
      ],
      "metadata": {
        "id": "_QEHfmUZo0AL"
      },
      "execution_count": null,
      "outputs": []
    },
    {
      "cell_type": "code",
      "source": [
        "# to find the top-scored class, take the maximum of the 521 aggregated scores.\n",
        "scores, embeddings, spectrogram = yamnet(esc_single_waveform)\n",
        "scores_np = scores.numpy()\n",
        "spectrogram_np = spectrogram.numpy()\n",
        "infered_class = class_names[scores_np.mean(axis=0).argmax()]\n",
        "print(f'The main sound is: {infered_class}')"
      ],
      "metadata": {
        "id": "pwEvBP05o7uP"
      },
      "execution_count": null,
      "outputs": []
    },
    {
      "cell_type": "code",
      "source": [
        "# results = []\n",
        "\n",
        "# # for each file in the esc50_animals\n",
        "# for index, row in esc50_animals.iterrows():\n",
        "\n",
        "#     #preprocess\n",
        "#     filename = row['filename']\n",
        "#     wav = preprocess_wav(filename)\n",
        "\n",
        "#     #run yamnet\n",
        "#     scores, embeddings, spectrogram = yamnet(wav)\n",
        "\n",
        "#     # convert scores to numpy array and find the inferred class\n",
        "#     scores_np = scores.numpy()\n",
        "#     predicted = class_names[scores_np.mean(axis=0).argmax()]\n",
        "\n",
        "#     # Store the result\n",
        "#     results.append({\n",
        "#         #'filename': filename,\n",
        "#         'predicted class': predicted.lower(),\n",
        "#         'true class': row['category']\n",
        "#     })\n",
        "\n",
        "# results_df = pd.DataFrame(results)"
      ],
      "metadata": {
        "id": "TvQr1Ruo5Yw_"
      },
      "execution_count": null,
      "outputs": []
    },
    {
      "cell_type": "code",
      "source": [
        "# results_df.head(20)"
      ],
      "metadata": {
        "id": "w7p5XPSh6rh2"
      },
      "execution_count": null,
      "outputs": []
    },
    {
      "cell_type": "markdown",
      "source": [
        "# Sequential Model"
      ],
      "metadata": {
        "id": "RRKR2-WM4fNz"
      }
    },
    {
      "cell_type": "code",
      "source": [
        "class_map_path = yamnet.class_map_path().numpy().decode('utf-8')\n",
        "class_names =list(pd.read_csv(class_map_path)['display_name'])"
      ],
      "metadata": {
        "id": "BGeKIM1uJVwi"
      },
      "execution_count": null,
      "outputs": []
    },
    {
      "cell_type": "code",
      "source": [
        "animals = ['dog', 'rooster', 'pig', 'cow', 'frog', 'cat', 'hen', 'insects', 'sheep', 'crow']\n",
        "map_class_to_id = {'dog':0,'rooster':1, 'pig':2, 'cow':3, 'frog':4, 'cat':5, 'hen':6, 'insects':7, 'sheep':8, 'crow':9}\n",
        "\n",
        "esc50_animals = esc50_data[esc50_data.category.isin(animals)]\n",
        "\n",
        "class_id = esc50_animals['category'].apply(lambda name: map_class_to_id[name])\n",
        "esc50_animals = esc50_animals.assign(target=class_id)\n",
        "\n",
        "esc50_animals.head(5)"
      ],
      "metadata": {
        "id": "5_8XWe9DJWm-",
        "colab": {
          "base_uri": "https://localhost:8080/",
          "height": 204
        },
        "outputId": "2f23b907-1b08-40db-ea1c-7162dc75b8d8"
      },
      "execution_count": null,
      "outputs": [
        {
          "output_type": "execute_result",
          "data": {
            "text/plain": [
              "            filename  fold  target category  esc10  src_file take\n",
              "0   1-100032-A-0.wav     1       0      dog   True    100032    A\n",
              "8   1-103298-A-9.wav     1       8     crow  False    103298    A\n",
              "14  1-110389-A-0.wav     1       0      dog   True    110389    A\n",
              "29  1-121951-A-8.wav     1       7    sheep  False    121951    A\n",
              "45   1-15689-A-4.wav     1       3     frog  False     15689    A"
            ],
            "text/html": [
              "\n",
              "  <div id=\"df-193d4ae1-47ba-41b4-8cf4-0a0c27cd60c3\" class=\"colab-df-container\">\n",
              "    <div>\n",
              "<style scoped>\n",
              "    .dataframe tbody tr th:only-of-type {\n",
              "        vertical-align: middle;\n",
              "    }\n",
              "\n",
              "    .dataframe tbody tr th {\n",
              "        vertical-align: top;\n",
              "    }\n",
              "\n",
              "    .dataframe thead th {\n",
              "        text-align: right;\n",
              "    }\n",
              "</style>\n",
              "<table border=\"1\" class=\"dataframe\">\n",
              "  <thead>\n",
              "    <tr style=\"text-align: right;\">\n",
              "      <th></th>\n",
              "      <th>filename</th>\n",
              "      <th>fold</th>\n",
              "      <th>target</th>\n",
              "      <th>category</th>\n",
              "      <th>esc10</th>\n",
              "      <th>src_file</th>\n",
              "      <th>take</th>\n",
              "    </tr>\n",
              "  </thead>\n",
              "  <tbody>\n",
              "    <tr>\n",
              "      <th>0</th>\n",
              "      <td>1-100032-A-0.wav</td>\n",
              "      <td>1</td>\n",
              "      <td>0</td>\n",
              "      <td>dog</td>\n",
              "      <td>True</td>\n",
              "      <td>100032</td>\n",
              "      <td>A</td>\n",
              "    </tr>\n",
              "    <tr>\n",
              "      <th>8</th>\n",
              "      <td>1-103298-A-9.wav</td>\n",
              "      <td>1</td>\n",
              "      <td>8</td>\n",
              "      <td>crow</td>\n",
              "      <td>False</td>\n",
              "      <td>103298</td>\n",
              "      <td>A</td>\n",
              "    </tr>\n",
              "    <tr>\n",
              "      <th>14</th>\n",
              "      <td>1-110389-A-0.wav</td>\n",
              "      <td>1</td>\n",
              "      <td>0</td>\n",
              "      <td>dog</td>\n",
              "      <td>True</td>\n",
              "      <td>110389</td>\n",
              "      <td>A</td>\n",
              "    </tr>\n",
              "    <tr>\n",
              "      <th>29</th>\n",
              "      <td>1-121951-A-8.wav</td>\n",
              "      <td>1</td>\n",
              "      <td>7</td>\n",
              "      <td>sheep</td>\n",
              "      <td>False</td>\n",
              "      <td>121951</td>\n",
              "      <td>A</td>\n",
              "    </tr>\n",
              "    <tr>\n",
              "      <th>45</th>\n",
              "      <td>1-15689-A-4.wav</td>\n",
              "      <td>1</td>\n",
              "      <td>3</td>\n",
              "      <td>frog</td>\n",
              "      <td>False</td>\n",
              "      <td>15689</td>\n",
              "      <td>A</td>\n",
              "    </tr>\n",
              "  </tbody>\n",
              "</table>\n",
              "</div>\n",
              "    <div class=\"colab-df-buttons\">\n",
              "\n",
              "  <div class=\"colab-df-container\">\n",
              "    <button class=\"colab-df-convert\" onclick=\"convertToInteractive('df-193d4ae1-47ba-41b4-8cf4-0a0c27cd60c3')\"\n",
              "            title=\"Convert this dataframe to an interactive table.\"\n",
              "            style=\"display:none;\">\n",
              "\n",
              "  <svg xmlns=\"http://www.w3.org/2000/svg\" height=\"24px\" viewBox=\"0 -960 960 960\">\n",
              "    <path d=\"M120-120v-720h720v720H120Zm60-500h600v-160H180v160Zm220 220h160v-160H400v160Zm0 220h160v-160H400v160ZM180-400h160v-160H180v160Zm440 0h160v-160H620v160ZM180-180h160v-160H180v160Zm440 0h160v-160H620v160Z\"/>\n",
              "  </svg>\n",
              "    </button>\n",
              "\n",
              "  <style>\n",
              "    .colab-df-container {\n",
              "      display:flex;\n",
              "      gap: 12px;\n",
              "    }\n",
              "\n",
              "    .colab-df-convert {\n",
              "      background-color: #E8F0FE;\n",
              "      border: none;\n",
              "      border-radius: 50%;\n",
              "      cursor: pointer;\n",
              "      display: none;\n",
              "      fill: #1967D2;\n",
              "      height: 32px;\n",
              "      padding: 0 0 0 0;\n",
              "      width: 32px;\n",
              "    }\n",
              "\n",
              "    .colab-df-convert:hover {\n",
              "      background-color: #E2EBFA;\n",
              "      box-shadow: 0px 1px 2px rgba(60, 64, 67, 0.3), 0px 1px 3px 1px rgba(60, 64, 67, 0.15);\n",
              "      fill: #174EA6;\n",
              "    }\n",
              "\n",
              "    .colab-df-buttons div {\n",
              "      margin-bottom: 4px;\n",
              "    }\n",
              "\n",
              "    [theme=dark] .colab-df-convert {\n",
              "      background-color: #3B4455;\n",
              "      fill: #D2E3FC;\n",
              "    }\n",
              "\n",
              "    [theme=dark] .colab-df-convert:hover {\n",
              "      background-color: #434B5C;\n",
              "      box-shadow: 0px 1px 3px 1px rgba(0, 0, 0, 0.15);\n",
              "      filter: drop-shadow(0px 1px 2px rgba(0, 0, 0, 0.3));\n",
              "      fill: #FFFFFF;\n",
              "    }\n",
              "  </style>\n",
              "\n",
              "    <script>\n",
              "      const buttonEl =\n",
              "        document.querySelector('#df-193d4ae1-47ba-41b4-8cf4-0a0c27cd60c3 button.colab-df-convert');\n",
              "      buttonEl.style.display =\n",
              "        google.colab.kernel.accessAllowed ? 'block' : 'none';\n",
              "\n",
              "      async function convertToInteractive(key) {\n",
              "        const element = document.querySelector('#df-193d4ae1-47ba-41b4-8cf4-0a0c27cd60c3');\n",
              "        const dataTable =\n",
              "          await google.colab.kernel.invokeFunction('convertToInteractive',\n",
              "                                                    [key], {});\n",
              "        if (!dataTable) return;\n",
              "\n",
              "        const docLinkHtml = 'Like what you see? Visit the ' +\n",
              "          '<a target=\"_blank\" href=https://colab.research.google.com/notebooks/data_table.ipynb>data table notebook</a>'\n",
              "          + ' to learn more about interactive tables.';\n",
              "        element.innerHTML = '';\n",
              "        dataTable['output_type'] = 'display_data';\n",
              "        await google.colab.output.renderOutput(dataTable, element);\n",
              "        const docLink = document.createElement('div');\n",
              "        docLink.innerHTML = docLinkHtml;\n",
              "        element.appendChild(docLink);\n",
              "      }\n",
              "    </script>\n",
              "  </div>\n",
              "\n",
              "\n",
              "<div id=\"df-a3fe4a8e-fc8d-4167-aa71-9f137fe1ee11\">\n",
              "  <button class=\"colab-df-quickchart\" onclick=\"quickchart('df-a3fe4a8e-fc8d-4167-aa71-9f137fe1ee11')\"\n",
              "            title=\"Suggest charts\"\n",
              "            style=\"display:none;\">\n",
              "\n",
              "<svg xmlns=\"http://www.w3.org/2000/svg\" height=\"24px\"viewBox=\"0 0 24 24\"\n",
              "     width=\"24px\">\n",
              "    <g>\n",
              "        <path d=\"M19 3H5c-1.1 0-2 .9-2 2v14c0 1.1.9 2 2 2h14c1.1 0 2-.9 2-2V5c0-1.1-.9-2-2-2zM9 17H7v-7h2v7zm4 0h-2V7h2v10zm4 0h-2v-4h2v4z\"/>\n",
              "    </g>\n",
              "</svg>\n",
              "  </button>\n",
              "\n",
              "<style>\n",
              "  .colab-df-quickchart {\n",
              "      --bg-color: #E8F0FE;\n",
              "      --fill-color: #1967D2;\n",
              "      --hover-bg-color: #E2EBFA;\n",
              "      --hover-fill-color: #174EA6;\n",
              "      --disabled-fill-color: #AAA;\n",
              "      --disabled-bg-color: #DDD;\n",
              "  }\n",
              "\n",
              "  [theme=dark] .colab-df-quickchart {\n",
              "      --bg-color: #3B4455;\n",
              "      --fill-color: #D2E3FC;\n",
              "      --hover-bg-color: #434B5C;\n",
              "      --hover-fill-color: #FFFFFF;\n",
              "      --disabled-bg-color: #3B4455;\n",
              "      --disabled-fill-color: #666;\n",
              "  }\n",
              "\n",
              "  .colab-df-quickchart {\n",
              "    background-color: var(--bg-color);\n",
              "    border: none;\n",
              "    border-radius: 50%;\n",
              "    cursor: pointer;\n",
              "    display: none;\n",
              "    fill: var(--fill-color);\n",
              "    height: 32px;\n",
              "    padding: 0;\n",
              "    width: 32px;\n",
              "  }\n",
              "\n",
              "  .colab-df-quickchart:hover {\n",
              "    background-color: var(--hover-bg-color);\n",
              "    box-shadow: 0 1px 2px rgba(60, 64, 67, 0.3), 0 1px 3px 1px rgba(60, 64, 67, 0.15);\n",
              "    fill: var(--button-hover-fill-color);\n",
              "  }\n",
              "\n",
              "  .colab-df-quickchart-complete:disabled,\n",
              "  .colab-df-quickchart-complete:disabled:hover {\n",
              "    background-color: var(--disabled-bg-color);\n",
              "    fill: var(--disabled-fill-color);\n",
              "    box-shadow: none;\n",
              "  }\n",
              "\n",
              "  .colab-df-spinner {\n",
              "    border: 2px solid var(--fill-color);\n",
              "    border-color: transparent;\n",
              "    border-bottom-color: var(--fill-color);\n",
              "    animation:\n",
              "      spin 1s steps(1) infinite;\n",
              "  }\n",
              "\n",
              "  @keyframes spin {\n",
              "    0% {\n",
              "      border-color: transparent;\n",
              "      border-bottom-color: var(--fill-color);\n",
              "      border-left-color: var(--fill-color);\n",
              "    }\n",
              "    20% {\n",
              "      border-color: transparent;\n",
              "      border-left-color: var(--fill-color);\n",
              "      border-top-color: var(--fill-color);\n",
              "    }\n",
              "    30% {\n",
              "      border-color: transparent;\n",
              "      border-left-color: var(--fill-color);\n",
              "      border-top-color: var(--fill-color);\n",
              "      border-right-color: var(--fill-color);\n",
              "    }\n",
              "    40% {\n",
              "      border-color: transparent;\n",
              "      border-right-color: var(--fill-color);\n",
              "      border-top-color: var(--fill-color);\n",
              "    }\n",
              "    60% {\n",
              "      border-color: transparent;\n",
              "      border-right-color: var(--fill-color);\n",
              "    }\n",
              "    80% {\n",
              "      border-color: transparent;\n",
              "      border-right-color: var(--fill-color);\n",
              "      border-bottom-color: var(--fill-color);\n",
              "    }\n",
              "    90% {\n",
              "      border-color: transparent;\n",
              "      border-bottom-color: var(--fill-color);\n",
              "    }\n",
              "  }\n",
              "</style>\n",
              "\n",
              "  <script>\n",
              "    async function quickchart(key) {\n",
              "      const quickchartButtonEl =\n",
              "        document.querySelector('#' + key + ' button');\n",
              "      quickchartButtonEl.disabled = true;  // To prevent multiple clicks.\n",
              "      quickchartButtonEl.classList.add('colab-df-spinner');\n",
              "      try {\n",
              "        const charts = await google.colab.kernel.invokeFunction(\n",
              "            'suggestCharts', [key], {});\n",
              "      } catch (error) {\n",
              "        console.error('Error during call to suggestCharts:', error);\n",
              "      }\n",
              "      quickchartButtonEl.classList.remove('colab-df-spinner');\n",
              "      quickchartButtonEl.classList.add('colab-df-quickchart-complete');\n",
              "    }\n",
              "    (() => {\n",
              "      let quickchartButtonEl =\n",
              "        document.querySelector('#df-a3fe4a8e-fc8d-4167-aa71-9f137fe1ee11 button');\n",
              "      quickchartButtonEl.style.display =\n",
              "        google.colab.kernel.accessAllowed ? 'block' : 'none';\n",
              "    })();\n",
              "  </script>\n",
              "</div>\n",
              "\n",
              "    </div>\n",
              "  </div>\n"
            ],
            "application/vnd.google.colaboratory.intrinsic+json": {
              "type": "dataframe",
              "variable_name": "esc50_animals",
              "summary": "{\n  \"name\": \"esc50_animals\",\n  \"rows\": 360,\n  \"fields\": [\n    {\n      \"column\": \"filename\",\n      \"properties\": {\n        \"dtype\": \"string\",\n        \"num_unique_values\": 360,\n        \"samples\": [\n          \"4-133895-A-7.wav\",\n          \"1-49409-A-8.wav\",\n          \"4-99644-B-4.wav\"\n        ],\n        \"semantic_type\": \"\",\n        \"description\": \"\"\n      }\n    },\n    {\n      \"column\": \"fold\",\n      \"properties\": {\n        \"dtype\": \"number\",\n        \"std\": 1,\n        \"min\": 1,\n        \"max\": 5,\n        \"num_unique_values\": 5,\n        \"samples\": [\n          2,\n          5,\n          3\n        ],\n        \"semantic_type\": \"\",\n        \"description\": \"\"\n      }\n    },\n    {\n      \"column\": \"target\",\n      \"properties\": {\n        \"dtype\": \"number\",\n        \"std\": 2,\n        \"min\": 0,\n        \"max\": 8,\n        \"num_unique_values\": 9,\n        \"samples\": [\n          1,\n          8,\n          6\n        ],\n        \"semantic_type\": \"\",\n        \"description\": \"\"\n      }\n    },\n    {\n      \"column\": \"category\",\n      \"properties\": {\n        \"dtype\": \"category\",\n        \"num_unique_values\": 9,\n        \"samples\": [\n          \"pig\",\n          \"crow\",\n          \"insects\"\n        ],\n        \"semantic_type\": \"\",\n        \"description\": \"\"\n      }\n    },\n    {\n      \"column\": \"esc10\",\n      \"properties\": {\n        \"dtype\": \"boolean\",\n        \"num_unique_values\": 2,\n        \"samples\": [\n          false,\n          true\n        ],\n        \"semantic_type\": \"\",\n        \"description\": \"\"\n      }\n    },\n    {\n      \"column\": \"src_file\",\n      \"properties\": {\n        \"dtype\": \"number\",\n        \"std\": 66025,\n        \"min\": 5996,\n        \"max\": 263831,\n        \"num_unique_values\": 236,\n        \"samples\": [\n          118072,\n          103416\n        ],\n        \"semantic_type\": \"\",\n        \"description\": \"\"\n      }\n    },\n    {\n      \"column\": \"take\",\n      \"properties\": {\n        \"dtype\": \"category\",\n        \"num_unique_values\": 5,\n        \"samples\": [\n          \"B\",\n          \"E\"\n        ],\n        \"semantic_type\": \"\",\n        \"description\": \"\"\n      }\n    }\n  ]\n}"
            }
          },
          "metadata": {},
          "execution_count": 34
        }
      ]
    },
    {
      "cell_type": "code",
      "source": [
        "# convert columns to numpy arrays\n",
        "filenames = esc50_animals['filename']\n",
        "targets = esc50_animals['target']\n",
        "folds = esc50_animals['fold']\n",
        "\n",
        "esc50 = tf.data.Dataset.from_tensor_slices((filenames, targets, folds))\n",
        "esc50.element_spec"
      ],
      "metadata": {
        "id": "0wPb2vegphGt",
        "colab": {
          "base_uri": "https://localhost:8080/"
        },
        "outputId": "6fbcb918-e00c-4550-c2f4-32da29a65c9f"
      },
      "execution_count": null,
      "outputs": [
        {
          "output_type": "execute_result",
          "data": {
            "text/plain": [
              "(TensorSpec(shape=(), dtype=tf.string, name=None),\n",
              " TensorSpec(shape=(), dtype=tf.int64, name=None),\n",
              " TensorSpec(shape=(), dtype=tf.int64, name=None))"
            ]
          },
          "metadata": {},
          "execution_count": 35
        }
      ]
    },
    {
      "cell_type": "code",
      "source": [
        "# def load_wav_for_map(filename, label, fold):\n",
        "#     return preprocess_wav(filename), label, fold\n",
        "\n",
        "# esc50 = esc50.map(load_wav_for_map)\n",
        "# esc50.element_spec"
      ],
      "metadata": {
        "id": "sl96xsu-OCFF"
      },
      "execution_count": null,
      "outputs": []
    },
    {
      "cell_type": "code",
      "source": [
        "def load_wav_for_map(filename, label, fold):\n",
        "    def _load_wav(filename):\n",
        "        filename_str = filename.numpy().decode('utf-8')\n",
        "        return preprocess_wav(filename_str)\n",
        "\n",
        "    # wrap the python-based _load_wav function\n",
        "    audio = tf.py_function(_load_wav, [filename], tf.float32)\n",
        "    return audio, label, fold\n",
        "\n",
        "esc50 = esc50.map(load_wav_for_map)\n",
        "esc50.element_spec"
      ],
      "metadata": {
        "id": "-2gh4nbapqY6",
        "colab": {
          "base_uri": "https://localhost:8080/"
        },
        "outputId": "c0b041ca-a811-4fac-841d-5ba8d0460cc2"
      },
      "execution_count": null,
      "outputs": [
        {
          "output_type": "execute_result",
          "data": {
            "text/plain": [
              "(TensorSpec(shape=<unknown>, dtype=tf.float32, name=None),\n",
              " TensorSpec(shape=(), dtype=tf.int64, name=None),\n",
              " TensorSpec(shape=(), dtype=tf.int64, name=None))"
            ]
          },
          "metadata": {},
          "execution_count": 37
        }
      ]
    },
    {
      "cell_type": "code",
      "source": [
        "# applies the embedding extraction model to a wav data\n",
        "def extract_embedding(wav_data, label, fold):\n",
        "  # run YAMNet to extract embedding from the wav data\n",
        "  scores, embeddings, spectrogram = yamnet(wav_data)\n",
        "  num_embeddings = tf.shape(embeddings)[0]\n",
        "  return (embeddings,\n",
        "            tf.repeat(label, num_embeddings),\n",
        "            tf.repeat(fold, num_embeddings))\n",
        "\n",
        "# extract embedding\n",
        "esc50 = esc50.map(extract_embedding).unbatch()\n",
        "esc50.element_spec"
      ],
      "metadata": {
        "id": "VXcdgUzsuCUr",
        "colab": {
          "base_uri": "https://localhost:8080/"
        },
        "outputId": "c436835d-9faf-465c-9cbc-13636bad0e96"
      },
      "execution_count": null,
      "outputs": [
        {
          "output_type": "execute_result",
          "data": {
            "text/plain": [
              "(TensorSpec(shape=(1024,), dtype=tf.float32, name=None),\n",
              " TensorSpec(shape=(), dtype=tf.int64, name=None),\n",
              " TensorSpec(shape=(), dtype=tf.int64, name=None))"
            ]
          },
          "metadata": {},
          "execution_count": 38
        }
      ]
    },
    {
      "cell_type": "code",
      "source": [
        "# clips from the same original source should always be in the same fold\n",
        "cached_ds = esc50.cache()\n",
        "train_ds = cached_ds.filter(lambda embedding, label, fold: fold < 4)\n",
        "val_ds = cached_ds.filter(lambda embedding, label, fold: fold == 4)\n",
        "test_ds = cached_ds.filter(lambda embedding, label, fold: fold == 5)"
      ],
      "metadata": {
        "id": "kMoeHAHm0ohR"
      },
      "execution_count": null,
      "outputs": []
    },
    {
      "cell_type": "code",
      "source": [
        "# remove the folds column now that it's not needed anymore\n",
        "remove_fold_column = lambda embedding, label, fold: (embedding, label)\n",
        "\n",
        "train_ds = train_ds.map(remove_fold_column)\n",
        "val_ds = val_ds.map(remove_fold_column)\n",
        "test_ds = test_ds.map(remove_fold_column)\n",
        "\n",
        "train_ds = train_ds.cache().shuffle(1000).batch(32).prefetch(tf.data.AUTOTUNE)\n",
        "val_ds = val_ds.cache().batch(32).prefetch(tf.data.AUTOTUNE)\n",
        "test_ds = test_ds.cache().batch(32).prefetch(tf.data.AUTOTUNE)"
      ],
      "metadata": {
        "id": "qJiK2efpxgxA"
      },
      "execution_count": null,
      "outputs": []
    },
    {
      "cell_type": "code",
      "source": [
        "num_classes = len(animals)\n",
        "\n",
        "my_model = tf.keras.Sequential([\n",
        "    tf.keras.layers.Input(shape=(1024,), dtype=tf.float32, name='input_embedding'),\n",
        "    tf.keras.layers.Dense(512, activation='relu'),\n",
        "    tf.keras.layers.Dense(num_classes)\n",
        "], name='my_model')\n",
        "\n",
        "#my_model.summary()"
      ],
      "metadata": {
        "id": "mcKvTzFS0mqD"
      },
      "execution_count": null,
      "outputs": []
    },
    {
      "cell_type": "code",
      "source": [
        "my_model.compile(loss=tf.keras.losses.SparseCategoricalCrossentropy(from_logits=True),\n",
        "                 optimizer=\"adam\",\n",
        "                 metrics=['accuracy'])\n",
        "\n",
        "callback = tf.keras.callbacks.EarlyStopping(monitor='loss',\n",
        "                                            patience=3,\n",
        "                                            restore_best_weights=True)"
      ],
      "metadata": {
        "id": "6EmN23gY07Zm"
      },
      "execution_count": null,
      "outputs": []
    },
    {
      "cell_type": "code",
      "source": [
        "history = my_model.fit(train_ds,\n",
        "                       epochs=40,\n",
        "                       validation_data=val_ds,\n",
        "                       callbacks=callback)"
      ],
      "metadata": {
        "id": "Fxx-A5d81nRr",
        "colab": {
          "base_uri": "https://localhost:8080/"
        },
        "outputId": "8b1c0910-7b34-4f76-f612-d58bea7ce2e6"
      },
      "execution_count": null,
      "outputs": [
        {
          "output_type": "stream",
          "name": "stdout",
          "text": [
            "Epoch 1/40\n",
            "     68/Unknown \u001b[1m22s\u001b[0m 224ms/step - accuracy: 0.6393 - loss: 1.5715"
          ]
        },
        {
          "output_type": "stream",
          "name": "stderr",
          "text": [
            "/usr/lib/python3.10/contextlib.py:153: UserWarning: Your input ran out of data; interrupting training. Make sure that your dataset or generator can generate at least `steps_per_epoch * epochs` batches. You may need to use the `.repeat()` function when building your dataset.\n",
            "  self.gen.throw(typ, value, traceback)\n"
          ]
        },
        {
          "output_type": "stream",
          "name": "stdout",
          "text": [
            "\b\b\b\b\b\b\b\b\b\b\b\b\b\b\b\b\b\b\b\b\b\b\b\b\b\b\b\b\b\b\b\b\b\b\b\b\b\b\b\b\b\b\b\b\b\b\b\b\b\b\b\b\b\b\b\b\b\b\b\b\b\b\b\b\r\u001b[1m68/68\u001b[0m \u001b[32m━━━━━━━━━━━━━━━━━━━━\u001b[0m\u001b[37m\u001b[0m \u001b[1m23s\u001b[0m 232ms/step - accuracy: 0.6408 - loss: 1.5653 - val_accuracy: 0.7708 - val_loss: 0.7315\n",
            "Epoch 2/40\n",
            "\u001b[1m68/68\u001b[0m \u001b[32m━━━━━━━━━━━━━━━━━━━━\u001b[0m\u001b[37m\u001b[0m \u001b[1m1s\u001b[0m 13ms/step - accuracy: 0.8132 - loss: 0.6609 - val_accuracy: 0.7875 - val_loss: 0.6241\n",
            "Epoch 3/40\n",
            "\u001b[1m68/68\u001b[0m \u001b[32m━━━━━━━━━━━━━━━━━━━━\u001b[0m\u001b[37m\u001b[0m \u001b[1m1s\u001b[0m 13ms/step - accuracy: 0.8498 - loss: 0.4890 - val_accuracy: 0.7806 - val_loss: 0.7048\n",
            "Epoch 4/40\n",
            "\u001b[1m68/68\u001b[0m \u001b[32m━━━━━━━━━━━━━━━━━━━━\u001b[0m\u001b[37m\u001b[0m \u001b[1m1s\u001b[0m 13ms/step - accuracy: 0.8641 - loss: 0.4178 - val_accuracy: 0.7931 - val_loss: 0.5878\n",
            "Epoch 5/40\n",
            "\u001b[1m68/68\u001b[0m \u001b[32m━━━━━━━━━━━━━━━━━━━━\u001b[0m\u001b[37m\u001b[0m \u001b[1m1s\u001b[0m 12ms/step - accuracy: 0.8762 - loss: 0.3883 - val_accuracy: 0.7819 - val_loss: 0.6118\n",
            "Epoch 6/40\n",
            "\u001b[1m68/68\u001b[0m \u001b[32m━━━━━━━━━━━━━━━━━━━━\u001b[0m\u001b[37m\u001b[0m \u001b[1m1s\u001b[0m 12ms/step - accuracy: 0.9010 - loss: 0.3067 - val_accuracy: 0.7708 - val_loss: 0.6647\n",
            "Epoch 7/40\n",
            "\u001b[1m68/68\u001b[0m \u001b[32m━━━━━━━━━━━━━━━━━━━━\u001b[0m\u001b[37m\u001b[0m \u001b[1m1s\u001b[0m 9ms/step - accuracy: 0.8890 - loss: 0.3112 - val_accuracy: 0.7917 - val_loss: 0.6678\n",
            "Epoch 8/40\n",
            "\u001b[1m68/68\u001b[0m \u001b[32m━━━━━━━━━━━━━━━━━━━━\u001b[0m\u001b[37m\u001b[0m \u001b[1m1s\u001b[0m 12ms/step - accuracy: 0.9024 - loss: 0.2908 - val_accuracy: 0.7792 - val_loss: 0.6515\n",
            "Epoch 9/40\n",
            "\u001b[1m68/68\u001b[0m \u001b[32m━━━━━━━━━━━━━━━━━━━━\u001b[0m\u001b[37m\u001b[0m \u001b[1m1s\u001b[0m 10ms/step - accuracy: 0.9126 - loss: 0.2504 - val_accuracy: 0.7764 - val_loss: 0.6847\n",
            "Epoch 10/40\n",
            "\u001b[1m68/68\u001b[0m \u001b[32m━━━━━━━━━━━━━━━━━━━━\u001b[0m\u001b[37m\u001b[0m \u001b[1m1s\u001b[0m 11ms/step - accuracy: 0.9267 - loss: 0.2241 - val_accuracy: 0.7736 - val_loss: 0.7026\n",
            "Epoch 11/40\n",
            "\u001b[1m68/68\u001b[0m \u001b[32m━━━━━━━━━━━━━━━━━━━━\u001b[0m\u001b[37m\u001b[0m \u001b[1m2s\u001b[0m 19ms/step - accuracy: 0.9233 - loss: 0.2163 - val_accuracy: 0.7653 - val_loss: 0.7772\n",
            "Epoch 12/40\n",
            "\u001b[1m68/68\u001b[0m \u001b[32m━━━━━━━━━━━━━━━━━━━━\u001b[0m\u001b[37m\u001b[0m \u001b[1m2s\u001b[0m 13ms/step - accuracy: 0.9255 - loss: 0.2194 - val_accuracy: 0.7847 - val_loss: 0.7390\n",
            "Epoch 13/40\n",
            "\u001b[1m68/68\u001b[0m \u001b[32m━━━━━━━━━━━━━━━━━━━━\u001b[0m\u001b[37m\u001b[0m \u001b[1m1s\u001b[0m 12ms/step - accuracy: 0.9318 - loss: 0.1996 - val_accuracy: 0.7764 - val_loss: 0.7670\n",
            "Epoch 14/40\n",
            "\u001b[1m68/68\u001b[0m \u001b[32m━━━━━━━━━━━━━━━━━━━━\u001b[0m\u001b[37m\u001b[0m \u001b[1m1s\u001b[0m 10ms/step - accuracy: 0.9189 - loss: 0.2063 - val_accuracy: 0.7750 - val_loss: 0.7604\n",
            "Epoch 15/40\n",
            "\u001b[1m68/68\u001b[0m \u001b[32m━━━━━━━━━━━━━━━━━━━━\u001b[0m\u001b[37m\u001b[0m \u001b[1m1s\u001b[0m 9ms/step - accuracy: 0.9324 - loss: 0.1910 - val_accuracy: 0.7681 - val_loss: 0.7628\n",
            "Epoch 16/40\n",
            "\u001b[1m68/68\u001b[0m \u001b[32m━━━━━━━━━━━━━━━━━━━━\u001b[0m\u001b[37m\u001b[0m \u001b[1m1s\u001b[0m 10ms/step - accuracy: 0.9367 - loss: 0.1618 - val_accuracy: 0.7806 - val_loss: 0.7728\n",
            "Epoch 17/40\n",
            "\u001b[1m68/68\u001b[0m \u001b[32m━━━━━━━━━━━━━━━━━━━━\u001b[0m\u001b[37m\u001b[0m \u001b[1m1s\u001b[0m 13ms/step - accuracy: 0.9283 - loss: 0.2072 - val_accuracy: 0.7750 - val_loss: 0.7945\n",
            "Epoch 18/40\n",
            "\u001b[1m68/68\u001b[0m \u001b[32m━━━━━━━━━━━━━━━━━━━━\u001b[0m\u001b[37m\u001b[0m \u001b[1m1s\u001b[0m 13ms/step - accuracy: 0.9312 - loss: 0.1863 - val_accuracy: 0.7736 - val_loss: 0.7909\n",
            "Epoch 19/40\n",
            "\u001b[1m68/68\u001b[0m \u001b[32m━━━━━━━━━━━━━━━━━━━━\u001b[0m\u001b[37m\u001b[0m \u001b[1m1s\u001b[0m 13ms/step - accuracy: 0.9294 - loss: 0.1920 - val_accuracy: 0.7681 - val_loss: 0.8409\n",
            "Epoch 20/40\n",
            "\u001b[1m68/68\u001b[0m \u001b[32m━━━━━━━━━━━━━━━━━━━━\u001b[0m\u001b[37m\u001b[0m \u001b[1m1s\u001b[0m 13ms/step - accuracy: 0.9337 - loss: 0.1733 - val_accuracy: 0.7778 - val_loss: 0.8406\n",
            "Epoch 21/40\n",
            "\u001b[1m68/68\u001b[0m \u001b[32m━━━━━━━━━━━━━━━━━━━━\u001b[0m\u001b[37m\u001b[0m \u001b[1m1s\u001b[0m 19ms/step - accuracy: 0.9227 - loss: 0.1859 - val_accuracy: 0.7764 - val_loss: 0.8315\n",
            "Epoch 22/40\n",
            "\u001b[1m68/68\u001b[0m \u001b[32m━━━━━━━━━━━━━━━━━━━━\u001b[0m\u001b[37m\u001b[0m \u001b[1m2s\u001b[0m 15ms/step - accuracy: 0.9307 - loss: 0.1799 - val_accuracy: 0.7722 - val_loss: 0.8517\n",
            "Epoch 23/40\n",
            "\u001b[1m68/68\u001b[0m \u001b[32m━━━━━━━━━━━━━━━━━━━━\u001b[0m\u001b[37m\u001b[0m \u001b[1m1s\u001b[0m 14ms/step - accuracy: 0.9357 - loss: 0.1858 - val_accuracy: 0.7750 - val_loss: 0.8626\n",
            "Epoch 24/40\n",
            "\u001b[1m68/68\u001b[0m \u001b[32m━━━━━━━━━━━━━━━━━━━━\u001b[0m\u001b[37m\u001b[0m \u001b[1m1s\u001b[0m 14ms/step - accuracy: 0.9341 - loss: 0.1869 - val_accuracy: 0.7694 - val_loss: 0.8679\n",
            "Epoch 25/40\n",
            "\u001b[1m68/68\u001b[0m \u001b[32m━━━━━━━━━━━━━━━━━━━━\u001b[0m\u001b[37m\u001b[0m \u001b[1m1s\u001b[0m 15ms/step - accuracy: 0.9303 - loss: 0.1735 - val_accuracy: 0.7681 - val_loss: 0.8906\n",
            "Epoch 26/40\n",
            "\u001b[1m68/68\u001b[0m \u001b[32m━━━━━━━━━━━━━━━━━━━━\u001b[0m\u001b[37m\u001b[0m \u001b[1m1s\u001b[0m 13ms/step - accuracy: 0.9379 - loss: 0.1645 - val_accuracy: 0.7639 - val_loss: 0.8899\n",
            "Epoch 27/40\n",
            "\u001b[1m68/68\u001b[0m \u001b[32m━━━━━━━━━━━━━━━━━━━━\u001b[0m\u001b[37m\u001b[0m \u001b[1m1s\u001b[0m 9ms/step - accuracy: 0.9307 - loss: 0.1763 - val_accuracy: 0.7722 - val_loss: 0.9041\n",
            "Epoch 28/40\n",
            "\u001b[1m68/68\u001b[0m \u001b[32m━━━━━━━━━━━━━━━━━━━━\u001b[0m\u001b[37m\u001b[0m \u001b[1m2s\u001b[0m 14ms/step - accuracy: 0.9352 - loss: 0.1665 - val_accuracy: 0.7750 - val_loss: 0.8987\n",
            "Epoch 29/40\n",
            "\u001b[1m68/68\u001b[0m \u001b[32m━━━━━━━━━━━━━━━━━━━━\u001b[0m\u001b[37m\u001b[0m \u001b[1m1s\u001b[0m 12ms/step - accuracy: 0.9282 - loss: 0.1729 - val_accuracy: 0.7708 - val_loss: 0.9084\n",
            "Epoch 30/40\n",
            "\u001b[1m68/68\u001b[0m \u001b[32m━━━━━━━━━━━━━━━━━━━━\u001b[0m\u001b[37m\u001b[0m \u001b[1m1s\u001b[0m 16ms/step - accuracy: 0.9360 - loss: 0.1758 - val_accuracy: 0.7694 - val_loss: 0.9126\n",
            "Epoch 31/40\n",
            "\u001b[1m68/68\u001b[0m \u001b[32m━━━━━━━━━━━━━━━━━━━━\u001b[0m\u001b[37m\u001b[0m \u001b[1m1s\u001b[0m 15ms/step - accuracy: 0.9300 - loss: 0.1879 - val_accuracy: 0.7625 - val_loss: 0.9392\n",
            "Epoch 32/40\n",
            "\u001b[1m68/68\u001b[0m \u001b[32m━━━━━━━━━━━━━━━━━━━━\u001b[0m\u001b[37m\u001b[0m \u001b[1m2s\u001b[0m 19ms/step - accuracy: 0.9302 - loss: 0.1702 - val_accuracy: 0.7764 - val_loss: 0.9489\n",
            "Epoch 33/40\n",
            "\u001b[1m68/68\u001b[0m \u001b[32m━━━━━━━━━━━━━━━━━━━━\u001b[0m\u001b[37m\u001b[0m \u001b[1m2s\u001b[0m 16ms/step - accuracy: 0.9277 - loss: 0.1712 - val_accuracy: 0.7694 - val_loss: 0.9505\n",
            "Epoch 34/40\n",
            "\u001b[1m68/68\u001b[0m \u001b[32m━━━━━━━━━━━━━━━━━━━━\u001b[0m\u001b[37m\u001b[0m \u001b[1m1s\u001b[0m 15ms/step - accuracy: 0.9346 - loss: 0.1687 - val_accuracy: 0.7625 - val_loss: 0.9527\n",
            "Epoch 35/40\n",
            "\u001b[1m68/68\u001b[0m \u001b[32m━━━━━━━━━━━━━━━━━━━━\u001b[0m\u001b[37m\u001b[0m \u001b[1m1s\u001b[0m 14ms/step - accuracy: 0.9349 - loss: 0.1647 - val_accuracy: 0.7722 - val_loss: 0.9416\n",
            "Epoch 36/40\n",
            "\u001b[1m68/68\u001b[0m \u001b[32m━━━━━━━━━━━━━━━━━━━━\u001b[0m\u001b[37m\u001b[0m \u001b[1m1s\u001b[0m 9ms/step - accuracy: 0.9379 - loss: 0.1714 - val_accuracy: 0.7611 - val_loss: 0.9608\n",
            "Epoch 37/40\n",
            "\u001b[1m68/68\u001b[0m \u001b[32m━━━━━━━━━━━━━━━━━━━━\u001b[0m\u001b[37m\u001b[0m \u001b[1m1s\u001b[0m 10ms/step - accuracy: 0.9340 - loss: 0.1574 - val_accuracy: 0.7708 - val_loss: 0.9729\n",
            "Epoch 38/40\n",
            "\u001b[1m68/68\u001b[0m \u001b[32m━━━━━━━━━━━━━━━━━━━━\u001b[0m\u001b[37m\u001b[0m \u001b[1m1s\u001b[0m 12ms/step - accuracy: 0.9279 - loss: 0.1781 - val_accuracy: 0.7694 - val_loss: 0.9721\n",
            "Epoch 39/40\n",
            "\u001b[1m68/68\u001b[0m \u001b[32m━━━━━━━━━━━━━━━━━━━━\u001b[0m\u001b[37m\u001b[0m \u001b[1m1s\u001b[0m 13ms/step - accuracy: 0.9310 - loss: 0.1615 - val_accuracy: 0.7708 - val_loss: 0.9732\n"
          ]
        }
      ]
    },
    {
      "cell_type": "code",
      "source": [
        "# evaluate the model\n",
        "loss, accuracy = my_model.evaluate(test_ds)\n",
        "print(f'Test accuracy: {accuracy:.4f}')"
      ],
      "metadata": {
        "id": "9tK560NO2n5v",
        "colab": {
          "base_uri": "https://localhost:8080/"
        },
        "outputId": "5539d5f6-66ca-4651-f9b0-1899d78fe088"
      },
      "execution_count": null,
      "outputs": [
        {
          "output_type": "stream",
          "name": "stdout",
          "text": [
            "\u001b[1m23/23\u001b[0m \u001b[32m━━━━━━━━━━━━━━━━━━━━\u001b[0m\u001b[37m\u001b[0m \u001b[1m0s\u001b[0m 7ms/step - accuracy: 0.5836 - loss: 2.2761\n",
            "Test accuracy: 0.6972\n"
          ]
        }
      ]
    },
    {
      "cell_type": "markdown",
      "source": [
        "# Confusion Matrix"
      ],
      "metadata": {
        "id": "X_nd5slRuvXh"
      }
    },
    {
      "cell_type": "code",
      "source": [
        "# with early stopping\n",
        "# 20 epochs: 0.8188 (stopped at 13)\n",
        "# 40 epochs: 0.6750 (stopped at 8)"
      ],
      "metadata": {
        "id": "tC0xxdzaTDl9"
      },
      "execution_count": null,
      "outputs": []
    },
    {
      "cell_type": "code",
      "source": [
        "# get the true labels and predicted labels\n",
        "true_labels = []\n",
        "predicted_labels = []\n",
        "\n",
        "for embedding, label in test_ds:\n",
        "    true_labels.append(label.numpy())  # true label\n",
        "    predictions = my_model.predict(embedding)  #  model predictions\n",
        "    predicted_labels.append(np.argmax(predictions, axis=1))  # convert predictions to class labels\n",
        "\n",
        "# convert lists to arrays\n",
        "true_labels = np.concatenate(true_labels)\n",
        "predicted_labels = np.concatenate(predicted_labels)"
      ],
      "metadata": {
        "colab": {
          "base_uri": "https://localhost:8080/"
        },
        "id": "XNdTVHHjkG66",
        "outputId": "07499d99-400a-4822-bd06-a6b8f824c9ad"
      },
      "execution_count": null,
      "outputs": [
        {
          "output_type": "stream",
          "name": "stdout",
          "text": [
            "\u001b[1m1/1\u001b[0m \u001b[32m━━━━━━━━━━━━━━━━━━━━\u001b[0m\u001b[37m\u001b[0m \u001b[1m0s\u001b[0m 55ms/step\n",
            "\u001b[1m1/1\u001b[0m \u001b[32m━━━━━━━━━━━━━━━━━━━━\u001b[0m\u001b[37m\u001b[0m \u001b[1m0s\u001b[0m 20ms/step\n",
            "\u001b[1m1/1\u001b[0m \u001b[32m━━━━━━━━━━━━━━━━━━━━\u001b[0m\u001b[37m\u001b[0m \u001b[1m0s\u001b[0m 21ms/step\n",
            "\u001b[1m1/1\u001b[0m \u001b[32m━━━━━━━━━━━━━━━━━━━━\u001b[0m\u001b[37m\u001b[0m \u001b[1m0s\u001b[0m 20ms/step\n",
            "\u001b[1m1/1\u001b[0m \u001b[32m━━━━━━━━━━━━━━━━━━━━\u001b[0m\u001b[37m\u001b[0m \u001b[1m0s\u001b[0m 21ms/step\n",
            "\u001b[1m1/1\u001b[0m \u001b[32m━━━━━━━━━━━━━━━━━━━━\u001b[0m\u001b[37m\u001b[0m \u001b[1m0s\u001b[0m 21ms/step\n",
            "\u001b[1m1/1\u001b[0m \u001b[32m━━━━━━━━━━━━━━━━━━━━\u001b[0m\u001b[37m\u001b[0m \u001b[1m0s\u001b[0m 24ms/step\n",
            "\u001b[1m1/1\u001b[0m \u001b[32m━━━━━━━━━━━━━━━━━━━━\u001b[0m\u001b[37m\u001b[0m \u001b[1m0s\u001b[0m 28ms/step\n",
            "\u001b[1m1/1\u001b[0m \u001b[32m━━━━━━━━━━━━━━━━━━━━\u001b[0m\u001b[37m\u001b[0m \u001b[1m0s\u001b[0m 25ms/step\n",
            "\u001b[1m1/1\u001b[0m \u001b[32m━━━━━━━━━━━━━━━━━━━━\u001b[0m\u001b[37m\u001b[0m \u001b[1m0s\u001b[0m 25ms/step\n",
            "\u001b[1m1/1\u001b[0m \u001b[32m━━━━━━━━━━━━━━━━━━━━\u001b[0m\u001b[37m\u001b[0m \u001b[1m0s\u001b[0m 22ms/step\n",
            "\u001b[1m1/1\u001b[0m \u001b[32m━━━━━━━━━━━━━━━━━━━━\u001b[0m\u001b[37m\u001b[0m \u001b[1m0s\u001b[0m 22ms/step\n",
            "\u001b[1m1/1\u001b[0m \u001b[32m━━━━━━━━━━━━━━━━━━━━\u001b[0m\u001b[37m\u001b[0m \u001b[1m0s\u001b[0m 20ms/step\n",
            "\u001b[1m1/1\u001b[0m \u001b[32m━━━━━━━━━━━━━━━━━━━━\u001b[0m\u001b[37m\u001b[0m \u001b[1m0s\u001b[0m 19ms/step\n",
            "\u001b[1m1/1\u001b[0m \u001b[32m━━━━━━━━━━━━━━━━━━━━\u001b[0m\u001b[37m\u001b[0m \u001b[1m0s\u001b[0m 19ms/step\n",
            "\u001b[1m1/1\u001b[0m \u001b[32m━━━━━━━━━━━━━━━━━━━━\u001b[0m\u001b[37m\u001b[0m \u001b[1m0s\u001b[0m 21ms/step\n",
            "\u001b[1m1/1\u001b[0m \u001b[32m━━━━━━━━━━━━━━━━━━━━\u001b[0m\u001b[37m\u001b[0m \u001b[1m0s\u001b[0m 23ms/step\n",
            "\u001b[1m1/1\u001b[0m \u001b[32m━━━━━━━━━━━━━━━━━━━━\u001b[0m\u001b[37m\u001b[0m \u001b[1m0s\u001b[0m 19ms/step\n",
            "\u001b[1m1/1\u001b[0m \u001b[32m━━━━━━━━━━━━━━━━━━━━\u001b[0m\u001b[37m\u001b[0m \u001b[1m0s\u001b[0m 22ms/step\n",
            "\u001b[1m1/1\u001b[0m \u001b[32m━━━━━━━━━━━━━━━━━━━━\u001b[0m\u001b[37m\u001b[0m \u001b[1m0s\u001b[0m 22ms/step\n",
            "\u001b[1m1/1\u001b[0m \u001b[32m━━━━━━━━━━━━━━━━━━━━\u001b[0m\u001b[37m\u001b[0m \u001b[1m0s\u001b[0m 20ms/step\n",
            "\u001b[1m1/1\u001b[0m \u001b[32m━━━━━━━━━━━━━━━━━━━━\u001b[0m\u001b[37m\u001b[0m \u001b[1m0s\u001b[0m 32ms/step\n",
            "\u001b[1m1/1\u001b[0m \u001b[32m━━━━━━━━━━━━━━━━━━━━\u001b[0m\u001b[37m\u001b[0m \u001b[1m0s\u001b[0m 72ms/step\n"
          ]
        }
      ]
    },
    {
      "cell_type": "code",
      "source": [
        "# confusion matrix\n",
        "conf_matrix = confusion_matrix(true_labels, predicted_labels)\n",
        "\n",
        "plt.figure(figsize=(10, 8))\n",
        "sns.heatmap(conf_matrix, annot=True, fmt='d', cmap='Blues', xticklabels=animals, yticklabels=animals)\n",
        "plt.xlabel('Predicted Label')\n",
        "plt.ylabel('True Label')\n",
        "plt.title('Confusion Matrix')\n",
        "plt.show()"
      ],
      "metadata": {
        "colab": {
          "base_uri": "https://localhost:8080/",
          "height": 718
        },
        "id": "hSx4Ou1wkMnz",
        "outputId": "ddcef711-f6b4-41db-bd2a-898955e8e821"
      },
      "execution_count": null,
      "outputs": [
        {
          "output_type": "display_data",
          "data": {
            "text/plain": [
              "<Figure size 1000x800 with 2 Axes>"
            ],
            "image/png": "[encoded data removed]"
          },
          "metadata": {}
        }
      ]
    },
    {
      "cell_type": "code",
      "source": [
        "scores, embeddings, spectrogram = yamnet(esc_single_waveform)\n",
        "result = my_model(embeddings).numpy()\n",
        "\n",
        "inferred_class = animals[result.mean(axis=0).argmax()]\n",
        "print(f'The main sound is: {inferred_class}')"
      ],
      "metadata": {
        "id": "lY7ArWzQYE-V",
        "colab": {
          "base_uri": "https://localhost:8080/"
        },
        "outputId": "e9710e0b-01fa-4372-d98b-9e38be2aa5d7"
      },
      "execution_count": null,
      "outputs": [
        {
          "output_type": "stream",
          "name": "stdout",
          "text": [
            "The main sound is: dog\n"
          ]
        }
      ]
    },
    {
      "cell_type": "markdown",
      "source": [
        "# One Function"
      ],
      "metadata": {
        "id": "jcazx813mf8h"
      }
    },
    {
      "cell_type": "code",
      "source": [
        "# one function to preprocess and predict\n",
        "\n",
        "def full_yamnet(filename):\n",
        "    # preprocess the .wav file\n",
        "    esc_waveform = preprocess_wav(filename)\n",
        "\n",
        "    # run YAMNet and get the embedding\n",
        "    scores, embeddings, spectrogram = yamnet(esc_waveform)\n",
        "\n",
        "    # use the full classification model\n",
        "    predictions =  my_model(embeddings).numpy()\n",
        "\n",
        "    # Get the predicted class label\n",
        "    predicted_label = animals[result.mean(axis=0).argmax()]\n",
        "\n",
        "    print(f\"Predicted Category: {predicted_label}\")\n",
        "\n",
        "    # get the true category\n",
        "    category = esc50_animals[esc50_animals['filename'] == filename]['category'].values[0]\n",
        "    print(f\"True Category: {category}\")"
      ],
      "metadata": {
        "id": "ZKcqFAMbmfV5"
      },
      "execution_count": null,
      "outputs": []
    },
    {
      "cell_type": "code",
      "source": [
        "full_yamnet(esc50_animals.iloc[20]['filename'])"
      ],
      "metadata": {
        "colab": {
          "base_uri": "https://localhost:8080/"
        },
        "id": "Rwal2cKQm5O1",
        "outputId": "e8bf9bb3-2b07-4db9-bb98-dbdf97ee8552"
      },
      "execution_count": null,
      "outputs": [
        {
          "output_type": "stream",
          "name": "stdout",
          "text": [
            "Predicted Category: dog\n",
            "True Category: pig\n"
          ]
        }
      ]
    },
    {
      "cell_type": "code",
      "source": [
        "# and 32 per batch\n",
        "def get_size(dataset):\n",
        "    return sum(1 for _ in dataset)\n",
        "\n",
        "train_size = get_size(train_ds)\n",
        "val_size = get_size(val_ds)\n",
        "test_size = get_size(test_ds)\n",
        "\n",
        "print(f\"training: {train_size}\")\n",
        "print(f\"validation: {val_size}\")\n",
        "print(f\"test: {test_size}\")"
      ],
      "metadata": {
        "colab": {
          "base_uri": "https://localhost:8080/"
        },
        "id": "fkgzziqCm7Gr",
        "outputId": "0e8b2bc1-4b48-4e1e-c1af-0760c39c861e"
      },
      "execution_count": null,
      "outputs": [
        {
          "output_type": "stream",
          "name": "stdout",
          "text": [
            "training: 75\n",
            "validation: 25\n",
            "test: 25\n"
          ]
        }
      ]
    },
    {
      "cell_type": "markdown",
      "source": [
        "# Save Model"
      ],
      "metadata": {
        "id": "oHQ_2LgMuznh"
      }
    },
    {
      "cell_type": "code",
      "source": [
        "saved_model_path = './yamnet_tutorial'\n",
        "\n",
        "class ReduceMeanLayer(tf.keras.layers.Layer):\n",
        "  def __init__(self, axis=0, **kwargs):\n",
        "    super(ReduceMeanLayer, self).__init__(**kwargs)\n",
        "    self.axis = axis\n",
        "\n",
        "  def call(self, input):\n",
        "    return tf.math.reduce_mean(input, axis=self.axis)\n",
        "\n",
        "class YAMNetLayer(Layer):\n",
        "    def __init__(self, yamnet_model_handle, **kwargs):\n",
        "        super(YAMNetLayer, self).__init__(**kwargs)\n",
        "        self.yamnet_layer = hub.KerasLayer(yamnet_model_handle, trainable=False, name='yamnet')\n",
        "\n",
        "    def call(self, inputs):\n",
        "        # reshape the input to match YAMNet's expected 1D tensor input\n",
        "        reshaped_inputs = tf.reshape(inputs, (-1,))\n",
        "        # get embeddings from YAMNet\n",
        "        _, embeddings_output, _ = self.yamnet_layer(reshaped_inputs)\n",
        "        return embeddings_output\n",
        "\n",
        "    def compute_output_shape(self, input_shape):\n",
        "        # define the output shape explicitly (e.g., embeddings shape from YAMNet, like (1024,))\n",
        "        return (input_shape[0], 1024)\n",
        "\n",
        "input_segment = tf.keras.layers.Input(shape=(80000,), dtype=tf.float32, name='audio')\n",
        "embedding_extraction_layer = YAMNetLayer(yamnet_model_handle)\n",
        "embeddings_output = embedding_extraction_layer(input_segment)\n",
        "\n",
        "# pass embeddings to sequential model\n",
        "serving_outputs = my_model(embeddings_output)\n",
        "serving_outputs = ReduceMeanLayer(axis=0, name='classifier')(serving_outputs)\n",
        "\n",
        "serving_model = tf.keras.Model(input_segment, serving_outputs)\n",
        "# tf.saved_model.save(serving_model, saved_model_path)"
      ],
      "metadata": {
        "id": "AgXTAfwhu3k2",
        "colab": {
          "base_uri": "https://localhost:8080/",
          "height": 207
        },
        "outputId": "d65ad850-0b58-4202-d6d1-c94eb65999bb"
      },
      "execution_count": 38,
      "outputs": [
        {
          "output_type": "error",
          "ename": "NameError",
          "evalue": "name 'my_model' is not defined",
          "traceback": [
            "\u001b[0;31m---------------------------------------------------------------------------\u001b[0m",
            "\u001b[0;31mNameError\u001b[0m                                 Traceback (most recent call last)",
            "\u001b[0;32m<ipython-input-38-edf6b76419c5>\u001b[0m in \u001b[0;36m<cell line: 32>\u001b[0;34m()\u001b[0m\n\u001b[1;32m     30\u001b[0m \u001b[0;34m\u001b[0m\u001b[0m\n\u001b[1;32m     31\u001b[0m \u001b[0;31m# pass embeddings to sequential model\u001b[0m\u001b[0;34m\u001b[0m\u001b[0;34m\u001b[0m\u001b[0m\n\u001b[0;32m---> 32\u001b[0;31m \u001b[0mserving_outputs\u001b[0m \u001b[0;34m=\u001b[0m \u001b[0mmy_model\u001b[0m\u001b[0;34m(\u001b[0m\u001b[0membeddings_output\u001b[0m\u001b[0;34m)\u001b[0m\u001b[0;34m\u001b[0m\u001b[0;34m\u001b[0m\u001b[0m\n\u001b[0m\u001b[1;32m     33\u001b[0m \u001b[0mserving_outputs\u001b[0m \u001b[0;34m=\u001b[0m \u001b[0mReduceMeanLayer\u001b[0m\u001b[0;34m(\u001b[0m\u001b[0maxis\u001b[0m\u001b[0;34m=\u001b[0m\u001b[0;36m0\u001b[0m\u001b[0;34m,\u001b[0m \u001b[0mname\u001b[0m\u001b[0;34m=\u001b[0m\u001b[0;34m'classifier'\u001b[0m\u001b[0;34m)\u001b[0m\u001b[0;34m(\u001b[0m\u001b[0mserving_outputs\u001b[0m\u001b[0;34m)\u001b[0m\u001b[0;34m\u001b[0m\u001b[0;34m\u001b[0m\u001b[0m\n\u001b[1;32m     34\u001b[0m \u001b[0;34m\u001b[0m\u001b[0m\n",
            "\u001b[0;31mNameError\u001b[0m: name 'my_model' is not defined"
          ]
        }
      ]
    },
    {
      "cell_type": "code",
      "source": [
        "#tf.keras.utils.plot_model(serving_model)"
      ],
      "metadata": {
        "colab": {
          "base_uri": "https://localhost:8080/",
          "height": 839
        },
        "collapsed": true,
        "id": "mQYJ_bNEyy2m",
        "outputId": "3a6a2adf-bc8d-4150-fe67-7150b6478f61"
      },
      "execution_count": null,
      "outputs": [
        {
          "output_type": "execute_result",
          "data": {
            "image/png": "[encoded data removed]",
            "text/plain": [
              "<IPython.core.display.Image object>"
            ]
          },
          "metadata": {},
          "execution_count": 60
        }
      ]
    },
    {
      "cell_type": "code",
      "source": [
        "# Convert the model.\n",
        "converter = tf.lite.TFLiteConverter.from_keras_model(serving_model)\n",
        "tflite_model = converter.convert()\n",
        "\n",
        "# Save the model.\n",
        "with open('./yamnet_model.tflite', 'wb') as f:\n",
        "  f.write(tflite_model)"
      ],
      "metadata": {
        "colab": {
          "base_uri": "https://localhost:8080/"
        },
        "id": "Xvz3elKZy8DF",
        "outputId": "3e095e8f-6487-4d31-8954-203405e8997a"
      },
      "execution_count": null,
      "outputs": [
        {
          "output_type": "stream",
          "name": "stdout",
          "text": [
            "Saved artifact at '/tmp/tmp_dfyz17l'. The following endpoints are available:\n",
            "\n",
            "* Endpoint 'serve'\n",
            "  args_0 (POSITIONAL_ONLY): TensorSpec(shape=(None, 80000), dtype=tf.float32, name='audio')\n",
            "Output Type:\n",
            "  TensorSpec(shape=(10,), dtype=tf.float32, name=None)\n",
            "Captures:\n",
            "  139480134733136: TensorSpec(shape=(), dtype=tf.resource, name=None)\n",
            "  139480134732080: TensorSpec(shape=(32,), dtype=tf.float32, name=None)\n",
            "  139480134729792: TensorSpec(shape=(), dtype=tf.resource, name=None)\n",
            "  139480134731200: TensorSpec(shape=(), dtype=tf.resource, name=None)\n",
            "  139480134729968: TensorSpec(shape=(), dtype=tf.resource, name=None)\n",
            "  139480134731552: TensorSpec(shape=(), dtype=tf.resource, name=None)\n",
            "  139480134733488: TensorSpec(shape=(32,), dtype=tf.float32, name=None)\n",
            "  139480134732608: TensorSpec(shape=(), dtype=tf.resource, name=None)\n",
            "  139480134731904: TensorSpec(shape=(), dtype=tf.resource, name=None)\n",
            "  139480134733840: TensorSpec(shape=(), dtype=tf.resource, name=None)\n",
            "  139480134734192: TensorSpec(shape=(), dtype=tf.resource, name=None)\n",
            "  139480134734896: TensorSpec(shape=(64,), dtype=tf.float32, name=None)\n",
            "  139480134734016: TensorSpec(shape=(), dtype=tf.resource, name=None)\n",
            "  139480134734720: TensorSpec(shape=(), dtype=tf.resource, name=None)\n",
            "  139480134735776: TensorSpec(shape=(), dtype=tf.resource, name=None)\n",
            "  139480134737536: TensorSpec(shape=(), dtype=tf.resource, name=None)\n",
            "  139480134738416: TensorSpec(shape=(64,), dtype=tf.float32, name=None)\n",
            "  139480134738240: TensorSpec(shape=(), dtype=tf.resource, name=None)\n",
            "  139480134737360: TensorSpec(shape=(), dtype=tf.resource, name=None)\n",
            "  139480134737008: TensorSpec(shape=(), dtype=tf.resource, name=None)\n",
            "  139480134736304: TensorSpec(shape=(), dtype=tf.resource, name=None)\n",
            "  139480134741056: TensorSpec(shape=(128,), dtype=tf.float32, name=None)\n",
            "  139480134741232: TensorSpec(shape=(), dtype=tf.resource, name=None)\n",
            "  139480134740528: TensorSpec(shape=(), dtype=tf.resource, name=None)\n",
            "  139480134742112: TensorSpec(shape=(), dtype=tf.resource, name=None)\n",
            "  139480134741408: TensorSpec(shape=(), dtype=tf.resource, name=None)\n",
            "  139480134744576: TensorSpec(shape=(128,), dtype=tf.float32, name=None)\n",
            "  139480134743696: TensorSpec(shape=(), dtype=tf.resource, name=None)\n",
            "  139480134744048: TensorSpec(shape=(), dtype=tf.resource, name=None)\n",
            "  139480134742288: TensorSpec(shape=(), dtype=tf.resource, name=None)\n",
            "  139480134745280: TensorSpec(shape=(), dtype=tf.resource, name=None)\n",
            "  139480134739824: TensorSpec(shape=(128,), dtype=tf.float32, name=None)\n",
            "  139480134739648: TensorSpec(shape=(), dtype=tf.resource, name=None)\n",
            "  139480134745808: TensorSpec(shape=(), dtype=tf.resource, name=None)\n",
            "  139480134734544: TensorSpec(shape=(), dtype=tf.resource, name=None)\n",
            "  139480134744928: TensorSpec(shape=(), dtype=tf.resource, name=None)\n",
            "  139480351529392: TensorSpec(shape=(128,), dtype=tf.float32, name=None)\n",
            "  139480134742992: TensorSpec(shape=(), dtype=tf.resource, name=None)\n",
            "  139480134744224: TensorSpec(shape=(), dtype=tf.resource, name=None)\n",
            "  139480351533264: TensorSpec(shape=(), dtype=tf.resource, name=None)\n",
            "  139480351524288: TensorSpec(shape=(), dtype=tf.resource, name=None)\n",
            "  139480351525168: TensorSpec(shape=(256,), dtype=tf.float32, name=None)\n",
            "  139480351534320: TensorSpec(shape=(), dtype=tf.resource, name=None)\n",
            "  139480351530800: TensorSpec(shape=(), dtype=tf.resource, name=None)\n",
            "  139480351532032: TensorSpec(shape=(), dtype=tf.resource, name=None)\n",
            "  139480351533440: TensorSpec(shape=(), dtype=tf.resource, name=None)\n",
            "  139480351528336: TensorSpec(shape=(256,), dtype=tf.float32, name=None)\n",
            "  139480351530976: TensorSpec(shape=(), dtype=tf.resource, name=None)\n",
            "  139480351523408: TensorSpec(shape=(), dtype=tf.resource, name=None)\n",
            "  139480351529920: TensorSpec(shape=(), dtype=tf.resource, name=None)\n",
            "  139480351534144: TensorSpec(shape=(), dtype=tf.resource, name=None)\n",
            "  139480351525344: TensorSpec(shape=(256,), dtype=tf.float32, name=None)\n",
            "  139480351530448: TensorSpec(shape=(), dtype=tf.resource, name=None)\n",
            "  139480351531856: TensorSpec(shape=(), dtype=tf.resource, name=None)\n",
            "  139480351533968: TensorSpec(shape=(), dtype=tf.resource, name=None)\n",
            "  139480351531680: TensorSpec(shape=(), dtype=tf.resource, name=None)\n",
            "  139480351524112: TensorSpec(shape=(256,), dtype=tf.float32, name=None)\n",
            "  139480351523056: TensorSpec(shape=(), dtype=tf.resource, name=None)\n",
            "  139480351531152: TensorSpec(shape=(), dtype=tf.resource, name=None)\n",
            "  139480351533088: TensorSpec(shape=(), dtype=tf.resource, name=None)\n",
            "  139480351536784: TensorSpec(shape=(), dtype=tf.resource, name=None)\n",
            "  139480351534672: TensorSpec(shape=(512,), dtype=tf.float32, name=None)\n",
            "  139480351529744: TensorSpec(shape=(), dtype=tf.resource, name=None)\n",
            "  139480351532208: TensorSpec(shape=(), dtype=tf.resource, name=None)\n",
            "  139480351528864: TensorSpec(shape=(), dtype=tf.resource, name=None)\n",
            "  139480351526576: TensorSpec(shape=(), dtype=tf.resource, name=None)\n",
            "  139480349798672: TensorSpec(shape=(512,), dtype=tf.float32, name=None)\n",
            "  139480349796032: TensorSpec(shape=(), dtype=tf.resource, name=None)\n",
            "  139480349799904: TensorSpec(shape=(), dtype=tf.resource, name=None)\n",
            "  139480351528160: TensorSpec(shape=(), dtype=tf.resource, name=None)\n",
            "  139480349791632: TensorSpec(shape=(), dtype=tf.resource, name=None)\n",
            "  139480349799552: TensorSpec(shape=(512,), dtype=tf.float32, name=None)\n",
            "  139480349800432: TensorSpec(shape=(), dtype=tf.resource, name=None)\n",
            "  139480349797440: TensorSpec(shape=(), dtype=tf.resource, name=None)\n",
            "  139480349787584: TensorSpec(shape=(), dtype=tf.resource, name=None)\n",
            "  139480349801664: TensorSpec(shape=(), dtype=tf.resource, name=None)\n",
            "  139480349801840: TensorSpec(shape=(512,), dtype=tf.float32, name=None)\n",
            "  139480349794272: TensorSpec(shape=(), dtype=tf.resource, name=None)\n",
            "  139480349790048: TensorSpec(shape=(), dtype=tf.resource, name=None)\n",
            "  139480349799376: TensorSpec(shape=(), dtype=tf.resource, name=None)\n",
            "  139480349788640: TensorSpec(shape=(), dtype=tf.resource, name=None)\n",
            "  139480140734960: TensorSpec(shape=(512,), dtype=tf.float32, name=None)\n",
            "  139480349792864: TensorSpec(shape=(), dtype=tf.resource, name=None)\n",
            "  139480349788816: TensorSpec(shape=(), dtype=tf.resource, name=None)\n",
            "  139480349802016: TensorSpec(shape=(), dtype=tf.resource, name=None)\n",
            "  139480140734080: TensorSpec(shape=(), dtype=tf.resource, name=None)\n",
            "  139480140729152: TensorSpec(shape=(512,), dtype=tf.float32, name=None)\n",
            "  139480140734256: TensorSpec(shape=(), dtype=tf.resource, name=None)\n",
            "  139480140741472: TensorSpec(shape=(), dtype=tf.resource, name=None)\n",
            "  139480140730384: TensorSpec(shape=(), dtype=tf.resource, name=None)\n",
            "  139480140730032: TensorSpec(shape=(), dtype=tf.resource, name=None)\n",
            "  139480140737072: TensorSpec(shape=(512,), dtype=tf.float32, name=None)\n",
            "  139480140733552: TensorSpec(shape=(), dtype=tf.resource, name=None)\n",
            "  139480140734432: TensorSpec(shape=(), dtype=tf.resource, name=None)\n",
            "  139480140731264: TensorSpec(shape=(), dtype=tf.resource, name=None)\n",
            "  139480140739888: TensorSpec(shape=(), dtype=tf.resource, name=None)\n",
            "  139480140739008: TensorSpec(shape=(512,), dtype=tf.float32, name=None)\n",
            "  139480140736896: TensorSpec(shape=(), dtype=tf.resource, name=None)\n",
            "  139480140742352: TensorSpec(shape=(), dtype=tf.resource, name=None)\n",
            "  139480140739360: TensorSpec(shape=(), dtype=tf.resource, name=None)\n",
            "  139480140732848: TensorSpec(shape=(), dtype=tf.resource, name=None)\n",
            "  139480140730736: TensorSpec(shape=(512,), dtype=tf.float32, name=None)\n",
            "  139480140733904: TensorSpec(shape=(), dtype=tf.resource, name=None)\n",
            "  139480140741296: TensorSpec(shape=(), dtype=tf.resource, name=None)\n",
            "  139480140733728: TensorSpec(shape=(), dtype=tf.resource, name=None)\n",
            "  139480140727920: TensorSpec(shape=(), dtype=tf.resource, name=None)\n",
            "  139480140732320: TensorSpec(shape=(512,), dtype=tf.float32, name=None)\n",
            "  139480140726512: TensorSpec(shape=(), dtype=tf.resource, name=None)\n",
            "  139480140727040: TensorSpec(shape=(), dtype=tf.resource, name=None)\n",
            "  139480140740944: TensorSpec(shape=(), dtype=tf.resource, name=None)\n",
            "  139480140738128: TensorSpec(shape=(), dtype=tf.resource, name=None)\n",
            "  139480140738656: TensorSpec(shape=(512,), dtype=tf.float32, name=None)\n",
            "  139480140731792: TensorSpec(shape=(), dtype=tf.resource, name=None)\n",
            "  139480140738304: TensorSpec(shape=(), dtype=tf.resource, name=None)\n",
            "  139480140739712: TensorSpec(shape=(), dtype=tf.resource, name=None)\n",
            "  139480140736368: TensorSpec(shape=(), dtype=tf.resource, name=None)\n",
            "  139480140728976: TensorSpec(shape=(512,), dtype=tf.float32, name=None)\n",
            "  139480140731968: TensorSpec(shape=(), dtype=tf.resource, name=None)\n",
            "  139480140732496: TensorSpec(shape=(), dtype=tf.resource, name=None)\n",
            "  139480140729504: TensorSpec(shape=(), dtype=tf.resource, name=None)\n",
            "  139480140739536: TensorSpec(shape=(), dtype=tf.resource, name=None)\n",
            "  139480140731440: TensorSpec(shape=(1024,), dtype=tf.float32, name=None)\n",
            "  139480140736720: TensorSpec(shape=(), dtype=tf.resource, name=None)\n",
            "  139480140739184: TensorSpec(shape=(), dtype=tf.resource, name=None)\n",
            "  139480140738832: TensorSpec(shape=(), dtype=tf.resource, name=None)\n",
            "  139480140727568: TensorSpec(shape=(), dtype=tf.resource, name=None)\n",
            "  139480140726864: TensorSpec(shape=(1024,), dtype=tf.float32, name=None)\n",
            "  139480140727744: TensorSpec(shape=(), dtype=tf.resource, name=None)\n",
            "  139480140742176: TensorSpec(shape=(), dtype=tf.resource, name=None)\n",
            "  139480140733200: TensorSpec(shape=(), dtype=tf.resource, name=None)\n",
            "  139480140728448: TensorSpec(shape=(), dtype=tf.resource, name=None)\n",
            "  139480351611664: TensorSpec(shape=(1024,), dtype=tf.float32, name=None)\n",
            "  139480140731088: TensorSpec(shape=(), dtype=tf.resource, name=None)\n",
            "  139480140729856: TensorSpec(shape=(), dtype=tf.resource, name=None)\n",
            "  139480351620288: TensorSpec(shape=(), dtype=tf.resource, name=None)\n",
            "  139480351619408: TensorSpec(shape=(), dtype=tf.resource, name=None)\n",
            "  139480351620640: TensorSpec(shape=(), dtype=tf.resource, name=None)\n",
            "  139480321990800: TensorSpec(shape=(), dtype=tf.resource, name=None)\n",
            "  139480322453776: TensorSpec(shape=(), dtype=tf.resource, name=None)\n",
            "  139480322452016: TensorSpec(shape=(), dtype=tf.resource, name=None)\n",
            "  139480322445856: TensorSpec(shape=(), dtype=tf.resource, name=None)\n"
          ]
        }
      ]
    },
    {
      "cell_type": "markdown",
      "source": [
        "# Test saved model"
      ],
      "metadata": {
        "id": "iVjexbYSSqk4"
      }
    },
    {
      "cell_type": "code",
      "source": [
        "# load\n",
        "tflite_model_path = '/content/tutorial.tflite'\n",
        "interpreter = tf.lite.Interpreter(model_path=tflite_model_path)"
      ],
      "metadata": {
        "id": "z15LzpP8nrAb"
      },
      "execution_count": 14,
      "outputs": []
    },
    {
      "cell_type": "code",
      "source": [
        "%cd /content/ESC-50-master"
      ],
      "metadata": {
        "colab": {
          "base_uri": "https://localhost:8080/"
        },
        "id": "QR2SczggSprf",
        "outputId": "b1b3534a-f488-43f1-b9c4-395d24213a3c"
      },
      "execution_count": 15,
      "outputs": [
        {
          "output_type": "stream",
          "name": "stdout",
          "text": [
            "/content/ESC-50-master\n"
          ]
        }
      ]
    },
    {
      "cell_type": "code",
      "source": [
        "test_num = 11\n",
        "sample_file = esc50_animals.iloc[test_num]['filename']\n",
        "input_data = preprocess_wav(sample_file)\n",
        "input_data = tf.expand_dims(input_data, axis=0)"
      ],
      "metadata": {
        "id": "eYPUnH07Tjd7"
      },
      "execution_count": 27,
      "outputs": []
    },
    {
      "cell_type": "code",
      "source": [
        "# allocate the tensors\n",
        "interpreter.allocate_tensors()\n",
        "\n",
        "# get input details and set the input tensor\n",
        "input_details = interpreter.get_input_details()\n",
        "interpreter.set_tensor(input_details[0]['index'], input_data)\n",
        "\n",
        "# run inference\n",
        "interpreter.invoke()"
      ],
      "metadata": {
        "id": "U6ucQbxhTkpu"
      },
      "execution_count": 28,
      "outputs": []
    },
    {
      "cell_type": "code",
      "source": [
        "# get and process the output\n",
        "output_details = interpreter.get_output_details()\n",
        "output_data = interpreter.get_tensor(output_details[0]['index'])\n",
        "\n",
        "predicted_index = np.argmax(output_data)\n",
        "\n",
        "print(\"True Class Label:\", esc50_animals.iloc[test_num]['category'])\n",
        "\n",
        "predicted_label = animals[predicted_index]\n",
        "print(\"Predicted Class Label:\", predicted_label)"
      ],
      "metadata": {
        "colab": {
          "base_uri": "https://localhost:8080/"
        },
        "id": "uSm8Z9lMTshq",
        "outputId": "052ae7ee-9732-4ae6-d6a4-bc5796c04fdc"
      },
      "execution_count": 29,
      "outputs": [
        {
          "output_type": "stream",
          "name": "stdout",
          "text": [
            "True Class Label: frog\n",
            "Predicted Class Label: frog\n"
          ]
        }
      ]
    },
    {
      "cell_type": "code",
      "source": [
        "results = []\n",
        "count = 0\n",
        "\n",
        "# for each file in the esc50_animals\n",
        "for index, row in esc50_animals.iterrows():\n",
        "\n",
        "    #preprocess\n",
        "    filename = row['filename']\n",
        "    wav = preprocess_wav(filename)\n",
        "\n",
        "    input_data = tf.expand_dims(wav, axis=0)\n",
        "    interpreter.allocate_tensors()\n",
        "\n",
        "    input_details = interpreter.get_input_details()\n",
        "    interpreter.set_tensor(input_details[0]['index'], input_data)\n",
        "\n",
        "    interpreter.invoke()\n",
        "    output_details = interpreter.get_output_details()\n",
        "    output_data = interpreter.get_tensor(output_details[0]['index'])\n",
        "\n",
        "    predicted_index = np.argmax(output_data)\n",
        "\n",
        "    if(predicted_index == row['target']):\n",
        "        count += 1\n",
        "\n",
        "    # Store the result\n",
        "    results.append({\n",
        "        'predicted class': animals[predicted_index],\n",
        "        'true class': row['category']\n",
        "    })\n",
        "\n",
        "results_df = pd.DataFrame(results)"
      ],
      "metadata": {
        "id": "bWgyOnEeTugq"
      },
      "execution_count": 33,
      "outputs": []
    },
    {
      "cell_type": "code",
      "source": [
        "print(\"Accuracy: \", count / 400)"
      ],
      "metadata": {
        "colab": {
          "base_uri": "https://localhost:8080/"
        },
        "id": "nOA3dO1QU0yx",
        "outputId": "25daebb2-597a-4755-e05e-666a45b24ed5"
      },
      "execution_count": 35,
      "outputs": [
        {
          "output_type": "stream",
          "name": "stdout",
          "text": [
            "Accuracy:  0.9725\n"
          ]
        }
      ]
    },
    {
      "cell_type": "code",
      "source": [],
      "metadata": {
        "id": "EQO-drS0U_Vl"
      },
      "execution_count": null,
      "outputs": []
    }
  ],
  "metadata": {
    "colab": {
      "provenance": [],
      "collapsed_sections": [
        "xRuujaeIl__N",
        "RRKR2-WM4fNz",
        "X_nd5slRuvXh",
        "jcazx813mf8h"
      ],
      "authorship_tag": "ABX9TyNE9xHjPtLgAPXtZpBcOe/n",
      "include_colab_link": true
    },
    "kernelspec": {
      "display_name": "Python 3",
      "name": "python3"
    },
    "language_info": {
      "name": "python"
    }
  },
  "nbformat": 4,
  "nbformat_minor": 0
}